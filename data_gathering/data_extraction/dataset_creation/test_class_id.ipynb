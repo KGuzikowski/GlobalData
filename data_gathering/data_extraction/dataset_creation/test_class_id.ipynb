{
 "cells": [
  {
   "cell_type": "code",
   "execution_count": 13,
   "outputs": [],
   "source": [
    "import os\n",
    "import json\n",
    "\n",
    "from bs4 import BeautifulSoup\n",
    "from data_gathering.data_extraction.tree_modification import simplify_body"
   ],
   "metadata": {
    "collapsed": false,
    "ExecuteTime": {
     "end_time": "2023-06-20T07:54:14.451469176Z",
     "start_time": "2023-06-20T07:54:14.406783585Z"
    }
   }
  },
  {
   "cell_type": "code",
   "execution_count": 14,
   "outputs": [],
   "source": [
    "with open(\"../dataset_creation_config.json\", \"r\") as file:\n",
    "    config = json.load(file)\n",
    "\n",
    "tags_to_include = set(config[\"tags\"])\n",
    "text_formatting_tags = set(config[\"text_formatting_tags\"])\n"
   ],
   "metadata": {
    "collapsed": false,
    "ExecuteTime": {
     "end_time": "2023-06-20T07:54:15.578223369Z",
     "start_time": "2023-06-20T07:54:15.540546161Z"
    }
   }
  },
  {
   "cell_type": "code",
   "execution_count": 15,
   "outputs": [],
   "source": [
    "class_id_names = ['supplementary']"
   ],
   "metadata": {
    "collapsed": false,
    "ExecuteTime": {
     "end_time": "2023-06-20T07:54:16.027085660Z",
     "start_time": "2023-06-20T07:54:16.015950154Z"
    }
   }
  },
  {
   "cell_type": "code",
   "execution_count": 16,
   "outputs": [],
   "source": [
    "DIR_PATH = \"../web_pages/all_domains/pages\""
   ],
   "metadata": {
    "collapsed": false,
    "ExecuteTime": {
     "end_time": "2023-06-20T07:54:16.529907285Z",
     "start_time": "2023-06-20T07:54:16.518786064Z"
    }
   }
  },
  {
   "cell_type": "code",
   "execution_count": 17,
   "outputs": [],
   "source": [
    "files = os.listdir(DIR_PATH)"
   ],
   "metadata": {
    "collapsed": false,
    "ExecuteTime": {
     "end_time": "2023-06-20T07:54:16.774378694Z",
     "start_time": "2023-06-20T07:54:16.765483692Z"
    }
   }
  },
  {
   "cell_type": "code",
   "execution_count": 18,
   "outputs": [],
   "source": [
    "results = {name: set() for name in files}"
   ],
   "metadata": {
    "collapsed": false,
    "ExecuteTime": {
     "end_time": "2023-06-20T07:54:18.181197951Z",
     "start_time": "2023-06-20T07:54:18.172417181Z"
    }
   }
  },
  {
   "cell_type": "code",
   "execution_count": 19,
   "outputs": [],
   "source": [
    "import copy\n",
    "from typing import List, Optional, Union\n",
    "\n",
    "from bs4 import NavigableString, Tag\n",
    "\n",
    "\n",
    "def handle_text(node: str) -> Optional[str]:\n",
    "    text = node.strip().replace(\"\\n\", \" \")\n",
    "\n",
    "    if len(text):\n",
    "        return f\" {text} \"\n",
    "\n",
    "\n",
    "def handle_tag(node: Tag, text_formatting_tags: set, tags_to_include: set, filename: str):\n",
    "    child = None\n",
    "\n",
    "    if node.name == \"a\":\n",
    "        child = node\n",
    "    elif node.name in text_formatting_tags:\n",
    "        if node.string:\n",
    "            child = handle_text(node.string)\n",
    "        elif len(node.contents):\n",
    "            elements = simplify_body(\n",
    "                soup=node,\n",
    "                text_formatting_tags=text_formatting_tags,\n",
    "                tags_to_include=tags_to_include,\n",
    "                filename=filename\n",
    "            )\n",
    "            return elements\n",
    "    elif node.name in tags_to_include:\n",
    "        # Check is class or id includes nav\n",
    "        class_str = \" \".join(node.attrs.get(\"class\", [])).lower()\n",
    "        id_str = node.attrs.get(\"id\", \"\").lower()\n",
    "\n",
    "        if 'nav' in class_str or 'nav' in id_str:\n",
    "            return None\n",
    "\n",
    "        for name in class_id_names:\n",
    "            if name in class_str or name in id_str:\n",
    "                results[filename].add(name)\n",
    "\n",
    "        child = simplify_body(\n",
    "            soup=node,\n",
    "            text_formatting_tags=text_formatting_tags,\n",
    "            tags_to_include=tags_to_include,\n",
    "            filename=filename,\n",
    "        )\n",
    "\n",
    "    return child\n",
    "\n",
    "\n",
    "def handle_tag_a(elem: Tag, soup: Tag, text_formatting_tags: set, tags_to_include: set, filename:str):\n",
    "    child = simplify_body(\n",
    "        soup=elem,\n",
    "        text_formatting_tags=text_formatting_tags,\n",
    "        tags_to_include=tags_to_include,\n",
    "        filename=filename\n",
    "    )\n",
    "    if child:\n",
    "        for node in child.contents:\n",
    "            soup.append(node)\n",
    "\n",
    "\n",
    "def simplify_body(\n",
    "    soup: Tag, text_formatting_tags: set, tags_to_include: set, filename: str\n",
    ") -> Optional[Union[List[str], Tag]]:\n",
    "    \"\"\"\n",
    "    Simplifies DOM tree.\n",
    "\n",
    "    :param soup: a Tag Object\n",
    "    :type soup: BeautifulSoup4 Tag\n",
    "    :param text_formatting_tags: a set containing tags that should remain in the tree\n",
    "    :type text_formatting_tags: set\n",
    "    :param tags_to_include: a set containing text formatting tags (like \"strong\")\n",
    "    :type tags_to_include: set\n",
    "\n",
    "    :return: Returns different types which allows to recurrently clean the tree.\n",
    "    :rtype: Optional[Union[List[str], Tag]]\n",
    "    \"\"\"\n",
    "    if (\n",
    "        soup.name in tags_to_include\n",
    "        or soup.name == \"a\"\n",
    "        or soup.name in text_formatting_tags\n",
    "    ):\n",
    "        children = []\n",
    "\n",
    "        for node in soup.contents:\n",
    "            child = None\n",
    "            if isinstance(node, Tag):\n",
    "                res = handle_tag(\n",
    "                    node=node,\n",
    "                    text_formatting_tags=text_formatting_tags,\n",
    "                    tags_to_include=tags_to_include,\n",
    "                    filename=filename\n",
    "                )\n",
    "\n",
    "                if type(res) == list:\n",
    "                    children += res\n",
    "                else:\n",
    "                    child = res\n",
    "            elif isinstance(node, NavigableString) and type(node) == NavigableString:\n",
    "                child = handle_text(node)\n",
    "\n",
    "            if child:\n",
    "                children.append(child)\n",
    "\n",
    "        if len(children) and soup.name in text_formatting_tags:\n",
    "            return children\n",
    "        elif len(children):\n",
    "            soup.contents = []\n",
    "\n",
    "            for elem in children:\n",
    "                if isinstance(elem, Tag) and elem.name == \"a\":\n",
    "                    handle_tag_a(\n",
    "                        elem=elem,\n",
    "                        soup=soup,\n",
    "                        text_formatting_tags=text_formatting_tags,\n",
    "                        tags_to_include=tags_to_include,\n",
    "                        filename=filename\n",
    "                    )\n",
    "                else:\n",
    "                    soup.append(elem)\n",
    "\n",
    "            soup = copy.copy(soup)\n",
    "            soup.smooth()\n",
    "\n",
    "            return soup\n"
   ],
   "metadata": {
    "collapsed": false,
    "ExecuteTime": {
     "end_time": "2023-06-20T07:54:19.363897940Z",
     "start_time": "2023-06-20T07:54:19.328628035Z"
    }
   }
  },
  {
   "cell_type": "code",
   "execution_count": 20,
   "outputs": [],
   "source": [
    "for file in files:\n",
    "    with open(f\"{DIR_PATH}/{file}\", \"r\") as f:\n",
    "        html = f.read()\n",
    "\n",
    "    soup = BeautifulSoup(html, \"html.parser\")\n",
    "\n",
    "    simplified_soup_body = simplify_body(\n",
    "        soup=soup.body,\n",
    "        text_formatting_tags=text_formatting_tags,\n",
    "        tags_to_include=tags_to_include,\n",
    "        filename=file\n",
    "    )\n"
   ],
   "metadata": {
    "collapsed": false,
    "ExecuteTime": {
     "end_time": "2023-06-20T07:54:39.111442333Z",
     "start_time": "2023-06-20T07:54:21.012555988Z"
    }
   }
  },
  {
   "cell_type": "code",
   "execution_count": 21,
   "outputs": [
    {
     "data": {
      "text/plain": "{'english_autoanything_2.html': {'supplementary'},\n 'polish_easytoys_83.html': set(),\n 'english_barnesandnoble_2139.html': set(),\n 'polish_morele_2894.html': set(),\n 'polish_doz_2700.html': set(),\n 'english_footlocker_912.html': set(),\n 'polish_ebutik_3957.html': set(),\n 'english_lovinglane_3157.html': set(),\n 'english_deguns_1403.html': set(),\n 'english_hallmark_1578.html': set(),\n 'polish_decathlon_4505.html': set(),\n 'english_baublebar_1262.html': set(),\n 'polish_zooart_94.html': set(),\n 'english_vibemushrooms_4.html': set(),\n 'english_target_2203.html': set(),\n 'english_microcenter_4297.html': set(),\n 'english_estellecoloredglass_60.html': set(),\n 'english_baublebar_112.html': set(),\n 'english_charmingcharlie_3922.html': set(),\n 'english_guns_683.html': set(),\n 'polish_eobuwie_812.html': set(),\n 'english_ebay_4298.html': set(),\n 'english_craftonlineusa_4872.html': set(),\n 'english_thellegance_19.html': set(),\n 'english_monoprice_2794.html': set(),\n 'polish_answear_268.html': set(),\n 'english_tigerdirect_4470.html': set(),\n 'english_oliveandpiper_23.html': set(),\n 'polish_debrande_135.html': set(),\n 'english_shopcarolinehill_337.html': set(),\n 'polish_biokord_429.html': set(),\n 'english_monoprice_2828.html': set(),\n 'english_fashionnova_513.html': set(),\n 'english_lovinglane_3251.html': set(),\n 'polish_gemini_2783.html': set(),\n 'english_hallmark_1163.html': set(),\n 'english_autoanything_1942.html': {'supplementary'},\n 'english_prettylittlething_3543.html': set(),\n 'polish_answear_160.html': set(),\n 'polish_musclepower_2314.html': set(),\n 'polish_agatameble_253.html': set(),\n 'polish_partybox_511.html': set(),\n 'polish_etriskelion_3887.html': set(),\n 'polish_decathlon_3198.html': set(),\n 'polish_debrande_591.html': set(),\n 'polish_trendhim_1602.html': set(),\n 'english_shopcarolinehill_1214.html': set(),\n 'english_modells_957.html': set(),\n 'english_westmorebeauty_6.html': set(),\n 'polish_ebutik_441.html': set(),\n 'polish_obi_3334.html': set(),\n 'english_footlocker_3436.html': set(),\n 'polish_eobuwie_4946.html': set(),\n 'polish_etriskelion_1612.html': set(),\n 'english_tigerdirect_2522.html': set(),\n 'english_microcenter_2049.html': set(),\n 'english_fnp_2182.html': set(),\n 'english_dunhamssports_3937.html': set(),\n 'english_colourpop_397.html': set(),\n 'polish_morele_2371.html': set(),\n 'english_oliveandpiper_121.html': set(),\n 'english_westmorebeauty_4.html': set(),\n 'polish_doz_2852.html': set(),\n 'english_vibemushrooms_1.html': set(),\n 'polish_easytoys_2398.html': set(),\n 'polish_tomi_815.html': set(),\n 'english_marksandspencer_4352.html': set(),\n 'english_deguns_1811.html': set(),\n 'english_deguns_442.html': set(),\n 'english_fnp_4636.html': set(),\n 'english_charmingcharlie_4756.html': set(),\n 'english_modells_1784.html': set(),\n 'english_fashionnova_4646.html': set(),\n 'english_craftonlineusa_1222.html': set(),\n 'polish_zooart_3132.html': set(),\n 'english_ebay_423.html': set(),\n 'polish_lidl_1593.html': set(),\n 'english_shopjustice_201.html': set(),\n 'english_thellegance_20.html': set(),\n 'polish_obi_2410.html': set(),\n 'polish_trendhim_2462.html': set(),\n 'polish_agatameble_1882.html': set(),\n 'english_dunhamssports_3818.html': set(),\n 'english_pinkcherry_2163.html': set(),\n 'polish_gemini_1747.html': set(),\n 'english_barnesandnoble_2011.html': set(),\n 'english_colourpop_1227.html': set(),\n 'polish_lidl_4840.html': set(),\n 'english_estellecoloredglass_69.html': set(),\n 'polish_musclepower_1505.html': set(),\n 'english_prettylittlething_2561.html': set(),\n 'polish_tomi_731.html': set(),\n 'english_target_1867.html': set(),\n 'polish_bytom_30.html': set(),\n 'polish_partybox_1996.html': set(),\n 'polish_bytom_10.html': set(),\n 'english_pinkcherry_4726.html': set(),\n 'polish_biokord_303.html': set(),\n 'english_marksandspencer_4081.html': set(),\n 'english_shopjustice_502.html': set()}"
     },
     "execution_count": 21,
     "metadata": {},
     "output_type": "execute_result"
    }
   ],
   "source": [
    "results\n"
   ],
   "metadata": {
    "collapsed": false,
    "ExecuteTime": {
     "end_time": "2023-06-20T07:54:39.129826288Z",
     "start_time": "2023-06-20T07:54:39.112855237Z"
    }
   }
  },
  {
   "cell_type": "code",
   "execution_count": 22,
   "outputs": [],
   "source": [
    "res = {key: list(val) for key, val in results.items()}"
   ],
   "metadata": {
    "collapsed": false,
    "ExecuteTime": {
     "end_time": "2023-06-20T07:54:39.130134189Z",
     "start_time": "2023-06-20T07:54:39.129196648Z"
    }
   }
  },
  {
   "cell_type": "code",
   "execution_count": 23,
   "outputs": [],
   "source": [
    "res = dict(sorted(res.items()))"
   ],
   "metadata": {
    "collapsed": false,
    "ExecuteTime": {
     "end_time": "2023-06-20T07:54:39.130347306Z",
     "start_time": "2023-06-20T07:54:39.130023271Z"
    }
   }
  },
  {
   "cell_type": "code",
   "execution_count": 24,
   "outputs": [],
   "source": [
    "with open(\"class_id_results_new.json\", \"w\") as f:\n",
    "    json.dump(res, f, indent=4)\n"
   ],
   "metadata": {
    "collapsed": false,
    "ExecuteTime": {
     "end_time": "2023-06-20T07:54:39.147143944Z",
     "start_time": "2023-06-20T07:54:39.130852762Z"
    }
   }
  },
  {
   "cell_type": "code",
   "execution_count": null,
   "outputs": [],
   "source": [],
   "metadata": {
    "collapsed": false
   }
  }
 ],
 "metadata": {
  "kernelspec": {
   "display_name": "Python 3",
   "language": "python",
   "name": "python3"
  },
  "language_info": {
   "codemirror_mode": {
    "name": "ipython",
    "version": 2
   },
   "file_extension": ".py",
   "mimetype": "text/x-python",
   "name": "python",
   "nbconvert_exporter": "python",
   "pygments_lexer": "ipython2",
   "version": "2.7.6"
  }
 },
 "nbformat": 4,
 "nbformat_minor": 0
}
