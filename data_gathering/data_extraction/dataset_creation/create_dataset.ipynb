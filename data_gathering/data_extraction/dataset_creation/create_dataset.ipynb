{
 "cells": [
  {
   "cell_type": "code",
   "execution_count": 1,
   "metadata": {
    "collapsed": true,
    "ExecuteTime": {
     "end_time": "2023-07-24T15:33:47.295693943Z",
     "start_time": "2023-07-24T15:33:46.900612646Z"
    }
   },
   "outputs": [],
   "source": [
    "import openai\n",
    "import os\n",
    "import json\n",
    "\n",
    "from markdownify import ATX, BACKSLASH\n",
    "from transformers import T5TokenizerFast\n",
    "from bs4 import BeautifulSoup, Tag\n",
    "\n",
    "from data_gathering.data_extraction.utils import get_binary_dicts_templates\n",
    "# from data_gathering.data_extraction.html2markdown import create_md\n",
    "from data_gathering.data_extraction.tree_modification import simplify_body, textify_meta_tags"
   ]
  },
  {
   "cell_type": "code",
   "execution_count": 2,
   "outputs": [],
   "source": [
    "from dotenv import load_dotenv\n",
    "\n",
    "load_dotenv()\n",
    "\n",
    "API_KEY = os.getenv('OPEN_AI_API_KEY')\n",
    "\n",
    "openai.api_key = API_KEY"
   ],
   "metadata": {
    "collapsed": false,
    "ExecuteTime": {
     "end_time": "2023-07-24T15:19:19.437168969Z",
     "start_time": "2023-07-24T15:19:19.427852768Z"
    }
   }
  },
  {
   "cell_type": "code",
   "execution_count": 3,
   "outputs": [],
   "source": [
    "tokenizer = T5TokenizerFast.from_pretrained(\"google/flan-t5-base\")"
   ],
   "metadata": {
    "collapsed": false,
    "ExecuteTime": {
     "end_time": "2023-07-23T13:45:37.103533917Z",
     "start_time": "2023-07-23T13:45:36.807383468Z"
    }
   }
  },
  {
   "cell_type": "code",
   "execution_count": 2,
   "outputs": [],
   "source": [
    "with open(\"../dataset_creation_config.json\", \"r\") as file:\n",
    "    config = json.load(file)\n",
    "\n",
    "tags_to_include = set(config[\"tags\"])\n",
    "text_formatting_tags = set(config[\"text_formatting_tags\"])\n",
    "abbreviations = config[\"abbreviations\"]\n",
    "meta_values = config[\"meta_values\"]\n",
    "(\n",
    "    available_tags_binary_dict,\n",
    "    available_attributes_values_binary_dict,\n",
    ") = get_binary_dicts_templates(config)"
   ],
   "metadata": {
    "collapsed": false,
    "ExecuteTime": {
     "end_time": "2023-07-24T15:33:47.301245200Z",
     "start_time": "2023-07-24T15:33:47.299372211Z"
    }
   }
  },
  {
   "cell_type": "code",
   "execution_count": 4,
   "outputs": [],
   "source": [
    "# md = create_md(heading_style=ATX, newline_style=BACKSLASH)"
   ],
   "metadata": {
    "collapsed": false,
    "ExecuteTime": {
     "end_time": "2023-07-24T15:19:19.445353434Z",
     "start_time": "2023-07-24T15:19:19.442896031Z"
    }
   }
  },
  {
   "cell_type": "code",
   "execution_count": 3,
   "outputs": [],
   "source": [
    "class_id_to_exclude = [\n",
    "    \"nav\",\n",
    "    \"tooltip\",\n",
    "    \"banner\",\n",
    "    \"footer\",\n",
    "    \"shipping\",\n",
    "    \"popup\",\n",
    "    \"checkout\",\n",
    "    \"payments\",\n",
    "    \"returns\",\n",
    "    \"delivery\",\n",
    "    \"support\",\n",
    "    \"warranty\",\n",
    "    \"privacy\",\n",
    "    \"benefit\",\n",
    "    \"sign-in\",\n",
    "    \"sign-up\",\n",
    "    \"login\",\n",
    "    \"password\",\n",
    "    \"add-to-cart\",\n",
    "    \"announcement\",\n",
    "    \"notification\",\n",
    "    \"wishlist\",\n",
    "    \"social\",\n",
    "    \"json\",\n",
    "    \"alert\",\n",
    "    \"disclaimer\",\n",
    "    \"contact\",\n",
    "    \"cookies\",\n",
    "    \"newsletter\",\n",
    "    \"basket\",\n",
    "    \"askforproduct\",\n",
    "    \"ask-about-product\",\n",
    "    \"mobile-header\",\n",
    "    \"header-menu\",\n",
    "    \"customer\"\n",
    "]"
   ],
   "metadata": {
    "collapsed": false,
    "ExecuteTime": {
     "end_time": "2023-07-24T15:33:47.307834897Z",
     "start_time": "2023-07-24T15:33:47.304477005Z"
    }
   }
  },
  {
   "cell_type": "code",
   "execution_count": 4,
   "outputs": [],
   "source": [
    "def join_tags(elems, tag_name):\n",
    "    html = \"\"\n",
    "\n",
    "    for partial_html, _ in elems:\n",
    "        html += partial_html\n",
    "\n",
    "    html = f\"<{tag_name}>{html}</{tag_name}>\"\n",
    "\n",
    "    return html\n",
    "\n",
    "def join_as_many_tags_as_possible(parts, max_size: int, tag_name=\"body\"):\n",
    "    final = []\n",
    "    temp = []\n",
    "    curr_len = 0\n",
    "\n",
    "    for part, size in parts:\n",
    "        if temp:\n",
    "            if curr_len + size <= max_size:\n",
    "                temp.append((part, size))\n",
    "                curr_len += size\n",
    "            else:\n",
    "                final.append((join_tags(temp, tag_name), curr_len))\n",
    "                temp = [(part, size)]\n",
    "                curr_len = size\n",
    "        else:\n",
    "            temp = [(part, size)]\n",
    "            curr_len = size\n",
    "\n",
    "    if temp:\n",
    "        final.append((join_tags(temp, tag_name), curr_len))\n",
    "\n",
    "    return final\n",
    "\n",
    "def divide_html_version(soup, transform_html_func, max_size):\n",
    "    text = tokenizer(transform_html_func(soup)).input_ids\n",
    "    size = len(text)\n",
    "\n",
    "    if size <= max_size:\n",
    "        return str(soup), size\n",
    "\n",
    "    parts = []\n",
    "\n",
    "    for elem in soup.contents:\n",
    "        res = divide_html_version(soup=elem, transform_html_func=transform_html_func, max_size=max_size) if isinstance(elem, Tag) else (str(elem), len(tokenizer(str(elem)).input_ids))\n",
    "\n",
    "        if res is None:\n",
    "            return None\n",
    "        elif isinstance(res, list):\n",
    "            parts += res\n",
    "        else:\n",
    "            parts.append(res)\n",
    "\n",
    "    return join_as_many_tags_as_possible(parts=parts, max_size=max_size, tag_name=soup.name)"
   ],
   "metadata": {
    "collapsed": false,
    "ExecuteTime": {
     "end_time": "2023-07-24T15:33:47.341430300Z",
     "start_time": "2023-07-24T15:33:47.313589735Z"
    }
   }
  },
  {
   "cell_type": "code",
   "execution_count": 7,
   "outputs": [],
   "source": [
    "def get_max_input_size(model_max_input_size: int, prompt_desc_size: int, header_md: str, tokenizer: T5TokenizerFast) -> int:\n",
    "    return model_max_input_size - prompt_desc_size - len(tokenizer(header_md).input_ids)"
   ],
   "metadata": {
    "collapsed": false,
    "ExecuteTime": {
     "end_time": "2023-07-24T15:19:19.491769235Z",
     "start_time": "2023-07-24T15:19:19.489410518Z"
    }
   }
  },
  {
   "cell_type": "code",
   "execution_count": 8,
   "outputs": [],
   "source": [
    "# prompt = \"\"\"\n",
    "# The text given below was extracted from a product website page. Extract the following information about the product from the text:\n",
    "# - title - string\n",
    "# - brand - string\n",
    "# - current price - dictionary with the price as number and the currency as string\n",
    "# - old price - number\n",
    "# - product features - return only features describing the product itself as dictionary, don't include description\n",
    "# - description - string\n",
    "# - colors variants - list of strings\n",
    "# - size variants - list of strings excluding dimensions\n",
    "# - customer ratings - dictionary with average_rating and number of ratings of each rating only if such information is strictly provided\n",
    "# - customer reviews - list of strings\n",
    "# - product categories - list of strings, if not provided then always suggest your own, try to be as general as possible\n",
    "# - similar or related products, or products recommended for me - as a list of strings named similar products\n",
    "# Don't mistake similar products for customer reviews. Don't return any size tables information.\n",
    "# Never guess, if there's no information return: null.\n",
    "# Return only a proper JSON format using snake case for properties. The text:\n",
    "# \"\"\""
   ],
   "metadata": {
    "collapsed": false,
    "ExecuteTime": {
     "end_time": "2023-07-24T15:19:19.492019986Z",
     "start_time": "2023-07-24T15:19:19.489537637Z"
    }
   }
  },
  {
   "cell_type": "code",
   "execution_count": 5,
   "outputs": [],
   "source": [
    "prompt = \"\"\"\n",
    "The text given below was extracted from a product website page. Extract the following product information from the text:\n",
    "- title - string\n",
    "- brand - string\n",
    "- current price - dictionary with the price as number and the currency as string\n",
    "- old price - number\n",
    "- product features - list of dictionaries, each dictionary should contain the feature and its value, do not include things provided in other points\n",
    "- short description - string\n",
    "- colors variants - list of strings\n",
    "- size variants - list of strings excluding dimensions\n",
    "- product categories - as list of strings, if not provided then always suggest your own, try to be as general as possible - must always be provided\n",
    "- customer ratings - dictionary with average_rating and number of ratings of each rating only if such information is strictly provided\n",
    "- customer reviews - list of strings\n",
    "- similar or related products - list of strings\n",
    "- products recommended for me - list of strings\n",
    "Don't return any size table information.\n",
    "Never guess, if there's no information return: null.\n",
    "Return only a proper JSON format using snake case for properties. The text:\n",
    "\"\"\""
   ],
   "metadata": {
    "collapsed": false,
    "ExecuteTime": {
     "end_time": "2023-07-24T15:33:47.374121095Z",
     "start_time": "2023-07-24T15:33:47.321180261Z"
    }
   }
  },
  {
   "cell_type": "code",
   "execution_count": 9,
   "outputs": [
    {
     "ename": "NameError",
     "evalue": "name 'tokenizer' is not defined",
     "output_type": "error",
     "traceback": [
      "\u001B[0;31m---------------------------------------------------------------------------\u001B[0m",
      "\u001B[0;31mNameError\u001B[0m                                 Traceback (most recent call last)",
      "Cell \u001B[0;32mIn[9], line 1\u001B[0m\n\u001B[0;32m----> 1\u001B[0m \u001B[38;5;28minput\u001B[39m \u001B[38;5;241m=\u001B[39m \u001B[43mtokenizer\u001B[49m(prompt)\n\u001B[1;32m      2\u001B[0m prompt_desc_size \u001B[38;5;241m=\u001B[39m \u001B[38;5;28mlen\u001B[39m(\u001B[38;5;28minput\u001B[39m\u001B[38;5;241m.\u001B[39minput_ids)\n",
      "\u001B[0;31mNameError\u001B[0m: name 'tokenizer' is not defined"
     ]
    }
   ],
   "source": [
    "input = tokenizer(prompt)\n",
    "prompt_desc_size = len(input.input_ids)"
   ],
   "metadata": {
    "collapsed": false,
    "ExecuteTime": {
     "end_time": "2023-07-24T14:22:20.543049290Z",
     "start_time": "2023-07-24T14:22:20.075751637Z"
    }
   }
  },
  {
   "cell_type": "code",
   "execution_count": null,
   "outputs": [],
   "source": [
    "prompt_desc_size"
   ],
   "metadata": {
    "collapsed": false
   }
  },
  {
   "cell_type": "code",
   "execution_count": 6,
   "outputs": [],
   "source": [
    "model_max_input_size = 16000"
   ],
   "metadata": {
    "collapsed": false,
    "ExecuteTime": {
     "end_time": "2023-07-24T15:33:47.374376901Z",
     "start_time": "2023-07-24T15:33:47.368688782Z"
    }
   }
  },
  {
   "cell_type": "code",
   "execution_count": 8,
   "outputs": [],
   "source": [
    "from data_gathering.data_extraction.html_features import get_attributes_values\n",
    "from bs4 import Tag\n",
    "from markdownify import MarkdownConverter\n",
    "\n",
    "class CustomMarkdownConverter(MarkdownConverter):\n",
    "    def process_tag(self, node, convert_as_inline, children_only=False):\n",
    "        attrs_words = get_attributes_values(node, abbreviations)\n",
    "\n",
    "        start = \" \".join(attrs_words)\n",
    "        text = super().process_tag(node, convert_as_inline, children_only)\n",
    "        if start:\n",
    "            start = f\"\\n- {start}:\"\n",
    "        return f\"{start}\\n{text}\" if start else text\n",
    "\n",
    "# Create shorthand method for conversion\n",
    "def create_md(**options):\n",
    "    converter = CustomMarkdownConverter(**options)\n",
    "\n",
    "    def md(soup: Tag):\n",
    "        return converter.convert_soup(soup)\n",
    "\n",
    "    return md"
   ],
   "metadata": {
    "collapsed": false
   }
  },
  {
   "cell_type": "code",
   "execution_count": 9,
   "outputs": [],
   "source": [
    "md = create_md(heading_style=ATX, newline_style=BACKSLASH)"
   ],
   "metadata": {
    "collapsed": false,
    "ExecuteTime": {
     "end_time": "2023-07-24T15:33:47.604194278Z",
     "start_time": "2023-07-24T15:33:47.557576343Z"
    }
   }
  },
  {
   "cell_type": "code",
   "execution_count": 38,
   "outputs": [],
   "source": [
    "with open(\"../web_pages/all_domains/pages/english_fashionnova_4646.html\", \"r\") as file:\n",
    "    html = file.read()\n",
    "\n",
    "soup = BeautifulSoup(html, \"html.parser\")\n",
    "\n",
    "simplified_soup_body = simplify_body(\n",
    "    soup=soup.body,\n",
    "    text_formatting_tags=text_formatting_tags,\n",
    "    tags_to_include=tags_to_include,\n",
    "    class_id_to_exclude=class_id_to_exclude,\n",
    ")\n",
    "simplified_body_text = md(simplified_soup_body)\n",
    "\n",
    "# meta_tags_str = textify_meta_tags(soup=soup.head, meta_acceptable_values=meta_values)\n",
    "# full_page_text_curr = f'{meta_tags_str}\\n\\n{simplified_body_text}'.strip()\n",
    "#\n",
    "# if not os.path.exists(f'results'):\n",
    "#     os.makedirs(f'results')\n",
    "#\n",
    "# max_input_size = get_max_input_size(model_max_input_size, prompt_desc_size, meta_tags_str, tokenizer)\n",
    "# print('max_input_size', max_input_size)\n",
    "#\n",
    "# temps = [0.6, 0.7]\n",
    "# for temp in temps:\n",
    "#     subdir_name = str(temp).replace('.', '_')\n",
    "#     if not os.path.exists(f'results/{subdir_name}'):\n",
    "#         os.makedirs(f'results/{subdir_name}')\n",
    "#     #\n",
    "#     # if f'results/{dir_name}/{subdir_name}/part_{i}.json' in os.listdir(f'results/{dir_name}/{subdir_name}'):\n",
    "#     #     continue\n",
    "#\n",
    "#     print(f\"Temperature: {temp}\")\n",
    "#\n",
    "#     chat_gpt_prompt = f\"{prompt}\\n{full_page_text_curr}\"\n",
    "#\n",
    "#     response = openai.ChatCompletion.create(\n",
    "#       model=\"gpt-3.5-turbo-16k\",\n",
    "#       temperature=temp,\n",
    "#       messages=[\n",
    "#         {\n",
    "#             \"role\": \"user\",\n",
    "#             \"content\": chat_gpt_prompt\n",
    "#         }\n",
    "#       ]\n",
    "#     )\n",
    "#\n",
    "#     # save the response to txt file\n",
    "#     with open(f'results/{subdir_name}/part_0.json', \"w\") as f:\n",
    "#         f.write(response['choices'][0]['message']['content'])\n",
    "#\n",
    "# # with open(f'simplified.txt', \"w\") as f:\n",
    "# #     f.write(f'{meta_tags_str}\\n{simplified_body_text}')"
   ],
   "metadata": {
    "collapsed": false,
    "ExecuteTime": {
     "end_time": "2023-07-24T15:32:40.050753293Z",
     "start_time": "2023-07-24T15:32:39.644221414Z"
    }
   }
  },
  {
   "cell_type": "code",
   "execution_count": 10,
   "outputs": [
    {
     "name": "stdout",
     "output_type": "stream",
     "text": [
      "File: english_barnesandnoble_2011.html\n",
      "File: english_barnesandnoble_2139.html\n",
      "File: english_baublebar_112.html\n",
      "File: english_baublebar_1262.html\n",
      "File: english_charmingcharlie_3922.html\n",
      "File: english_charmingcharlie_4756.html\n",
      "File: english_colourpop_1227.html\n",
      "File: english_colourpop_397.html\n",
      "File: english_craftonlineusa_1222.html\n",
      "File: english_craftonlineusa_4872.html\n",
      "File: english_dunhamssports_3818.html\n",
      "File: english_dunhamssports_3937.html\n",
      "File: english_ebay_423.html\n",
      "File: english_ebay_4298.html\n",
      "File: english_estellecoloredglass_60.html\n",
      "File: english_estellecoloredglass_69.html\n",
      "File: english_fashionnova_4646.html\n",
      "File: english_fashionnova_513.html\n",
      "File: english_fnp_2182.html\n",
      "File: english_fnp_4636.html\n",
      "File: english_footlocker_3436.html\n",
      "File: english_footlocker_912.html\n",
      "File: english_hallmark_1163.html\n",
      "File: english_hallmark_1578.html\n",
      "File: english_lovinglane_3157.html\n",
      "File: english_lovinglane_3251.html\n",
      "File: english_marksandspencer_4081.html\n",
      "File: english_marksandspencer_4352.html\n",
      "File: english_modells_1784.html\n",
      "File: english_modells_957.html\n",
      "File: english_monoprice_2794.html\n",
      "File: english_monoprice_2828.html\n",
      "File: english_oliveandpiper_121.html\n",
      "File: english_oliveandpiper_23.html\n",
      "File: english_pinkcherry_2163.html\n",
      "File: english_pinkcherry_4726.html\n",
      "File: english_prettylittlething_2561.html\n",
      "File: english_prettylittlething_3543.html\n",
      "File: english_shopcarolinehill_1214.html\n",
      "File: english_shopcarolinehill_337.html\n",
      "File: english_shopjustice_201.html\n",
      "File: english_shopjustice_502.html\n",
      "File: english_target_1867.html\n",
      "File: english_target_2203.html\n",
      "File: english_thellegance_19.html\n",
      "File: english_thellegance_20.html\n",
      "File: english_tigerdirect_2522.html\n",
      "File: english_tigerdirect_4470.html\n",
      "File: english_westmorebeauty_4.html\n",
      "File: english_westmorebeauty_6.html\n",
      "File: polish_agatameble_1882.html\n",
      "File: polish_agatameble_253.html\n",
      "File: polish_answear_160.html\n",
      "File: polish_answear_268.html\n",
      "File: polish_biokord_303.html\n",
      "File: polish_biokord_429.html\n",
      "File: polish_bytom_10.html\n",
      "File: polish_bytom_30.html\n",
      "File: polish_debrande_135.html\n",
      "File: polish_debrande_591.html\n",
      "File: polish_decathlon_3198.html\n",
      "File: polish_decathlon_4505.html\n",
      "File: polish_easytoys_2398.html\n",
      "File: polish_easytoys_83.html\n",
      "File: polish_ebutik_3957.html\n",
      "File: polish_ebutik_441.html\n",
      "File: polish_eobuwie_4946.html\n",
      "File: polish_eobuwie_812.html\n",
      "File: polish_etriskelion_1612.html\n",
      "File: polish_etriskelion_3887.html\n",
      "File: polish_gemini_1747.html\n",
      "File: polish_gemini_2783.html\n",
      "File: polish_lidl_1593.html\n",
      "File: polish_lidl_4840.html\n",
      "File: polish_musclepower_1505.html\n",
      "File: polish_musclepower_2314.html\n",
      "File: polish_partybox_1996.html\n",
      "File: polish_partybox_511.html\n",
      "File: polish_tomi_731.html\n",
      "File: polish_tomi_815.html\n",
      "File: polish_trendhim_1602.html\n",
      "File: polish_trendhim_2462.html\n"
     ]
    }
   ],
   "source": [
    "DIR_PATH = \"../web_pages/all_domains/pages\"\n",
    "\n",
    "files = os.listdir(DIR_PATH)\n",
    "files.sort()\n",
    "\n",
    "for i, file_name in enumerate(files):\n",
    "    print(f\"File: {file_name}\")\n",
    "\n",
    "    dir_name = file_name.replace('.', '_')\n",
    "    if not os.path.exists(f'text_v/{dir_name}'):\n",
    "        os.makedirs(f'text_v/{dir_name}')\n",
    "\n",
    "    with open(f\"{DIR_PATH}/{file_name}\", \"r\") as f:\n",
    "        html = f.read()\n",
    "\n",
    "    soup = BeautifulSoup(html, \"html.parser\")\n",
    "\n",
    "    simplified_soup_body = simplify_body(\n",
    "        soup=soup.body,\n",
    "        text_formatting_tags=text_formatting_tags,\n",
    "        tags_to_include=tags_to_include,\n",
    "        class_id_to_exclude=class_id_to_exclude,\n",
    "    )\n",
    "    simplified_body_text = md(simplified_soup_body)\n",
    "\n",
    "    meta_tags_str = textify_meta_tags(soup=soup.head, meta_acceptable_values=meta_values)\n",
    "\n",
    "    full_page_text_curr = f\"{meta_tags_str}\\n\\n{simplified_body_text}\".strip()\n",
    "\n",
    "    # save to file\n",
    "    with open(f'text_v/{dir_name}/part_0.txt', \"w\") as f:\n",
    "        f.write(full_page_text_curr)"
   ],
   "metadata": {
    "collapsed": false,
    "ExecuteTime": {
     "end_time": "2023-07-24T15:34:02.845739645Z",
     "start_time": "2023-07-24T15:33:47.600681402Z"
    }
   }
  },
  {
   "cell_type": "code",
   "execution_count": 15,
   "outputs": [
    {
     "data": {
      "text/plain": "{'page': 176,\n 'pdp': 76,\n 'responsive': 140,\n 'bncom': 2,\n 'hidden': 161,\n 'browser': 2,\n 'notice': 2,\n 'outdated': 2,\n 'ie': 2,\n 'x': 120,\n 'whole': 4,\n 'bg': 12,\n 'color': 81,\n 'site': 22,\n 'invisible': 2,\n 'schema': 125,\n 'container': 507,\n 'product': 2341,\n 'entity': 40,\n 'badge': 167,\n 'bn': 4,\n 'added': 5,\n 'size': 230,\n 'main': 143,\n 'music': 2,\n 'book': 8,\n 'http': 125,\n 'org': 125,\n 'content': 523,\n 'section': 354,\n 'placeholder': 5,\n 'hero': 8,\n 'sku': 71,\n 'detail': 537,\n 'base': 16,\n 'pt': 16,\n 'item': 1696,\n 'wrap': 381,\n 'flex': 108,\n 'm': 170,\n 'd': 168,\n 'spacing': 14,\n 'p': 80,\n 'thumbnail': 23,\n 'image': 296,\n 'row': 301,\n 'img': 41,\n 'pr': 43,\n 'column': 717,\n 'lg': 55,\n 'sm': 181,\n 'pl': 6,\n 'carousel': 113,\n 'pre': 8,\n 'init': 2,\n 'slide': 89,\n 'pa': 2,\n 'cont': 59,\n 'commerce': 4,\n 'header': 493,\n 's': 616,\n 'sticky': 42,\n 'zone': 24,\n 'for': 23,\n 'margin': 47,\n 'left': 145,\n 'right': 108,\n 'spinner': 2,\n 'promo': 13,\n 'block': 195,\n 'none': 59,\n 'price': 881,\n 'current': 18,\n 'old': 18,\n 'cur': 2,\n 'ml': 8,\n 'offer': 238,\n 'mb': 132,\n 'deal': 4,\n 'md': 160,\n 'tab': 271,\n 'pb': 46,\n 'l': 63,\n 'mt': 23,\n 'center': 179,\n 'text': 873,\n 'list': 376,\n 'info': 528,\n 'prodtabs': 2,\n 'tabpanels': 4,\n 'tabpanel': 14,\n 'plain': 3,\n 'centered': 11,\n 'credit': 12,\n 'album': 2,\n 'albumcredits': 1,\n 'expandable': 6,\n 'xx': 1,\n 'review': 919,\n 'rule': 2,\n 'padding': 23,\n 'bloom': 10,\n 'no': 112,\n 'reach': 10,\n 'bottom': 152,\n 'related': 70,\n 'search': 74,\n 'shelf': 166,\n 'tile': 82,\n 'rectangle': 14,\n 'explore': 66,\n 'bloomreach': 2,\n 'more': 110,\n 'title': 534,\n 'see': 48,\n 'movie': 2,\n 'summary': 75,\n 'a': 133,\n 'available': 21,\n 'also': 31,\n 'created': 13,\n 'date': 117,\n 'feature': 47,\n 'special': 11,\n 'specialfeatures': 1,\n 'medium': 64,\n 'cast': 1,\n 'crew': 1,\n 'castcrew': 1,\n 'scene': 1,\n 'index': 1,\n 'sceneindex': 1,\n 'menu': 953,\n 'prestige': 2,\n 'template': 84,\n 'uppercase': 8,\n 'small': 127,\n 'heading': 101,\n 'v': 97,\n 'drawer': 54,\n 'from': 2,\n 'cart': 144,\n 'sidebar': 12,\n 'bordered': 8,\n 'h': 181,\n 'u': 24,\n 'empty': 29,\n 'shopify': 56,\n 'wrapper': 477,\n 'form': 296,\n 'meta': 114,\n 'label': 338,\n 'order': 51,\n 'unit': 34,\n 'measurement': 16,\n 'subdued': 2,\n 'separator': 6,\n 'timeline': 4,\n 'buy': 26,\n 'button': 465,\n 'add': 118,\n 'to': 62,\n 'full': 49,\n 'primary': 48,\n 'atc': 10,\n 'j': 434,\n 'description': 225,\n 'rte': 13,\n 'secondary': 97,\n 'well': 2,\n 'display': 22,\n 'return': 9,\n 'top': 201,\n 'property': 35,\n 'material': 21,\n 'closure': 2,\n 'allergy': 2,\n 'guide': 12,\n 'trigger': 18,\n 'fit': 19,\n 'dash': 6,\n 'hudson': 4,\n 'variant': 49,\n 'option': 118,\n 'name': 505,\n 'value': 205,\n 'selected': 20,\n 'select': 132,\n 'customize': 11,\n 'customization': 3,\n 'field': 77,\n 'line': 105,\n 'input': 41,\n 'subtext': 1,\n 'limit': 5,\n 'modal': 129,\n 'inner': 100,\n 'off': 6,\n 'screen': 49,\n 'width': 76,\n 'selector': 12,\n 'popover': 12,\n 'min': 9,\n 'with': 75,\n 'is': 74,\n 'link': 212,\n 'code': 23,\n 'pave': 1,\n 'handle': 8,\n 'initial': 1,\n 'pendant': 2,\n 'logged': 6,\n 'customer': 4,\n 'out': 43,\n 'z': 21,\n 'body': 129,\n 'col': 4,\n 'jewelry': 1,\n 'type': 41,\n 'auto': 28,\n 'w': 47,\n 'px': 24,\n 'y': 38,\n 'occasion': 1,\n 'grid': 247,\n 'mx': 30,\n 'gap': 4,\n 'end': 32,\n 'start': 25,\n 'max': 21,\n 'my': 6,\n 'nosto': 44,\n 'id': 45,\n 'currency': 38,\n 'availability': 73,\n 'category': 96,\n 'brand': 23,\n 'tag': 91,\n 'custom': 49,\n 'montana': 1,\n 'silver': 2,\n 'necklace': 2,\n 'large': 18,\n 'blue': 9,\n 'chain': 3,\n 'crystal': 1,\n 'statement': 1,\n 'and': 78,\n 'double': 1,\n 'marquee': 14,\n 'theme': 67,\n 'nopadding': 6,\n 'nospacing': 8,\n 'parent': 4,\n 'owl': 10,\n 'dy': 4,\n 'close': 54,\n 'sidecart': 8,\n 'disable': 13,\n 'gip': 4,\n 'side': 109,\n 'afterpay': 8,\n 'money': 59,\n 'subtotal': 6,\n 'wx': 2,\n 'box': 205,\n 'wxpay': 2,\n 'glosku': 2,\n 'breadcrumb': 105,\n 'fade': 20,\n 'in': 42,\n 'wow': 4,\n 'colourpop': 6,\n 'visually': 41,\n 'showtablet': 4,\n 'sale': 77,\n 'fancy': 2,\n 'mobile': 107,\n 'desktop': 174,\n 'hidetablet': 6,\n 'floating': 3,\n 'shade': 2,\n 'icon': 206,\n 'complete': 2,\n 'hide': 46,\n 'single': 55,\n 'view': 76,\n 'gallery': 113,\n 'thumb': 123,\n 'purchase': 40,\n 'sold': 8,\n 'control': 60,\n 'default': 45,\n 'submit': 42,\n 'short': 20,\n 'unstyled': 7,\n 'simple': 14,\n 'pane': 95,\n 'active': 58,\n 'home': 12,\n 'head': 23,\n 'featured': 10,\n 'pc': 12,\n 'only': 71,\n 'switch': 4,\n 'compare': 33,\n 'scroll': 18,\n 'addcart': 16,\n 'layer': 14,\n 'note': 37,\n 'action': 54,\n 'continue': 8,\n 'maincontent': 2,\n 'hover': 20,\n 'zoom': 12,\n 'xl': 28,\n 'over': 3,\n 'data': 85,\n 'clearfix': 149,\n 'rating': 292,\n 'number': 25,\n 'pull': 6,\n 'sr': 44,\n 'bv': 8,\n 'show': 115,\n 'bvseosdk': 2,\n 'attribute': 8,\n 'selectpicker': 1,\n 'store': 34,\n 'asset': 2,\n 'message': 43,\n 'instore': 1,\n 'get': 9,\n 'outline': 3,\n 'inventory': 14,\n 'card': 350,\n 'group': 135,\n 'information': 26,\n 'border': 40,\n 'collapsible': 22,\n 'remove': 8,\n 'dialog': 45,\n 'delete': 4,\n 'confirmation': 4,\n 'ha': 53,\n 'touch': 2,\n 'noc': 2,\n 'div': 6,\n 'exp': 2,\n 'gh': 2,\n 'acc': 169,\n 'if': 2,\n 'prp': 2,\n 'atf': 2,\n 'ui': 14,\n 'new': 45,\n 'picture': 9,\n 'highlight': 14,\n 'pipe': 4,\n 'seperator': 2,\n 'aggregated': 32,\n 'rewiews': 5,\n 'num': 9,\n 'of': 26,\n 'goto': 2,\n 'mtp': 2,\n 'app': 28,\n 'clipped': 43,\n 'status': 31,\n 'tems': 8,\n 'panel': 83,\n 'snap': 18,\n 'ctrl': 7,\n 'shown': 2,\n 'vi': 14,\n 'square': 8,\n 'scroller': 10,\n 'disabled': 9,\n 'bubble': 2,\n 'help': 6,\n 'logistics': 6,\n 'cost': 4,\n 'cc': 37,\n 'bold': 51,\n 't': 408,\n 'snippet': 2,\n 'italic': 2,\n 'all': 21,\n 'cta': 20,\n 'watch': 2,\n 'seller': 4,\n 'persona': 2,\n 'btf': 2,\n 'collapsed': 4,\n 'spectification': 2,\n 'specification': 26,\n 'fluid': 46,\n 'le': 5,\n 'listing': 5,\n 'similar': 61,\n 'merch': 6,\n 'filter': 24,\n 'dropdown': 50,\n 'buying': 6,\n 'component': 14,\n 'filtering': 8,\n 'condition': 8,\n 'similaritems': 2,\n 'hts': 11,\n 'seeall': 4,\n 'noratings': 1,\n 'user': 12,\n 'noreviews': 1,\n 'ratingsmessage': 1,\n 'selling': 2,\n 'best': 19,\n 'port': 44,\n 'star': 188,\n 'count': 107,\n 'trending': 14,\n 'promotion': 8,\n 'save': 30,\n 'on': 20,\n 'additional': 93,\n 'guidance': 2,\n 'browse': 4,\n 'en': 2,\n 'flyout': 11,\n 'click': 19,\n 'stealth': 1,\n 'host': 1,\n 'histogram': 2,\n 'bar': 116,\n 'r': 93,\n 'aspect': 18,\n 'stock': 71,\n 'exist': 1,\n 'filmstrip': 6,\n 'owller': 1,\n 'indicator': 13,\n 'moreimage': 1,\n 'photo': 60,\n 'ebayui': 3,\n 'fullpage': 2,\n 'overlay': 128,\n 'singleview': 1,\n 'positive': 22,\n 'learn': 1,\n 'pseudolink': 1,\n 'write': 3,\n 'record': 1,\n 'wbind': 5,\n 'attr': 20,\n 'rvw': 10,\n 'val': 4,\n 'capitalize': 2,\n 'collection': 5,\n 'wsg': 4,\n 'table': 32,\n 'cell': 14,\n 'fallback': 16,\n 'focus': 4,\n 'up': 89,\n 'half': 4,\n 'one': 95,\n 'uniform': 2,\n 'quarter': 7,\n 'regular': 38,\n 'inline': 20,\n 'payment': 8,\n 'error': 27,\n 'accent': 2,\n 'slideshow': 14,\n 'refresh': 4,\n 'selection': 23,\n 'slider': 108,\n 'prev': 3,\n 'next': 8,\n 'stage': 2,\n 'outer': 9,\n 'prerender': 2,\n 'skeleton': 2,\n 'utils': 4,\n 'syte': 20,\n 'discovery': 6,\n 'chart': 12,\n 'notified': 2,\n 'warning': 9,\n 'bag': 28,\n 'copy': 12,\n 'bundle': 4,\n 'load': 15,\n 'published': 2,\n 'ya': 3,\n 'layout': 24,\n 'service': 2,\n 'ttm': 2,\n 'pro': 4,\n 'cdp': 2,\n 'oc': 2,\n 'dp': 2,\n 'bc': 6,\n 'stsl': 2,\n 'sub': 43,\n 'bus': 2,\n 'oa': 2,\n 'xy': 2,\n 'n': 48,\n 'po': 6,\n 'jfr': 2,\n 'guarantee': 4,\n 'tf': 2,\n 'b': 110,\n 'trust': 2,\n 'e': 118,\n 'i': 34,\n 'ex': 2,\n 'o': 42,\n 'kv': 2,\n 'dcn': 2,\n 'oi': 12,\n 'q': 40,\n 'discount': 12,\n 'c': 76,\n 'bf': 2,\n 'wj': 4,\n 'odometer': 4,\n 'vn': 2,\n 'symbol': 2,\n 'yva': 2,\n 'rate': 19,\n 'desk': 2,\n 'yy': 2,\n 'without': 2,\n 'ud': 1,\n 'surge': 1,\n 'uq': 1,\n 'il': 1,\n 'cross': 17,\n 'hg': 1,\n 'inr': 1,\n 'curr': 1,\n 'zi': 1,\n 'mqs': 2,\n 'iq': 2,\n 'f': 100,\n 'mg': 6,\n 'hff': 2,\n 'tax': 4,\n 'gb': 2,\n 'tpc': 2,\n 'ib': 2,\n 'may': 2,\n 'gift': 4,\n 'nr': 1,\n 'you': 6,\n 'like': 2,\n 'upgrade': 1,\n 'pick': 3,\n 'vomi': 2,\n 'green': 2,\n 'mui': 8,\n 'root': 17,\n 'contained': 4,\n 'fhs': 2,\n 'mbq': 2,\n 'hy': 2,\n 'module': 24,\n 'bank': 2,\n 'tnc': 16,\n 'lx': 3,\n 'web': 2,\n 'footlocker': 2,\n 'flpl': 2,\n 'match': 2,\n 'constrained': 4,\n 'third': 8,\n 'aside': 2,\n 'font': 2,\n 'alt': 30,\n 'gutter': 84,\n 'vertical': 17,\n 'between': 25,\n 'always': 4,\n 'fieldset': 2,\n 'europe': 5,\n 'radio': 25,\n 'stacked': 2,\n 'ratio': 7,\n 'toggle': 24,\n 'open': 8,\n 'blank': 2,\n 'target': 6,\n 'helper': 6,\n 'teaser': 10,\n 'rar': 166,\n 'pricing': 7,\n 'total': 21,\n 'reader': 48,\n 'ctas': 2,\n 'gapless': 2,\n 'quantity': 69,\n 'favorite': 2,\n 'not': 19,\n 'wl': 2,\n 'wish': 2,\n 'authenticated': 2,\n 'addition': 10,\n 'copyright': 7,\n 'overall': 8,\n 'average': 39,\n 'percent': 45,\n 'searchbox': 2,\n 'change': 2,\n 'sort': 14,\n 'by': 80,\n 'pdpreview': 2,\n 'searchable': 24,\n 'editorial': 12,\n 'subdimension': 12,\n 'feedback': 188,\n 'reviewer': 44,\n 'verified': 61,\n 'sweepstakes': 12,\n 'back': 6,\n 'inside': 15,\n 'look': 3,\n 'cf': 10,\n 'preview': 14,\n 'instruction': 6,\n 'recommendation': 6,\n 'dynamic': 2,\n 'trademark': 2,\n 'mini': 19,\n 'state': 2,\n 'background': 4,\n 'force': 2,\n 'lap': 8,\n 'pocket': 2,\n 'styled': 58,\n 'horizontal': 8,\n 'share': 16,\n 'first': 35,\n 'strip': 2,\n 'cat': 7,\n 'ar': 8,\n 'player': 6,\n 'inset': 1,\n 'pad': 29,\n 'range': 5,\n 'lr': 27,\n 'partner': 10,\n 'fly': 8,\n 'picker': 23,\n 'animation': 24,\n 'step': 24,\n 'element': 66,\n 'find': 16,\n 'atb': 4,\n 'sizedropdown': 2,\n 'tertiary': 24,\n 'minimal': 15,\n 'closed': 2,\n 'accordion': 78,\n 'bullet': 9,\n 'safety': 1,\n 'recs': 8,\n 'anchor': 14,\n 'distribution': 54,\n 'dropdowns': 2,\n 'individual': 235,\n 'profile': 20,\n 'recommend': 21,\n 'helpful': 35,\n 'negative': 20,\n 'report': 80,\n 'cancel': 21,\n 'score': 76,\n 'pswp': 14,\n 'arrow': 8,\n 'previous': 2,\n 'before': 11,\n 'imageitems': 5,\n 'imagelinks': 5,\n 'after': 9,\n 'reduced': 3,\n 'saving': 1,\n 'interest': 7,\n 'free': 7,\n 'loan': 7,\n 'breakdown': 22,\n 'monthly': 6,\n 'month': 2,\n 'association': 2,\n 'oos': 21,\n 'attention': 1,\n 'float': 5,\n 'transparent': 2,\n 'scrolld': 2,\n 'toolbar': 2,\n 'tr': 8,\n 'false': 6,\n 'banner': 2,\n 'mode': 4,\n 'sw': 12,\n 'cs': 4,\n 'true': 6,\n 'rectangular': 2,\n 'style': 120,\n 'lazy': 2,\n 'gecko': 2,\n 'tp': 2,\n 'catalog': 8,\n 'scrollbar': 8,\n 'de': 47,\n 'cqty': 2,\n 'lazyload': 2,\n 'swatch': 25,\n 'rtl': 2,\n 'btnt': 2,\n 'nt': 28,\n 'countdown': 6,\n 'timer': 2,\n 'sp': 20,\n 'su': 2,\n 'infors': 2,\n 'theia': 2,\n 'entry': 10,\n 'fl': 6,\n 'al': 4,\n 'ppr': 15,\n 'instock': 2,\n 'inv': 2,\n 'instockupdate': 2,\n 'outstockupdate': 2,\n 'richtext': 2,\n 'fc': 2,\n 'diameter': 2,\n 'call': 15,\n 'variation': 6,\n 'fimg': 3,\n 'soldout': 6,\n 'tu': 4,\n 'cb': 4,\n 'mess': 2,\n 'varianqty': 2,\n 'incoming': 2,\n 'dn': 24,\n 'fwsb': 4,\n 'jsnt': 2,\n 'tt': 759,\n 'frm': 2,\n 'truncate': 10,\n 'vip': 5,\n 'extra': 2,\n 'tl': 2,\n 'fwm': 2,\n 'lh': 2,\n 'ca': 4,\n 'dbaff': 2,\n 'proposition': 10,\n 'each': 18,\n 'middle': 40,\n 'ul': 2,\n 'deskl': 2,\n 'bgbl': 4,\n 'ee': 6,\n 'ce': 4,\n 'day': 2,\n 'mth': 2,\n 'stcl': 2,\n 'we': 2,\n 'widget': 24,\n 'canvas': 4,\n 'fk': 2,\n 'btns': 6,\n 'fixcl': 4,\n 'tc': 6,\n 'shop': 70,\n 'cookie': 2,\n 'lb': 2,\n 'black': 6,\n 'ntcolor': 1,\n 'sb': 4,\n 'mp': 24,\n 'bread': 4,\n 'partial': 6,\n 'imgs': 2,\n 'monowrap': 2,\n 'elastislide': 2,\n 'mono': 2,\n 'lihidable': 11,\n 'lightbox': 2,\n 'gallerylist': 2,\n 'clear': 13,\n 'sec': 11,\n 'barcode': 2,\n 'part': 16,\n 'attrform': 6,\n 'gray': 7,\n 'orange': 2,\n 'white': 4,\n 'volume': 22,\n 'temp': 4,\n 'two': 9,\n 'collapse': 22,\n 'business': 4,\n 'bought': 2,\n 'sellertitle': 6,\n 'qa': 4,\n 'accord': 4,\n 'answer': 108,\n 'questionsand': 2,\n 'ugc': 17,\n 'turn': 4,\n 'tpoweredby': 4,\n 'area': 75,\n 'ask': 10,\n 'bkg': 2,\n 'question': 29,\n 'ground': 2,\n 'task': 6,\n 'typing': 2,\n 'expand': 19,\n 'instr': 2,\n 'disp': 62,\n 'miq': 2,\n 'tresp': 62,\n 'about': 3,\n 'tmiq': 4,\n 'tquestion': 4,\n 'miqa': 20,\n 'tbrowse': 2,\n 'ttitle': 2,\n 'tex': 4,\n 'portrait': 2,\n 'landscape': 2,\n 'sys': 4,\n 'quest': 32,\n 'wrp': 17,\n 'cntr': 55,\n 'asked': 70,\n 'time': 58,\n 'stamp': 55,\n 'an': 176,\n 'reply': 40,\n 'tbest': 24,\n 'tflag': 64,\n 'ia': 12,\n 'cnt': 28,\n 'vcnt': 28,\n 'resp': 30,\n 'answ': 12,\n 'vote': 12,\n 'staff': 12,\n 'rq': 2,\n 'treview': 55,\n 'tavg': 2,\n 'trating': 26,\n 'tsearch': 4,\n 'grp': 2,\n 'term': 2,\n 'treviews': 4,\n 'trev': 72,\n 'thidden': 12,\n 'ada': 12,\n 'thelpful': 24,\n 'author': 71,\n 'person': 12,\n 'rr': 2,\n 'recommandations': 2,\n 'recently': 6,\n 'viewed': 6,\n 'tool': 1,\n 'couponcode': 1,\n 'bld': 1,\n 'fw': 1,\n 'tmedia': 1,\n 'tsingle': 1,\n 'caption': 8,\n 'transition': 4,\n 'fixed': 6,\n 'appear': 4,\n 'delay': 4,\n 'scrollable': 2,\n 'fifth': 4,\n 'three': 2,\n 'beside': 4,\n 'placement': 2,\n 'prcspace': 2,\n 'k': 18,\n 'vermeil': 1,\n 'adjust': 4,\n 'minus': 2,\n 'plus': 2,\n 'apple': 2,\n 'space': 30,\n 'converted': 2,\n 'station': 4,\n 'solid': 14,\n 'video': 6,\n 'ox': 1,\n 'gold': 1,\n 'viewer': 3,\n 'colorbox': 2,\n 'cbox': 6,\n 'closebtn': 2,\n 'logo': 20,\n 'tablet': 16,\n 'deskop': 2,\n 'myaccount': 2,\n 'holder': 19,\n 'down': 2,\n 'pinkcherry': 2,\n 'topmessage': 10,\n 'homepage': 10,\n 'discounted': 10,\n 'essential': 2,\n 'toy': 2,\n 'slick': 20,\n 'mediablock': 2,\n 'spr': 74,\n 'starrating': 4,\n 'aggregate': 1,\n 'reviewed': 10,\n 'at': 3,\n 'yousavevalue': 2,\n 'yousavepercent': 2,\n 'valid': 2,\n 'until': 2,\n 'coupon': 1,\n 'red': 2,\n 'combiner': 1,\n 'lace': 2,\n 'spec': 22,\n 'prodcut': 8,\n 'gtin': 2,\n 'upc': 6,\n 'mpn': 2,\n 'avg': 2,\n 'leave': 4,\n 'required': 37,\n 'byline': 9,\n 'read': 5,\n 'youtube': 2,\n 'zero': 1,\n 'disco': 1,\n 'nightwear': 1,\n 'usd': 2,\n 'robe': 1,\n 'categorypath': 2,\n 'oversized': 1,\n 'onesies': 1,\n 'plt': 18,\n 'update': 18,\n 'dressing': 1,\n 'clothing': 8,\n 'towelling': 1,\n 'gown': 1,\n 'html': 7,\n 'enlarged': 1,\n 'remodal': 2,\n 'tracking': 6,\n 'analytics': 6,\n 'low': 1,\n 'last': 14,\n 'few': 8,\n 'percentage': 8,\n 'addtocart': 6,\n 'super': 6,\n 'care': 2,\n 'fabric': 2,\n 'impression': 4,\n 'light': 6,\n 'touchcarousel': 14,\n 'dress': 1,\n 'bodycon': 1,\n 'midaxi': 1,\n 'ring': 1,\n 'textured': 1,\n 'mesh': 1,\n 'cut': 1,\n 'tow': 1,\n 'drop': 3,\n 'selectsize': 8,\n 'sizeoption': 7,\n 'saleable': 5,\n 'remaining': 5,\n 'errormessage': 1,\n 'stockmessage': 1,\n 'outofstock': 1,\n 'lastfewremaining': 1,\n 'addtocartbutton': 1,\n 'upsell': 9,\n 'prettytabs': 1,\n 'pretty': 8,\n 'prettytab': 4,\n 'inactive': 2,\n 'shopthelook': 1,\n 'recomendations': 2,\n ...}"
     },
     "execution_count": 15,
     "metadata": {},
     "output_type": "execute_result"
    }
   ],
   "source": [
    "attrs_words_counts"
   ],
   "metadata": {
    "collapsed": false,
    "ExecuteTime": {
     "end_time": "2023-07-24T14:23:13.782132394Z",
     "start_time": "2023-07-24T14:23:13.744124671Z"
    }
   }
  },
  {
   "cell_type": "code",
   "execution_count": 16,
   "outputs": [],
   "source": [
    "import pandas as pd\n",
    "\n",
    "df = pd.DataFrame.from_dict(attrs_words_counts, orient='index', columns=['count'])"
   ],
   "metadata": {
    "collapsed": false,
    "ExecuteTime": {
     "end_time": "2023-07-24T14:24:25.989705406Z",
     "start_time": "2023-07-24T14:24:25.249352077Z"
    }
   }
  },
  {
   "cell_type": "code",
   "execution_count": 17,
   "outputs": [
    {
     "data": {
      "text/plain": "            count\npage          176\npdp            76\nresponsive    140\nbncom           2\nhidden        161\n...           ...\nintro           1\nnothing         1\nplace           1\nchar            1\nengraving       1\n\n[1684 rows x 1 columns]",
      "text/html": "<div>\n<style scoped>\n    .dataframe tbody tr th:only-of-type {\n        vertical-align: middle;\n    }\n\n    .dataframe tbody tr th {\n        vertical-align: top;\n    }\n\n    .dataframe thead th {\n        text-align: right;\n    }\n</style>\n<table border=\"1\" class=\"dataframe\">\n  <thead>\n    <tr style=\"text-align: right;\">\n      <th></th>\n      <th>count</th>\n    </tr>\n  </thead>\n  <tbody>\n    <tr>\n      <th>page</th>\n      <td>176</td>\n    </tr>\n    <tr>\n      <th>pdp</th>\n      <td>76</td>\n    </tr>\n    <tr>\n      <th>responsive</th>\n      <td>140</td>\n    </tr>\n    <tr>\n      <th>bncom</th>\n      <td>2</td>\n    </tr>\n    <tr>\n      <th>hidden</th>\n      <td>161</td>\n    </tr>\n    <tr>\n      <th>...</th>\n      <td>...</td>\n    </tr>\n    <tr>\n      <th>intro</th>\n      <td>1</td>\n    </tr>\n    <tr>\n      <th>nothing</th>\n      <td>1</td>\n    </tr>\n    <tr>\n      <th>place</th>\n      <td>1</td>\n    </tr>\n    <tr>\n      <th>char</th>\n      <td>1</td>\n    </tr>\n    <tr>\n      <th>engraving</th>\n      <td>1</td>\n    </tr>\n  </tbody>\n</table>\n<p>1684 rows × 1 columns</p>\n</div>"
     },
     "execution_count": 17,
     "metadata": {},
     "output_type": "execute_result"
    }
   ],
   "source": [
    "df"
   ],
   "metadata": {
    "collapsed": false,
    "ExecuteTime": {
     "end_time": "2023-07-24T14:24:37.212315723Z",
     "start_time": "2023-07-24T14:24:37.204191209Z"
    }
   }
  },
  {
   "cell_type": "code",
   "execution_count": 18,
   "outputs": [
    {
     "data": {
      "text/plain": "           count\nproduct     2341\nitem        1696\nty          1019\nmenu         953\nreview       919\n...          ...\nnightwear      1\ndisco          1\nzero           1\ncombiner       1\nengraving      1\n\n[1684 rows x 1 columns]",
      "text/html": "<div>\n<style scoped>\n    .dataframe tbody tr th:only-of-type {\n        vertical-align: middle;\n    }\n\n    .dataframe tbody tr th {\n        vertical-align: top;\n    }\n\n    .dataframe thead th {\n        text-align: right;\n    }\n</style>\n<table border=\"1\" class=\"dataframe\">\n  <thead>\n    <tr style=\"text-align: right;\">\n      <th></th>\n      <th>count</th>\n    </tr>\n  </thead>\n  <tbody>\n    <tr>\n      <th>product</th>\n      <td>2341</td>\n    </tr>\n    <tr>\n      <th>item</th>\n      <td>1696</td>\n    </tr>\n    <tr>\n      <th>ty</th>\n      <td>1019</td>\n    </tr>\n    <tr>\n      <th>menu</th>\n      <td>953</td>\n    </tr>\n    <tr>\n      <th>review</th>\n      <td>919</td>\n    </tr>\n    <tr>\n      <th>...</th>\n      <td>...</td>\n    </tr>\n    <tr>\n      <th>nightwear</th>\n      <td>1</td>\n    </tr>\n    <tr>\n      <th>disco</th>\n      <td>1</td>\n    </tr>\n    <tr>\n      <th>zero</th>\n      <td>1</td>\n    </tr>\n    <tr>\n      <th>combiner</th>\n      <td>1</td>\n    </tr>\n    <tr>\n      <th>engraving</th>\n      <td>1</td>\n    </tr>\n  </tbody>\n</table>\n<p>1684 rows × 1 columns</p>\n</div>"
     },
     "execution_count": 18,
     "metadata": {},
     "output_type": "execute_result"
    }
   ],
   "source": [
    "df.sort_values(by='count', ascending=False)"
   ],
   "metadata": {
    "collapsed": false,
    "ExecuteTime": {
     "end_time": "2023-07-24T14:24:44.111519467Z",
     "start_time": "2023-07-24T14:24:44.080168580Z"
    }
   }
  },
  {
   "cell_type": "markdown",
   "source": [
    "## Names to include:\n",
    "product, review, detail, title, info, label, rating, offer, size, description, opinion, value, feedback, star, main, option, answer, count, breadcrumb, category, additional, data, color, comment, score, summary, search, related, availability, quantity, similar, money, variant, feature, primary???, reviewer, type, average, basic, regular, specific, entity, currency, property, compare, aggregated, amount, question, specification, information, number, spec???, available, material, recommend, measurement"
   ],
   "metadata": {
    "collapsed": false
   }
  },
  {
   "cell_type": "markdown",
   "source": [
    "1. maybe don't choose words, check if a given word is an english word and if it's at least 4 chars long."
   ],
   "metadata": {
    "collapsed": false
   }
  },
  {
   "cell_type": "code",
   "execution_count": 19,
   "outputs": [
    {
     "name": "stdout",
     "output_type": "stream",
     "text": [
      "File: english_autoanything_1942.html\n",
      "Webpage part 0\n",
      "Temperature: 0.5\n",
      "Temperature: 0.6\n",
      "Temperature: 0.7\n",
      "Temperature: 0.8\n",
      "File: english_autoanything_2.html\n",
      "Webpage part 0\n",
      "Temperature: 0.5\n",
      "Temperature: 0.6\n",
      "Temperature: 0.7\n",
      "Temperature: 0.8\n",
      "Webpage part 1\n",
      "Temperature: 0.5\n",
      "Temperature: 0.6\n",
      "Temperature: 0.7\n",
      "Temperature: 0.8\n",
      "File: english_barnesandnoble_2011.html\n",
      "Webpage part 0\n",
      "Temperature: 0.5\n",
      "Temperature: 0.6\n",
      "Temperature: 0.7\n",
      "Temperature: 0.8\n",
      "File: english_barnesandnoble_2139.html\n",
      "Webpage part 0\n",
      "Temperature: 0.5\n",
      "Temperature: 0.6\n",
      "Temperature: 0.7\n",
      "Temperature: 0.8\n",
      "File: english_baublebar_112.html\n",
      "Webpage part 0\n",
      "Temperature: 0.5\n"
     ]
    },
    {
     "ename": "RateLimitError",
     "evalue": "That model is currently overloaded with other requests. You can retry your request, or contact us through our help center at help.openai.com if the error persists. (Please include the request ID 08208626c6321bac1b23aee683b97899 in your message.)",
     "output_type": "error",
     "traceback": [
      "\u001B[0;31m---------------------------------------------------------------------------\u001B[0m",
      "\u001B[0;31mRateLimitError\u001B[0m                            Traceback (most recent call last)",
      "Cell \u001B[0;32mIn[19], line 53\u001B[0m\n\u001B[1;32m     50\u001B[0m     os\u001B[38;5;241m.\u001B[39mmakedirs(\u001B[38;5;124mf\u001B[39m\u001B[38;5;124m'\u001B[39m\u001B[38;5;124mresults/\u001B[39m\u001B[38;5;132;01m{\u001B[39;00mdir_name\u001B[38;5;132;01m}\u001B[39;00m\u001B[38;5;124m/\u001B[39m\u001B[38;5;132;01m{\u001B[39;00msubdir_name\u001B[38;5;132;01m}\u001B[39;00m\u001B[38;5;124m'\u001B[39m)\n\u001B[1;32m     52\u001B[0m \u001B[38;5;28mprint\u001B[39m(\u001B[38;5;124mf\u001B[39m\u001B[38;5;124m\"\u001B[39m\u001B[38;5;124mTemperature: \u001B[39m\u001B[38;5;132;01m{\u001B[39;00mtemp\u001B[38;5;132;01m}\u001B[39;00m\u001B[38;5;124m\"\u001B[39m)\n\u001B[0;32m---> 53\u001B[0m response \u001B[38;5;241m=\u001B[39m \u001B[43mopenai\u001B[49m\u001B[38;5;241;43m.\u001B[39;49m\u001B[43mChatCompletion\u001B[49m\u001B[38;5;241;43m.\u001B[39;49m\u001B[43mcreate\u001B[49m\u001B[43m(\u001B[49m\n\u001B[1;32m     54\u001B[0m \u001B[43m  \u001B[49m\u001B[43mmodel\u001B[49m\u001B[38;5;241;43m=\u001B[39;49m\u001B[38;5;124;43m\"\u001B[39;49m\u001B[38;5;124;43mgpt-3.5-turbo\u001B[39;49m\u001B[38;5;124;43m\"\u001B[39;49m\u001B[43m,\u001B[49m\n\u001B[1;32m     55\u001B[0m \u001B[43m  \u001B[49m\u001B[43mtemperature\u001B[49m\u001B[38;5;241;43m=\u001B[39;49m\u001B[43mtemp\u001B[49m\u001B[43m,\u001B[49m\n\u001B[1;32m     56\u001B[0m \u001B[43m  \u001B[49m\u001B[43mmessages\u001B[49m\u001B[38;5;241;43m=\u001B[39;49m\u001B[43m[\u001B[49m\n\u001B[1;32m     57\u001B[0m \u001B[43m    \u001B[49m\u001B[43m{\u001B[49m\n\u001B[1;32m     58\u001B[0m \u001B[43m        \u001B[49m\u001B[38;5;124;43m\"\u001B[39;49m\u001B[38;5;124;43mrole\u001B[39;49m\u001B[38;5;124;43m\"\u001B[39;49m\u001B[43m:\u001B[49m\u001B[43m \u001B[49m\u001B[38;5;124;43m\"\u001B[39;49m\u001B[38;5;124;43muser\u001B[39;49m\u001B[38;5;124;43m\"\u001B[39;49m\u001B[43m,\u001B[49m\n\u001B[1;32m     59\u001B[0m \u001B[43m        \u001B[49m\u001B[38;5;124;43m\"\u001B[39;49m\u001B[38;5;124;43mcontent\u001B[39;49m\u001B[38;5;124;43m\"\u001B[39;49m\u001B[43m:\u001B[49m\u001B[43m \u001B[49m\u001B[43mchat_gpt_prompt\u001B[49m\n\u001B[1;32m     60\u001B[0m \u001B[43m    \u001B[49m\u001B[43m}\u001B[49m\n\u001B[1;32m     61\u001B[0m \u001B[43m  \u001B[49m\u001B[43m]\u001B[49m\n\u001B[1;32m     62\u001B[0m \u001B[43m\u001B[49m\u001B[43m)\u001B[49m\n\u001B[1;32m     64\u001B[0m \u001B[38;5;66;03m# save the response to txt file\u001B[39;00m\n\u001B[1;32m     65\u001B[0m \u001B[38;5;28;01mwith\u001B[39;00m \u001B[38;5;28mopen\u001B[39m(\u001B[38;5;124mf\u001B[39m\u001B[38;5;124m'\u001B[39m\u001B[38;5;124mresults/\u001B[39m\u001B[38;5;132;01m{\u001B[39;00mdir_name\u001B[38;5;132;01m}\u001B[39;00m\u001B[38;5;124m/\u001B[39m\u001B[38;5;132;01m{\u001B[39;00msubdir_name\u001B[38;5;132;01m}\u001B[39;00m\u001B[38;5;124m/part_\u001B[39m\u001B[38;5;132;01m{\u001B[39;00mi\u001B[38;5;132;01m}\u001B[39;00m\u001B[38;5;124m.json\u001B[39m\u001B[38;5;124m'\u001B[39m, \u001B[38;5;124m\"\u001B[39m\u001B[38;5;124mw\u001B[39m\u001B[38;5;124m\"\u001B[39m) \u001B[38;5;28;01mas\u001B[39;00m f:\n",
      "File \u001B[0;32m~/miniconda3/envs/global_data/lib/python3.10/site-packages/openai/api_resources/chat_completion.py:25\u001B[0m, in \u001B[0;36mChatCompletion.create\u001B[0;34m(cls, *args, **kwargs)\u001B[0m\n\u001B[1;32m     23\u001B[0m \u001B[38;5;28;01mwhile\u001B[39;00m \u001B[38;5;28;01mTrue\u001B[39;00m:\n\u001B[1;32m     24\u001B[0m     \u001B[38;5;28;01mtry\u001B[39;00m:\n\u001B[0;32m---> 25\u001B[0m         \u001B[38;5;28;01mreturn\u001B[39;00m \u001B[38;5;28;43msuper\u001B[39;49m\u001B[43m(\u001B[49m\u001B[43m)\u001B[49m\u001B[38;5;241;43m.\u001B[39;49m\u001B[43mcreate\u001B[49m\u001B[43m(\u001B[49m\u001B[38;5;241;43m*\u001B[39;49m\u001B[43margs\u001B[49m\u001B[43m,\u001B[49m\u001B[43m \u001B[49m\u001B[38;5;241;43m*\u001B[39;49m\u001B[38;5;241;43m*\u001B[39;49m\u001B[43mkwargs\u001B[49m\u001B[43m)\u001B[49m\n\u001B[1;32m     26\u001B[0m     \u001B[38;5;28;01mexcept\u001B[39;00m TryAgain \u001B[38;5;28;01mas\u001B[39;00m e:\n\u001B[1;32m     27\u001B[0m         \u001B[38;5;28;01mif\u001B[39;00m timeout \u001B[38;5;129;01mis\u001B[39;00m \u001B[38;5;129;01mnot\u001B[39;00m \u001B[38;5;28;01mNone\u001B[39;00m \u001B[38;5;129;01mand\u001B[39;00m time\u001B[38;5;241m.\u001B[39mtime() \u001B[38;5;241m>\u001B[39m start \u001B[38;5;241m+\u001B[39m timeout:\n",
      "File \u001B[0;32m~/miniconda3/envs/global_data/lib/python3.10/site-packages/openai/api_resources/abstract/engine_api_resource.py:153\u001B[0m, in \u001B[0;36mEngineAPIResource.create\u001B[0;34m(cls, api_key, api_base, api_type, request_id, api_version, organization, **params)\u001B[0m\n\u001B[1;32m    127\u001B[0m \u001B[38;5;129m@classmethod\u001B[39m\n\u001B[1;32m    128\u001B[0m \u001B[38;5;28;01mdef\u001B[39;00m \u001B[38;5;21mcreate\u001B[39m(\n\u001B[1;32m    129\u001B[0m     \u001B[38;5;28mcls\u001B[39m,\n\u001B[0;32m   (...)\u001B[0m\n\u001B[1;32m    136\u001B[0m     \u001B[38;5;241m*\u001B[39m\u001B[38;5;241m*\u001B[39mparams,\n\u001B[1;32m    137\u001B[0m ):\n\u001B[1;32m    138\u001B[0m     (\n\u001B[1;32m    139\u001B[0m         deployment_id,\n\u001B[1;32m    140\u001B[0m         engine,\n\u001B[0;32m   (...)\u001B[0m\n\u001B[1;32m    150\u001B[0m         api_key, api_base, api_type, api_version, organization, \u001B[38;5;241m*\u001B[39m\u001B[38;5;241m*\u001B[39mparams\n\u001B[1;32m    151\u001B[0m     )\n\u001B[0;32m--> 153\u001B[0m     response, _, api_key \u001B[38;5;241m=\u001B[39m \u001B[43mrequestor\u001B[49m\u001B[38;5;241;43m.\u001B[39;49m\u001B[43mrequest\u001B[49m\u001B[43m(\u001B[49m\n\u001B[1;32m    154\u001B[0m \u001B[43m        \u001B[49m\u001B[38;5;124;43m\"\u001B[39;49m\u001B[38;5;124;43mpost\u001B[39;49m\u001B[38;5;124;43m\"\u001B[39;49m\u001B[43m,\u001B[49m\n\u001B[1;32m    155\u001B[0m \u001B[43m        \u001B[49m\u001B[43murl\u001B[49m\u001B[43m,\u001B[49m\n\u001B[1;32m    156\u001B[0m \u001B[43m        \u001B[49m\u001B[43mparams\u001B[49m\u001B[38;5;241;43m=\u001B[39;49m\u001B[43mparams\u001B[49m\u001B[43m,\u001B[49m\n\u001B[1;32m    157\u001B[0m \u001B[43m        \u001B[49m\u001B[43mheaders\u001B[49m\u001B[38;5;241;43m=\u001B[39;49m\u001B[43mheaders\u001B[49m\u001B[43m,\u001B[49m\n\u001B[1;32m    158\u001B[0m \u001B[43m        \u001B[49m\u001B[43mstream\u001B[49m\u001B[38;5;241;43m=\u001B[39;49m\u001B[43mstream\u001B[49m\u001B[43m,\u001B[49m\n\u001B[1;32m    159\u001B[0m \u001B[43m        \u001B[49m\u001B[43mrequest_id\u001B[49m\u001B[38;5;241;43m=\u001B[39;49m\u001B[43mrequest_id\u001B[49m\u001B[43m,\u001B[49m\n\u001B[1;32m    160\u001B[0m \u001B[43m        \u001B[49m\u001B[43mrequest_timeout\u001B[49m\u001B[38;5;241;43m=\u001B[39;49m\u001B[43mrequest_timeout\u001B[49m\u001B[43m,\u001B[49m\n\u001B[1;32m    161\u001B[0m \u001B[43m    \u001B[49m\u001B[43m)\u001B[49m\n\u001B[1;32m    163\u001B[0m     \u001B[38;5;28;01mif\u001B[39;00m stream:\n\u001B[1;32m    164\u001B[0m         \u001B[38;5;66;03m# must be an iterator\u001B[39;00m\n\u001B[1;32m    165\u001B[0m         \u001B[38;5;28;01massert\u001B[39;00m \u001B[38;5;129;01mnot\u001B[39;00m \u001B[38;5;28misinstance\u001B[39m(response, OpenAIResponse)\n",
      "File \u001B[0;32m~/miniconda3/envs/global_data/lib/python3.10/site-packages/openai/api_requestor.py:298\u001B[0m, in \u001B[0;36mAPIRequestor.request\u001B[0;34m(self, method, url, params, headers, files, stream, request_id, request_timeout)\u001B[0m\n\u001B[1;32m    277\u001B[0m \u001B[38;5;28;01mdef\u001B[39;00m \u001B[38;5;21mrequest\u001B[39m(\n\u001B[1;32m    278\u001B[0m     \u001B[38;5;28mself\u001B[39m,\n\u001B[1;32m    279\u001B[0m     method,\n\u001B[0;32m   (...)\u001B[0m\n\u001B[1;32m    286\u001B[0m     request_timeout: Optional[Union[\u001B[38;5;28mfloat\u001B[39m, Tuple[\u001B[38;5;28mfloat\u001B[39m, \u001B[38;5;28mfloat\u001B[39m]]] \u001B[38;5;241m=\u001B[39m \u001B[38;5;28;01mNone\u001B[39;00m,\n\u001B[1;32m    287\u001B[0m ) \u001B[38;5;241m-\u001B[39m\u001B[38;5;241m>\u001B[39m Tuple[Union[OpenAIResponse, Iterator[OpenAIResponse]], \u001B[38;5;28mbool\u001B[39m, \u001B[38;5;28mstr\u001B[39m]:\n\u001B[1;32m    288\u001B[0m     result \u001B[38;5;241m=\u001B[39m \u001B[38;5;28mself\u001B[39m\u001B[38;5;241m.\u001B[39mrequest_raw(\n\u001B[1;32m    289\u001B[0m         method\u001B[38;5;241m.\u001B[39mlower(),\n\u001B[1;32m    290\u001B[0m         url,\n\u001B[0;32m   (...)\u001B[0m\n\u001B[1;32m    296\u001B[0m         request_timeout\u001B[38;5;241m=\u001B[39mrequest_timeout,\n\u001B[1;32m    297\u001B[0m     )\n\u001B[0;32m--> 298\u001B[0m     resp, got_stream \u001B[38;5;241m=\u001B[39m \u001B[38;5;28;43mself\u001B[39;49m\u001B[38;5;241;43m.\u001B[39;49m\u001B[43m_interpret_response\u001B[49m\u001B[43m(\u001B[49m\u001B[43mresult\u001B[49m\u001B[43m,\u001B[49m\u001B[43m \u001B[49m\u001B[43mstream\u001B[49m\u001B[43m)\u001B[49m\n\u001B[1;32m    299\u001B[0m     \u001B[38;5;28;01mreturn\u001B[39;00m resp, got_stream, \u001B[38;5;28mself\u001B[39m\u001B[38;5;241m.\u001B[39mapi_key\n",
      "File \u001B[0;32m~/miniconda3/envs/global_data/lib/python3.10/site-packages/openai/api_requestor.py:700\u001B[0m, in \u001B[0;36mAPIRequestor._interpret_response\u001B[0;34m(self, result, stream)\u001B[0m\n\u001B[1;32m    692\u001B[0m     \u001B[38;5;28;01mreturn\u001B[39;00m (\n\u001B[1;32m    693\u001B[0m         \u001B[38;5;28mself\u001B[39m\u001B[38;5;241m.\u001B[39m_interpret_response_line(\n\u001B[1;32m    694\u001B[0m             line, result\u001B[38;5;241m.\u001B[39mstatus_code, result\u001B[38;5;241m.\u001B[39mheaders, stream\u001B[38;5;241m=\u001B[39m\u001B[38;5;28;01mTrue\u001B[39;00m\n\u001B[1;32m    695\u001B[0m         )\n\u001B[1;32m    696\u001B[0m         \u001B[38;5;28;01mfor\u001B[39;00m line \u001B[38;5;129;01min\u001B[39;00m parse_stream(result\u001B[38;5;241m.\u001B[39miter_lines())\n\u001B[1;32m    697\u001B[0m     ), \u001B[38;5;28;01mTrue\u001B[39;00m\n\u001B[1;32m    698\u001B[0m \u001B[38;5;28;01melse\u001B[39;00m:\n\u001B[1;32m    699\u001B[0m     \u001B[38;5;28;01mreturn\u001B[39;00m (\n\u001B[0;32m--> 700\u001B[0m         \u001B[38;5;28;43mself\u001B[39;49m\u001B[38;5;241;43m.\u001B[39;49m\u001B[43m_interpret_response_line\u001B[49m\u001B[43m(\u001B[49m\n\u001B[1;32m    701\u001B[0m \u001B[43m            \u001B[49m\u001B[43mresult\u001B[49m\u001B[38;5;241;43m.\u001B[39;49m\u001B[43mcontent\u001B[49m\u001B[38;5;241;43m.\u001B[39;49m\u001B[43mdecode\u001B[49m\u001B[43m(\u001B[49m\u001B[38;5;124;43m\"\u001B[39;49m\u001B[38;5;124;43mutf-8\u001B[39;49m\u001B[38;5;124;43m\"\u001B[39;49m\u001B[43m)\u001B[49m\u001B[43m,\u001B[49m\n\u001B[1;32m    702\u001B[0m \u001B[43m            \u001B[49m\u001B[43mresult\u001B[49m\u001B[38;5;241;43m.\u001B[39;49m\u001B[43mstatus_code\u001B[49m\u001B[43m,\u001B[49m\n\u001B[1;32m    703\u001B[0m \u001B[43m            \u001B[49m\u001B[43mresult\u001B[49m\u001B[38;5;241;43m.\u001B[39;49m\u001B[43mheaders\u001B[49m\u001B[43m,\u001B[49m\n\u001B[1;32m    704\u001B[0m \u001B[43m            \u001B[49m\u001B[43mstream\u001B[49m\u001B[38;5;241;43m=\u001B[39;49m\u001B[38;5;28;43;01mFalse\u001B[39;49;00m\u001B[43m,\u001B[49m\n\u001B[1;32m    705\u001B[0m \u001B[43m        \u001B[49m\u001B[43m)\u001B[49m,\n\u001B[1;32m    706\u001B[0m         \u001B[38;5;28;01mFalse\u001B[39;00m,\n\u001B[1;32m    707\u001B[0m     )\n",
      "File \u001B[0;32m~/miniconda3/envs/global_data/lib/python3.10/site-packages/openai/api_requestor.py:763\u001B[0m, in \u001B[0;36mAPIRequestor._interpret_response_line\u001B[0;34m(self, rbody, rcode, rheaders, stream)\u001B[0m\n\u001B[1;32m    761\u001B[0m stream_error \u001B[38;5;241m=\u001B[39m stream \u001B[38;5;129;01mand\u001B[39;00m \u001B[38;5;124m\"\u001B[39m\u001B[38;5;124merror\u001B[39m\u001B[38;5;124m\"\u001B[39m \u001B[38;5;129;01min\u001B[39;00m resp\u001B[38;5;241m.\u001B[39mdata\n\u001B[1;32m    762\u001B[0m \u001B[38;5;28;01mif\u001B[39;00m stream_error \u001B[38;5;129;01mor\u001B[39;00m \u001B[38;5;129;01mnot\u001B[39;00m \u001B[38;5;241m200\u001B[39m \u001B[38;5;241m<\u001B[39m\u001B[38;5;241m=\u001B[39m rcode \u001B[38;5;241m<\u001B[39m \u001B[38;5;241m300\u001B[39m:\n\u001B[0;32m--> 763\u001B[0m     \u001B[38;5;28;01mraise\u001B[39;00m \u001B[38;5;28mself\u001B[39m\u001B[38;5;241m.\u001B[39mhandle_error_response(\n\u001B[1;32m    764\u001B[0m         rbody, rcode, resp\u001B[38;5;241m.\u001B[39mdata, rheaders, stream_error\u001B[38;5;241m=\u001B[39mstream_error\n\u001B[1;32m    765\u001B[0m     )\n\u001B[1;32m    766\u001B[0m \u001B[38;5;28;01mreturn\u001B[39;00m resp\n",
      "\u001B[0;31mRateLimitError\u001B[0m: That model is currently overloaded with other requests. You can retry your request, or contact us through our help center at help.openai.com if the error persists. (Please include the request ID 08208626c6321bac1b23aee683b97899 in your message.)"
     ]
    }
   ],
   "source": [
    "# DIR_PATH = \"../web_pages/all_domains/pages\"\n",
    "#\n",
    "# files = os.listdir(DIR_PATH)\n",
    "# files.sort()\n",
    "#\n",
    "# for i, file_name in enumerate(files):\n",
    "#     print(f\"File: {file_name}\")\n",
    "#\n",
    "#     dir_name = file_name.replace('.', '_')\n",
    "#     if not os.path.exists(f'results/{dir_name}'):\n",
    "#         os.makedirs(f'results/{dir_name}')\n",
    "#\n",
    "#     with open(f\"{DIR_PATH}/{file_name}\", \"r\") as f:\n",
    "#         html = f.read()\n",
    "#\n",
    "#     soup = BeautifulSoup(html, \"html.parser\")\n",
    "#\n",
    "#     simplified_soup_body = simplify_body(\n",
    "#         soup=soup.body,\n",
    "#         text_formatting_tags=text_formatting_tags,\n",
    "#         tags_to_include=tags_to_include,\n",
    "#         class_id_to_exclude=class_id_to_exclude,\n",
    "#     )\n",
    "#     simplified_body_text = md(simplified_soup_body)\n",
    "#\n",
    "#     meta_tags_str = textify_meta_tags(soup=soup.head, meta_acceptable_values=meta_values)\n",
    "#\n",
    "#     max_input_size = get_max_input_size(model_max_input_size, prompt_desc_size, meta_tags_str, tokenizer)\n",
    "#\n",
    "#     res = divide_html_version(simplified_soup_body, transform_html_func=md, max_size=max_input_size)\n",
    "#\n",
    "#     if isinstance(res, list):\n",
    "#         pass\n",
    "#     else:\n",
    "#         res = [res]\n",
    "#\n",
    "#     for i, elem in enumerate(res):\n",
    "#         print(\"Webpage part\", i)\n",
    "#         elem_soup = BeautifulSoup(elem[0], \"html.parser\")\n",
    "#\n",
    "#         simplified_elem_text = md(elem_soup)\n",
    "#         # full_page_text_curr = f\"{simplified_soup_head_text}\\n{simplified_elem_text}\"\n",
    "#         full_page_text_curr = f\"{meta_tags_str}\\n\\n{simplified_elem_text}\".strip()\n",
    "#\n",
    "#         chat_gpt_prompt = f\"{prompt}\\n{full_page_text_curr}\"\n",
    "#\n",
    "#         temps = [0.6, 0.7]\n",
    "#         for temp in temps:\n",
    "#             subdir_name = str(temp).replace('.', '_')\n",
    "#             if not os.path.exists(f'results/{dir_name}/{subdir_name}'):\n",
    "#                 os.makedirs(f'results/{dir_name}/{subdir_name}')\n",
    "#\n",
    "#             if f'results/{dir_name}/{subdir_name}/part_{i}.json' in os.listdir(f'results/{dir_name}/{subdir_name}'):\n",
    "#                 continue\n",
    "#\n",
    "#             print(f\"Temperature: {temp}\")\n",
    "#             response = openai.ChatCompletion.create(\n",
    "#               model=\"gpt-3.5-turbo\",\n",
    "#               temperature=temp,\n",
    "#               messages=[\n",
    "#                 {\n",
    "#                     \"role\": \"user\",\n",
    "#                     \"content\": chat_gpt_prompt\n",
    "#                 }\n",
    "#               ]\n",
    "#             )\n",
    "#\n",
    "#             # save the response to txt file\n",
    "#             with open(f'results/{dir_name}/{subdir_name}/part_{i}.json', \"w\") as f:\n",
    "#                 f.write(response['choices'][0]['message']['content'])\n"
   ],
   "metadata": {
    "collapsed": false,
    "ExecuteTime": {
     "end_time": "2023-06-20T13:39:25.547517603Z",
     "start_time": "2023-06-20T13:31:58.164523539Z"
    }
   }
  },
  {
   "cell_type": "code",
   "execution_count": null,
   "outputs": [],
   "source": [],
   "metadata": {
    "collapsed": false
   }
  }
 ],
 "metadata": {
  "kernelspec": {
   "display_name": "Python 3",
   "language": "python",
   "name": "python3"
  },
  "language_info": {
   "codemirror_mode": {
    "name": "ipython",
    "version": 2
   },
   "file_extension": ".py",
   "mimetype": "text/x-python",
   "name": "python",
   "nbconvert_exporter": "python",
   "pygments_lexer": "ipython2",
   "version": "2.7.6"
  }
 },
 "nbformat": 4,
 "nbformat_minor": 0
}
