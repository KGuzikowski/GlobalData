{
 "cells": [
  {
   "cell_type": "code",
   "execution_count": 1,
   "outputs": [],
   "source": [
    "import re\n",
    "\n",
    "import openai\n",
    "import os\n",
    "import json\n",
    "\n",
    "from markdownify import ATX, BACKSLASH\n",
    "from transformers import T5TokenizerFast\n",
    "from bs4 import BeautifulSoup, Tag\n",
    "\n",
    "from data_gathering.data_extraction.utils import get_binary_dicts_templates\n",
    "from data_gathering.data_extraction.tree_modification import simplify_body"
   ],
   "metadata": {
    "collapsed": false,
    "ExecuteTime": {
     "end_time": "2023-10-29T18:41:45.366869372Z",
     "start_time": "2023-10-29T18:41:44.725443329Z"
    }
   }
  },
  {
   "cell_type": "code",
   "execution_count": 2,
   "outputs": [],
   "source": [
    "from dotenv import load_dotenv\n",
    "\n",
    "load_dotenv()\n",
    "\n",
    "API_KEY = os.getenv('OPEN_AI_API_KEY')\n",
    "\n",
    "openai.api_key = API_KEY"
   ],
   "metadata": {
    "collapsed": false,
    "ExecuteTime": {
     "end_time": "2023-10-29T18:29:13.832490116Z",
     "start_time": "2023-10-29T18:29:13.812004588Z"
    }
   }
  },
  {
   "cell_type": "code",
   "execution_count": 3,
   "outputs": [],
   "source": [
    "tokenizer = T5TokenizerFast.from_pretrained(\"google/flan-t5-base\")"
   ],
   "metadata": {
    "collapsed": false,
    "ExecuteTime": {
     "end_time": "2023-09-20T16:24:07.815234890Z",
     "start_time": "2023-09-20T16:24:07.469936432Z"
    }
   }
  },
  {
   "cell_type": "code",
   "execution_count": 2,
   "outputs": [],
   "source": [
    "with open(\"../dataset_creation_config.json\", \"r\") as file:\n",
    "    config = json.load(file)\n",
    "\n",
    "tags_to_include = set(config[\"tags\"])\n",
    "text_formatting_tags = set(config[\"text_formatting_tags\"])\n",
    "abbreviations = config[\"abbreviations\"]\n",
    "meta_values = config[\"meta_values\"]\n",
    "(\n",
    "    available_tags_binary_dict,\n",
    "    available_attributes_values_binary_dict,\n",
    ") = get_binary_dicts_templates(config)"
   ],
   "metadata": {
    "collapsed": false,
    "ExecuteTime": {
     "end_time": "2023-10-29T18:41:45.387271882Z",
     "start_time": "2023-10-29T18:41:45.369772534Z"
    }
   }
  },
  {
   "cell_type": "code",
   "execution_count": 3,
   "outputs": [],
   "source": [
    "class_id_to_exclude = [\n",
    "    \"nav\",\n",
    "    \"tooltip\",\n",
    "    \"banner\",\n",
    "    \"footer\",\n",
    "    \"shipping\",\n",
    "    \"popup\",\n",
    "    \"checkout\",\n",
    "    \"payments\",\n",
    "    \"returns\",\n",
    "    \"delivery\",\n",
    "    \"support\",\n",
    "    \"warranty\",\n",
    "    \"privacy\",\n",
    "    \"benefit\",\n",
    "    \"sign-in\",\n",
    "    \"sign-up\",\n",
    "    \"login\",\n",
    "    \"password\",\n",
    "    \"add-to-cart\",\n",
    "    \"announcement\",\n",
    "    \"notification\",\n",
    "    \"wishlist\",\n",
    "    \"social\",\n",
    "    \"json\",\n",
    "    \"alert\",\n",
    "    \"disclaimer\",\n",
    "    \"contact\",\n",
    "    \"cookies\",\n",
    "    \"newsletter\",\n",
    "    \"basket\",\n",
    "    \"askforproduct\",\n",
    "    \"ask-about-product\",\n",
    "    \"mobile-header\",\n",
    "    \"header-menu\",\n",
    "    \"customer\"\n",
    "]"
   ],
   "metadata": {
    "collapsed": false,
    "ExecuteTime": {
     "end_time": "2023-10-29T18:41:45.885775987Z",
     "start_time": "2023-10-29T18:41:45.860604442Z"
    }
   }
  },
  {
   "cell_type": "code",
   "execution_count": 4,
   "outputs": [],
   "source": [
    "def join_tags(elems, tag_name):\n",
    "    html = \"\"\n",
    "\n",
    "    for partial_html, _ in elems:\n",
    "        html += partial_html\n",
    "\n",
    "    html = f\"<{tag_name}>{html}</{tag_name}>\"\n",
    "\n",
    "    return html\n",
    "\n",
    "def join_as_many_tags_as_possible(parts, max_size: int, tag_name=\"body\"):\n",
    "    final = []\n",
    "    temp = []\n",
    "    curr_len = 0\n",
    "\n",
    "    for part, size in parts:\n",
    "        if temp:\n",
    "            if curr_len + size <= max_size:\n",
    "                temp.append((part, size))\n",
    "                curr_len += size\n",
    "            else:\n",
    "                final.append((join_tags(temp, tag_name), curr_len))\n",
    "                temp = [(part, size)]\n",
    "                curr_len = size\n",
    "        else:\n",
    "            temp = [(part, size)]\n",
    "            curr_len = size\n",
    "\n",
    "    if temp:\n",
    "        final.append((join_tags(temp, tag_name), curr_len))\n",
    "\n",
    "    return final\n",
    "\n",
    "def divide_html_version(soup, transform_html_func, max_size):\n",
    "    text = tokenizer(transform_html_func(soup)).input_ids\n",
    "    size = len(text)\n",
    "\n",
    "    if size <= max_size:\n",
    "        return str(soup), size\n",
    "\n",
    "    parts = []\n",
    "\n",
    "    for elem in soup.contents:\n",
    "        res = divide_html_version(soup=elem, transform_html_func=transform_html_func, max_size=max_size) if isinstance(elem, Tag) else (str(elem), len(tokenizer(str(elem)).input_ids))\n",
    "\n",
    "        if res is None:\n",
    "            return None\n",
    "        elif isinstance(res, list):\n",
    "            parts += res\n",
    "        else:\n",
    "            parts.append(res)\n",
    "\n",
    "    return join_as_many_tags_as_possible(parts=parts, max_size=max_size, tag_name=soup.name)"
   ],
   "metadata": {
    "collapsed": false,
    "ExecuteTime": {
     "end_time": "2023-10-29T18:41:47.501126022Z",
     "start_time": "2023-10-29T18:41:47.475338666Z"
    }
   }
  },
  {
   "cell_type": "code",
   "execution_count": 6,
   "outputs": [],
   "source": [
    "def get_max_input_size(model_max_input_size: int, prompt_desc_size: int, header_md: str, tokenizer: T5TokenizerFast) -> int:\n",
    "    return model_max_input_size - prompt_desc_size - len(tokenizer(header_md).input_ids)"
   ],
   "metadata": {
    "collapsed": false,
    "ExecuteTime": {
     "end_time": "2023-10-29T18:29:18.485250701Z",
     "start_time": "2023-10-29T18:29:18.478730054Z"
    }
   }
  },
  {
   "cell_type": "code",
   "execution_count": 13,
   "outputs": [],
   "source": [
    "# prompt = \"\"\"\n",
    "# The text given below was extracted from a product website page. Extract the following product information from the text:\n",
    "# - title - a string\n",
    "# - brand - a string\n",
    "# - current price - a number\n",
    "# - old price - a number\n",
    "# - currency - a string\n",
    "# - product features and specifications - returns all product features and specifications included in text, those could be for example but not necessarily materials, design, genres, model, labels and other things like that. Return a list of dictionaries containing present product features and specifications. Each dictionary should contain the feature name and its value (string or array), split features into separate points, do not provide a description\n",
    "# - short description - a string as a meaningful short description of the product\n",
    "# - available colors - a  list of strings\n",
    "# - available size variants - a list of strings. Don't include any dimensions, quantity, and size table information information. If products come in only one universal size return word default.\n",
    "# - product categories - a list of strings. Use categories from the text to come up with your own categories. If no information is provided in the text create your own categories. Try to be as general and also precise as possible.\n",
    "# - customer ratings - a dictionary with the average rating and each separate rating with their number (if that information is strictly provided)\n",
    "# - customer reviews - return all customer reviews (opinions) as a list of strings\n",
    "# - similar or related products - a list of strings consisting of similar products\n",
    "# - products recommended for me - a list of strings consisting of products recommended for me\n",
    "# Don't return any size table information or delivery information.\n",
    "# Never guess unless you're asked to, if there's no information return: null.\n",
    "# Return only a proper JSON format using snake case for properties. The text:\n",
    "# \"\"\""
   ],
   "metadata": {
    "collapsed": false,
    "ExecuteTime": {
     "end_time": "2023-10-23T15:50:37.531101198Z",
     "start_time": "2023-10-23T15:50:37.501578455Z"
    }
   }
  },
  {
   "cell_type": "code",
   "execution_count": 14,
   "outputs": [],
   "source": [
    "prompt = \"\"\"\n",
    "The text given below was extracted from a product website page. Extract the following product information from the text:\n",
    "- title - a string\n",
    "- brand - a string\n",
    "- current price - a number\n",
    "- old price - a number\n",
    "- currency - a string\n",
    "- product features and specifications - returns all product features and specifications included in text and relevant to the product itself (describing it). Return a list of dictionaries containing present product features and specifications. Each dictionary should contain the feature name as \"feature\" and its value as \"value\". The important thing is that you must provide all the features and specifications you can find. Split features into separate points. Remember to never provide a description. Name this field \"product_features\".\n",
    "- short description - a string as a meaningful short description of the product\n",
    "- available colors - a  list of strings\n",
    "- available size variants - a list of strings. Don't ever include any product dimensions, quantity, and size table information information. If products come in only one universal size return a word (string) default.\n",
    "- product categories - a list of strings. Use categories from the text to come up with your own categories. If no information is provided in the text create your own categories. Try to be as general and precise as possible. Remember, this field must always be provided.\n",
    "- customer ratings - a dictionary with the average rating and each separate rating with their number (if that information is strictly provided otherwise if each rating with a number is not provided return only the mean rating and overall number of ratings)\n",
    "- customer reviews - return all customer reviews (opinions) as a list of strings\n",
    "- similar or related products - a list of strings consisting of similar products\n",
    "- products recommended for me - a list of strings consisting of products recommended for me\n",
    "Don't return any size table information or delivery information. Return each number as a number, not a string.\n",
    "Never guess unless you're asked to, if there's no information return: null.\n",
    "Return only a proper JSON format using snake case for properties. The text:\n",
    "\"\"\""
   ],
   "metadata": {
    "collapsed": false,
    "ExecuteTime": {
     "end_time": "2023-10-23T15:50:37.765532559Z",
     "start_time": "2023-10-23T15:50:37.744166278Z"
    }
   }
  },
  {
   "cell_type": "code",
   "execution_count": 15,
   "outputs": [
    {
     "ename": "NameError",
     "evalue": "name 'tokenizer' is not defined",
     "output_type": "error",
     "traceback": [
      "\u001B[0;31m---------------------------------------------------------------------------\u001B[0m",
      "\u001B[0;31mNameError\u001B[0m                                 Traceback (most recent call last)",
      "Cell \u001B[0;32mIn[15], line 1\u001B[0m\n\u001B[0;32m----> 1\u001B[0m \u001B[38;5;28minput\u001B[39m \u001B[38;5;241m=\u001B[39m tokenizer(prompt)\n\u001B[1;32m      2\u001B[0m prompt_desc_size \u001B[38;5;241m=\u001B[39m \u001B[38;5;28mlen\u001B[39m(\u001B[38;5;28minput\u001B[39m\u001B[38;5;241m.\u001B[39minput_ids)\n",
      "\u001B[0;31mNameError\u001B[0m: name 'tokenizer' is not defined"
     ]
    }
   ],
   "source": [
    "input = tokenizer(prompt)\n",
    "prompt_desc_size = len(input.input_ids)"
   ],
   "metadata": {
    "collapsed": false,
    "ExecuteTime": {
     "end_time": "2023-10-23T15:50:38.030720753Z",
     "start_time": "2023-10-23T15:50:37.934894173Z"
    }
   }
  },
  {
   "cell_type": "code",
   "execution_count": 16,
   "outputs": [
    {
     "ename": "NameError",
     "evalue": "name 'prompt_desc_size' is not defined",
     "output_type": "error",
     "traceback": [
      "\u001B[0;31m---------------------------------------------------------------------------\u001B[0m",
      "\u001B[0;31mNameError\u001B[0m                                 Traceback (most recent call last)",
      "Cell \u001B[0;32mIn[16], line 1\u001B[0m\n\u001B[0;32m----> 1\u001B[0m prompt_desc_size\n",
      "\u001B[0;31mNameError\u001B[0m: name 'prompt_desc_size' is not defined"
     ]
    }
   ],
   "source": [
    "prompt_desc_size"
   ],
   "metadata": {
    "collapsed": false,
    "ExecuteTime": {
     "end_time": "2023-10-23T15:50:38.430632526Z",
     "start_time": "2023-10-23T15:50:38.404766873Z"
    }
   }
  },
  {
   "cell_type": "code",
   "execution_count": 17,
   "outputs": [],
   "source": [
    "model_max_input_size = 16384"
   ],
   "metadata": {
    "collapsed": false,
    "ExecuteTime": {
     "end_time": "2023-10-23T15:50:38.946235848Z",
     "start_time": "2023-10-23T15:50:38.923288917Z"
    }
   }
  },
  {
   "cell_type": "code",
   "execution_count": 5,
   "outputs": [],
   "source": [
    "from transformers import pipeline\n",
    "\n",
    "# translator = pipeline(\"translation\", model=\"Helsinki-NLP/opus-mt-pl-en\")\n",
    "translator = pipeline(\"translation\", model=\"Helsinki-NLP/opus-mt-pl-en\", device=\"cuda:0\")"
   ],
   "metadata": {
    "collapsed": false,
    "ExecuteTime": {
     "end_time": "2023-10-29T18:41:57.743102557Z",
     "start_time": "2023-10-29T18:41:50.829263269Z"
    }
   }
  },
  {
   "cell_type": "code",
   "execution_count": 6,
   "outputs": [],
   "source": [
    "import spacy\n",
    "\n",
    "nlp = spacy.load(\"pl_core_news_sm\", disable=['tagger', 'ner', 'morphologizer', 'lemmatizer', 'attribute_ruler', 'parser', 'tok2vec'])\n",
    "nlp.enable_pipe(\"senter\")\n",
    "# nlp = spacy.load(\"pl_core_news_sm\", disable=['tagger', 'ner', 'morphologizer', 'lemmatizer', 'attribute_ruler'])"
   ],
   "metadata": {
    "collapsed": false,
    "ExecuteTime": {
     "end_time": "2023-10-29T18:41:59.536326461Z",
     "start_time": "2023-10-29T18:41:57.737333931Z"
    }
   }
  },
  {
   "cell_type": "code",
   "execution_count": 7,
   "outputs": [
    {
     "name": "stdout",
     "output_type": "stream",
     "text": [
      "['senter']\n"
     ]
    }
   ],
   "source": [
    "print(nlp.pipe_names)"
   ],
   "metadata": {
    "collapsed": false,
    "ExecuteTime": {
     "end_time": "2023-10-29T18:41:59.561032924Z",
     "start_time": "2023-10-29T18:41:59.538585222Z"
    }
   }
  },
  {
   "cell_type": "code",
   "execution_count": 8,
   "outputs": [],
   "source": [
    "from data_gathering.data_extraction.html2markdown import HtmlAttrsAndTranslationMarkdownConverter\n",
    "\n",
    "markdown_converter = HtmlAttrsAndTranslationMarkdownConverter(\n",
    "    abbreviations=abbreviations,\n",
    "    meta_acceptable_values=meta_values,\n",
    "    translation_pipeline=translator,\n",
    "    nlp=nlp,\n",
    "    heading_style=ATX,\n",
    "    newline_style=BACKSLASH\n",
    ")"
   ],
   "metadata": {
    "collapsed": false,
    "ExecuteTime": {
     "end_time": "2023-10-29T18:42:01.845378620Z",
     "start_time": "2023-10-29T18:41:59.544507896Z"
    }
   }
  },
  {
   "cell_type": "code",
   "execution_count": 9,
   "outputs": [],
   "source": [
    "from time import time\n",
    "\n",
    "file_name = \"polish_trendhim_1602.html\"\n",
    "\n",
    "with open(f\"../web_pages/all_domains/pages/{file_name}\", \"r\") as file:\n",
    "    html = file.read()\n",
    "\n",
    "start = time()\n",
    "\n",
    "soup = BeautifulSoup(html, \"html.parser\")\n",
    "\n",
    "simplified_soup_body = simplify_body(\n",
    "    soup=soup.body,\n",
    "    text_formatting_tags=text_formatting_tags,\n",
    "    tags_to_include=tags_to_include,\n",
    "    class_id_to_exclude=class_id_to_exclude,\n",
    ")\n",
    "\n",
    "should_translate_to_english = file_name.startswith('polish')\n",
    "\n",
    "simplified_body_text = markdown_converter.textify_body(simplified_soup_body, should_translate_to_english)\n",
    "\n",
    "meta_tags_str = markdown_converter.textify_meta_tags(soup=soup, should_translate_to_english=should_translate_to_english)\n",
    "\n",
    "full_page_text_curr = f'{meta_tags_str}\\n\\n{simplified_body_text}'.strip()\n",
    "\n",
    "exec_time = time() - start"
   ],
   "metadata": {
    "collapsed": false,
    "ExecuteTime": {
     "end_time": "2023-10-29T18:42:27.069559976Z",
     "start_time": "2023-10-29T18:42:01.853635833Z"
    }
   }
  },
  {
   "cell_type": "code",
   "execution_count": 10,
   "outputs": [],
   "source": [
    "with open(f\"{file_name}.txt\", \"w\") as file:\n",
    "    file.write(full_page_text_curr)"
   ],
   "metadata": {
    "collapsed": false,
    "ExecuteTime": {
     "end_time": "2023-10-29T18:42:27.118318724Z",
     "start_time": "2023-10-29T18:42:27.113735289Z"
    }
   }
  },
  {
   "cell_type": "code",
   "execution_count": 11,
   "outputs": [
    {
     "data": {
      "text/plain": "25.210716485977173"
     },
     "execution_count": 11,
     "metadata": {},
     "output_type": "execute_result"
    }
   ],
   "source": [
    "exec_time"
   ],
   "metadata": {
    "collapsed": false,
    "ExecuteTime": {
     "end_time": "2023-10-29T18:42:29.814137137Z",
     "start_time": "2023-10-29T18:42:29.795127762Z"
    }
   }
  },
  {
   "cell_type": "markdown",
   "source": [
    "cpu time: 76.38324189186096\n",
    "gpu time: 25.474854946136475"
   ],
   "metadata": {
    "collapsed": false
   }
  },
  {
   "cell_type": "code",
   "execution_count": null,
   "outputs": [],
   "source": [
    "from time import time\n",
    "\n",
    "file_name = \"polish_trendhim_1602.html\"\n",
    "\n",
    "with open(f\"../web_pages/all_domains/pages/{file_name}\", \"r\") as file:\n",
    "    html = file.read()\n",
    "\n",
    "start = time()\n",
    "\n",
    "soup = BeautifulSoup(html, \"html.parser\")\n",
    "\n",
    "simplified_soup_body = simplify_body(\n",
    "    soup=soup.body,\n",
    "    text_formatting_tags=text_formatting_tags,\n",
    "    tags_to_include=tags_to_include,\n",
    "    class_id_to_exclude=class_id_to_exclude,\n",
    ")\n",
    "\n",
    "should_translate_to_english = file_name.startswith('polish')\n",
    "\n",
    "simplified_body_text = markdown_converter.textify_body(simplified_soup_body, should_translate_to_english)\n",
    "\n",
    "meta_tags_str = markdown_converter.textify_meta_tags(soup=soup, should_translate_to_english=should_translate_to_english)\n",
    "full_page_text_curr = f'{meta_tags_str}\\n\\n{simplified_body_text}'.strip()\n",
    "\n",
    "exec_time = time() - start\n",
    "\n",
    "# with open(f\"{file_name}.txt\", \"w\") as file:\n",
    "#     file.write(full_page_text_curr)\n",
    "\n",
    "# if not os.path.exists(f'results'):\n",
    "#     os.makedirs(f'results')\n",
    "# \n",
    "# max_input_size = get_max_input_size(model_max_input_size, prompt_desc_size, meta_tags_str, tokenizer)\n",
    "# print('max_input_size', max_input_size)\n",
    "\n",
    "# temps = [0.7]\n",
    "# for temp in temps:\n",
    "#     subdir_name = str(temp).replace('.', '_')\n",
    "#     if not os.path.exists(f'results/{subdir_name}'):\n",
    "#         os.makedirs(f'results/{subdir_name}')\n",
    "#     \n",
    "#     # if f'results/{dir_name}/{subdir_name}/part_{i}.json' in os.listdir(f'results/{dir_name}/{subdir_name}'):\n",
    "#     #     continue\n",
    "# \n",
    "#     print(f\"Temperature: {temp}\")\n",
    "# \n",
    "#     chat_gpt_prompt = f\"{prompt}\\n{full_page_text_curr}\"\n",
    "#     print(chat_gpt_prompt)\n",
    "# \n",
    "#     response = openai.ChatCompletion.create(\n",
    "#       model=\"gpt-3.5-turbo-16k\",\n",
    "#       temperature=temp,\n",
    "#       messages=[\n",
    "#         {\n",
    "#             \"role\": \"user\",\n",
    "#             \"content\": chat_gpt_prompt\n",
    "#         }\n",
    "#       ]\n",
    "#     )\n",
    "# \n",
    "#     # save the response to txt file\n",
    "#     with open(f'result.json', \"w\") as f:\n",
    "#         f.write(response['choices'][0]['message']['content'])\n",
    "\n",
    "# with open(f'simplified.txt', \"w\") as f:\n",
    "#     f.write(f'{meta_tags_str}\\n{simplified_body_text}')\n"
   ],
   "metadata": {
    "collapsed": false
   }
  },
  {
   "cell_type": "markdown",
   "source": [
    "## Get all features keys/names etc."
   ],
   "metadata": {
    "collapsed": false
   }
  },
  {
   "cell_type": "code",
   "execution_count": 19,
   "outputs": [
    {
     "name": "stdout",
     "output_type": "stream",
     "text": [
      "{'Earring Type': 'Drop Earrings'}\n",
      "{'Fine or Fashion': 'Fashion'}\n",
      "{'Item Type': 'Earrings'}\n",
      "{'Style': 'Trendy'}\n",
      "{'Metals Type': 'Copper'}\n",
      "{'Gender': 'Women'}\n",
      "{'Material': 'Cubic Zirconia'}\n",
      "{'Marka': 'Obsessive'}\n",
      "{'Kod producenta': '5901688221129'}\n",
      "{'Rozmiar': 'L/XL'}\n",
      "{'Kolor': 'Bordowy'}\n",
      "{'Nazwa dostawcy': 'Miamor figi kolor: bordowy L/XL'}\n",
      "{'Okazje': 'Dzień Kobiet'}\n",
      "{'Długość towaru w centymetrach': '15'}\n",
      "{'Szerokość towaru w centymetrach': '10'}\n",
      "{'Wysokość towaru w centymetrach': '7'}\n",
      "{'Suggested Age': '22 Years and Up'}\n",
      "{'Number of Pages': 320}\n",
      "{'Format': 'Hardcover'}\n",
      "{'Genre': 'Medical'}\n",
      "{'Sub-Genre': 'History'}\n",
      "{'Publisher': 'MIT Press'}\n",
      "{'Author': 'Mikkael A Sekeres'}\n",
      "{'Language': 'English'}\n",
      "{'Street Date': 'September 27, 2022'}\n",
      "{'TCIN': '86094342'}\n",
      "{'UPC': '9780262047319'}\n",
      "{'Item Number (DPCI)': '247-19-1506'}\n",
      "{'Origin': 'Made in the USA or Imported'}\n",
      "{'Release Date': '06/23/2015'}\n",
      "{'Label': 'Prophecy'}\n",
      "{'UPC': '0884388716315'}\n",
      "{'catalogNumber': '163'}\n",
      "{'Rank': 76940}\n",
      "{'wzór_dominujący': 'gładki'}\n",
      "{'materiał_dominujący': 'bawełna'}\n",
      "{'długość': 'długa'}\n",
      "{'rękaw': 'krótki rękaw'}\n",
      "{'dekolt': 'serek / dekolt V'}\n",
      "{'zapięcie': 'brak'}\n",
      "{'cechy_dodatkowe': 'print (nadruk), kieszenie'}\n",
      "{'Kolory': ['biały', 'miętowy & kwiaty']}\n",
      "{'Cechy': 'z kołnierzykiem typu kent'}\n",
      "{'Rozmiary': '34 - 46'}\n",
      "{'Size': [{'Recommended Age': '12-18 Months', 'Bust': \"53CM/20.8''\", 'Waist': \"53CM/20.8''\", 'Length': \"46CM/18.1''\"}, {'Recommended Age': '18-24 Months', 'Bust': '56CM/22.0‘’', 'Waist': \"56CM/22.0''\", 'Length': \"49CM/19.2''\"}, {'Recommended Age': '2-3 Years', 'Bust': '59CM/23.2‘’', 'Waist': '59CM/23.2‘’', 'Length': \"51CM/20.0''\"}, {'Recommended Age': '3-4 Years', 'Bust': \"61CM/24.0''\", 'Waist': \"61CM/24.0''\", 'Length': \"54CM/21.2''\"}, {'Recommended Age': '4-5 Years', 'Bust': \"64CM/25.1''\", 'Waist': \"64CM/25.1''\", 'Length': \"56CM/22.0''\"}]}\n",
      "{'Package include': '1PC Dress+1PC Headband'}\n",
      "{'Size Chart': 'For non US buyers\\n\\nProducts are listed in US Sizes'}\n",
      "{'Platform': 'Sony PlayStation 1'}\n",
      "{'Release Year': '2000'}\n",
      "{'Game Name': 'Alien Resurrection'}\n",
      "{'Genre': 'Shooter'}\n",
      "{'ESRB Descriptor': 'Animated Blood & Gore, Animated Violence'}\n",
      "{'ESRB Rating': 'M - Mature'}\n",
      "{'Game Name Special Features': ['Navigate Ellen Ripley and her team through the close quartered Auriga in an effort to destroy the alien queen', 'Blast on the enemy with pulse rifles, flamethrowers, electric guns, and grenade launchers', 'Defend your party as the aliens attack you from the ground, the ceiling, and from the wall']}\n",
      "{'Control Elements': 'Gamepad/Joystick'}\n",
      "{'Number of Players': '1'}\n",
      "{'Location': 'USA'}\n",
      "{'Fine or Fashion': 'Fashion'}\n",
      "{'Item Type': 'Rings'}\n",
      "{'Style': 'Trendy'}\n",
      "{'Rings Type': 'Wedding Bands'}\n",
      "{'Metals Type': 'Copper'}\n",
      "{'Material': 'Crystal'}\n",
      "{'Occasion': 'Party'}\n",
      "{'Gender': 'Women'}\n",
      "{'Main stone': 'Crystal'}\n",
      "{'Plating': 'Rose gold color'}\n",
      "{'Fit and style': 'Regular fit'}\n",
      "{'Features': {'Better Cotton Initiative': 'M&S is proud to invest in making cotton production more sustainable. Better Cotton is sourced through a system of Mass Balance. Find out more'}}\n",
      "{'Composition': '100% cotton (exclusive of trimmings)'}\n",
      "{'Care': ['Wash at 40°C delicate', 'Do not bleach', 'Tumble dry medium temperature', 'Iron at medium temperature', 'Do not dry clean']}\n",
      "{'Kolor': 'Różowy'}\n",
      "{'Materiał wykonania': '100% poliester'}\n",
      "{'Wzór': 'gładki'}\n",
      "{'Kształt': 'prostokątny'}\n",
      "{'Rodzaj runa': 'shaggy'}\n",
      "{'Wysokość runa, gąbki, futra': 30}\n"
     ]
    }
   ],
   "source": [
    "all_features = {}\n",
    "\n",
    "for name in os.listdir('results'):\n",
    "    with open(f'results/{name}/0_7/part_0.json', \"r\") as file:\n",
    "        data = json.load(file)\n",
    "    \n",
    "    if 'product_features_and_specifications' not in data and \"product_features_specifications\" not in data and 'product_features' not in data:\n",
    "        print(f'features has some other name for {name}')\n",
    "        \n",
    "    features = data['product_features_and_specifications'] if 'product_features_and_specifications' in data else (data['product_features_specifications'] if 'product_features_specifications' in data else data['product_features'])\n",
    "    \n",
    "    for elem in features:\n",
    "        if 'feature' in elem:\n",
    "            key = elem['feature']\n",
    "        elif 'feature_name' in elem:\n",
    "            key = elem['feature_name']\n",
    "        elif 'name' in elem:\n",
    "            key = elem['name']\n",
    "        else:\n",
    "            print(elem)\n",
    "            key = list(elem.keys())[0]\n",
    "            \n",
    "        all_features[key] = all_features.get(key, 0) + 1"
   ],
   "metadata": {
    "collapsed": false,
    "ExecuteTime": {
     "end_time": "2023-08-30T14:23:33.297767471Z",
     "start_time": "2023-08-30T14:23:33.249995595Z"
    }
   }
  },
  {
   "cell_type": "code",
   "execution_count": 21,
   "outputs": [],
   "source": [
    "import pandas as pd\n",
    "\n",
    "df = pd.DataFrame.from_dict(all_features, orient='index', columns=['count']).sort_values(by='count', ascending=False)"
   ],
   "metadata": {
    "collapsed": false,
    "ExecuteTime": {
     "end_time": "2023-08-30T14:23:44.777631185Z",
     "start_time": "2023-08-30T14:23:44.762086256Z"
    }
   }
  },
  {
   "cell_type": "code",
   "execution_count": 22,
   "outputs": [
    {
     "data": {
      "text/plain": "                             count\nMaterial                        13\ncategory                        11\nMateriał                        10\nColor                           10\nKolor                            8\n...                            ...\nMattress size                    1\nBed size                         1\nBag size                         1\nCrafted from                     1\nWysokość runa, gąbki, futra      1\n\n[272 rows x 1 columns]",
      "text/html": "<div>\n<style scoped>\n    .dataframe tbody tr th:only-of-type {\n        vertical-align: middle;\n    }\n\n    .dataframe tbody tr th {\n        vertical-align: top;\n    }\n\n    .dataframe thead th {\n        text-align: right;\n    }\n</style>\n<table border=\"1\" class=\"dataframe\">\n  <thead>\n    <tr style=\"text-align: right;\">\n      <th></th>\n      <th>count</th>\n    </tr>\n  </thead>\n  <tbody>\n    <tr>\n      <th>Material</th>\n      <td>13</td>\n    </tr>\n    <tr>\n      <th>category</th>\n      <td>11</td>\n    </tr>\n    <tr>\n      <th>Materiał</th>\n      <td>10</td>\n    </tr>\n    <tr>\n      <th>Color</th>\n      <td>10</td>\n    </tr>\n    <tr>\n      <th>Kolor</th>\n      <td>8</td>\n    </tr>\n    <tr>\n      <th>...</th>\n      <td>...</td>\n    </tr>\n    <tr>\n      <th>Mattress size</th>\n      <td>1</td>\n    </tr>\n    <tr>\n      <th>Bed size</th>\n      <td>1</td>\n    </tr>\n    <tr>\n      <th>Bag size</th>\n      <td>1</td>\n    </tr>\n    <tr>\n      <th>Crafted from</th>\n      <td>1</td>\n    </tr>\n    <tr>\n      <th>Wysokość runa, gąbki, futra</th>\n      <td>1</td>\n    </tr>\n  </tbody>\n</table>\n<p>272 rows × 1 columns</p>\n</div>"
     },
     "execution_count": 22,
     "metadata": {},
     "output_type": "execute_result"
    }
   ],
   "source": [
    "df"
   ],
   "metadata": {
    "collapsed": false,
    "ExecuteTime": {
     "end_time": "2023-08-30T14:23:45.539230717Z",
     "start_time": "2023-08-30T14:23:45.520025111Z"
    }
   }
  }
 ],
 "metadata": {
  "kernelspec": {
   "display_name": "Python 3",
   "language": "python",
   "name": "python3"
  },
  "language_info": {
   "codemirror_mode": {
    "name": "ipython",
    "version": 2
   },
   "file_extension": ".py",
   "mimetype": "text/x-python",
   "name": "python",
   "nbconvert_exporter": "python",
   "pygments_lexer": "ipython2",
   "version": "2.7.6"
  }
 },
 "nbformat": 4,
 "nbformat_minor": 0
}
