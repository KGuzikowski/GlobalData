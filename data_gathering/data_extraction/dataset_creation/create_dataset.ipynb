{
 "cells": [
  {
   "cell_type": "code",
   "execution_count": 1,
   "outputs": [],
   "source": [
    "import re\n",
    "\n",
    "import openai\n",
    "import os\n",
    "import json\n",
    "\n",
    "import pandas as pd\n",
    "from markdownify import ATX, BACKSLASH\n",
    "from transformers import T5TokenizerFast\n",
    "from bs4 import BeautifulSoup, Tag\n",
    "\n",
    "from data_gathering.data_extraction.utils import get_binary_dicts_templates\n",
    "from data_gathering.data_extraction.tree_modification import simplify_body, create_meta_tags_texifier\n",
    "from data_gathering.data_extraction.html2markdown import create_md"
   ],
   "metadata": {
    "collapsed": false,
    "ExecuteTime": {
     "end_time": "2023-10-19T14:29:26.773046545Z",
     "start_time": "2023-10-19T14:29:22.934002394Z"
    }
   }
  },
  {
   "cell_type": "code",
   "execution_count": 2,
   "outputs": [],
   "source": [
    "from dotenv import load_dotenv\n",
    "\n",
    "load_dotenv()\n",
    "\n",
    "API_KEY = os.getenv('OPEN_AI_API_KEY')\n",
    "\n",
    "openai.api_key = API_KEY"
   ],
   "metadata": {
    "collapsed": false,
    "ExecuteTime": {
     "end_time": "2023-10-17T15:00:23.244031367Z",
     "start_time": "2023-10-17T15:00:23.193897599Z"
    }
   }
  },
  {
   "cell_type": "code",
   "execution_count": 3,
   "outputs": [],
   "source": [
    "tokenizer = T5TokenizerFast.from_pretrained(\"google/flan-t5-base\")"
   ],
   "metadata": {
    "collapsed": false,
    "ExecuteTime": {
     "end_time": "2023-10-17T15:00:23.590847237Z",
     "start_time": "2023-10-17T15:00:23.215139418Z"
    }
   }
  },
  {
   "cell_type": "code",
   "execution_count": 4,
   "outputs": [],
   "source": [
    "with open(\"../dataset_creation_config.json\", \"r\") as file:\n",
    "    config = json.load(file)\n",
    "\n",
    "tags_to_include = set(config[\"tags\"])\n",
    "text_formatting_tags = set(config[\"text_formatting_tags\"])\n",
    "abbreviations = config[\"abbreviations\"]\n",
    "meta_values = config[\"meta_values\"]\n",
    "(\n",
    "    available_tags_binary_dict,\n",
    "    available_attributes_values_binary_dict,\n",
    ") = get_binary_dicts_templates(config)"
   ],
   "metadata": {
    "collapsed": false,
    "ExecuteTime": {
     "end_time": "2023-10-17T15:00:23.618962161Z",
     "start_time": "2023-10-17T15:00:23.595966556Z"
    }
   }
  },
  {
   "cell_type": "code",
   "execution_count": 5,
   "outputs": [],
   "source": [
    "class_id_to_exclude = [\n",
    "    \"nav\",\n",
    "    \"tooltip\",\n",
    "    \"banner\",\n",
    "    \"footer\",\n",
    "    \"shipping\",\n",
    "    \"popup\",\n",
    "    \"checkout\",\n",
    "    \"payments\",\n",
    "    \"returns\",\n",
    "    \"delivery\",\n",
    "    \"support\",\n",
    "    \"warranty\",\n",
    "    \"privacy\",\n",
    "    \"benefit\",\n",
    "    \"sign-in\",\n",
    "    \"sign-up\",\n",
    "    \"login\",\n",
    "    \"password\",\n",
    "    \"add-to-cart\",\n",
    "    \"announcement\",\n",
    "    \"notification\",\n",
    "    \"wishlist\",\n",
    "    \"social\",\n",
    "    \"json\",\n",
    "    \"alert\",\n",
    "    \"disclaimer\",\n",
    "    \"contact\",\n",
    "    \"cookies\",\n",
    "    \"newsletter\",\n",
    "    \"basket\",\n",
    "    \"askforproduct\",\n",
    "    \"ask-about-product\",\n",
    "    \"mobile-header\",\n",
    "    \"header-menu\",\n",
    "    \"customer\"\n",
    "]"
   ],
   "metadata": {
    "collapsed": false,
    "ExecuteTime": {
     "end_time": "2023-10-17T15:00:23.619457841Z",
     "start_time": "2023-10-17T15:00:23.602901583Z"
    }
   }
  },
  {
   "cell_type": "code",
   "execution_count": 6,
   "outputs": [],
   "source": [
    "def join_tags(elems, tag_name):\n",
    "    html = \"\"\n",
    "\n",
    "    for partial_html, _ in elems:\n",
    "        html += partial_html\n",
    "\n",
    "    html = f\"<{tag_name}>{html}</{tag_name}>\"\n",
    "\n",
    "    return html\n",
    "\n",
    "def join_as_many_tags_as_possible(parts, max_size: int, tag_name=\"body\"):\n",
    "    final = []\n",
    "    temp = []\n",
    "    curr_len = 0\n",
    "\n",
    "    for part, size in parts:\n",
    "        if temp:\n",
    "            if curr_len + size <= max_size:\n",
    "                temp.append((part, size))\n",
    "                curr_len += size\n",
    "            else:\n",
    "                final.append((join_tags(temp, tag_name), curr_len))\n",
    "                temp = [(part, size)]\n",
    "                curr_len = size\n",
    "        else:\n",
    "            temp = [(part, size)]\n",
    "            curr_len = size\n",
    "\n",
    "    if temp:\n",
    "        final.append((join_tags(temp, tag_name), curr_len))\n",
    "\n",
    "    return final\n",
    "\n",
    "def divide_html_version(soup, transform_html_func, max_size):\n",
    "    text = tokenizer(transform_html_func(soup)).input_ids\n",
    "    size = len(text)\n",
    "\n",
    "    if size <= max_size:\n",
    "        return str(soup), size\n",
    "\n",
    "    parts = []\n",
    "\n",
    "    for elem in soup.contents:\n",
    "        res = divide_html_version(soup=elem, transform_html_func=transform_html_func, max_size=max_size) if isinstance(elem, Tag) else (str(elem), len(tokenizer(str(elem)).input_ids))\n",
    "\n",
    "        if res is None:\n",
    "            return None\n",
    "        elif isinstance(res, list):\n",
    "            parts += res\n",
    "        else:\n",
    "            parts.append(res)\n",
    "\n",
    "    return join_as_many_tags_as_possible(parts=parts, max_size=max_size, tag_name=soup.name)"
   ],
   "metadata": {
    "collapsed": false,
    "ExecuteTime": {
     "end_time": "2023-10-17T15:00:23.658733411Z",
     "start_time": "2023-10-17T15:00:23.606329244Z"
    }
   }
  },
  {
   "cell_type": "code",
   "execution_count": 7,
   "outputs": [],
   "source": [
    "def get_max_input_size(model_max_input_size: int, prompt_desc_size: int, header_md: str, tokenizer: T5TokenizerFast) -> int:\n",
    "    return model_max_input_size - prompt_desc_size - len(tokenizer(header_md).input_ids)"
   ],
   "metadata": {
    "collapsed": false,
    "ExecuteTime": {
     "end_time": "2023-10-17T15:00:23.659218245Z",
     "start_time": "2023-10-17T15:00:23.632774479Z"
    }
   }
  },
  {
   "cell_type": "code",
   "execution_count": 8,
   "outputs": [],
   "source": [
    "# prompt = \"\"\"\n",
    "# The text given below was extracted from a product website page. Extract the following product information from the text:\n",
    "# - title - a string\n",
    "# - brand - a string\n",
    "# - current price - a number\n",
    "# - old price - a number\n",
    "# - currency - a string\n",
    "# - product features and specifications - returns all product features and specifications included in text, those could be for example but not necessarily materials, design, genres, model, labels and other things like that. Return a list of dictionaries containing present product features and specifications. Each dictionary should contain the feature name and its value (string or array), split features into separate points, do not provide a description\n",
    "# - short description - a string as a meaningful short description of the product\n",
    "# - available colors - a  list of strings\n",
    "# - available size variants - a list of strings. Don't include any dimensions, quantity, and size table information information. If products come in only one universal size return word default.\n",
    "# - product categories - a list of strings. Use categories from the text to come up with your own categories. If no information is provided in the text create your own categories. Try to be as general and also precise as possible.\n",
    "# - customer ratings - a dictionary with the average rating and each separate rating with their number (if that information is strictly provided)\n",
    "# - customer reviews - return all customer reviews (opinions) as a list of strings\n",
    "# - similar or related products - a list of strings consisting of similar products\n",
    "# - products recommended for me - a list of strings consisting of products recommended for me\n",
    "# Don't return any size table information or delivery information.\n",
    "# Never guess unless you're asked to, if there's no information return: null.\n",
    "# Return only a proper JSON format using snake case for properties. The text:\n",
    "# \"\"\""
   ],
   "metadata": {
    "collapsed": false,
    "ExecuteTime": {
     "end_time": "2023-10-17T15:00:23.718822043Z",
     "start_time": "2023-10-17T15:00:23.640267469Z"
    }
   }
  },
  {
   "cell_type": "code",
   "execution_count": 9,
   "outputs": [],
   "source": [
    "prompt = \"\"\"\n",
    "The text given below was extracted from a product website page. Extract the following product information from the text:\n",
    "- title - a string\n",
    "- brand - a string\n",
    "- current price - a number\n",
    "- old price - a number\n",
    "- currency - a string\n",
    "- product features and specifications - returns all product features and specifications included in text and relevant to the product itself (describing it). Return a list of dictionaries containing present product features and specifications. Each dictionary should contain the feature name as \"feature\" and its value as \"value\". The important thing is that you must provide all the features and specifications you can find. Split features into separate points. Remember to never provide a description. Name this field \"product_features\".\n",
    "- short description - a string as a meaningful short description of the product\n",
    "- available colors - a  list of strings\n",
    "- available size variants - a list of strings. Don't ever include any product dimensions, quantity, and size table information information. If products come in only one universal size return a word (string) default.\n",
    "- product categories - a list of strings. Use categories from the text to come up with your own categories. If no information is provided in the text create your own categories. Try to be as general and precise as possible. Remember, this field must always be provided.\n",
    "- customer ratings - a dictionary with the average rating and each separate rating with their number (if that information is strictly provided otherwise if each rating with a number is not provided return only the mean rating and overall number of ratings)\n",
    "- customer reviews - return all customer reviews (opinions) as a list of strings\n",
    "- similar or related products - a list of strings consisting of similar products\n",
    "- products recommended for me - a list of strings consisting of products recommended for me\n",
    "Don't return any size table information or delivery information. Return each number as a number, not a string.\n",
    "Never guess unless you're asked to, if there's no information return: null.\n",
    "Return only a proper JSON format using snake case for properties. The text:\n",
    "\"\"\""
   ],
   "metadata": {
    "collapsed": false,
    "ExecuteTime": {
     "end_time": "2023-10-17T15:00:23.719184023Z",
     "start_time": "2023-10-17T15:00:23.684420664Z"
    }
   }
  },
  {
   "cell_type": "code",
   "execution_count": 10,
   "outputs": [],
   "source": [
    "input = tokenizer(prompt)\n",
    "prompt_desc_size = len(input.input_ids)"
   ],
   "metadata": {
    "collapsed": false,
    "ExecuteTime": {
     "end_time": "2023-10-17T15:00:23.719387843Z",
     "start_time": "2023-10-17T15:00:23.684755096Z"
    }
   }
  },
  {
   "cell_type": "code",
   "execution_count": 11,
   "outputs": [
    {
     "data": {
      "text/plain": "474"
     },
     "execution_count": 11,
     "metadata": {},
     "output_type": "execute_result"
    }
   ],
   "source": [
    "prompt_desc_size"
   ],
   "metadata": {
    "collapsed": false,
    "ExecuteTime": {
     "end_time": "2023-10-17T15:00:23.724039334Z",
     "start_time": "2023-10-17T15:00:23.685038580Z"
    }
   }
  },
  {
   "cell_type": "code",
   "execution_count": 12,
   "outputs": [],
   "source": [
    "model_max_input_size = 16384"
   ],
   "metadata": {
    "collapsed": false,
    "ExecuteTime": {
     "end_time": "2023-10-17T15:00:23.728599735Z",
     "start_time": "2023-10-17T15:00:23.685697788Z"
    }
   }
  },
  {
   "cell_type": "code",
   "execution_count": 13,
   "outputs": [],
   "source": [
    "# from transformers import pipeline\n",
    "# \n",
    "# translator = pipeline(\"translation\", model=\"Helsinki-NLP/opus-mt-pl-en\")"
   ],
   "metadata": {
    "collapsed": false,
    "ExecuteTime": {
     "end_time": "2023-10-17T15:00:23.729011580Z",
     "start_time": "2023-10-17T15:00:23.686433688Z"
    }
   }
  },
  {
   "cell_type": "code",
   "execution_count": 2,
   "outputs": [],
   "source": [
    "from transformers import pipeline, Pipeline, MarianMTModel, AutoTokenizer\n",
    "\n",
    "src = \"pl\"  # source language\n",
    "trg = \"en\"  # target language\n",
    "\n",
    "model_name = f\"Helsinki-NLP/opus-mt-{src}-{trg}\"\n",
    "model = MarianMTModel.from_pretrained(model_name)\n",
    "tokenizer = AutoTokenizer.from_pretrained(model_name)\n",
    "\n",
    "# translator = pipeline(\"translation\", model=\"Helsinki-NLP/opus-mt-pl-en\")"
   ],
   "metadata": {
    "collapsed": false,
    "ExecuteTime": {
     "end_time": "2023-10-19T14:29:30.716159721Z",
     "start_time": "2023-10-19T14:29:26.768303971Z"
    }
   }
  },
  {
   "cell_type": "code",
   "execution_count": 12,
   "outputs": [],
   "source": [
    "def translate(text):\n",
    "    batch = tokenizer(text, return_tensors=\"pt\", padding=True)\n",
    "    generated_ids = model.generate(**batch, max_length=512, num_beams=1)\n",
    "    print(generated_ids)\n",
    "    return tokenizer.batch_decode(generated_ids)"
   ],
   "metadata": {
    "collapsed": false,
    "ExecuteTime": {
     "end_time": "2023-10-19T14:30:47.287881804Z",
     "start_time": "2023-10-19T14:30:47.256795820Z"
    }
   }
  },
  {
   "cell_type": "code",
   "execution_count": 13,
   "outputs": [],
   "source": [
    "import regex\n",
    "unicode_letters_re = regex.compile(r'\\p{L}+')"
   ],
   "metadata": {
    "collapsed": false,
    "ExecuteTime": {
     "end_time": "2023-10-19T14:30:47.740768157Z",
     "start_time": "2023-10-19T14:30:47.620256563Z"
    }
   }
  },
  {
   "cell_type": "code",
   "execution_count": 14,
   "outputs": [],
   "source": [
    "from nltk.tokenize import sent_tokenize"
   ],
   "metadata": {
    "collapsed": false,
    "ExecuteTime": {
     "end_time": "2023-10-19T14:30:47.934888432Z",
     "start_time": "2023-10-19T14:30:47.868154431Z"
    }
   }
  },
  {
   "cell_type": "code",
   "execution_count": 15,
   "outputs": [],
   "source": [
    "text = \"Życie nigdy się nie kończy – przygotuj się zatem na ciąg dalszy. Zasilany twoją energią zegarek z widocznym mechanizmem Mads Dante dopasuje się do ciebie, tempo do tempa. Zrób dziś to, czego inni nie zrobią. Dzięki temu jutro będziesz mógł zrobić to, czego inni nie mogą. Dzięki szkieletowej tarczy i wystawowemu dekielkowi będziesz mieć miejsce w pierwszym rzędzie w samym sercu zegarka. Dzięki wytrzymałemu kryształowi szafiru nie musisz się martwić zadrapaniami. Ten męski zegarek wykorzystuje energię poprzez naturalny ruch twojego nadgarstka lub można go ręcznie nakręcić. Oznacza to, że już nigdy nie kupisz (i będziesz miał trudności z włożeniem) baterii do zegarka… pozostawiając sobie więcej czasu na wykorzystanie tej chwili. Wykonany z odpornej na rdzę stali nierdzewnej w złocistym odcieniu z pasującą czarno-złocistą bransoletą ze stali nierdzewnej. Mechanizm jest w kolorze szarym i chroniony mocnym szafirowym kryształem. Zaprojektowany w Danii i wysyłany w charakterystycznym pudełku upominkowym.\""
   ],
   "metadata": {
    "collapsed": false,
    "ExecuteTime": {
     "end_time": "2023-10-19T14:30:48.261597918Z",
     "start_time": "2023-10-19T14:30:48.231522017Z"
    }
   }
  },
  {
   "cell_type": "code",
   "execution_count": 17,
   "outputs": [
    {
     "name": "stdout",
     "output_type": "stream",
     "text": [
      "tensor([[63429,  7157,   522, 10126,    15,     0]])\n"
     ]
    },
    {
     "data": {
      "text/plain": "['<pad> Life never ends </s>']"
     },
     "execution_count": 17,
     "metadata": {},
     "output_type": "execute_result"
    }
   ],
   "source": [
    "translate(text)"
   ],
   "metadata": {
    "collapsed": false,
    "ExecuteTime": {
     "end_time": "2023-10-19T14:33:54.377632429Z",
     "start_time": "2023-10-19T14:33:54.152121961Z"
    }
   }
  },
  {
   "cell_type": "code",
   "execution_count": 206,
   "outputs": [
    {
     "data": {
      "text/plain": "['Życie nigdy się nie kończy – przygotuj się zatem na ciąg dalszy.',\n 'Zasilany twoją energią zegarek z widocznym mechanizmem Mads Dante dopasuje się do ciebie, tempo do tempa.',\n 'Zrób dziś to, czego inni nie zrobią.',\n 'Dzięki temu jutro będziesz mógł zrobić to, czego inni nie mogą.',\n 'Dzięki szkieletowej tarczy i wystawowemu dekielkowi będziesz mieć miejsce w pierwszym rzędzie w samym sercu zegarka.',\n 'Dzięki wytrzymałemu kryształowi szafiru nie musisz się martwić zadrapaniami.',\n 'Ten męski zegarek wykorzystuje energię poprzez naturalny ruch twojego nadgarstka lub można go ręcznie nakręcić.',\n 'Oznacza to, że już nigdy nie kupisz (i będziesz miał trudności z włożeniem) baterii do zegarka… pozostawiając sobie więcej czasu na wykorzystanie tej chwili.',\n 'Wykonany z odpornej na rdzę stali nierdzewnej w złocistym odcieniu z pasującą czarno-złocistą bransoletą ze stali nierdzewnej.',\n 'Mechanizm jest w kolorze szarym i chroniony mocnym szafirowym kryształem.',\n 'Zaprojektowany w Danii i wysyłany w charakterystycznym pudełku upominkowym.']"
     },
     "execution_count": 206,
     "metadata": {},
     "output_type": "execute_result"
    }
   ],
   "source": [
    "sent_tokenize(text)"
   ],
   "metadata": {
    "collapsed": false,
    "ExecuteTime": {
     "end_time": "2023-10-17T19:13:36.252081407Z",
     "start_time": "2023-10-17T19:13:36.229937718Z"
    }
   }
  },
  {
   "cell_type": "code",
   "execution_count": 207,
   "outputs": [
    {
     "data": {
      "text/plain": "[{'translation_text': 'Life will never end, therefore, prepare yourself for the continuation. With your energy-powered watch with the visible Mads Dante mechanism, you will fit into your pace. Do what others will not do today. This will allow you to do what others cannot do tomorrow. Thanks to your skeletal shield and display decelebrity you will have a place in the first row in the heart of the watch. Thanks to the durable sapphire crystal you do not have to worry about scratching. This male watch uses energy through the natural movement of your wrist or can manually film it. This means that you will never buy (and you will have difficulty putting) a battery into your watch... leaving yourself more time to use this moment. Made of rust-resistant stainless steel in a golden shade with a matching black-golden stainless steel bracelet. The mechanism is in grey color and protected by a strong sapphire crystal. Designed in Denmark and sent in a natural gift box.'}]"
     },
     "execution_count": 207,
     "metadata": {},
     "output_type": "execute_result"
    }
   ],
   "source": [
    "translator([text], max_length=512, num_beams=2)"
   ],
   "metadata": {
    "collapsed": false,
    "ExecuteTime": {
     "end_time": "2023-10-17T19:13:41.922207168Z",
     "start_time": "2023-10-17T19:13:36.700537547Z"
    }
   }
  },
  {
   "cell_type": "code",
   "execution_count": 199,
   "outputs": [],
   "source": [
    "from typing import Callable, Dict, List\n",
    "\n",
    "from bs4 import Tag\n",
    "from markdownify import MarkdownConverter\n",
    "from transformers import Pipeline\n",
    "import regex\n",
    "\n",
    "from data_gathering.data_extraction.html_features import get_attributes_values\n",
    "\n",
    "class TranslationBatchingException(Exception):\n",
    "    pass\n",
    "\n",
    "class MissingTranslationTextException(Exception):\n",
    "    pass\n",
    "\n",
    "class HtmlAttrsAndTranslationMarkdownConverter(MarkdownConverter):\n",
    "    def __init__(\n",
    "        self,\n",
    "        abbreviations: Dict[str, str],\n",
    "        translation_pipeline: Pipeline,\n",
    "        **kwargs,\n",
    "    ):\n",
    "        super().__init__(**kwargs)\n",
    "        self.abbreviations = abbreviations\n",
    "        self.translation_pipeline = translation_pipeline\n",
    "        self.should_translate_to_english = False\n",
    "        self.text_lines_to_translate = []\n",
    "    \n",
    "    def __call__(self, soup: Tag, should_translate_to_english: bool = False):\n",
    "        self._reset(should_translate_to_english)\n",
    "        \n",
    "        result = self.convert_soup(soup)\n",
    "    \n",
    "        if not self.should_translate_to_english:\n",
    "            return result\n",
    "        \n",
    "        if not self.text_lines_to_translate:\n",
    "            raise MissingTranslationTextException('No text to translate')\n",
    "\n",
    "        translated_text = self.translation_pipeline(self.text_lines_to_translate, max_length=512, num_beams=1)\n",
    "        \n",
    "        # for elem in zip(self.text_lines_to_translate, translated_text):\n",
    "        #     # result = result.replace('{}', elem[1], 1)\n",
    "        #     print(elem[0])\n",
    "        #     print(elem[1]['translation_text'])\n",
    "        #     print()\n",
    "        #     print('-'*30)\n",
    "        #     print()\n",
    "        \n",
    "        return result.format(*self._extract_all_translations(translated_text))\n",
    "    \n",
    "    def _reset(self, should_translate_to_english: bool = False):\n",
    "        self.should_translate_to_english = should_translate_to_english\n",
    "        self.text_lines_to_translate = []\n",
    "    \n",
    "    def _extract_all_translations(self, translations: List[Dict[str, str]]) -> List[str]:\n",
    "        return [elem['translation_text'] for elem in translations]\n",
    "    \n",
    "    def _batch_translation_text(self) -> List[str]:\n",
    "        \"\"\"\n",
    "        From the list of text lines to translate, create batches of text lines to translate.\n",
    "        Add as much text as you can to the batch, but don't exceed the max input size.\n",
    "        Each text line is split by ` [TS] ` (translation separator) token and spaces around it.\n",
    "        \"\"\"\n",
    "        batch = []\n",
    "        \n",
    "        for line in self.text_lines_to_translate:                \n",
    "            if len(batch) == 0:\n",
    "                text_ids = self.tokenizer(line, return_tensors=\"pt\")['input_ids']\n",
    "                batch.append([line, text_ids.shape[1]])\n",
    "            else:\n",
    "                text = ' <T> ' + line\n",
    "                text_ids = self.tokenizer(text, return_tensors=\"pt\")['input_ids']\n",
    "                text_len = text_ids.shape[1]\n",
    "                \n",
    "                if text_len + batch[-1][1] > self.translation_model.config.max_length:\n",
    "                    batch.append([line, text_len])\n",
    "                else:\n",
    "                    batch[-1][0] += text\n",
    "                    batch[-1][1] += text_len\n",
    "                    \n",
    "        return [elem[0] for elem in batch]\n",
    "\n",
    "    def convert_soup(self, soup: Tag) -> str:\n",
    "        return self.process_tag(\n",
    "            soup,\n",
    "            convert_as_inline=False,\n",
    "            children_only=True,\n",
    "        )\n",
    "\n",
    "    def process_tag(self, node: Tag, convert_as_inline: bool, children_only: bool = False) -> str:\n",
    "        attrs_words = get_attributes_values(node, self.abbreviations)\n",
    "        start = \" \".join(attrs_words)\n",
    "\n",
    "        text = super().process_tag(node, convert_as_inline, children_only)\n",
    "\n",
    "        if start:\n",
    "            return f\"\\n- {start}:\\n{text}\"\n",
    "        \n",
    "        return text\n",
    "\n",
    "    def process_text(self, el: Tag):\n",
    "        text = super().process_text(el)\n",
    "        \n",
    "        if self.should_translate_to_english and text and bool(regex.findall(unicode_letters_re, text.strip())):\n",
    "            self.text_lines_to_translate.append(text)\n",
    "            return '{}'\n",
    "        \n",
    "        return text.strip()\n",
    "    "
   ],
   "metadata": {
    "collapsed": false,
    "ExecuteTime": {
     "end_time": "2023-10-17T19:09:19.217146894Z",
     "start_time": "2023-10-17T19:09:19.200855316Z"
    }
   }
  },
  {
   "cell_type": "code",
   "execution_count": 200,
   "outputs": [],
   "source": [
    "md = HtmlAttrsAndTranslationMarkdownConverter(\n",
    "    abbreviations=abbreviations,\n",
    "    translation_pipeline=translator,\n",
    "    heading_style=ATX,\n",
    "    newline_style=BACKSLASH\n",
    ")"
   ],
   "metadata": {
    "collapsed": false,
    "ExecuteTime": {
     "end_time": "2023-10-17T19:09:21.353442928Z",
     "start_time": "2023-10-17T19:09:21.334282559Z"
    }
   }
  },
  {
   "cell_type": "code",
   "execution_count": 201,
   "outputs": [],
   "source": [
    "# textify_meta_tags = create_meta_tags_texifier(\n",
    "#     meta_acceptable_values=meta_values,\n",
    "#     translator=translator,\n",
    "#     extract_translation=extract_translation,\n",
    "# )"
   ],
   "metadata": {
    "collapsed": false,
    "ExecuteTime": {
     "end_time": "2023-10-17T19:09:21.813213305Z",
     "start_time": "2023-10-17T19:09:21.789279389Z"
    }
   }
  },
  {
   "cell_type": "code",
   "execution_count": 202,
   "outputs": [],
   "source": [
    "file_name = \"polish_trendhim_1602.html\"\n",
    "\n",
    "with open(f\"../web_pages/all_domains/pages/{file_name}\", \"r\") as file:\n",
    "    html = file.read()\n",
    "\n",
    "soup = BeautifulSoup(html, \"html.parser\")\n",
    "\n",
    "simplified_soup_body = simplify_body(\n",
    "    soup=soup.body,\n",
    "    text_formatting_tags=text_formatting_tags,\n",
    "    tags_to_include=tags_to_include,\n",
    "    class_id_to_exclude=class_id_to_exclude,\n",
    ")\n",
    "\n",
    "should_translate_to_english = file_name.startswith('polish')\n",
    "\n",
    "simplified_body_text = md(simplified_soup_body, should_translate_to_english)"
   ],
   "metadata": {
    "collapsed": false,
    "ExecuteTime": {
     "end_time": "2023-10-17T19:09:46.651732126Z",
     "start_time": "2023-10-17T19:09:22.221743132Z"
    }
   }
  },
  {
   "cell_type": "code",
   "execution_count": 203,
   "outputs": [
    {
     "data": {
      "text/plain": "'\\n- full store view product page:\\n\\n- wrapper main currency page:\\n\\n- header:\\n\\n- main header wrap:\\n\\n- main header:\\n\\n- main header wrap:\\n\\n- main header wrap:\\n\\n- text icon header:\\nWishlist\\n- include wrap cart header:\\n\\n- text icon header:\\nBasket\\n- wrapper main content:\\n\\n- main content:\\n\\n- main:\\n\\n- breadcrumb_list wrap:\\n\\n- wrap list element list_item item:\\n\\n- name:\\nWatches\\n- last crumb list wrap element list_item item:\\n\\n- line split:\\n/\\n- name:\\nHand watches\\n- gallery wrap:\\n\\n- gallery:\\n\\n- gallery wrap:\\n\\n- gallery list:\\n\\n- content gallery list:\\n\\n- gallery content list slider thumb:\\n\\n- content list slider gallery item thumb video:\\n\\n- icon outer wrap:\\nFilm\\n- gallery bottom:\\n\\n- hidden gallery good full:\\n\\n- gallery full:\\n\\n- zoom reset:\\nZoom in\\n- gallery bottom:\\n\\n- wrap:\\n\\n- wrap brand:\\n\\n- price wrap title:\\n\\n- main product title:\\n# Mads Dante I ed.\\n\\n\\n- price wrap product title:\\n\\n- price wrap:\\n\\n- price product piece:\\n999 zł\\n- section wrap list sale cross:\\n\\n- wrap list sale more cross:\\n\\n- personal wrap list sale cross print offer:\\n\\n- left side:\\n\\n- product title:\\nPrint Personal Image\\n- right side:\\n+\\n- price product:\\n79 zł\\n- personal wrap list sale cross print offer:\\n\\n- left side:\\n\\n- product title:\\nPersonal Engraver\\n- right side:\\n+\\n- price product:\\n55 zł\\n- wrap list sale cross item:\\n\\n- left side:\\nGift-ready packaging\\n- right side:\\n+\\n- price product:\\n16 zł\\n- wrap list sale cross item:\\n\\n- left side:\\nJewelry cleaning and polishing cloth\\n- right side:\\n+\\n- price product:\\n16 zł\\n- wrap list sale cross item:\\n\\n- left side:\\nBracelet and Watch Cell Removal Tool\\n- right side:\\n+\\n- price product:\\n19 zł\\n- wrap list sale cross item:\\n\\n- left side:\\nBlack Traveler\\'s Watch Case\\n- right side:\\n+\\n- price product:\\n45 zł\\n- wrap list sale cross item:\\n\\n- left side:\\nBlack Travel Case for Cliff Watch\\n- right side:\\n+\\n- price product:\\n79 zł\\n- wrap list sale cross item:\\n\\n- left side:\\nRound box with black leather for 3 watches\\n- right side:\\n+\\n- price product:\\n169 zł\\n- wrap list sale cross item:\\n\\n- left side:\\nStand for 4 watches\\n- right side:\\n+\\n- price product:\\n699 zł\\n- wrap list sale cross item:\\n\\n- left side:\\n2 Watches Stand\\n- right side:\\n+\\n- price product:\\nPLN 449\\n- wrap list sale cross item:\\n\\n- left side:\\nBlack wooden watch box with transparent lid - 8 watches\\n- right side:\\n+\\n- price product:\\n349 zł\\n- hidden good wrap stock:\\n\\n- title stock:\\nProduct currently unavailable\\n\\nDo you want to be notified when the product is available again?\\n\\nGive us your email address and/or telephone number and you will be notified when you are back!\\n\\n\\n- basic form stock:\\n\\n- field basic wrap:\\nYour email\\n- error basic field invalid:\\nCorrect email address\\n- field basic wrap:\\nTelephone number\\n- error basic field invalid:\\nYour phone number is incorrect.\\n- error default form empty stock:\\nSelect one or both options\\n- button wrap:\\n\\n- action button stock:\\nSend me an e-mail.\\n- missing hidden wrap good size:\\n\\n- title:\\nWe\\'re sorry to hear that.\\n\\nTell us what size you needed so we could be more prepared for the future.\\n\\n\\n- missing form basic option:\\n\\n- field basic wrap:\\nMissing size\\n- error basic field:\\nYou left the field empty.\\n- button wrap:\\n\\n- action button form:\\nTell us.\\n- linked mobile:\\n\\n- wrap linked section list:\\n\\n- linked title list section:\\nColors\\n- linked section wrap list option:\\n\\n- wrap linked section list:\\n\\n- linked title list section:\\nVarieties\\n- linked section wrap list option:\\n\\n- wrap:\\n\\n- site:\\n\\n- item:\\nFree shipping for this product\\n- item:\\nIn stock\\n- item:\\n365-day return policy - no questions asked!\\n- product:\\n\\n- point bullet:\\nScratch resistant sapphire glass\\n- point bullet:\\nAutomatic mechanical movement\\n- point bullet:\\nA shield with a visible mechanism allows you to see how the watch works\\n- point bullet:\\nIncluded storage box\\n- button:\\n\\n- button product item:\\n\\n- left side:\\nDescription / Size\\n- button item review:\\n\\n- left side:\\nCustomer reviews (973)\\n- linked wrap:\\n\\n- wrap linked section list:\\n\\n- linked title list section:\\nColors\\n- linked section wrap list option:\\n\\n- wrap linked section list:\\n\\n- linked title list section:\\nVarieties\\n- linked section wrap list option:\\n\\n- wrap:\\n\\n- wrap overlay:\\n\\n- button wrap review:\\nCustomer reviews (973)\\n- wrap page:\\n\\n- wrap product item:\\n\\n- mobile product section header:\\nDescription\\n- section body:\\nLife never ends\\n- product:\\nID: 21921\\n- wrap product item:\\n\\n- section header:\\nMaterial\\n- section body:\\nStainless steel Sapphire glass\\n- wrap product item:\\n\\n- section header:\\nDimensions\\n- section body:\\nCover width: 44 mm envelope depth: 12 mm Belt width: 2.2 cm Belt length: 18 cm Movement: automatic mechanical movement ST1646 Waterproofing: 3 ATM Weight: 157 g Max. wrist circumference: 19.5 cm Min. wrist circumference: 13.2 cm\\n- mobile other:\\n\\n- slider other loading:\\n\\n- slider title:\\nProducts from the same category\\n- slider other loading:\\n\\n- slider title:\\nRecommended for You\\n- right pane product side specific page:\\n\\n- header pane side specific page:\\n\\n- close pane:\\n×\\n- header pane mobile side specific page:\\n\\n- header close pane side specific page:\\nUndo\\n- content body pane side specific page:\\n\\n- section product pane side:\\n\\n- section title:\\nDescription\\n- content section pane product side:\\nLife never ends\\n- product:\\nID: 21921\\n- section product pane side:\\n\\n- section title:\\nMaterial\\n- content section pane product side:\\nStainless steel Sapphire glass\\n- section product pane side:\\n\\n- section title:\\nDimensions\\n- content section pane product side:\\nCover width: 44 mm envelope depth: 12 mm Belt width: 2.2 cm Belt length: 18 cm Movement: automatic mechanical movement ST1646 Waterproofing: 3 ATM Weight: 157 g Max. wrist circumference: 19.5 cm Min. wrist circumference: 13.2 cm\\n- right pane product side specific page:\\n\\n- header pane side specific page:\\n\\n- close pane:\\n×\\n- header pane mobile side specific page:\\n\\n- header close pane side specific page:\\nUndo\\n- content body pane side specific page:\\n\\n- section product pane side:\\n\\n- section title:\\nDescription\\n- content section pane product side:\\nLife never ends\\n- product:\\nID: 21921\\n- section product pane side:\\n\\n- section title:\\nMaterial\\n- content section pane product side:\\nStainless steel Sapphire glass\\n- section product pane side:\\n\\n- section title:\\nDimensions\\n- content section pane product side:\\nCover width: 44 mm envelope depth: 12 mm Belt width: 2.2 cm Belt length: 18 cm Movement: automatic mechanical movement ST1646 Waterproofing: 3 ATM Weight: 157 g Max. wrist circumference: 19.5 cm Min. wrist circumference: 13.2 cm\\n- review right pane side specific page:\\n\\n- header pane side specific page:\\n\\n- close pane:\\n×\\n- header pane mobile side specific page:\\n\\n- header close pane side specific page:\\nUndo\\n- content body pane side specific page:\\n\\n- content pane review:\\n\\n- wrap title:\\n\\n- section title:\\nCustomer reviews\\n- wrap rating:\\n\\n- star wrap rating:\\n\\n- star wrap abundance rating:\\n(973)\\n- content hidden pane list good review:\\n\\n- content button pane list dark starting review:\\nView reviews translated by Google (9226)from international customers\\n- neutral pane list show content button hidden more good review:\\nShow more\\n- hidden good:\\n\\n- template item review:\\n\\n- part:\\n\\n- review:\\n\\n- name author:\\nFrom\\n- part main:\\n\\n- text hidden good review:\\nTranslated by Google\\n- right pane guide link side specific page:\\n\\n- header pane side specific page:\\n\\n- close pane:\\n×\\n- header pane mobile side specific page:\\n\\n- header close pane side specific page:\\nUndo\\n- hidden good:\\n\\n- select overlay user:\\n\\n- overlay title:\\nWhat size are you interested in?\\n\\n\\n- select wrap user:\\nDon\\'t forget that.\\n- hidden wrap good user select overlay stock:\\n\\n- title stock:\\nSize not available\\n\\nDo you want to be notified when this size is available again?\\n\\nGive us your email address and/or telephone number and you will be notified when you are back!\\n\\n\\n- basic form stock:\\n\\n- field basic wrap:\\nYour email\\n- error basic field invalid:\\nCorrect email address\\n- field basic wrap:\\nTelephone number\\n- error basic field invalid:\\nYour phone number is incorrect.\\n- error default form empty stock:\\nSelect one or both options\\n- button wrap:\\n\\n- action button stock:\\nSend me an e-mail.\\n- option user overlay missing hidden wrap select good size:\\n\\n- title:\\nWe\\'re sorry to hear that.\\n\\nTell us what size you needed so we could be more prepared for the future.\\n\\n\\n- missing form basic option:\\n\\n- field basic wrap:\\nMissing size\\n- error basic field:\\nYou left the field empty.\\n- button wrap:\\n\\n- action button form:\\nTell us.\\n- hidden good:\\n\\n- personal selection overlay print image:\\n\\n- gray block:\\n\\n- title image:\\n#### What other people did\\n\\n\\n- title image:\\n#### Design your watch\\n\\n\\n- module gallery block:\\n\\n- gallery simple:\\n\\n- gallery slider area simple:\\n\\n- gallery window simple slider area:\\n\\n- part sliding window slider simple gallery area:\\n\\n- window item area part gallery sliding simple slider:\\n\\n- wrap image loading:\\nq\\n- caption image:\\n\"My wife and daughter are with me every day on my wrist.\"\\n- window item area part gallery sliding simple slider:\\n\\n- wrap image loading:\\nq\\n- caption image:\\n\"The best day of my life, I still can\\'t believe my own happiness.\"\\n- window item area part gallery sliding simple slider:\\n\\n- wrap image loading:\\nq\\n- caption image:\\n\"Just the two of us and nature. I love this moment. Now it\\'s forever.\"\\n- window item area part gallery sliding simple slider:\\n\\n- wrap image loading:\\nq\\n- caption image:\\n\"The nicest person I\\'ve ever known, and I like the idea that he\\'s still holding my hand.\"\\n- window item area part gallery sliding simple slider:\\n\\n- wrap image loading:\\nq\\n- caption image:\\n\"He taught me everything I know, being there inspires me to be a better man.\"\\n- window item area part gallery sliding simple slider:\\n\\n- wrap image loading:\\nq\\n- caption image:\\n\"My best friend\\'s lovely cup, and I can\\'t help but smile every time I look at him.\"\\n- window item area part gallery sliding simple slider:\\n\\n- wrap image loading:\\nq\\n- caption image:\\n\"Remembers how much she loves me.\\n- gallery pagination simple:\\n\\n- pagination:\\n1/0\\n- control area:\\n\\n- range container:\\nRotate\\n- range container:\\nZoom in\\n- selection basic option list overlay image personal form print:\\n\\n- description title image:\\n#### Personalize it\\n\\n\\n- block image:\\n\\n- description:\\nRecord the memory with a picture printed on the declination of the watch.\\n- picture primary button:\\nSend Image\\n- block image:\\n\\n- wrapper button order:\\n\\n- button hidden wrap good:\\n\\n- button submit primary:\\nAdd to Cart\\n- update button submit primary:\\nUpdate\\n- description:\\nReady to be implemented\\n- wrapper button order:\\n\\n- button wrap:\\n\\n- picture outline button:\\nSend New Image\\n- description:\\nI\\'ll find a better one.\\n- title:\\n#### Printing\\n\\n\\n- container print image:\\n* Your picture is printed on the inside of the glass, which ensures longevity\\n* Print dries almost immediately, creating an ultra-constant image.\\n* The process will add 1 day to the estimated delivery date (including express)\\n* The printed color may differ slightly from what it looks like on the screen\\n* Printed products are not recoverable/exchangeable\\n* Printing adds 79 zł to the sum\\n\\n- hidden good:\\n\\n- personal selection overlay print:\\n\\n- title:\\nLaser engraving options\\n- text:\\nAdd something personal to make this item unique\\n- selection basic option list overlay personal form print:\\n\\n- selection selected list option overlay item personal nothing print:\\n\\n- wrap:\\n\\n- item title:\\nNo engraver\\n- personal selection option list item print overlay:\\n\\n- wrap:\\n\\n- item title:\\nClamp\\n- price item:\\n55 zł\\n- selection selected list place overlay text personal hidden wrap good print:\\nSelected:\\n- selection overlay area text personal hidden input wrap good print:\\n\\n- section title:\\nAdd Your Text Here\\n- selection basic overlay text personal wrap form field print:\\n\\n- field basic wrap:\\nText (Max.Xcharacters)\\n- error basic field:\\nThis field is required\\n- error basic field:\\nThe text entered is too long for the available space\\n- personal selection selected special engraving overlay print:\\n* No delay in delivery for engraving products\\n* We use the same font as the picture, and text can be adapted to the available place\\n* Products with engraving are non-refundable/replaceable\\n\\n- personal button selection overlay print:\\n\\n- selection overlay personal hidden button wrap good print:\\n\\n- button submit primary:\\nAdd to Cart\\n- selection print overlay personal button hidden wrap good update:\\n\\n- neutral button cancel:\\nCancel\\n- update button submit primary:\\nUpdate\\n- pane side global site:\\n\\n- header close pane side global:\\nUndo'"
     },
     "execution_count": 203,
     "metadata": {},
     "output_type": "execute_result"
    }
   ],
   "source": [
    "simplified_body_text"
   ],
   "metadata": {
    "collapsed": false,
    "ExecuteTime": {
     "end_time": "2023-10-17T19:09:46.684504891Z",
     "start_time": "2023-10-17T19:09:46.654434673Z"
    }
   }
  },
  {
   "cell_type": "code",
   "execution_count": 204,
   "outputs": [],
   "source": [
    "with open(f'simplified.txt', \"w\") as f:\n",
    "    f.write(simplified_body_text)"
   ],
   "metadata": {
    "collapsed": false,
    "ExecuteTime": {
     "end_time": "2023-10-17T19:09:49.979243323Z",
     "start_time": "2023-10-17T19:09:49.937441984Z"
    }
   }
  },
  {
   "cell_type": "code",
   "execution_count": null,
   "outputs": [],
   "source": [
    "\n",
    "file_name = \"polish_trendhim_1602.html\"\n",
    "\n",
    "with open(f\"../web_pages/all_domains/pages/{file_name}\", \"r\") as file:\n",
    "    html = file.read()\n",
    "\n",
    "soup = BeautifulSoup(html, \"html.parser\")\n",
    "\n",
    "simplified_soup_body = simplify_body(\n",
    "    soup=soup.body,\n",
    "    text_formatting_tags=text_formatting_tags,\n",
    "    tags_to_include=tags_to_include,\n",
    "    class_id_to_exclude=class_id_to_exclude,\n",
    ")\n",
    "\n",
    "should_translate_to_english = file_name.startswith('polish')\n",
    "\n",
    "simplified_body_text = md(simplified_soup_body, should_translate_to_english)\n",
    "\n",
    "# meta_tags_str = textify_meta_tags(soup=soup)\n",
    "# full_page_text_curr = f'{meta_tags_str}\\n\\n{simplified_body_text}'.strip()\n",
    "\n",
    "# with open(f\"{file_name}.txt\", \"w\") as file:\n",
    "#     file.write(full_page_text_curr)\n",
    "# \n",
    "# if not os.path.exists(f'results'):\n",
    "#     os.makedirs(f'results')\n",
    "# \n",
    "# max_input_size = get_max_input_size(model_max_input_size, prompt_desc_size, meta_tags_str, tokenizer)\n",
    "# print('max_input_size', max_input_size)\n",
    "\n",
    "# temps = [0.7]\n",
    "# for temp in temps:\n",
    "#     subdir_name = str(temp).replace('.', '_')\n",
    "#     if not os.path.exists(f'results/{subdir_name}'):\n",
    "#         os.makedirs(f'results/{subdir_name}')\n",
    "#     \n",
    "#     # if f'results/{dir_name}/{subdir_name}/part_{i}.json' in os.listdir(f'results/{dir_name}/{subdir_name}'):\n",
    "#     #     continue\n",
    "# \n",
    "#     print(f\"Temperature: {temp}\")\n",
    "# \n",
    "#     chat_gpt_prompt = f\"{prompt}\\n{full_page_text_curr}\"\n",
    "#     print(chat_gpt_prompt)\n",
    "# \n",
    "#     response = openai.ChatCompletion.create(\n",
    "#       model=\"gpt-3.5-turbo-16k\",\n",
    "#       temperature=temp,\n",
    "#       messages=[\n",
    "#         {\n",
    "#             \"role\": \"user\",\n",
    "#             \"content\": chat_gpt_prompt\n",
    "#         }\n",
    "#       ]\n",
    "#     )\n",
    "# \n",
    "#     # save the response to txt file\n",
    "#     with open(f'result.json', \"w\") as f:\n",
    "#         f.write(response['choices'][0]['message']['content'])\n",
    "\n",
    "# with open(f'simplified.txt', \"w\") as f:\n",
    "#     f.write(f'{meta_tags_str}\\n{simplified_body_text}')\n"
   ],
   "metadata": {
    "collapsed": false
   }
  },
  {
   "cell_type": "markdown",
   "source": [
    "## Get all features keys/names etc."
   ],
   "metadata": {
    "collapsed": false
   }
  },
  {
   "cell_type": "code",
   "execution_count": 19,
   "outputs": [
    {
     "name": "stdout",
     "output_type": "stream",
     "text": [
      "{'Earring Type': 'Drop Earrings'}\n",
      "{'Fine or Fashion': 'Fashion'}\n",
      "{'Item Type': 'Earrings'}\n",
      "{'Style': 'Trendy'}\n",
      "{'Metals Type': 'Copper'}\n",
      "{'Gender': 'Women'}\n",
      "{'Material': 'Cubic Zirconia'}\n",
      "{'Marka': 'Obsessive'}\n",
      "{'Kod producenta': '5901688221129'}\n",
      "{'Rozmiar': 'L/XL'}\n",
      "{'Kolor': 'Bordowy'}\n",
      "{'Nazwa dostawcy': 'Miamor figi kolor: bordowy L/XL'}\n",
      "{'Okazje': 'Dzień Kobiet'}\n",
      "{'Długość towaru w centymetrach': '15'}\n",
      "{'Szerokość towaru w centymetrach': '10'}\n",
      "{'Wysokość towaru w centymetrach': '7'}\n",
      "{'Suggested Age': '22 Years and Up'}\n",
      "{'Number of Pages': 320}\n",
      "{'Format': 'Hardcover'}\n",
      "{'Genre': 'Medical'}\n",
      "{'Sub-Genre': 'History'}\n",
      "{'Publisher': 'MIT Press'}\n",
      "{'Author': 'Mikkael A Sekeres'}\n",
      "{'Language': 'English'}\n",
      "{'Street Date': 'September 27, 2022'}\n",
      "{'TCIN': '86094342'}\n",
      "{'UPC': '9780262047319'}\n",
      "{'Item Number (DPCI)': '247-19-1506'}\n",
      "{'Origin': 'Made in the USA or Imported'}\n",
      "{'Release Date': '06/23/2015'}\n",
      "{'Label': 'Prophecy'}\n",
      "{'UPC': '0884388716315'}\n",
      "{'catalogNumber': '163'}\n",
      "{'Rank': 76940}\n",
      "{'wzór_dominujący': 'gładki'}\n",
      "{'materiał_dominujący': 'bawełna'}\n",
      "{'długość': 'długa'}\n",
      "{'rękaw': 'krótki rękaw'}\n",
      "{'dekolt': 'serek / dekolt V'}\n",
      "{'zapięcie': 'brak'}\n",
      "{'cechy_dodatkowe': 'print (nadruk), kieszenie'}\n",
      "{'Kolory': ['biały', 'miętowy & kwiaty']}\n",
      "{'Cechy': 'z kołnierzykiem typu kent'}\n",
      "{'Rozmiary': '34 - 46'}\n",
      "{'Size': [{'Recommended Age': '12-18 Months', 'Bust': \"53CM/20.8''\", 'Waist': \"53CM/20.8''\", 'Length': \"46CM/18.1''\"}, {'Recommended Age': '18-24 Months', 'Bust': '56CM/22.0‘’', 'Waist': \"56CM/22.0''\", 'Length': \"49CM/19.2''\"}, {'Recommended Age': '2-3 Years', 'Bust': '59CM/23.2‘’', 'Waist': '59CM/23.2‘’', 'Length': \"51CM/20.0''\"}, {'Recommended Age': '3-4 Years', 'Bust': \"61CM/24.0''\", 'Waist': \"61CM/24.0''\", 'Length': \"54CM/21.2''\"}, {'Recommended Age': '4-5 Years', 'Bust': \"64CM/25.1''\", 'Waist': \"64CM/25.1''\", 'Length': \"56CM/22.0''\"}]}\n",
      "{'Package include': '1PC Dress+1PC Headband'}\n",
      "{'Size Chart': 'For non US buyers\\n\\nProducts are listed in US Sizes'}\n",
      "{'Platform': 'Sony PlayStation 1'}\n",
      "{'Release Year': '2000'}\n",
      "{'Game Name': 'Alien Resurrection'}\n",
      "{'Genre': 'Shooter'}\n",
      "{'ESRB Descriptor': 'Animated Blood & Gore, Animated Violence'}\n",
      "{'ESRB Rating': 'M - Mature'}\n",
      "{'Game Name Special Features': ['Navigate Ellen Ripley and her team through the close quartered Auriga in an effort to destroy the alien queen', 'Blast on the enemy with pulse rifles, flamethrowers, electric guns, and grenade launchers', 'Defend your party as the aliens attack you from the ground, the ceiling, and from the wall']}\n",
      "{'Control Elements': 'Gamepad/Joystick'}\n",
      "{'Number of Players': '1'}\n",
      "{'Location': 'USA'}\n",
      "{'Fine or Fashion': 'Fashion'}\n",
      "{'Item Type': 'Rings'}\n",
      "{'Style': 'Trendy'}\n",
      "{'Rings Type': 'Wedding Bands'}\n",
      "{'Metals Type': 'Copper'}\n",
      "{'Material': 'Crystal'}\n",
      "{'Occasion': 'Party'}\n",
      "{'Gender': 'Women'}\n",
      "{'Main stone': 'Crystal'}\n",
      "{'Plating': 'Rose gold color'}\n",
      "{'Fit and style': 'Regular fit'}\n",
      "{'Features': {'Better Cotton Initiative': 'M&S is proud to invest in making cotton production more sustainable. Better Cotton is sourced through a system of Mass Balance. Find out more'}}\n",
      "{'Composition': '100% cotton (exclusive of trimmings)'}\n",
      "{'Care': ['Wash at 40°C delicate', 'Do not bleach', 'Tumble dry medium temperature', 'Iron at medium temperature', 'Do not dry clean']}\n",
      "{'Kolor': 'Różowy'}\n",
      "{'Materiał wykonania': '100% poliester'}\n",
      "{'Wzór': 'gładki'}\n",
      "{'Kształt': 'prostokątny'}\n",
      "{'Rodzaj runa': 'shaggy'}\n",
      "{'Wysokość runa, gąbki, futra': 30}\n"
     ]
    }
   ],
   "source": [
    "all_features = {}\n",
    "\n",
    "for name in os.listdir('results'):\n",
    "    with open(f'results/{name}/0_7/part_0.json', \"r\") as file:\n",
    "        data = json.load(file)\n",
    "    \n",
    "    if 'product_features_and_specifications' not in data and \"product_features_specifications\" not in data and 'product_features' not in data:\n",
    "        print(f'features has some other name for {name}')\n",
    "        \n",
    "    features = data['product_features_and_specifications'] if 'product_features_and_specifications' in data else (data['product_features_specifications'] if 'product_features_specifications' in data else data['product_features'])\n",
    "    \n",
    "    for elem in features:\n",
    "        if 'feature' in elem:\n",
    "            key = elem['feature']\n",
    "        elif 'feature_name' in elem:\n",
    "            key = elem['feature_name']\n",
    "        elif 'name' in elem:\n",
    "            key = elem['name']\n",
    "        else:\n",
    "            print(elem)\n",
    "            key = list(elem.keys())[0]\n",
    "            \n",
    "        all_features[key] = all_features.get(key, 0) + 1"
   ],
   "metadata": {
    "collapsed": false,
    "ExecuteTime": {
     "end_time": "2023-08-30T14:23:33.297767471Z",
     "start_time": "2023-08-30T14:23:33.249995595Z"
    }
   }
  },
  {
   "cell_type": "code",
   "execution_count": 21,
   "outputs": [],
   "source": [
    "import pandas as pd\n",
    "\n",
    "df = pd.DataFrame.from_dict(all_features, orient='index', columns=['count']).sort_values(by='count', ascending=False)"
   ],
   "metadata": {
    "collapsed": false,
    "ExecuteTime": {
     "end_time": "2023-08-30T14:23:44.777631185Z",
     "start_time": "2023-08-30T14:23:44.762086256Z"
    }
   }
  },
  {
   "cell_type": "code",
   "execution_count": 22,
   "outputs": [
    {
     "data": {
      "text/plain": "                             count\nMaterial                        13\ncategory                        11\nMateriał                        10\nColor                           10\nKolor                            8\n...                            ...\nMattress size                    1\nBed size                         1\nBag size                         1\nCrafted from                     1\nWysokość runa, gąbki, futra      1\n\n[272 rows x 1 columns]",
      "text/html": "<div>\n<style scoped>\n    .dataframe tbody tr th:only-of-type {\n        vertical-align: middle;\n    }\n\n    .dataframe tbody tr th {\n        vertical-align: top;\n    }\n\n    .dataframe thead th {\n        text-align: right;\n    }\n</style>\n<table border=\"1\" class=\"dataframe\">\n  <thead>\n    <tr style=\"text-align: right;\">\n      <th></th>\n      <th>count</th>\n    </tr>\n  </thead>\n  <tbody>\n    <tr>\n      <th>Material</th>\n      <td>13</td>\n    </tr>\n    <tr>\n      <th>category</th>\n      <td>11</td>\n    </tr>\n    <tr>\n      <th>Materiał</th>\n      <td>10</td>\n    </tr>\n    <tr>\n      <th>Color</th>\n      <td>10</td>\n    </tr>\n    <tr>\n      <th>Kolor</th>\n      <td>8</td>\n    </tr>\n    <tr>\n      <th>...</th>\n      <td>...</td>\n    </tr>\n    <tr>\n      <th>Mattress size</th>\n      <td>1</td>\n    </tr>\n    <tr>\n      <th>Bed size</th>\n      <td>1</td>\n    </tr>\n    <tr>\n      <th>Bag size</th>\n      <td>1</td>\n    </tr>\n    <tr>\n      <th>Crafted from</th>\n      <td>1</td>\n    </tr>\n    <tr>\n      <th>Wysokość runa, gąbki, futra</th>\n      <td>1</td>\n    </tr>\n  </tbody>\n</table>\n<p>272 rows × 1 columns</p>\n</div>"
     },
     "execution_count": 22,
     "metadata": {},
     "output_type": "execute_result"
    }
   ],
   "source": [
    "df"
   ],
   "metadata": {
    "collapsed": false,
    "ExecuteTime": {
     "end_time": "2023-08-30T14:23:45.539230717Z",
     "start_time": "2023-08-30T14:23:45.520025111Z"
    }
   }
  },
  {
   "cell_type": "code",
   "execution_count": 53,
   "outputs": [],
   "source": [
    "from transformers import MarianTokenizer"
   ],
   "metadata": {
    "collapsed": false,
    "ExecuteTime": {
     "end_time": "2023-09-07T16:26:52.915598564Z",
     "start_time": "2023-09-07T16:26:52.872083418Z"
    }
   }
  },
  {
   "cell_type": "code",
   "execution_count": 54,
   "outputs": [],
   "source": [
    "from transformers import MarianTokenizer\n",
    "\n",
    "src = \"pl\"  # source language\n",
    "trg = \"en\"  # target language\n",
    "\n",
    "model_name = f\"Helsinki-NLP/opus-mt-{src}-{trg}\"\n",
    "\n",
    "tokenizer = MarianTokenizer.from_pretrained(model_name)"
   ],
   "metadata": {
    "collapsed": false,
    "ExecuteTime": {
     "end_time": "2023-09-07T16:26:53.267443267Z",
     "start_time": "2023-09-07T16:26:53.262456519Z"
    }
   }
  },
  {
   "cell_type": "code",
   "execution_count": 55,
   "outputs": [],
   "source": [
    "tok = MarianTokenizer.from_pretrained(model_name)"
   ],
   "metadata": {
    "collapsed": false,
    "ExecuteTime": {
     "end_time": "2023-09-07T16:26:55.281373865Z",
     "start_time": "2023-09-07T16:26:54.875225158Z"
    }
   }
  },
  {
   "cell_type": "code",
   "execution_count": 59,
   "outputs": [
    {
     "data": {
      "text/plain": "512"
     },
     "execution_count": 59,
     "metadata": {},
     "output_type": "execute_result"
    }
   ],
   "source": [
    "tok.model_max_length"
   ],
   "metadata": {
    "collapsed": false,
    "ExecuteTime": {
     "end_time": "2023-09-07T16:27:25.801814757Z",
     "start_time": "2023-09-07T16:27:25.773574913Z"
    }
   }
  },
  {
   "cell_type": "code",
   "execution_count": null,
   "outputs": [],
   "source": [],
   "metadata": {
    "collapsed": false
   }
  }
 ],
 "metadata": {
  "kernelspec": {
   "display_name": "Python 3",
   "language": "python",
   "name": "python3"
  },
  "language_info": {
   "codemirror_mode": {
    "name": "ipython",
    "version": 2
   },
   "file_extension": ".py",
   "mimetype": "text/x-python",
   "name": "python",
   "nbconvert_exporter": "python",
   "pygments_lexer": "ipython2",
   "version": "2.7.6"
  }
 },
 "nbformat": 4,
 "nbformat_minor": 0
}
