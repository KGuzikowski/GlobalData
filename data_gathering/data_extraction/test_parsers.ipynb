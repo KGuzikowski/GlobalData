{
 "cells": [
  {
   "cell_type": "code",
   "execution_count": 1,
   "metadata": {
    "collapsed": true,
    "ExecuteTime": {
     "end_time": "2023-06-20T09:14:17.736570402Z",
     "start_time": "2023-06-20T09:14:17.679158990Z"
    }
   },
   "outputs": [],
   "source": [
    "import os\n",
    "import json\n",
    "\n",
    "from bs4 import BeautifulSoup, Tag\n",
    "import html2text\n",
    "\n",
    "from tree_modification import simplify_body, textify_simplified_head\n",
    "from utils import get_binary_dicts_templates"
   ]
  },
  {
   "cell_type": "code",
   "execution_count": 2,
   "outputs": [
    {
     "ename": "FileNotFoundError",
     "evalue": "[Errno 2] No such file or directory: 'different_files.json'",
     "output_type": "error",
     "traceback": [
      "\u001B[0;31m---------------------------------------------------------------------------\u001B[0m",
      "\u001B[0;31mFileNotFoundError\u001B[0m                         Traceback (most recent call last)",
      "Cell \u001B[0;32mIn[2], line 1\u001B[0m\n\u001B[0;32m----> 1\u001B[0m \u001B[38;5;28;01mwith\u001B[39;00m \u001B[38;5;28;43mopen\u001B[39;49m\u001B[43m(\u001B[49m\u001B[38;5;124;43m\"\u001B[39;49m\u001B[38;5;124;43mdifferent_files.json\u001B[39;49m\u001B[38;5;124;43m\"\u001B[39;49m\u001B[43m,\u001B[49m\u001B[43m \u001B[49m\u001B[38;5;124;43m\"\u001B[39;49m\u001B[38;5;124;43mr\u001B[39;49m\u001B[38;5;124;43m\"\u001B[39;49m\u001B[43m)\u001B[49m \u001B[38;5;28;01mas\u001B[39;00m file:\n\u001B[1;32m      2\u001B[0m     different_files_dict \u001B[38;5;241m=\u001B[39m json\u001B[38;5;241m.\u001B[39mload(file)\n\u001B[1;32m      4\u001B[0m different_files_products \u001B[38;5;241m=\u001B[39m different_files_dict[\u001B[38;5;124m'\u001B[39m\u001B[38;5;124mproducts\u001B[39m\u001B[38;5;124m'\u001B[39m]\n",
      "File \u001B[0;32m~/miniconda3/envs/global_data/lib/python3.10/site-packages/IPython/core/interactiveshell.py:284\u001B[0m, in \u001B[0;36m_modified_open\u001B[0;34m(file, *args, **kwargs)\u001B[0m\n\u001B[1;32m    277\u001B[0m \u001B[38;5;28;01mif\u001B[39;00m file \u001B[38;5;129;01min\u001B[39;00m {\u001B[38;5;241m0\u001B[39m, \u001B[38;5;241m1\u001B[39m, \u001B[38;5;241m2\u001B[39m}:\n\u001B[1;32m    278\u001B[0m     \u001B[38;5;28;01mraise\u001B[39;00m \u001B[38;5;167;01mValueError\u001B[39;00m(\n\u001B[1;32m    279\u001B[0m         \u001B[38;5;124mf\u001B[39m\u001B[38;5;124m\"\u001B[39m\u001B[38;5;124mIPython won\u001B[39m\u001B[38;5;124m'\u001B[39m\u001B[38;5;124mt let you open fd=\u001B[39m\u001B[38;5;132;01m{\u001B[39;00mfile\u001B[38;5;132;01m}\u001B[39;00m\u001B[38;5;124m by default \u001B[39m\u001B[38;5;124m\"\u001B[39m\n\u001B[1;32m    280\u001B[0m         \u001B[38;5;124m\"\u001B[39m\u001B[38;5;124mas it is likely to crash IPython. If you know what you are doing, \u001B[39m\u001B[38;5;124m\"\u001B[39m\n\u001B[1;32m    281\u001B[0m         \u001B[38;5;124m\"\u001B[39m\u001B[38;5;124myou can use builtins\u001B[39m\u001B[38;5;124m'\u001B[39m\u001B[38;5;124m open.\u001B[39m\u001B[38;5;124m\"\u001B[39m\n\u001B[1;32m    282\u001B[0m     )\n\u001B[0;32m--> 284\u001B[0m \u001B[38;5;28;01mreturn\u001B[39;00m \u001B[43mio_open\u001B[49m\u001B[43m(\u001B[49m\u001B[43mfile\u001B[49m\u001B[43m,\u001B[49m\u001B[43m \u001B[49m\u001B[38;5;241;43m*\u001B[39;49m\u001B[43margs\u001B[49m\u001B[43m,\u001B[49m\u001B[43m \u001B[49m\u001B[38;5;241;43m*\u001B[39;49m\u001B[38;5;241;43m*\u001B[39;49m\u001B[43mkwargs\u001B[49m\u001B[43m)\u001B[49m\n",
      "\u001B[0;31mFileNotFoundError\u001B[0m: [Errno 2] No such file or directory: 'different_files.json'"
     ]
    }
   ],
   "source": [
    "with open(\"different_files.json\", \"r\") as file:\n",
    "    different_files_dict = json.load(file)\n",
    "\n",
    "different_files_products = different_files_dict['products']\n",
    "different_files_other = different_files_dict['other']"
   ],
   "metadata": {
    "collapsed": false,
    "ExecuteTime": {
     "end_time": "2023-06-20T09:12:23.746574601Z",
     "start_time": "2023-06-20T09:12:23.301812326Z"
    }
   }
  },
  {
   "cell_type": "code",
   "execution_count": null,
   "outputs": [],
   "source": [
    "# from shutil import copyfile\n",
    "#\n",
    "# for file in different_files_products:\n",
    "#     copyfile(f\"../../../../studia/master-thesis/data/02_intermediate/web_pages/products/{file}\", f\"web_pages/all_domains/broken_pages/{file}\")\n",
    "#\n",
    "# for file in different_files_other:\n",
    "#     copyfile(f\"../../../../studia/master-thesis/data/02_intermediate/web_pages/other/{file}\", f\"web_pages/all_domains/broken_pages/{file}\")"
   ],
   "metadata": {
    "collapsed": false
   }
  },
  {
   "cell_type": "code",
   "execution_count": 2,
   "outputs": [],
   "source": [
    "with open(\"./dataset_creation_config.json\", \"r\") as file:\n",
    "    config = json.load(file)\n",
    "\n",
    "tags_to_include = set(config[\"tags\"])\n",
    "text_formatting_tags = set(config[\"text_formatting_tags\"])\n",
    "meta_values = config[\"meta_values\"]\n",
    "abbreviations = config[\"abbreviations\"]\n",
    "(\n",
    "    available_tags_binary_dict,\n",
    "    available_attributes_values_binary_dict,\n",
    ") = get_binary_dicts_templates(config)"
   ],
   "metadata": {
    "collapsed": false,
    "ExecuteTime": {
     "end_time": "2023-06-20T09:14:17.742027809Z",
     "start_time": "2023-06-20T09:14:17.739093692Z"
    }
   }
  },
  {
   "cell_type": "code",
   "execution_count": 3,
   "outputs": [],
   "source": [
    "from markdownify import MarkdownConverter, ATX, BACKSLASH\n",
    "\n",
    "# Create shorthand method for conversion\n",
    "def create_md(**options):\n",
    "    converter = MarkdownConverter(**options)\n",
    "\n",
    "    def md(soup: Tag):\n",
    "        return converter.convert_soup(soup)\n",
    "\n",
    "    return md"
   ],
   "metadata": {
    "collapsed": false,
    "ExecuteTime": {
     "end_time": "2023-06-20T09:14:17.747928154Z",
     "start_time": "2023-06-20T09:14:17.744968332Z"
    }
   }
  },
  {
   "cell_type": "code",
   "execution_count": 4,
   "outputs": [],
   "source": [
    "md = create_md(heading_style=ATX, newline_style=BACKSLASH)"
   ],
   "metadata": {
    "collapsed": false,
    "ExecuteTime": {
     "end_time": "2023-06-20T09:14:17.754114395Z",
     "start_time": "2023-06-20T09:14:17.750112788Z"
    }
   }
  },
  {
   "cell_type": "code",
   "execution_count": null,
   "outputs": [],
   "source": [
    "with open(f\"web_pages/all_domains/pages/english_colourpop_397.html\", \"r\") as f:\n",
    "    html = f.read()\n",
    "\n",
    "soup = BeautifulSoup(html, \"lxml\")\n",
    "\n",
    "simplified_soup_head_text = textify_simplified_head(soup=soup.head, meta_acceptable_values=meta_values)\n",
    "\n",
    "simplified_soup_head_text"
   ],
   "metadata": {
    "collapsed": false
   }
  },
  {
   "cell_type": "code",
   "execution_count": null,
   "outputs": [],
   "source": [
    "url_regex = r\"(?i)\\b((?:https?://|www\\d{0,3}[.]|[a-z0-9.\\-]+[.][a-z]{2,4}/)(?:[^\\s()<>]+|\\(([^\\s()<>]+|(\\([^\\s()<>]+\\)))*\\))+(?:\\(([^\\s()<>]+|(\\([^\\s()<>]+\\)))*\\)|[^\\s`!()\\[\\]{};:'\\\".,<>?«»“”‘’]))\""
   ],
   "metadata": {
    "collapsed": false
   }
  },
  {
   "cell_type": "code",
   "execution_count": 5,
   "outputs": [],
   "source": [
    "class_id_to_exclude = [\n",
    "    \"nav\",\n",
    "    \"banner\",\n",
    "    \"footer\",\n",
    "    \"shipping\",\n",
    "    \"popup\",\n",
    "    \"checkout\",\n",
    "    \"payments\",\n",
    "    \"returns\",\n",
    "    \"delivery\",\n",
    "    \"support\",\n",
    "    \"warranty\",\n",
    "    \"image\",\n",
    "    \"privacy\",\n",
    "    \"benefit\",\n",
    "    \"sign-in\",\n",
    "    \"sign-up\",\n",
    "    \"login\",\n",
    "    \"password\",\n",
    "    \"add-to-cart\",\n",
    "    \"announcement\",\n",
    "    \"notification\",\n",
    "    \"wishlist\",\n",
    "    \"social\",\n",
    "    \"json\",\n",
    "    \"alert\",\n",
    "    \"disclaimer\",\n",
    "    \"contact\",\n",
    "    \"cookies\",\n",
    "    \"newsletter\",\n",
    "    \"basket\",\n",
    "    \"askforproduct\",\n",
    "    \"ask-about-product\",\n",
    "    \"mobile-header\",\n",
    "    \"header-menu\",\n",
    "    \"customer\"\n",
    "]"
   ],
   "metadata": {
    "collapsed": false,
    "ExecuteTime": {
     "end_time": "2023-06-20T09:14:17.799249422Z",
     "start_time": "2023-06-20T09:14:17.757711664Z"
    }
   }
  },
  {
   "cell_type": "code",
   "execution_count": 6,
   "outputs": [],
   "source": [
    "import re\n",
    "\n",
    "for web_page in os.listdir(\"web_pages/all_domains/pages\"):\n",
    "    # print(web_page)\n",
    "    with open(f\"web_pages/all_domains/pages/{web_page}\", \"r\") as f:\n",
    "        html = f.read()\n",
    "\n",
    "    soup = BeautifulSoup(html, \"html.parser\")\n",
    "\n",
    "    simplified_soup_body = simplify_body(\n",
    "        soup=soup.body,\n",
    "        text_formatting_tags=text_formatting_tags,\n",
    "        tags_to_include=tags_to_include,\n",
    "        class_id_to_exclude=class_id_to_exclude,\n",
    "    )\n",
    "\n",
    "    simplified_body_text = md(simplified_soup_body)\n",
    "    simplified_soup_head_text = textify_simplified_head(soup=soup.head, meta_acceptable_values=meta_values)\n",
    "\n",
    "\n",
    "    full_page_text = f\"{simplified_soup_head_text}\\n{simplified_body_text}\"\n",
    "    # full_page_text = re.sub(url_regex, \"\", full_page_text)\n",
    "\n",
    "    with open(f\"web_pages/all_domains/simplified/{web_page}\", \"w\") as file:\n",
    "        file.write(simplified_soup_body.prettify())\n",
    "\n",
    "    with open(f\"web_pages/all_domains/results/{web_page}\", \"w\") as file:\n",
    "        file.write(full_page_text)"
   ],
   "metadata": {
    "collapsed": false,
    "ExecuteTime": {
     "end_time": "2023-06-20T09:14:32.167297739Z",
     "start_time": "2023-06-20T09:14:17.799086058Z"
    }
   }
  },
  {
   "cell_type": "code",
   "execution_count": null,
   "outputs": [],
   "source": [
    "from transformers import T5TokenizerFast\n",
    "\n",
    "tokenizer = T5TokenizerFast.from_pretrained(\"google/flan-t5-base\")"
   ],
   "metadata": {
    "collapsed": false
   }
  },
  {
   "cell_type": "code",
   "execution_count": null,
   "outputs": [],
   "source": [
    "text = \"//cdn.shopify.com/s/files/1/0543/8547/5781/products/303531_black_1_large.jpg?v=1654531150\""
   ],
   "metadata": {
    "collapsed": false
   }
  },
  {
   "cell_type": "code",
   "execution_count": 9,
   "outputs": [
    {
     "name": "stdout",
     "output_type": "stream",
     "text": [
      "46\n"
     ]
    }
   ],
   "source": [
    "inputs = tokenizer(text.strip(), return_tensors=\"pt\")\n",
    "print(inputs.input_ids.squeeze().shape[0])"
   ],
   "metadata": {
    "collapsed": false,
    "ExecuteTime": {
     "end_time": "2023-06-20T09:02:16.391561551Z",
     "start_time": "2023-06-20T09:02:15.566313136Z"
    }
   }
  },
  {
   "cell_type": "code",
   "execution_count": 17,
   "outputs": [
    {
     "name": "stdout",
     "output_type": "stream",
     "text": [
      "1642 english_autoanything_1942.html\n",
      "3230 english_autoanything_2.html\n",
      "430 english_barnesandnoble_2011.html\n",
      "617 english_barnesandnoble_2139.html\n",
      "511 english_baublebar_112.html\n",
      "764 english_baublebar_1262.html\n",
      "773 english_charmingcharlie_3922.html\n",
      "557 english_charmingcharlie_4756.html\n",
      "280 english_colourpop_1227.html\n",
      "334 english_colourpop_397.html\n",
      "750 english_craftonlineusa_1222.html\n",
      "531 english_craftonlineusa_4872.html\n",
      "48 english_deguns_1403.html\n",
      "68 english_deguns_1811.html\n",
      "62 english_deguns_442.html\n",
      "273 english_dunhamssports_3818.html\n",
      "246 english_dunhamssports_3937.html\n",
      "1670 english_ebay_423.html\n",
      "3926 english_ebay_4298.html\n",
      "1388 english_estellecoloredglass_60.html\n",
      "1419 english_estellecoloredglass_69.html\n",
      "1269 english_fashionnova_4646.html\n",
      "1147 english_fashionnova_513.html\n",
      "777 english_fnp_2182.html\n",
      "690 english_fnp_4636.html\n",
      "104 english_footlocker_3436.html\n",
      "113 english_footlocker_912.html\n",
      "1234 english_guns_683.html\n",
      "1139 english_hallmark_1163.html\n",
      "1036 english_hallmark_1578.html\n",
      "574 english_lovinglane_3157.html\n",
      "865 english_lovinglane_3251.html\n",
      "2162 english_marksandspencer_4081.html\n",
      "2464 english_marksandspencer_4352.html\n",
      "909 english_microcenter_2049.html\n",
      "1022 english_microcenter_4297.html\n",
      "2072 english_modells_1784.html\n",
      "2270 english_modells_957.html\n",
      "4326 english_monoprice_2794.html\n",
      "1025 english_monoprice_2828.html\n",
      "415 english_oliveandpiper_121.html\n",
      "431 english_oliveandpiper_23.html\n",
      "1788 english_pinkcherry_2163.html\n",
      "901 english_pinkcherry_4726.html\n",
      "778 english_prettylittlething_2561.html\n",
      "2942 english_prettylittlething_3543.html\n",
      "496 english_shopcarolinehill_1214.html\n",
      "342 english_shopcarolinehill_337.html\n",
      "1431 english_shopjustice_201.html\n",
      "1034 english_shopjustice_502.html\n",
      "1052 english_target_1867.html\n",
      "800 english_target_2203.html\n",
      "1345 english_thellegance_19.html\n",
      "1022 english_thellegance_20.html\n",
      "1105 english_tigerdirect_2522.html\n",
      "823 english_tigerdirect_4470.html\n",
      "781 english_vibemushrooms_1.html\n",
      "774 english_vibemushrooms_4.html\n",
      "2281 english_westmorebeauty_4.html\n",
      "886 english_westmorebeauty_6.html\n",
      "900 polish_agatameble_1882.html\n",
      "718 polish_agatameble_253.html\n",
      "493 polish_answear_160.html\n",
      "397 polish_answear_268.html\n",
      "1637 polish_biokord_303.html\n",
      "1811 polish_biokord_429.html\n",
      "331 polish_bytom_10.html\n",
      "352 polish_bytom_30.html\n",
      "1171 polish_debrande_135.html\n",
      "1164 polish_debrande_591.html\n",
      "357 polish_decathlon_3198.html\n",
      "470 polish_decathlon_4505.html\n",
      "1692 polish_doz_2700.html\n",
      "2179 polish_doz_2852.html\n",
      "1292 polish_easytoys_2398.html\n",
      "1377 polish_easytoys_83.html\n",
      "1934 polish_ebutik_3957.html\n",
      "2161 polish_ebutik_441.html\n",
      "800 polish_eobuwie_4946.html\n",
      "587 polish_eobuwie_812.html\n",
      "1863 polish_etriskelion_1612.html\n",
      "2332 polish_etriskelion_3887.html\n",
      "3025 polish_gemini_1747.html\n",
      "1677 polish_gemini_2783.html\n",
      "804 polish_lidl_1593.html\n",
      "804 polish_lidl_4840.html\n",
      "2139 polish_morele_2371.html\n",
      "2956 polish_morele_2894.html\n",
      "4217 polish_musclepower_1505.html\n",
      "4344 polish_musclepower_2314.html\n",
      "1771 polish_obi_2410.html\n",
      "3391 polish_obi_3334.html\n",
      "995 polish_partybox_1996.html\n",
      "1217 polish_partybox_511.html\n",
      "2276 polish_tomi_731.html\n",
      "3417 polish_tomi_815.html\n",
      "4156 polish_trendhim_1602.html\n",
      "2510 polish_trendhim_2462.html\n",
      "2398 polish_zooart_3132.html\n",
      "2411 polish_zooart_94.html\n"
     ]
    }
   ],
   "source": [
    "for name in sorted(os.listdir(\"web_pages/all_domains/results\")):\n",
    "    with open(f\"web_pages/all_domains/results/{name}\", \"r\") as file:\n",
    "        text = file.read()\n",
    "\n",
    "    inputs = tokenizer(text.strip(), return_tensors=\"pt\")\n",
    "    print(inputs.input_ids.squeeze().shape[0], name)\n"
   ],
   "metadata": {
    "collapsed": false,
    "ExecuteTime": {
     "end_time": "2023-06-19T17:29:23.129115569Z",
     "start_time": "2023-06-19T17:29:22.713899328Z"
    }
   }
  },
  {
   "cell_type": "code",
   "execution_count": null,
   "outputs": [],
   "source": [],
   "metadata": {
    "collapsed": false
   }
  }
 ],
 "metadata": {
  "kernelspec": {
   "display_name": "Python 3",
   "language": "python",
   "name": "python3"
  },
  "language_info": {
   "codemirror_mode": {
    "name": "ipython",
    "version": 2
   },
   "file_extension": ".py",
   "mimetype": "text/x-python",
   "name": "python",
   "nbconvert_exporter": "python",
   "pygments_lexer": "ipython2",
   "version": "2.7.6"
  }
 },
 "nbformat": 4,
 "nbformat_minor": 0
}
