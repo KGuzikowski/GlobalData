{
 "cells": [
  {
   "cell_type": "code",
   "execution_count": 1,
   "metadata": {
    "collapsed": true,
    "ExecuteTime": {
     "end_time": "2023-06-06T16:58:07.014378244Z",
     "start_time": "2023-06-06T16:58:06.890659237Z"
    }
   },
   "outputs": [],
   "source": [
    "import os\n",
    "import json\n",
    "\n",
    "from bs4 import BeautifulSoup, Tag\n",
    "import html2text\n",
    "\n",
    "from tree_modification import simplify_body, textify_simplified_head\n",
    "from utils import get_binary_dicts_templates"
   ]
  },
  {
   "cell_type": "code",
   "execution_count": 2,
   "outputs": [],
   "source": [
    "with open(\"different_files.json\", \"r\") as file:\n",
    "    different_files_dict = json.load(file)\n",
    "\n",
    "different_files_products = different_files_dict['products']\n",
    "different_files_other = different_files_dict['other']"
   ],
   "metadata": {
    "collapsed": false,
    "ExecuteTime": {
     "end_time": "2023-06-06T16:58:07.028191551Z",
     "start_time": "2023-06-06T16:58:07.017201916Z"
    }
   }
  },
  {
   "cell_type": "code",
   "execution_count": 3,
   "outputs": [],
   "source": [
    "# from shutil import copyfile\n",
    "#\n",
    "# for file in different_files_products:\n",
    "#     copyfile(f\"../../../../studia/master-thesis/data/02_intermediate/web_pages/products/{file}\", f\"web_pages/all_domains/broken_pages/{file}\")\n",
    "#\n",
    "# for file in different_files_other:\n",
    "#     copyfile(f\"../../../../studia/master-thesis/data/02_intermediate/web_pages/other/{file}\", f\"web_pages/all_domains/broken_pages/{file}\")"
   ],
   "metadata": {
    "collapsed": false,
    "ExecuteTime": {
     "end_time": "2023-06-05T17:59:27.012126911Z",
     "start_time": "2023-06-05T17:59:26.971970356Z"
    }
   }
  },
  {
   "cell_type": "code",
   "execution_count": 3,
   "outputs": [],
   "source": [
    "with open(\"./dataset_creation_config.json\", \"r\") as file:\n",
    "    config = json.load(file)\n",
    "\n",
    "tags_to_include = set(config[\"tags\"])\n",
    "text_formatting_tags = set(config[\"text_formatting_tags\"])\n",
    "meta_values = config[\"meta_values\"]\n",
    "abbreviations = config[\"abbreviations\"]\n",
    "(\n",
    "    available_tags_binary_dict,\n",
    "    available_attributes_values_binary_dict,\n",
    ") = get_binary_dicts_templates(config)"
   ],
   "metadata": {
    "collapsed": false,
    "ExecuteTime": {
     "end_time": "2023-06-06T16:58:07.036942352Z",
     "start_time": "2023-06-06T16:58:07.023076600Z"
    }
   }
  },
  {
   "cell_type": "code",
   "execution_count": 4,
   "outputs": [],
   "source": [
    "from markdownify import MarkdownConverter, ATX, BACKSLASH\n",
    "\n",
    "# Create shorthand method for conversion\n",
    "def create_md(**options):\n",
    "    converter = MarkdownConverter(**options)\n",
    "\n",
    "    def md(soup: Tag):\n",
    "        return converter.convert_soup(soup)\n",
    "\n",
    "    return md"
   ],
   "metadata": {
    "collapsed": false,
    "ExecuteTime": {
     "end_time": "2023-06-06T16:58:07.053953287Z",
     "start_time": "2023-06-06T16:58:07.034476172Z"
    }
   }
  },
  {
   "cell_type": "code",
   "execution_count": 5,
   "outputs": [],
   "source": [
    "md = create_md(heading_style=ATX, newline_style=BACKSLASH)"
   ],
   "metadata": {
    "collapsed": false,
    "ExecuteTime": {
     "end_time": "2023-06-06T16:58:07.094520849Z",
     "start_time": "2023-06-06T16:58:07.041904785Z"
    }
   }
  },
  {
   "cell_type": "code",
   "execution_count": 7,
   "outputs": [],
   "source": [
    "# with open(f\"web_pages/all_domains/broken_pages/english_charmingcharlie_2444.html\", \"r\") as f:\n",
    "#     html = f.read()\n",
    "#\n",
    "# soup = BeautifulSoup(html, \"lxml\")\n",
    "#\n",
    "# simplified_soup_body = simplify_body(\n",
    "#     soup=soup.body,\n",
    "#     text_formatting_tags=text_formatting_tags,\n",
    "#     tags_to_include=tags_to_include,\n",
    "# )\n",
    "# simplified_body_text = md(simplified_soup_body)\n",
    "# simplified_soup_head_text = textify_simplified_head(soup=soup.head, meta_acceptable_values=meta_values)\n",
    "#\n",
    "# full_page_text = f\"{simplified_soup_head_text}\\n{simplified_body_text}\"\n",
    "#\n",
    "# with open(\"english_charmingcharlie_2444.txt\", \"w\") as f:\n",
    "#     f.write(full_page_text)"
   ],
   "metadata": {
    "collapsed": false,
    "ExecuteTime": {
     "end_time": "2023-06-05T18:01:14.008720334Z",
     "start_time": "2023-06-05T18:01:13.989333179Z"
    }
   }
  },
  {
   "cell_type": "code",
   "execution_count": 6,
   "outputs": [],
   "source": [
    "url_regex = r\"(?i)\\b((?:https?://|www\\d{0,3}[.]|[a-z0-9.\\-]+[.][a-z]{2,4}/)(?:[^\\s()<>]+|\\(([^\\s()<>]+|(\\([^\\s()<>]+\\)))*\\))+(?:\\(([^\\s()<>]+|(\\([^\\s()<>]+\\)))*\\)|[^\\s`!()\\[\\]{};:'\\\".,<>?«»“”‘’]))\""
   ],
   "metadata": {
    "collapsed": false,
    "ExecuteTime": {
     "end_time": "2023-06-06T16:58:07.094834896Z",
     "start_time": "2023-06-06T16:58:07.085795109Z"
    }
   }
  },
  {
   "cell_type": "code",
   "execution_count": 14,
   "outputs": [
    {
     "name": "stdout",
     "output_type": "stream",
     "text": [
      "polish_poczta-polska_976.html\n",
      "english_fashionnova_2237.html\n",
      "english_menshealth_466.html\n",
      "polish_poczta-polska_138.html\n",
      "polish_poczta-polska_1779.html\n",
      "polish_poczta-polska_507.html\n",
      "polish_poczta-polska_1065.html\n",
      "polish_poczta-polska_1179.html\n",
      "polish_poczta-polska_1693.html\n",
      "polish_poczta-polska_464.html\n",
      "english_deguns_3485.html\n",
      "polish_poczta-polska_1540.html\n",
      "english_footlocker_752.html\n",
      "english_jetbrains_274.html\n",
      "polish_poczta-polska_18.html\n",
      "english_footlocker_3794.html\n",
      "polish_poczta-polska_82.html\n",
      "polish_poczta-polska_848.html\n",
      "polish_poczta-polska_1337.html\n",
      "english_jetbrains_630.html\n",
      "english_fashionnova_2435.html\n",
      "english_menshealth_1255.html\n",
      "english_deguns_4206.html\n",
      "english_deguns_14.html\n",
      "english_menshealth_3661.html\n",
      "polish_poczta-polska_619.html\n",
      "english_menshealth_1310.html\n",
      "english_menshealth_2982.html\n",
      "english_jetbrains_678.html\n",
      "english_footlocker_793.html\n",
      "english_jetbrains_689.html\n",
      "english_menshealth_279.html\n",
      "english_fashionnova_382.html\n",
      "polish_poczta-polska_412.html\n",
      "english_pinkcherry_148.html\n",
      "polish_decathlon_3525.html\n",
      "polish_poczta-polska_957.html\n",
      "english_jetbrains_767.html\n",
      "polish_poczta-polska_1974.html\n",
      "english_openai_115.html\n",
      "polish_poczta-polska_757.html\n",
      "polish_poczta-polska_1630.html\n",
      "english_jetbrains_291.html\n",
      "polish_poczta-polska_1282.html\n",
      "polish_poczta-polska_2037.html\n",
      "english_menshealth_2816.html\n",
      "polish_poczta-polska_357.html\n",
      "polish_poczta-polska_696.html\n",
      "polish_poczta-polska_184.html\n",
      "english_menshealth_1296.html\n",
      "polish_poczta-polska_1003.html\n",
      "polish_poczta-polska_1212.html\n",
      "polish_musclepower_3294.html\n",
      "polish_poczta-polska_707.html\n",
      "polish_poczta-polska_1275.html\n",
      "english_menshealth_1001.html\n",
      "polish_poczta-polska_1356.html\n",
      "english_charmingcharlie_3811.html\n",
      "polish_poczta-polska_1205.html\n",
      "polish_poczta-polska_380.html\n",
      "english_jetbrains_543.html\n",
      "english_footlocker_1513.html\n",
      "english_jetbrains_835.html\n",
      "english_jetbrains_521.html\n",
      "english_shopjustice_3.html\n",
      "english_jetbrains_1015.html\n",
      "polish_decathlon_450.html\n",
      "english_menshealth_2711.html\n",
      "english_jetbrains_656.html\n",
      "polish_decathlon_3313.html\n",
      "polish_poczta-polska_1481.html\n",
      "polish_poczta-polska_2049.html\n",
      "polish_poczta-polska_699.html\n",
      "polish_poczta-polska_969.html\n",
      "english_charmingcharlie_2444.html\n",
      "polish_poczta-polska_2078.html\n",
      "english_shopjustice_93.html\n",
      "polish_poczta-polska_1715.html\n",
      "english_menshealth_2731.html\n",
      "polish_decathlon_1185.html\n",
      "polish_poczta-polska_1975.html\n",
      "polish_poczta-polska_949.html\n",
      "english_deguns_13.html\n",
      "polish_poczta-polska_73.html\n",
      "english_menshealth_4533.html\n",
      "polish_poczta-polska_59.html\n",
      "english_menshealth_2696.html\n",
      "polish_poczta-polska_1051.html\n",
      "polish_poczta-polska_1985.html\n",
      "polish_poczta-polska_1810.html\n",
      "english_menshealth_512.html\n",
      "polish_poczta-polska_1238.html\n",
      "english_menshealth_595.html\n",
      "polish_poczta-polska_591.html\n",
      "english_charmingcharlie_312.html\n",
      "polish_poczta-polska_934.html\n",
      "polish_poczta-polska_2068.html\n",
      "english_jetbrains_641.html\n",
      "english_fnp_4698.html\n",
      "polish_poczta-polska_2087.html\n",
      "polish_poczta-polska_1400.html\n",
      "english_menshealth_2320.html\n",
      "polish_doz_2925.html\n",
      "polish_decathlon_3216.html\n",
      "polish_poczta-polska_115.html\n",
      "polish_poczta-polska_1596.html\n",
      "polish_poczta-polska_2075.html\n",
      "polish_poczta-polska_1697.html\n",
      "polish_poczta-polska_804.html\n"
     ]
    }
   ],
   "source": [
    "import re\n",
    "import cchardet\n",
    "\n",
    "for web_page in os.listdir(\"web_pages/all_domains/broken_pages\"):\n",
    "    print(web_page)\n",
    "    html = None\n",
    "    with open(f\"web_pages/all_domains/broken_pages/{web_page}\", \"r\") as f:\n",
    "        html = f.read()\n",
    "\n",
    "    soup = BeautifulSoup(html, \"lxml\")\n",
    "\n",
    "    simplified_soup_body, simplified_body_text, simplified_soup_head_text = \"\", \"\", \"\"\n",
    "    try:\n",
    "        simplified_soup_head_text = textify_simplified_head(soup=soup.head, meta_acceptable_values=meta_values)\n",
    "    except Exception:\n",
    "        pass\n",
    "\n",
    "    try:\n",
    "        simplified_soup_body = simplify_body(\n",
    "            soup=soup.body,\n",
    "            text_formatting_tags=text_formatting_tags,\n",
    "            tags_to_include=tags_to_include,\n",
    "        )\n",
    "        simplified_body_text = md(simplified_soup_body)\n",
    "\n",
    "        full_page_text = f\"{simplified_soup_head_text}\\n{simplified_body_text}\"\n",
    "        full_page_text = re.sub(url_regex, \"\", full_page_text)\n",
    "\n",
    "        # save simplified soup to file\n",
    "        with open(f\"web_pages/all_domains/simplified_lxml/{web_page}\", \"w\") as file:\n",
    "            file.write(simplified_soup_body.prettify())\n",
    "\n",
    "        with open(f\"web_pages/all_domains/results_lxml/{web_page}\", \"w\") as f:\n",
    "            f.write(full_page_text)\n",
    "    except Exception:\n",
    "        # save simplified soup to file\n",
    "        with open(f\"web_pages/all_domains/simplified_lxml/{web_page}\", \"w\") as file:\n",
    "            file.write(str(simplified_soup_body))\n",
    "\n",
    "    soup = BeautifulSoup(html, \"html.parser\")\n",
    "\n",
    "    simplified_soup_body, simplified_body_text = \"None\", \"None\"\n",
    "    try:\n",
    "        simplified_soup_body = simplify_body(\n",
    "            soup=soup.body,\n",
    "            text_formatting_tags=text_formatting_tags,\n",
    "            tags_to_include=tags_to_include,\n",
    "        )\n",
    "        simplified_body_text = html2text.html2text(simplified_soup_body.prettify())\n",
    "\n",
    "        full_page_text = f\"{simplified_soup_head_text}\\n{simplified_body_text}\"\n",
    "        full_page_text = re.sub(url_regex, \"\", full_page_text)\n",
    "\n",
    "        with open(f\"web_pages/all_domains/simplified_html_parser/{web_page}\", \"w\") as file:\n",
    "            file.write(simplified_soup_body.prettify())\n",
    "\n",
    "        with open(f\"web_pages/all_domains/results_html_parser/{web_page}\", \"w\") as f:\n",
    "            f.write(full_page_text)\n",
    "    except Exception:\n",
    "        with open(f\"web_pages/all_domains/simplified_html_parser/{web_page}\", \"w\") as file:\n",
    "            file.write(str(simplified_soup_body))"
   ],
   "metadata": {
    "collapsed": false,
    "ExecuteTime": {
     "end_time": "2023-06-06T17:07:02.385250459Z",
     "start_time": "2023-06-06T17:06:50.088324440Z"
    }
   }
  },
  {
   "cell_type": "code",
   "execution_count": null,
   "outputs": [],
   "source": [],
   "metadata": {
    "collapsed": false
   }
  }
 ],
 "metadata": {
  "kernelspec": {
   "display_name": "Python 3",
   "language": "python",
   "name": "python3"
  },
  "language_info": {
   "codemirror_mode": {
    "name": "ipython",
    "version": 2
   },
   "file_extension": ".py",
   "mimetype": "text/x-python",
   "name": "python",
   "nbconvert_exporter": "python",
   "pygments_lexer": "ipython2",
   "version": "2.7.6"
  }
 },
 "nbformat": 4,
 "nbformat_minor": 0
}
