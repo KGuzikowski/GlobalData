{
 "metadata": {
  "kernelspec": {
   "language": "python",
   "display_name": "Python 3",
   "name": "python3"
  },
  "language_info": {
   "name": "python",
   "version": "3.7.12",
   "mimetype": "text/x-python",
   "codemirror_mode": {
    "name": "ipython",
    "version": 3
   },
   "pygments_lexer": "ipython3",
   "nbconvert_exporter": "python",
   "file_extension": ".py"
  }
 },
 "nbformat_minor": 4,
 "nbformat": 4,
 "cells": [
  {
   "cell_type": "code",
   "source": [
    "!pip install --upgrade transformers accelerate sacremoses"
   ],
   "metadata": {
    "_uuid": "8f2839f25d086af736a60e9eeb907d3b93b6e0e5",
    "_cell_guid": "b1076dfc-b9ad-4769-8c92-a6c4dae69d19",
    "execution": {
     "iopub.status.busy": "2023-09-04T10:53:59.908406Z",
     "iopub.execute_input": "2023-09-04T10:53:59.908836Z",
     "iopub.status.idle": "2023-09-04T10:54:34.138429Z",
     "shell.execute_reply.started": "2023-09-04T10:53:59.908794Z",
     "shell.execute_reply": "2023-09-04T10:54:34.137145Z"
    },
    "trusted": true
   },
   "execution_count": 2,
   "outputs": [
    {
     "name": "stdout",
     "text": "Requirement already satisfied: transformers in /opt/conda/lib/python3.7/site-packages (4.27.4)\nCollecting transformers\n  Downloading transformers-4.30.2-py3-none-any.whl (7.2 MB)\n\u001B[2K     \u001B[90m━━━━━━━━━━━━━━━━━━━━━━━━━━━━━━━━━━━━━━━━\u001B[0m \u001B[32m7.2/7.2 MB\u001B[0m \u001B[31m37.3 MB/s\u001B[0m eta \u001B[36m0:00:00\u001B[0m00:01\u001B[0m00:01\u001B[0m\n\u001B[?25hRequirement already satisfied: accelerate in /opt/conda/lib/python3.7/site-packages (0.12.0)\nCollecting accelerate\n  Downloading accelerate-0.20.3-py3-none-any.whl (227 kB)\n\u001B[2K     \u001B[90m━━━━━━━━━━━━━━━━━━━━━━━━━━━━━━━━━━━━━━\u001B[0m \u001B[32m227.6/227.6 kB\u001B[0m \u001B[31m15.5 MB/s\u001B[0m eta \u001B[36m0:00:00\u001B[0m\n\u001B[?25hCollecting sacremoses\n  Downloading sacremoses-0.0.53.tar.gz (880 kB)\n\u001B[2K     \u001B[90m━━━━━━━━━━━━━━━━━━━━━━━━━━━━━━━━━━━━━━\u001B[0m \u001B[32m880.6/880.6 kB\u001B[0m \u001B[31m38.6 MB/s\u001B[0m eta \u001B[36m0:00:00\u001B[0m\n\u001B[?25h  Preparing metadata (setup.py) ... \u001B[?25ldone\n\u001B[?25hCollecting safetensors>=0.3.1\n  Downloading safetensors-0.3.3-cp37-cp37m-manylinux_2_17_x86_64.manylinux2014_x86_64.whl (1.3 MB)\n\u001B[2K     \u001B[90m━━━━━━━━━━━━━━━━━━━━━━━━━━━━━━━━━━━━━━━━\u001B[0m \u001B[32m1.3/1.3 MB\u001B[0m \u001B[31m44.9 MB/s\u001B[0m eta \u001B[36m0:00:00\u001B[0m\n\u001B[?25hRequirement already satisfied: filelock in /opt/conda/lib/python3.7/site-packages (from transformers) (3.9.0)\nRequirement already satisfied: importlib-metadata in /opt/conda/lib/python3.7/site-packages (from transformers) (4.11.4)\nRequirement already satisfied: tokenizers!=0.11.3,<0.14,>=0.11.1 in /opt/conda/lib/python3.7/site-packages (from transformers) (0.13.2)\nRequirement already satisfied: regex!=2019.12.17 in /opt/conda/lib/python3.7/site-packages (from transformers) (2021.11.10)\nRequirement already satisfied: pyyaml>=5.1 in /opt/conda/lib/python3.7/site-packages (from transformers) (6.0)\nCollecting huggingface-hub<1.0,>=0.14.1\n  Downloading huggingface_hub-0.16.4-py3-none-any.whl (268 kB)\n\u001B[2K     \u001B[90m━━━━━━━━━━━━━━━━━━━━━━━━━━━━━━━━━━━━━━\u001B[0m \u001B[32m268.8/268.8 kB\u001B[0m \u001B[31m20.3 MB/s\u001B[0m eta \u001B[36m0:00:00\u001B[0m\n\u001B[?25hRequirement already satisfied: numpy>=1.17 in /opt/conda/lib/python3.7/site-packages (from transformers) (1.21.6)\nRequirement already satisfied: tqdm>=4.27 in /opt/conda/lib/python3.7/site-packages (from transformers) (4.64.1)\nRequirement already satisfied: packaging>=20.0 in /opt/conda/lib/python3.7/site-packages (from transformers) (23.0)\nRequirement already satisfied: requests in /opt/conda/lib/python3.7/site-packages (from transformers) (2.28.2)\nRequirement already satisfied: psutil in /opt/conda/lib/python3.7/site-packages (from accelerate) (5.9.3)\nRequirement already satisfied: torch>=1.6.0 in /opt/conda/lib/python3.7/site-packages (from accelerate) (1.13.0+cpu)\nRequirement already satisfied: six in /opt/conda/lib/python3.7/site-packages (from sacremoses) (1.16.0)\nRequirement already satisfied: click in /opt/conda/lib/python3.7/site-packages (from sacremoses) (8.1.3)\nRequirement already satisfied: joblib in /opt/conda/lib/python3.7/site-packages (from sacremoses) (1.2.0)\nRequirement already satisfied: typing-extensions>=3.7.4.3 in /opt/conda/lib/python3.7/site-packages (from huggingface-hub<1.0,>=0.14.1->transformers) (4.4.0)\nRequirement already satisfied: fsspec in /opt/conda/lib/python3.7/site-packages (from huggingface-hub<1.0,>=0.14.1->transformers) (2023.1.0)\nRequirement already satisfied: zipp>=0.5 in /opt/conda/lib/python3.7/site-packages (from importlib-metadata->transformers) (3.11.0)\nRequirement already satisfied: charset-normalizer<4,>=2 in /opt/conda/lib/python3.7/site-packages (from requests->transformers) (2.1.1)\nRequirement already satisfied: certifi>=2017.4.17 in /opt/conda/lib/python3.7/site-packages (from requests->transformers) (2022.12.7)\nRequirement already satisfied: idna<4,>=2.5 in /opt/conda/lib/python3.7/site-packages (from requests->transformers) (3.4)\nRequirement already satisfied: urllib3<1.27,>=1.21.1 in /opt/conda/lib/python3.7/site-packages (from requests->transformers) (1.26.14)\nBuilding wheels for collected packages: sacremoses\n  Building wheel for sacremoses (setup.py) ... \u001B[?25ldone\n\u001B[?25h  Created wheel for sacremoses: filename=sacremoses-0.0.53-py3-none-any.whl size=895260 sha256=b3f6433360deb49b466a5c448ac0bb93db848d94dfb1886189ca42f83631fa97\n  Stored in directory: /root/.cache/pip/wheels/5b/e0/77/05245143a5b31f65af6a21f7afd3219e9fa4896f918af45677\nSuccessfully built sacremoses\nInstalling collected packages: safetensors, huggingface-hub, accelerate, transformers, sacremoses\n  Attempting uninstall: huggingface-hub\n    Found existing installation: huggingface-hub 0.13.3\n    Uninstalling huggingface-hub-0.13.3:\n      Successfully uninstalled huggingface-hub-0.13.3\n  Attempting uninstall: accelerate\n    Found existing installation: accelerate 0.12.0\n    Uninstalling accelerate-0.12.0:\n      Successfully uninstalled accelerate-0.12.0\n  Attempting uninstall: transformers\n    Found existing installation: transformers 4.27.4\n    Uninstalling transformers-4.27.4:\n      Successfully uninstalled transformers-4.27.4\nSuccessfully installed accelerate-0.20.3 huggingface-hub-0.16.4 sacremoses-0.0.53 safetensors-0.3.3 transformers-4.30.2\n\u001B[33mWARNING: Running pip as the 'root' user can result in broken permissions and conflicting behaviour with the system package manager. It is recommended to use a virtual environment instead: https://pip.pypa.io/warnings/venv\u001B[0m\u001B[33m\n\u001B[0m",
     "output_type": "stream"
    }
   ]
  },
  {
   "cell_type": "code",
   "source": [
    "# !pip install fairseq sacremoses subword-nmt spark-nlp pyspark"
   ],
   "metadata": {
    "execution": {
     "iopub.status.busy": "2023-09-01T15:08:01.797428Z",
     "iopub.execute_input": "2023-09-01T15:08:01.797878Z",
     "iopub.status.idle": "2023-09-01T15:09:09.571575Z",
     "shell.execute_reply.started": "2023-09-01T15:08:01.797834Z",
     "shell.execute_reply": "2023-09-01T15:09:09.569953Z"
    },
    "trusted": true
   },
   "execution_count": 2,
   "outputs": [
    {
     "name": "stdout",
     "text": "Collecting fairseq\n  Downloading fairseq-0.12.2-cp37-cp37m-manylinux_2_5_x86_64.manylinux1_x86_64.whl (11.0 MB)\n\u001B[2K     \u001B[90m━━━━━━━━━━━━━━━━━━━━━━━━━━━━━━━━━━━━━━━━\u001B[0m \u001B[32m11.0/11.0 MB\u001B[0m \u001B[31m52.4 MB/s\u001B[0m eta \u001B[36m0:00:00\u001B[0m00:01\u001B[0m0:01\u001B[0m\n\u001B[?25hCollecting sacremoses\n  Downloading sacremoses-0.0.53.tar.gz (880 kB)\n\u001B[2K     \u001B[90m━━━━━━━━━━━━━━━━━━━━━━━━━━━━━━━━━━━━━━\u001B[0m \u001B[32m880.6/880.6 kB\u001B[0m \u001B[31m40.1 MB/s\u001B[0m eta \u001B[36m0:00:00\u001B[0m\n\u001B[?25h  Preparing metadata (setup.py) ... \u001B[?25ldone\n\u001B[?25hCollecting subword-nmt\n  Downloading subword_nmt-0.3.8-py3-none-any.whl (27 kB)\nCollecting spark-nlp\n  Downloading spark_nlp-5.1.0-py2.py3-none-any.whl (531 kB)\n\u001B[2K     \u001B[90m━━━━━━━━━━━━━━━━━━━━━━━━━━━━━━━━━━━━━━\u001B[0m \u001B[32m531.2/531.2 kB\u001B[0m \u001B[31m26.4 MB/s\u001B[0m eta \u001B[36m0:00:00\u001B[0m\n\u001B[?25hCollecting pyspark\n  Downloading pyspark-3.4.1.tar.gz (310.8 MB)\n\u001B[2K     \u001B[90m━━━━━━━━━━━━━━━━━━━━━━━━━━━━━━━━━━━━━━━\u001B[0m \u001B[32m310.8/310.8 MB\u001B[0m \u001B[31m3.3 MB/s\u001B[0m eta \u001B[36m0:00:00\u001B[0m00:01\u001B[0m00:01\u001B[0m\n\u001B[?25h  Preparing metadata (setup.py) ... \u001B[?25ldone\n\u001B[?25hRequirement already satisfied: numpy in /opt/conda/lib/python3.7/site-packages (from fairseq) (1.21.6)\nRequirement already satisfied: cython in /opt/conda/lib/python3.7/site-packages (from fairseq) (0.29.34)\nCollecting sacrebleu>=1.4.12\n  Downloading sacrebleu-2.3.1-py3-none-any.whl (118 kB)\n\u001B[2K     \u001B[90m━━━━━━━━━━━━━━━━━━━━━━━━━━━━━━━━━━━━━━━\u001B[0m \u001B[32m118.9/118.9 kB\u001B[0m \u001B[31m8.2 MB/s\u001B[0m eta \u001B[36m0:00:00\u001B[0m\n\u001B[?25hCollecting bitarray\n  Downloading bitarray-2.8.1-cp37-cp37m-manylinux_2_17_x86_64.manylinux2014_x86_64.whl (277 kB)\n\u001B[2K     \u001B[90m━━━━━━━━━━━━━━━━━━━━━━━━━━━━━━━━━━━━━━\u001B[0m \u001B[32m277.3/277.3 kB\u001B[0m \u001B[31m16.1 MB/s\u001B[0m eta \u001B[36m0:00:00\u001B[0m\n\u001B[?25hRequirement already satisfied: torch in /opt/conda/lib/python3.7/site-packages (from fairseq) (1.13.0+cpu)\nRequirement already satisfied: torchaudio>=0.8.0 in /opt/conda/lib/python3.7/site-packages (from fairseq) (0.13.0+cpu)\nCollecting hydra-core<1.1,>=1.0.7\n  Downloading hydra_core-1.0.7-py3-none-any.whl (123 kB)\n\u001B[2K     \u001B[90m━━━━━━━━━━━━━━━━━━━━━━━━━━━━━━━━━━━━━━━\u001B[0m \u001B[32m123.8/123.8 kB\u001B[0m \u001B[31m8.2 MB/s\u001B[0m eta \u001B[36m0:00:00\u001B[0m\n\u001B[?25hRequirement already satisfied: tqdm in /opt/conda/lib/python3.7/site-packages (from fairseq) (4.64.1)\nRequirement already satisfied: regex in /opt/conda/lib/python3.7/site-packages (from fairseq) (2021.11.10)\nRequirement already satisfied: cffi in /opt/conda/lib/python3.7/site-packages (from fairseq) (1.15.1)\nCollecting omegaconf<2.1\n  Downloading omegaconf-2.0.6-py3-none-any.whl (36 kB)\nRequirement already satisfied: six in /opt/conda/lib/python3.7/site-packages (from sacremoses) (1.16.0)\nRequirement already satisfied: click in /opt/conda/lib/python3.7/site-packages (from sacremoses) (8.1.3)\nRequirement already satisfied: joblib in /opt/conda/lib/python3.7/site-packages (from sacremoses) (1.2.0)\nRequirement already satisfied: mock in /opt/conda/lib/python3.7/site-packages (from subword-nmt) (5.0.1)\nRequirement already satisfied: py4j==0.10.9.7 in /opt/conda/lib/python3.7/site-packages (from pyspark) (0.10.9.7)\nCollecting antlr4-python3-runtime==4.8\n  Downloading antlr4-python3-runtime-4.8.tar.gz (112 kB)\n\u001B[2K     \u001B[90m━━━━━━━━━━━━━━━━━━━━━━━━━━━━━━━━━━━━━━━\u001B[0m \u001B[32m112.4/112.4 kB\u001B[0m \u001B[31m7.6 MB/s\u001B[0m eta \u001B[36m0:00:00\u001B[0m\n\u001B[?25h  Preparing metadata (setup.py) ... \u001B[?25ldone\n\u001B[?25hRequirement already satisfied: importlib-resources in /opt/conda/lib/python3.7/site-packages (from hydra-core<1.1,>=1.0.7->fairseq) (5.10.2)\nRequirement already satisfied: PyYAML>=5.1.* in /opt/conda/lib/python3.7/site-packages (from omegaconf<2.1->fairseq) (6.0)\nRequirement already satisfied: typing-extensions in /opt/conda/lib/python3.7/site-packages (from omegaconf<2.1->fairseq) (4.4.0)\nRequirement already satisfied: colorama in /opt/conda/lib/python3.7/site-packages (from sacrebleu>=1.4.12->fairseq) (0.4.6)\nRequirement already satisfied: portalocker in /opt/conda/lib/python3.7/site-packages (from sacrebleu>=1.4.12->fairseq) (2.7.0)\nRequirement already satisfied: lxml in /opt/conda/lib/python3.7/site-packages (from sacrebleu>=1.4.12->fairseq) (4.9.2)\nRequirement already satisfied: tabulate>=0.8.9 in /opt/conda/lib/python3.7/site-packages (from sacrebleu>=1.4.12->fairseq) (0.9.0)\nRequirement already satisfied: pycparser in /opt/conda/lib/python3.7/site-packages (from cffi->fairseq) (2.21)\nRequirement already satisfied: importlib-metadata in /opt/conda/lib/python3.7/site-packages (from click->sacremoses) (4.11.4)\nRequirement already satisfied: zipp>=0.5 in /opt/conda/lib/python3.7/site-packages (from importlib-metadata->click->sacremoses) (3.11.0)\nBuilding wheels for collected packages: sacremoses, pyspark, antlr4-python3-runtime\n  Building wheel for sacremoses (setup.py) ... \u001B[?25ldone\n\u001B[?25h  Created wheel for sacremoses: filename=sacremoses-0.0.53-py3-none-any.whl size=895260 sha256=c54bea3d16bd9c26ec8f1bbfb34b929c383c0262b4f8506a35bbd525e32f5701\n  Stored in directory: /root/.cache/pip/wheels/5b/e0/77/05245143a5b31f65af6a21f7afd3219e9fa4896f918af45677\n  Building wheel for pyspark (setup.py) ... \u001B[?25ldone\n\u001B[?25h  Created wheel for pyspark: filename=pyspark-3.4.1-py2.py3-none-any.whl size=311285411 sha256=537fb082642345402bdc2a1238f53010d58699a1fa3a6579c7e4814a8b20139e\n  Stored in directory: /root/.cache/pip/wheels/db/49/80/ad1ae695c38d2ea81e663973a93490543ef1b7c51da7511c3b\n  Building wheel for antlr4-python3-runtime (setup.py) ... \u001B[?25ldone\n\u001B[?25h  Created wheel for antlr4-python3-runtime: filename=antlr4_python3_runtime-4.8-py3-none-any.whl size=141231 sha256=0d0d1302991d7be8edfd496c72d0f9f4013b6bf32af6cfbbd1e2e0a657dcbf04\n  Stored in directory: /root/.cache/pip/wheels/c9/ef/75/1b8c6588a8a8a15d5a9136608a9d65172a226577e7ae89da31\nSuccessfully built sacremoses pyspark antlr4-python3-runtime\nInstalling collected packages: spark-nlp, bitarray, antlr4-python3-runtime, subword-nmt, sacrebleu, pyspark, omegaconf, hydra-core, sacremoses, fairseq\nSuccessfully installed antlr4-python3-runtime-4.8 bitarray-2.8.1 fairseq-0.12.2 hydra-core-1.0.7 omegaconf-2.0.6 pyspark-3.4.1 sacrebleu-2.3.1 sacremoses-0.0.53 spark-nlp-5.1.0 subword-nmt-0.3.8\n\u001B[33mWARNING: Running pip as the 'root' user can result in broken permissions and conflicting behaviour with the system package manager. It is recommended to use a virtual environment instead: https://pip.pypa.io/warnings/venv\u001B[0m\u001B[33m\n\u001B[0m",
     "output_type": "stream"
    }
   ]
  },
  {
   "cell_type": "code",
   "source": [
    "prod_text = \"\"\"\n",
    "A privacy reminder from PrettyLittleThing  Read more  I agree\n",
    "\n",
    "######  A privacy reminder\n",
    "\n",
    "  * Home \n",
    "  * Womens Clothing \n",
    "  * Sleepwear \n",
    "  * Pajamas \n",
    "  * PRETT... \n",
    "\n",
    "Twitter\n",
    "\n",
    "|\n",
    "\n",
    "Facebook  \n",
    "  \n",
    "---|---  \n",
    "  \n",
    "Pinterest\n",
    "\n",
    "|\n",
    "\n",
    "Whatsapp  \n",
    "  \n",
    "Messenger\n",
    "\n",
    "|\n",
    "\n",
    "SMS  \n",
    "  \n",
    "Catwalk Video\n",
    "\n",
    "#  PRETTYLITTLETHING Tape Pink PJ Set Pants\n",
    "\n",
    "Last few remaining\n",
    "\n",
    "$35.00\n",
    "\n",
    "* \n",
    "\n",
    "$24.00  (31% OFF)\n",
    "\n",
    "Select US Size . 0 (out of stock) . 2 (out of stock) . 4 (out of stock) . 6\n",
    "(out of stock) . 8 (out of stock) . 10 (out of stock)  12\n",
    "\n",
    "Please select a size\n",
    "\n",
    "ADD TO BAG\n",
    "\n",
    "Size Guide\n",
    "\n",
    "Product Details\n",
    "\n",
    "CMS9610\n",
    "\n",
    "This PJ set is a must for those chilled nights in. Featuring a crop top and\n",
    "long bottoms, both in a pink material with a contrasting PrettyLittleThing\n",
    "tape design waistband, we're obsessed. Style this set with slippers for a\n",
    "combo we're obsessed with.\n",
    "\n",
    "  * Top length approx 33cm/13\" (Based on a sample size UK 8) . Bottoms length approx 75cm/29.5\" (Based on a sample size UK 8) . Model wears size UK 8/ EU 36/ AUS 8/ US 4 . Model Height - 5ft 5\" \n",
    "  * Style Information \n",
    "\n",
    "    * Range: Lingerie & Nightwear \n",
    "    * Style: Long PJ Set \n",
    "    * Color: Pink \n",
    "    * Occasion: Day \n",
    "\n",
    "Fabric & Care\n",
    "\n",
    "95% Viscose 5% Elastane . Please note: due to fabric used, colour may\n",
    "transfer.\n",
    "\n",
    "Shipping\n",
    "\n",
    "Shipping Option . Shipping Times . Shipping Costs  \n",
    "---  \n",
    "USA Standard . up to 9 business days . $7.99  \n",
    "USA Express . up to 4 business days . $14.99  \n",
    "USA Express Click & Collect . up to 4 business days . $13.99  \n",
    "CAN Standard . up to 7 business days . $15.99  \n",
    "CAN Express . up to 4 business days . $30.99  \n",
    "  \n",
    "Please note estimated shipping times include processing time at the warehouse\n",
    "and are calculated from the date the order is placed.\n",
    "\n",
    "Returns\n",
    "\n",
    "All orders (subject to our returns policy) can be returned up to 28 days after\n",
    "the date of purchase. . Please note, we cannot offer refunds on beauty,\n",
    "pierced jewellery or on swimwear if the hygiene seal is not in place or has\n",
    "been broken. . Click here to view our full Returns Policy.\n",
    "\n",
    "*Pricing Policy . Our percentage off promotions, discounts, or sale markdowns are customarily based on our own opinion of the value of this product, which is not intended to reflect a former price at which this product has sold in the recent past. This amount represents our opinion of the full retail value of this product today based on our own assesment after considering a number of factors. That's why before checking out, it's important you acknowledge that you understand this. Cool with that? Great, happy shopping! \n",
    "\n",
    "Shop The Look\n",
    "\n",
    "You may also like\n",
    "\n",
    "  * #####  Pink Fluffy Cross Strap Slippers \n",
    "\n",
    "$28.00\n",
    "\n",
    "$16.00\n",
    "\n",
    "(43% OFF)\n",
    "\n",
    "  * #####  PRETTYLITTLETHING Pink Fluffy... \n",
    "\n",
    "$55.00\n",
    "\n",
    "$31.00\n",
    "\n",
    "(44% OFF)\n",
    "\n",
    "  * #####  PRETTYLITTLETHING Pink Fluffy... \n",
    "\n",
    "$55.00\n",
    "\n",
    "$31.00\n",
    "\n",
    "(44% OFF)\n",
    "\n",
    "  * #####  PRETTYLITTLETHING Pink Satin Logo... \n",
    "\n",
    "$30.00\n",
    "\n",
    "$17.00\n",
    "\n",
    "(43% OFF)\n",
    "\n",
    "  * #####  Steel Blue Jersey Lace Trim Long Pj Set \n",
    "\n",
    "$35.00\n",
    "\n",
    "  * #####  Monochrome Abstract Print Satin Long... \n",
    "\n",
    "$42.00\n",
    "\n",
    "  * #####  Grey Oversized Jersey Piping Detail... \n",
    "\n",
    "$48.00\n",
    "\n",
    "$33.00\n",
    "\n",
    "(31% OFF)\n",
    "\n",
    "  * #####  PRETTYLITTLETHING Brown Tape Leopard... \n",
    "\n",
    "$38.00\n",
    "\n",
    "$26.00\n",
    "\n",
    "(32% OFF)\n",
    "\n",
    "Great! We've added that to your bag!\n",
    "\n",
    "\n",
    "\"\"\""
   ],
   "metadata": {
    "execution": {
     "iopub.status.busy": "2023-08-31T13:35:04.371970Z",
     "iopub.execute_input": "2023-08-31T13:35:04.372858Z",
     "iopub.status.idle": "2023-08-31T13:35:04.386562Z",
     "shell.execute_reply.started": "2023-08-31T13:35:04.372806Z",
     "shell.execute_reply": "2023-08-31T13:35:04.383990Z"
    },
    "jupyter": {
     "source_hidden": true
    },
    "trusted": true
   },
   "execution_count": 2,
   "outputs": []
  },
  {
   "cell_type": "code",
   "source": [
    "prod_text_pl = \"\"\"\n",
    "Sprawdź status zamówienia\n",
    "\n",
    "#  Biała tunika Giorgia\n",
    "\n",
    "Nasza cena:\n",
    "\n",
    "109,99 zł\n",
    "\n",
    "/ 1 szt.\n",
    "\n",
    "Oszczędzasz  30,00 zł\n",
    "\n",
    "(21% > taniej>)\n",
    "\n",
    "139,99 zł\n",
    "\n",
    "Najniższa cena przed obniżką\n",
    "\n",
    "wybierz\n",
    "\n",
    "Kolory\n",
    "\n",
    ":\n",
    "\n",
    "biały\n",
    "\n",
    "Wybierz rozmiar:\n",
    "\n",
    "S\n",
    "\n",
    "M\n",
    "\n",
    "L\n",
    "\n",
    "dobierz rozmiar\n",
    "\n",
    "Powiadomienie:\n",
    "\n",
    "Chcę dodatkowo otrzymać wiadomość SMS z powiadomieniem\n",
    "\n",
    "Dane są przetwarzane zgodnie z polityką prywatności . Przesyłając je,\n",
    "akceptujesz jej postanowienia.\n",
    "\n",
    "Powiadom o dostępności\n",
    "\n",
    "Powyższe dane nie są używane do przesyłania newsletterów lub innych reklam.\n",
    "Włączając powiadomienie zgadzasz się jedynie na wysłanie jednorazowo\n",
    "informacji o ponownej dostępności tego towaru.\n",
    "\n",
    "Ilość:\n",
    "\n",
    "Dodaj do koszyka\n",
    "\n",
    "Wysyłka 24h\n",
    "\n",
    "Darmowa dostawa od 250,00 zł\n",
    "\n",
    "ZAMÓW WYGODNIE PRZEZ TELEFON!  Pn.-Pt. 08:00-19:00, Sb.-Nd. 09:00-15:00\n",
    "\n",
    "Zapytaj o produkt\n",
    "\n",
    "Koszty wysyłki\n",
    "\n",
    "Kod produktu:\n",
    "\n",
    "YP-TU-wwd0468.79\n",
    "\n",
    "Marka:\n",
    "\n",
    "YUPS\n",
    "\n",
    "dekolt:\n",
    "\n",
    "okrągły\n",
    "\n",
    "wzór dominujący:\n",
    "\n",
    "gładki\n",
    "\n",
    "rękaw:\n",
    "\n",
    "bez rękawów\n",
    "\n",
    "typ produktu:\n",
    "\n",
    "tunika\n",
    "\n",
    "Kup za punkty\n",
    "\n",
    "Biała tunika Giorgia . . dodatki: gumka w dekolcie, gumka w pasie, regulowane\n",
    "ramiączka . skład materiału: 100% wiskoza . sposób prania: pranie w pralce w\n",
    "30°C . Modelka ma na sobie rozmiar S. Wymiary modelki: wzrost 177 cm, biust 81\n",
    "cm, talia 63 cm, biodra 93 cm. . Wymiary tuniki w rozmiarze S mierzone na\n",
    "płasko: szerokość pod pachami - 27 cm, długość całkowita - 82 cm\n",
    "\"\"\""
   ],
   "metadata": {
    "execution": {
     "iopub.status.busy": "2023-05-19T13:07:23.778148Z",
     "iopub.execute_input": "2023-05-19T13:07:23.778662Z",
     "iopub.status.idle": "2023-05-19T13:07:23.792629Z",
     "shell.execute_reply.started": "2023-05-19T13:07:23.778614Z",
     "shell.execute_reply": "2023-05-19T13:07:23.791533Z"
    },
    "jupyter": {
     "source_hidden": true
    },
    "trusted": true
   },
   "execution_count": 6,
   "outputs": []
  },
  {
   "cell_type": "code",
   "source": [
    "prod_text_pl_2 = \"\"\"\n",
    "Zaloguj się\n",
    "\n",
    "Zarejestruj się\n",
    "\n",
    "Sprawdź status zamówienia\n",
    "\n",
    "#  Ciemnoniebieska koszula jeansowa z przetarciami Suffolk RUE PARIS\n",
    "\n",
    "  * Kliknij, aby powiększyć \n",
    "  * Kliknij, aby powiększyć \n",
    "  * Kliknij, aby powiększyć \n",
    "  * Kliknij, aby powiększyć \n",
    "  * Kliknij, aby powiększyć \n",
    "\n",
    "Nasza cena:\n",
    "\n",
    "129,99 zł\n",
    "\n",
    "/ 1 szt.\n",
    "\n",
    "Oszczędzasz  50,00 zł\n",
    "\n",
    "(28% > taniej>)\n",
    "\n",
    "179,99 zł\n",
    "\n",
    "Najniższa cena przed obniżką\n",
    "\n",
    "Wybierz rozmiar:\n",
    "\n",
    "S\n",
    "\n",
    "M\n",
    "\n",
    "L\n",
    "\n",
    "XL\n",
    "\n",
    "dobierz rozmiar\n",
    "\n",
    "Powiadomienie:\n",
    "\n",
    "Chcę dodatkowo otrzymać wiadomość SMS z powiadomieniem\n",
    "\n",
    "Dane są przetwarzane zgodnie z polityką prywatności . Przesyłając je,\n",
    "akceptujesz jej postanowienia.\n",
    "\n",
    "Powiadom o dostępności\n",
    "\n",
    "Powyższe dane nie są używane do przesyłania newsletterów lub innych reklam.\n",
    "Włączając powiadomienie zgadzasz się jedynie na wysłanie jednorazowo\n",
    "informacji o ponownej dostępności tego towaru.\n",
    "\n",
    "Ilość:\n",
    "\n",
    "Dodaj do koszyka\n",
    "\n",
    "Wysyłka 24h\n",
    "\n",
    "Darmowa dostawa od 250,00 zł\n",
    "\n",
    "ZAMÓW WYGODNIE PRZEZ TELEFON!  Pn.-Pt. 08:00-19:00, Sb.-Nd. 09:00-15:00\n",
    "\n",
    "Zapytaj o produkt\n",
    "\n",
    "Koszty wysyłki\n",
    "\n",
    "Kod produktu:\n",
    "\n",
    "RO-KR-C01.27\n",
    "\n",
    "Marka:\n",
    "\n",
    "RUE PARIS\n",
    "\n",
    "wzór dominujący:\n",
    "\n",
    "gładki\n",
    "\n",
    "dekolt:\n",
    "\n",
    "kołnierzyk\n",
    "\n",
    "rękaw:\n",
    "\n",
    "długi rękaw\n",
    "\n",
    "materiał dominujący:\n",
    "\n",
    "bawełna\n",
    "\n",
    "zapięcie:\n",
    "\n",
    "guziki\n",
    "\n",
    "cechy dodatkowe:\n",
    "\n",
    "dziury , przetarcia\n",
    "\n",
    "Kup za punkty\n",
    "\n",
    "Ciemnoniebieska koszula jeansowa z przetarciami Suffolk RUE PARIS . . skład\n",
    "materiału: 98% bawełna, 2% elastan . sposób prania: pranie w pralce w 30°C .\n",
    "Modelka ma na sobie rozmiar S. Wymiary modelki: wzrost 173 cm, biust 83 cm,\n",
    "talia 60 cm, biodra 90 cm. . Wymiary koszuli w rozmiarze S mierzone na płasko:\n",
    "szerokość pod pachami - 50 cm, długość całkowita - 72 cm, długość rękawa - 57\n",
    "cm\n",
    "\n",
    "Zapytaj o produkt\n",
    "\n",
    "###  Jeżeli powyższy opis jest dla Ciebie niewystarczający, prześlij nam swoje\n",
    "pytanie odnośnie tego produktu. Postaramy się odpowiedzieć tak szybko jak\n",
    "tylko będzie to możliwe.\n",
    "\n",
    "E-mail\n",
    "\n",
    "Pytanie\n",
    "\n",
    "Dane są przetwarzane zgodnie z polityką prywatności . Przesyłając je,\n",
    "akceptujesz jej postanowienia.\n",
    "\n",
    "Wyślij\n",
    "\n",
    "Pola oznaczone gwiazdką są wymagane\n",
    "\n",
    "Każdy produkt zamówiony w sklepie internetowym eButik można zwrócić bez\n",
    "podania przyczyny w ciągu 100 dni od momentu otrzymania przesyłki. Zobacz\n",
    "gwarancję zwrotu .\n",
    "\n",
    "###  Jeżeli chcesz poinformować swojego znajomego o produkcie, który Twoim\n",
    "zdaniem może go zainteresować, skorzystaj z poniższego formularza.\n",
    "\n",
    "Do  Możesz podać więcej adresów e-mail, rozdzielając je przecinkami\n",
    "\n",
    "Podpis\n",
    "\n",
    "Treść\n",
    "\n",
    "Wyślij\n",
    "\n",
    "Pola oznaczone gwiazdką są wymagane\n",
    "\n",
    "Niestety ten produkt nie ma jeszcze opinii. Twoja opinia może być pierwsza.\n",
    "\n",
    "Napisz swoją opinię\n",
    "\n",
    "Poleć znajomej\n",
    "\n",
    "Napisz swoją opinię\n",
    "\n",
    "Twoja ocena:\n",
    "\n",
    "5/5\n",
    "\n",
    "Treść twojej opinii\n",
    "\n",
    "Dodaj własne zdjęcie produktu:\n",
    "\n",
    "Twoje imię\n",
    "\n",
    "Twój email\n",
    "\n",
    "Wyślij opinię\n",
    "\n",
    "Rozmiar  |  Rozmiar alt. . Wzrost . Obwód kl. piersiowej . Zew. dł. rękawa .\n",
    "Wew. dł rękawa  \n",
    "---|---  \n",
    "S  |  36 . 160-164 . 82 . 59 . 49  \n",
    "M  |  38 . 162-172 . 86 . 61 . 51  \n",
    "L  |  40 . 164-174 . 91 . 63 . 53  \n",
    "XL  |  42 . 166-178 . 96 . 65 . 55  \n",
    "  \n",
    "Jak prawidłowo określić swój rozmiar?\n",
    "\"\"\""
   ],
   "metadata": {
    "execution": {
     "iopub.status.busy": "2023-05-19T13:07:23.794912Z",
     "iopub.execute_input": "2023-05-19T13:07:23.795329Z",
     "iopub.status.idle": "2023-05-19T13:07:23.817006Z",
     "shell.execute_reply.started": "2023-05-19T13:07:23.795286Z",
     "shell.execute_reply": "2023-05-19T13:07:23.815207Z"
    },
    "jupyter": {
     "source_hidden": true
    },
    "trusted": true
   },
   "execution_count": 7,
   "outputs": []
  },
  {
   "cell_type": "code",
   "source": [
    "prod_text_pl_3 = \"\"\"\n",
    "365-dniowa polityka zwrotów - bez zadawania pytań!\n",
    "\n",
    "Dostawa 19 zł - Bezpłatna ponad 149 zł\n",
    "\n",
    "\\-  Zobacz opcje\n",
    "\n",
    "22 153 14 54 - (dni robocze w godz. 08:00 - 16:00)\n",
    "\n",
    "Zaloguj się  Moje konto\n",
    "\n",
    "Lista życzeń\n",
    "\n",
    "Koszyk\n",
    "\n",
    "Wszystkie akcesoria . Dopasuj akcesoria . Biżuteria . Torby i portfele\n",
    "\n",
    "Outlet Kolekcje Artykuły\n",
    "\n",
    "A - Z\n",
    "\n",
    "Bransoletki . Golenie . Kapelusze . Kolczyki . Krawaty . Muszki\n",
    "\n",
    "Naszyjniki . Okulary przeciwsłoneczne . Okulary zerówki . Paski . Pielęgnacja\n",
    "brody . Pierścionki\n",
    "\n",
    "Portfele . Poszetki . Rękawiczki . Spinki do krawatów . Spinki do mankietów\n",
    "\n",
    "Szaliki . Szelki . Szpilki do marynarki . Torby . Zegarki\n",
    "\n",
    "Zainspiruj się  Zegarki z przyciemnianymi lustrzanymi szkłami . Klasyczne\n",
    "zegarki inspirowane wyścigami\n",
    "\n",
    "Krawaty\n",
    "\n",
    "Zobacz wszystkie Krawaty bolo Krawaty dzianinowe Krawaty w jednolitym kolorze\n",
    "Muszniki Wąskie krawaty Świąteczne krawaty\n",
    "\n",
    "Poszetki\n",
    "\n",
    "Zobacz wszystkie\n",
    "\n",
    "Spinki do krawatów\n",
    "\n",
    "Zobacz wszystkie Komplety klipsów do krawata i spinek do mankietów Spinki do\n",
    "wąskich krawatów Szpilki do kołnierza / agrafki Łańcuszki do krawatów\n",
    "\n",
    "Paski\n",
    "\n",
    "Zobacz wszystkie\n",
    "\n",
    "Muszki\n",
    "\n",
    "Zobacz wszystkie Drewniane muszki Muszki do samodzielnego wiązania Muszki\n",
    "gotowe do noszenia Pasy smokingowe\n",
    "\n",
    "Szelki\n",
    "\n",
    "Zobacz wszystkie Opaski do koszul Szelki na guziki Szelki na klipsy\n",
    "\n",
    "Spinki do mankietów\n",
    "\n",
    "Zobacz wszystkie Komplety klipsów do krawata i spinek do mankietów Osłony na\n",
    "guziki Pudełka na spinki do mankietów\n",
    "\n",
    "Szpilki do marynarki\n",
    "\n",
    "Zobacz wszystkie\n",
    "\n",
    "Zainspiruj się  Zegarki z przyciemnianymi lustrzanymi szkłami . Klasyczne\n",
    "zegarki inspirowane wyścigami\n",
    "\n",
    "Kolczyki\n",
    "\n",
    "Zobacz wszystkie Fałszywe wkręty Kolczyki kółeczka z zawieszką Kolczyki\n",
    "magnetyczne Kolczyki na zatrzask Kolczyki z krzyżykiem Tunele do uszu Wkręty\n",
    "\n",
    "Zegarki\n",
    "\n",
    "Zobacz wszystkie Paski do zegarków Pudełka na zegarki Zegarki kieszonkowe\n",
    "Zegarki na rękę Zegarki z widocznym mechanizmem\n",
    "\n",
    "Naszyjniki\n",
    "\n",
    "Zobacz wszystkie Koralikowe naszyjniki Naszyjniki z krzyżem Naszyjniki z\n",
    "młotem Thora Nieśmiertelniki Różańce Saszetki na klucze Skórzane naszyjniki\n",
    "Stalowe naszyjniki\n",
    "\n",
    "Bransoletki\n",
    "\n",
    "Zobacz wszystkie Bransoletki mankietowe Bransoletki skórzane Bransoletki\n",
    "stalowe Bransoletki szerokie Bransoletki z koralików Bransoletki z kotwicą\n",
    "Bransoletki z paracordu\n",
    "\n",
    "Pierścionki\n",
    "\n",
    "Zobacz wszystkie Pierścienie ceramiczne Pierścionki z czaszką Pierścionki z\n",
    "kamieniami Stalowe pierścionki Sygnety Tytanowe pierścionki\n",
    "\n",
    "Zainspiruj się  Zegarki z przyciemnianymi lustrzanymi szkłami . Klasyczne\n",
    "zegarki inspirowane wyścigami\n",
    "\n",
    "Torby\n",
    "\n",
    "Zobacz wszystkie Plecaki Rękawy na laptopa Skórzane torby Torby na laptopa\n",
    "Torby na przybory toaletowe Torby na ramię Torby na siłownię\n",
    "\n",
    "Portfele\n",
    "\n",
    "Zobacz wszystkie Etui na karty Klipsy do banknotów Portfele Portfele z\n",
    "blokerem RFID Łańcuszki do portfela\n",
    "\n",
    "Zainspiruj się  Zegarki z przyciemnianymi lustrzanymi szkłami . Klasyczne\n",
    "zegarki inspirowane wyścigami\n",
    "\n",
    "Dostawa 19 zł - Bezpłatna ponad 149 zł  \\-\n",
    "\n",
    "Zobacz opcje\n",
    "\n",
    "Menu\n",
    "\n",
    "Szukaj\n",
    "\n",
    "Zaloguj się  Moje konto\n",
    "\n",
    "Lista życzeń\n",
    "\n",
    "Koszyk\n",
    "\n",
    "×\n",
    "\n",
    "Język:\n",
    "\n",
    "Bransoletki\n",
    "\n",
    "Golenie\n",
    "\n",
    "Kapelusze\n",
    "\n",
    "Kolczyki\n",
    "\n",
    "Krawaty\n",
    "\n",
    "Muszki\n",
    "\n",
    "Naszyjniki\n",
    "\n",
    "Okulary przeciwsłoneczne\n",
    "\n",
    "Okulary zerówki\n",
    "\n",
    "Paski\n",
    "\n",
    "Pielęgnacja brody\n",
    "\n",
    "Pierścionki\n",
    "\n",
    "Portfele\n",
    "\n",
    "Poszetki\n",
    "\n",
    "Rękawiczki\n",
    "\n",
    "Spinki do krawatów\n",
    "\n",
    "Spinki do mankietów\n",
    "\n",
    "Szaliki\n",
    "\n",
    "Szelki\n",
    "\n",
    "Szpilki do marynarki\n",
    "\n",
    "Torby\n",
    "\n",
    "Zegarki\n",
    "\n",
    "Outlet\n",
    "\n",
    "Nowe kolekcje\n",
    "\n",
    "Zegarki z przyciemnianymi lustrzanymi szkłami Zobacz wszystkie kolekcje\n",
    "\n",
    "Nowe artykuły\n",
    "\n",
    "Ratowanie świata Zobacz wszystkie artykuły\n",
    "\n",
    "22 153 14 54  Dni robocze w godz. 08:00 - 16:00\n",
    "\n",
    "Kontakt . Dostawa . Zwroty . Utwórz Zwrot . Płatność . O nas . Kariera\n",
    "\n",
    "Zobacz wszystkie\n",
    "\n",
    "Paski do zegarków\n",
    "\n",
    "Pomniejsz\n",
    "\n",
    "#  Czarny skórzany pasek z szarą klamrą\n",
    "\n",
    "109 zł\n",
    "\n",
    "Zobacz opcje wysyłki\n",
    "\n",
    "Dodaj do koszyka\n",
    "\n",
    "Produkt obecnie niedostępny\n",
    "\n",
    "Chcesz być powiadomiony, gdy produkt będzie ponownie dostępny? . Podaj nam\n",
    "swój adres e-mail i/lub numer telefonu, a powiadominy cię, gdy będzie z\n",
    "powrotem dostępny!\n",
    "\n",
    "Twój email  Poprawny adres mailowy\n",
    "\n",
    "Numer telefonu  Numer twojego telefonu jest niepoprawny\n",
    "\n",
    "Wybierz jedną lub obie opcje\n",
    "\n",
    "Wyślij mi e-mail/sms\n",
    "\n",
    "Przykro nam to słyszeć\n",
    "\n",
    "Powiedz nam, jakiego rozmiaru potrzebowałeś, abyśmy na przyszłość mogli być\n",
    "bardziej przygotowani.\n",
    "\n",
    "Brakujący rozmiar  Ups! Zostawiłeś puste pole\n",
    "\n",
    "Powiedz nam\n",
    "\n",
    "Zobacz opcje wysyłki\n",
    "\n",
    "Kolory\n",
    "\n",
    "Dostawa 19 zł - Bezpłatna ponad 149 zł\n",
    "\n",
    "W magazynie\n",
    "\n",
    "365-dniowa polityka zwrotów - bez zadawania pytań!\n",
    "\n",
    "W magazynie - Dostawa 19 zł - Bezpłatna ponad 149 zł\n",
    "\n",
    "Wraz z użyciem skóra mięknie\n",
    "\n",
    "Szybko mocuje się go do koperty twojego ulubionego zegarka\n",
    "\n",
    "Zaprojektowany przez Lucleon w Danii\n",
    "\n",
    "Opis / rozmiar\n",
    "\n",
    "Recenzje klientów (46)\n",
    "\n",
    "Opcje wysyłki\n",
    "\n",
    "Kolory\n",
    "\n",
    "Recenzje klientów (46)\n",
    "\n",
    "Opis\n",
    "\n",
    "Zmień swój styl za pomocą tego wygodnego, wymiennego paska. Wraz z noszeniem\n",
    "czarna skóra staje się bardziej miękka i elastyczna. Pasek jest wyposażony w\n",
    "męską szarą klamrę. Zaprojektowany przez Lucleon w Danii.\n",
    "\n",
    "ID: 16943\n",
    "\n",
    "Materiał\n",
    "\n",
    "Prawdziwa skóra Klamra ze stali nierdzewnej\n",
    "\n",
    "Wymiary\n",
    "\n",
    "Szerokość paska: 22 mm Długość długiego paska: 12 cm Długość paska na klamrę:\n",
    "9 cm\n",
    "\n",
    "Zobacz opcje wysyłki\n",
    "\n",
    "Produkty z tej samej kategorii\n",
    "\n",
    "Polecane dla ciebie\n",
    "\n",
    "×\n",
    "\n",
    "Cofnij\n",
    "\n",
    "Opis\n",
    "\n",
    "Zmień swój styl za pomocą tego wygodnego, wymiennego paska. Wraz z noszeniem\n",
    "czarna skóra staje się bardziej miękka i elastyczna. Pasek jest wyposażony w\n",
    "męską szarą klamrę. Zaprojektowany przez Lucleon w Danii.\n",
    "\n",
    "ID: 16943\n",
    "\n",
    "Materiał\n",
    "\n",
    "Prawdziwa skóra Klamra ze stali nierdzewnej\n",
    "\n",
    "Wymiary\n",
    "\n",
    "Szerokość paska: 22 mm Długość długiego paska: 12 cm Długość paska na klamrę:\n",
    "9 cm\n",
    "\n",
    "×\n",
    "\n",
    "Cofnij\n",
    "\n",
    "Opis\n",
    "\n",
    "Zmień swój styl za pomocą tego wygodnego, wymiennego paska. Wraz z noszeniem\n",
    "czarna skóra staje się bardziej miękka i elastyczna. Pasek jest wyposażony w\n",
    "męską szarą klamrę. Zaprojektowany przez Lucleon w Danii.\n",
    "\n",
    "ID: 16943\n",
    "\n",
    "Materiał\n",
    "\n",
    "Prawdziwa skóra Klamra ze stali nierdzewnej\n",
    "\n",
    "Wymiary\n",
    "\n",
    "Szerokość paska: 22 mm Długość długiego paska: 12 cm Długość paska na klamrę:\n",
    "9 cm\n",
    "\n",
    "×\n",
    "\n",
    "Cofnij\n",
    "\n",
    "Recenzje klientów\n",
    "\n",
    "(46)\n",
    "\n",
    "Zobacz opinie przetłumaczone przez Google (46) . od międzynarodowych klientów\n",
    "\n",
    "Pokaż więcej\n",
    "\n",
    "Od\n",
    "\n",
    "Przetłumaczone przez Google\n",
    "\n",
    "×\n",
    "\n",
    "Cofnij\n",
    "\n",
    "×\n",
    "\n",
    "Cofnij\n",
    "\n",
    "Który rozmiar cię interesuje?\n",
    "\n",
    "Ups! Nie zapomnij o tym.\n",
    "\n",
    "Rozmiar jest niedostępny\n",
    "\n",
    "Chcesz zostać powiadomiony gdy ten rozmiar będzie ponownie dostępny? . Podaj\n",
    "nam swój adres e-mail i/lub numer telefonu, a powiadominy cię, gdy będzie z\n",
    "powrotem dostępny!\n",
    "\n",
    "Twój email  Poprawny adres mailowy\n",
    "\n",
    "Numer telefonu  Numer twojego telefonu jest niepoprawny\n",
    "\n",
    "Wybierz jedną lub obie opcje\n",
    "\n",
    "Wyślij mi e-mail/sms\n",
    "\n",
    "Przykro nam to słyszeć\n",
    "\n",
    "Powiedz nam, jakiego rozmiaru potrzebowałeś, abyśmy na przyszłość mogli być\n",
    "bardziej przygotowani.\n",
    "\n",
    "Brakujący rozmiar  Ups! Zostawiłeś puste pole\n",
    "\n",
    "Powiedz nam\n",
    "\n",
    "Formy płatności\n",
    "\n",
    "Akceptujemy większość kart debetowych i kredytowych. Skontaktuj się z nami w\n",
    "razie jakichkolwiek pytań.\n",
    "\n",
    "Kontakt z nami\n",
    "\n",
    "Napisz do nas\n",
    "\n",
    "22 153 14 54\n",
    "\n",
    "Jesteśmy do Twojej dyspozycji w dni robocze od 08:00 do 16:00\n",
    "\n",
    "Obsługa klienta\n",
    "\n",
    "  * Kontakt . Dostawa . Zwroty . Utwórz Zwrot . Płatność . O nas . Kariera \n",
    "\n",
    "Chcesz dołączyć do Tribe?\n",
    "\n",
    "  * Dołącz do Tribe, aby uzyskać ekskluzywne zniżki, inspiracje stylowe i więcej! \n",
    "\n",
    "Twój email  Ups! Potrzebujemy Twój email  Poprawny adres mailowy\n",
    "\n",
    "Tak! Chcę dołączyć\n",
    "\n",
    "Podając swój e-mail, akceptujesz naszą Politykę prywatności oraz wyrażasz\n",
    "zgodę na otrzymywanie e-mailem naszych ofert i nowości produktowych. W\n",
    "dowolnej chwili możesz zrezygnować z subskrypcji i opuścić Tribe.\n",
    "\n",
    "Ooooh yeah!\n",
    "\n",
    "Witaj w Tribe! . Obiecujemy wysyłać wyłącznie dobre materiały.\n",
    "\n",
    "Poznaj nas\n",
    "\n",
    "Przeczytaj o tym, jak Trendhim urósł z niczego do ponad 5 000 wyjątkowych\n",
    "produktów. Każdy ma swoją historię… nasza obejmuje gazelę.\n",
    "\n",
    "Znajdź nas\n",
    "\n",
    "Facebook . YouTube . Instagram\n",
    "\n",
    "Polityka prywatności | Polityka cookie | Spersonalizuj cookies . © 2009-2022 |\n",
    "Trendhim.pl | Tel.: 22 153 14 54 - info@trendhim.pl | Warunki | CSR | Prasa\n",
    "\n",
    "Okay\n",
    "\n",
    "Zamknij\n",
    "\n",
    "Dodaj do koszyka\n",
    "\n",
    "Dodaj\n",
    "\n",
    "Cofnij\n",
    "\n",
    "Zaloguj się\n",
    "\n",
    "Ups! Sprawdź, czy wprowadziłeś prawidłowo swój e-mail i hasło.\n",
    "\n",
    "Adres Email  Ups! Potrzebujemy Twój email  Poprawny adres mailowy\n",
    "\n",
    "Hasło  Ups! Zostawiłeś puste pole\n",
    "\n",
    "Zaloguj się  Resetuj moje hasło  Utwórz nowe konto\n",
    "\n",
    "Resetuj moje hasło\n",
    "\n",
    "Dziękujemy ! Jeśli posiadasz konto, otrzymasz od nas e-mail. Jeśli nie\n",
    "otrzymasz od nas e-maila, to dlatego, że nie masz konta. Możesz utworzyć\n",
    "konto, klikając UTWÓRZ NOWE KONTO w naszym menu „Zaloguj się”\n",
    "\n",
    "Adres Email  Ups! Potrzebujemy Twój email  Poprawny adres mailowy\n",
    "\n",
    "Resetuj moje hasło  Powrót do strony logowania\n",
    "\"\"\""
   ],
   "metadata": {
    "execution": {
     "iopub.status.busy": "2023-05-19T13:07:23.819317Z",
     "iopub.execute_input": "2023-05-19T13:07:23.819802Z",
     "iopub.status.idle": "2023-05-19T13:07:23.842950Z",
     "shell.execute_reply.started": "2023-05-19T13:07:23.819756Z",
     "shell.execute_reply": "2023-05-19T13:07:23.841662Z"
    },
    "jupyter": {
     "source_hidden": true
    },
    "trusted": true
   },
   "execution_count": 8,
   "outputs": []
  },
  {
   "cell_type": "code",
   "source": [
    "content = \"\"\"\n",
    "Extract all information about the product from this text from a web store. Extract product title, brand, current price, old price, number of available items (of each size), specifications (including material and dimensions), description, all sizes, all colors, all variants, categories, breadcrumbs, ratings (including number per each rating), opinions, similar products, products I may also like, related products, recommended for me. Return as much data as you can in the form of unordered lists but provide a description as a paragraph of text. Categorize the product yourself (provide one general and one specific category). For each opinion return only the opinion text itself. If there's no information return: \"not included\". The text:\n",
    "google-site-verification: oTy3Ui8t8vQageLpWK7dP1OaRxBzl6HYHA03bjks3aw\n",
    "description: Buy Sporty Spice Bra - Black | Fashion Nova with Available in Black, Heather Grey, and Pink Sporty Triangle Bralette Removable Straps at Front Elastic Band Lingerie Adjustable Straps 92% Micromodal, 8% Elastane All Lingerie FINAL SALE from Fashion Nova\n",
    "og site_name: Fashion Nova\n",
    "og url: \n",
    "og title: Sporty Spice Bra - Black\n",
    "og type: product\n",
    "og description: Buy Sporty Spice Bra in Black from Fashion Nova. These Lingerie & Sleepwear are available in most sizes. Receive free US shipping on orders over $75.\n",
    "og price amount: 2.98\n",
    "og price currency: USD\n",
    "og image: \n",
    "og image: \n",
    "og image: \n",
    "og image secure_url: \n",
    "og image secure_url: \n",
    "og image secure_url: \n",
    "twitter card: summary_large_image\n",
    "twitter title: Sporty Spice Bra - Black\n",
    "twitter description: Buy Sporty Spice Bra in Black from Fashion Nova. These Lingerie & Sleepwear are available in most sizes. Receive free US shipping on orders over $75.\n",
    "\n",
    " Skip to content ###  Till 12PM! Free 1 Day Ship For Orders Over $100!\n",
    "\n",
    "##  Till 12PM! Free 1 Day Ship For Orders Over $100!\n",
    "\n",
    " 0  0  0  :  0  0  :  0  0  BOGO Free All Most Wanted Jeans! W. Code: HOT \n",
    "\n",
    "###  HURRY! Extra 50% Off Sale W. Code: HOT Ends @ 12AM\n",
    "\n",
    "##  HURRY! Extra 50% Off Sale W. Code: HOT Ends @ 12AM\n",
    "\n",
    " 0  0  0  :  0  0  :  0  0  BOGO Free All Most Wanted Jeans! W. Code: HOT \n",
    "\n",
    "###  Till 12PM! Free 1 Day Ship For Orders Over $100!\n",
    "\n",
    "##  Till 12PM! Free 1 Day Ship For Orders Over $100!\n",
    "\n",
    " 0  0  0  :  0  0  :  0  0  BOGO Free All Most Wanted Jeans! W. Code: HOT \n",
    "\n",
    "###  Till 12PM! Free 1 Day Ship For Orders Over $100!\n",
    "\n",
    "##  Till 12PM! Free 1 Day Ship For Orders Over $100!\n",
    "\n",
    " 0  0  0  :  0  0  :  0  0  Don't Miss Out! Extra 30% OFF EVERYTHING! Use Code: NEWAF \n",
    "\n",
    "###  Till 12PM! Free 1 Day Ship For Orders Over $100!\n",
    "\n",
    "##  Till 12PM! Free 1 Day Ship For Orders Over $100!\n",
    "\n",
    " 0  0  0  :  0  0  :  0  0  50% Off All Maven Beauty! No Code Needed! \n",
    "\n",
    " Navigation menu  --panelTitle-- ####  --title--  --title--\n",
    "\n",
    " --label-- * --link-label--\n",
    "##  Currency\n",
    "\n",
    " 🇺🇸  🇺🇸  United States Dollar  USD $  YOUR CURRENCY AND REGION  🇺🇸  United States Dollar  USD $  Your order will be billed in USD $.  Recommended based on your current location. * 🇦🇪  United Arab Emirates Dirham  AED د.إ\n",
    "* 🇦🇱  Albanian Lek  ALL L\n",
    "* 🇦🇴  Angolan Kwanza  AOA Kz\n",
    "* 🇦🇺  Australian Dollar  AUD $\n",
    "* 🇨🇦  Canadian Dollar  CAD $\n",
    "* 🇨🇭  Swiss Franc  CHF CHF\n",
    "* 🇨🇱  Chilean Peso  CLP $\n",
    "* 🇨🇿  Czech Koruna  CZK Kč\n",
    "* 🇩🇰  Danish Krone  DKK kr.\n",
    "* 🇩🇴  Dominican Peso  DOP $\n",
    "* 🇪🇺  Euro  EUR €\n",
    "* 🇬🇧  British Pound  GBP £\n",
    "* 🇭🇰  Hong Kong Dollar  HKD $\n",
    "* 🇭🇺  Hungarian Forint  HUF Ft\n",
    "* 🇮🇱  Israeli New Sheqel  ILS ₪\n",
    "* 🇮🇸  Icelandic Króna  ISK kr\n",
    "* 🇯🇵  Japanese Yen  JPY ¥\n",
    "* 🇰🇷  South Korean Won  KRW ₩\n",
    "* 🇰🇾  Cayman Islands Dollar  KYD $\n",
    "* 🇲🇽  Mexican Peso  MXN $\n",
    "* 🇲🇾  Malaysian Ringgit  MYR RM\n",
    "* 🇲🇿  Mozambican Metical  MZN MTn\n",
    "* 🇳🇬  Nigerian Naira  NGN ₦\n",
    "* 🇳🇴  Norwegian Krone  NOK kr\n",
    "* 🇳🇿  New Zealand Dollar  NZD $\n",
    "* 🇵🇪  Peruvian Sol  PEN S/.\n",
    "* 🇵🇭  Philippine Peso  PHP ₱\n",
    "* 🇵🇱  Polish Złoty  PLN zł\n",
    "* 🇶🇦  Qatari Riyal  QAR ر.ق\n",
    "* 🇷🇴  Romanian Leu  RON Lei\n",
    "* 🇷🇺  Russian Ruble  RUB ₽\n",
    "* 🇸🇦  Saudi Riyal  SAR ر.س\n",
    "* 🇸🇨  Seychellois Rupee  SCR ₨\n",
    "* 🇸🇪  Swedish Krona  SEK kr\n",
    "* 🇸🇬  Singapore Dollar  SGD $\n",
    "* 🇺🇸  United States Dollar  USD $\n",
    "* 🇿🇦  South African Rand  ZAR R\n",
    "\n",
    " We couldn’t find any regions that match your search term.  Fashion Nova \n",
    "\n",
    " Download the app to shop and checkout faster. \n",
    "\n",
    " Get App * Instagram\n",
    "* Tiktok\n",
    "* Youtube\n",
    "* Snapchat\n",
    "* Facebook\n",
    "* Pinterest\n",
    "###  Get Help\n",
    "\n",
    "###  Get Help\n",
    "\n",
    "* Help Center\n",
    "* Track Order\n",
    "* Shipping Info\n",
    "* Returns\n",
    "* Contact Us\n",
    "###  Company\n",
    "\n",
    "###  Company\n",
    "\n",
    "* Careers\n",
    "* About\n",
    "* Stores\n",
    "* Want to Collab?\n",
    "###  Quick Links\n",
    "\n",
    "###  Quick Links\n",
    "\n",
    "* Size Guide\n",
    "* Sitemap\n",
    "* Gift Cards\n",
    "* Check Gift Card Balance\n",
    "###  Legal\n",
    "\n",
    "###  Legal\n",
    "\n",
    "* Promo T&Cs\n",
    "* Privacy Policy\n",
    "* Terms of Service\n",
    "* CA Supply Chains Act\n",
    "* Do Not Sell My Information\n",
    " © 2022 Fashion Nova, LLC All Rights Reserved  PromoT&Cs Privacy Policy Terms of Service CA Supply Chains Act Do Not Sell My Information  women-new-in \n",
    "\n",
    " {  Define a menu with women-best-sellers \n",
    "\n",
    " women-trending \n",
    "\n",
    " women-halloween \n",
    "\n",
    " women-clothing \n",
    "\n",
    " women-sale \n",
    "\n",
    " women-dresses \n",
    "\n",
    " women-jeans \n",
    "\n",
    " women-sets \n",
    "\n",
    " women-shoes \n",
    "\n",
    " women-swim \n",
    "\n",
    " women-jumpsuits-rompers \n",
    "\n",
    " women-graphics \n",
    "\n",
    " women-tops \n",
    "\n",
    " women-bottoms \n",
    "\n",
    " women-lingerie \n",
    "\n",
    " women-active \n",
    "\n",
    " women-lounge \n",
    "\n",
    " women-accessories \n",
    "\n",
    " women-novabeauty \n",
    "\n",
    " curve-new-in \n",
    "\n",
    " {  Define a menu with curve-halloween \n",
    "\n",
    " curve-dresses \n",
    "\n",
    " curve-jeans \n",
    "\n",
    " curve-sets \n",
    "\n",
    " curve-shoes \n",
    "\n",
    " curve-jumpsuits-rompers \n",
    "\n",
    " curve-lingerie \n",
    "\n",
    " curve-tops \n",
    "\n",
    " curve-graphics \n",
    "\n",
    " curve-swim \n",
    "\n",
    " {  Define a menu with curve-active-lounge \n",
    "\n",
    " curve-bottoms \n",
    "\n",
    " curve-shorts \n",
    "\n",
    " curve-accessories \n",
    "\n",
    " curve-sale \n",
    "\n",
    " curve-novabeauty \n",
    "\n",
    " men-new-in \n",
    "\n",
    " {  Define a menu with men-halloween \n",
    "\n",
    " men-clothing \n",
    "\n",
    " men-nova-men-essentials \n",
    "\n",
    " men-jeans \n",
    "\n",
    " men-graphics-tees \n",
    "\n",
    " men-hoodies-sweats \n",
    "\n",
    " men-tops \n",
    "\n",
    " men-bottoms \n",
    "\n",
    " men-shorts-swim \n",
    "\n",
    " men-accessories \n",
    "\n",
    " men-plus \n",
    "\n",
    " men-sale \n",
    "\n",
    " kids-shop-all \n",
    "\n",
    " kids-new-in \n",
    "\n",
    " kids-girls \n",
    "\n",
    " kids-boys \n",
    "\n",
    " {  Define a menu with kids-gender-neutral \n",
    "\n",
    " kids-sale \n",
    "\n",
    " beauty-novabeauty \n",
    "\n",
    " beauty-shop-all-beauty \n",
    "\n",
    " beauty-makeup \n",
    "\n",
    " {  Define a menu with beauty-body \n",
    "\n",
    " {  Define a menu with beauty-skincare \n",
    "\n",
    " {  Define a menu with beauty-hair \n",
    "\n",
    " {  Define a menu with beauty-nail \n",
    "\n",
    " beauty-brands \n",
    "\n",
    " Shop Similar #  Sporty Spice Bra - Black\n",
    "\n",
    " or 4 payments of $  with  or  Buy items now and pay later in 4 payments. Learn more  Final Sale \n",
    "\n",
    " Bodysuits, swimwear, undergarments, beauty products, cosmetics, accessories and Halloween products are final sale. To learn more, visit our Return Policy .  Black \n",
    "\n",
    " Fit \n",
    "\n",
    " Sold out -  Get notified \n",
    "\n",
    " Size Chart  XS  Out of stock  S  Out of stock  M  Out of stock  L  Out of stock  Hurry, almost sold out…  Add to bag  Sold out - Get Notified  By signing up for email, you agree to Fashion Nova's Terms of Service and Privacy Policy . \n",
    "\n",
    " By signing up via text, you agree to receive recurring automated promotional and personalized marketing text messages (e.g. cart reminders) from Fashion Nova at the cell number used when signing up. Consent is not a condition of any purchase. Reply HELP for help and STOP to cancel. Msg frequency varies. Msg and data rates may apply. View Terms & Privacy . \n",
    "\n",
    " By signing up for email, you agree to Fashion Nova's Terms of Service and Privacy Policy . By signing up via text, you agree to receive recurring automated promotional and personalized marketing text messages (e.g. cart reminders) from Fashion Nova at the cell number used when signing up. Consent is not a condition of any purchase. Reply HELP for help and STOP to cancel. Msg frequency varies. Msg and data rates may apply. View Terms & Privacy . \n",
    "\n",
    " By signing up for email, you agree to Fashion Nova's Terms of Service and Privacy Policy . \n",
    "\n",
    " By submitting this form, you agree to receive recurring automated marketing text messages (e.g. cart reminders) from Fashion Nova CA at the cell number used when signing up. Consent is not a condition of any purchase. Reply HELP for help. You can withdraw your consent at any time by texting STOP. Msg frequency varies. Std Msg & data rates may apply. View Terms & Privacy . Contact Fashion Nova at 2801 East 46th, Vernon, CA 90058 +  . \n",
    "\n",
    " By signing up for email, you agree to Fashion Nova's Terms of Service and Privacy Policy . By submitting this form, you agree to receive recurring automated marketing text messages (e.g. cart reminders) from Fashion Nova CA at the cell number used when signing up. Consent is not a condition of any purchase. Reply HELP for help and STOP to cancel. You can withdraw your consent at any time by texting STOP to 55525. Msg frequency varies. Std Msg & data rates may apply. View Terms & Privacy . Contact Fashion Nova at 2801 East 45th, Vernon, CA 90058 +  . \n",
    "\n",
    " By signing up for email, you agree to Fashion Nova's Terms of Service and Privacy Policy . \n",
    "\n",
    " By signing up via text, you agree to receive marketing text messages from Fashion Nova. We may use information collected about you on our site to suggest other products and offers. You can unsubscribe at any time by replying STOP to our text. View Terms & Privacy . \n",
    "\n",
    " By signing up for email, you agree to Fashion Nova's Terms of Service and Privacy Policy . By signing up via text, you agree to receive marketing text messages from Fashion Nova. We may use information collected about you on our site to suggest other products and offers. You can unsubscribe at any time by replying STOP to our text. View Terms & Privacy . \n",
    "\n",
    " By signing up for email, you agree to Fashion Nova's Terms of Service and Privacy Policy . \n",
    "\n",
    " By signing up for email, you agree to Fashion Nova's Terms of Service and Privacy Policy . \n",
    "\n",
    " Get it by  with Rush Shipping \n",
    "\n",
    " Order within hrs mins  Product Details * Available in Black, Heather Grey, and Pink\n",
    "* Sporty Triangle Bralette\n",
    "* Removable Straps at Front\n",
    "* Elastic Band\n",
    "* Lingerie\n",
    "* Adjustable Straps\n",
    "* 92% Micromodal, 8% Elastane\n",
    "* All Lingerie FINAL SALE\n",
    "* Available in Black, Heather Grey, and Pink\n",
    "* Sporty Triangle Bralette\n",
    "* Removable Straps at Front\n",
    "* Elastic Band\n",
    "* Lingerie\n",
    "* Adjustable Straps\n",
    "* 92% Micromodal, 8% Elastane\n",
    "* All Lingerie FINAL SALE\n",
    " 30-day Returns: Store Credit  With limited exceptions, valid returns are refunded in the form of store credit. Damaged/defective items will be subject to an exchange if in stock. \n",
    "\n",
    " All store credit, refunds, and/or exchanges that are due will be issued within 3 to 5 business days after the return is processed. \n",
    "\n",
    " All final sale items are marked as such and cannot be returned for store credit. \n",
    "\n",
    " You can find additional information about our . \n",
    "\n",
    "###  See 20+ similar styles\n",
    "\n",
    " Shop similar ##  Goes well with\n",
    "\n",
    " product  Skip Carousel  product  Load more ###  See 20+ similar styles\n",
    "\n",
    " Shop similar  product  Skip Carousel  Skip Carousel ##  Shipping Details\n",
    "\n",
    "##  🚚 Standard\n",
    "\n",
    "\n",
    "\n",
    "|  |  |  |\n",
    "| --- | --- | --- |\n",
    "|  Orders Under $75  |  $6.99  |  5-8 Business Days\\*  |\n",
    "|  Orders Over $75  |  FREE  |  5-8 Business Days\\*  |\n",
    "\n",
    "##  ✈️ Express\n",
    "\n",
    "\n",
    "\n",
    "|  |  |  |\n",
    "| --- | --- | --- |\n",
    "|  All orders  |  $10.99  |  3-4 Business Days\\*  |\n",
    "\n",
    "##  🚀 Rush\n",
    "\n",
    "\n",
    "\n",
    "|  |  |  |\n",
    "| --- | --- | --- |\n",
    "|  All orders  |  $14.99  |  1-2 Business Days\\*  |\n",
    "\n",
    "##  🐢 No Rush\n",
    "\n",
    "\n",
    "\n",
    "|  |  |  |\n",
    "| --- | --- | --- |\n",
    "|  Orders Over $75  |  FREE  |  10-13 Business Days\\*  |\n",
    "\n",
    " \\*Estimated number of business days it takes until you will receive your order after placing it on the website. Business days do not include Saturdays, Sundays, or US holidays. This time includes processing and in-transit time for your order. \n",
    "\n",
    "##  🚚 Standard Shipping\n",
    "\n",
    "\n",
    "\n",
    "|  |  |  |\n",
    "| --- | --- | --- |\n",
    "|  Orders Under $75  |  $7.99  |  12-15 Days\\*\\*  |\n",
    "|  Orders Over $75  |  FREE\\*\\*\\*  |  12-15 Days\\*\\*  |\n",
    "\n",
    "##  ✈️ Express\n",
    "\n",
    "\n",
    "\n",
    "|  |  |  |\n",
    "| --- | --- | --- |\n",
    "|  All orders  |  $20  |  7-9 Days\\*\\*\\*\\*  |\n",
    "\n",
    " \\*\\*Starts when your order has been shipped, and does not include standard processing time of up to 4 business days. Business days do not include Saturdays, Sundays, or US Holidays. For information on anticipated delivery (inclusive of processing and transit times), please refer to our Shipping Policies . \n",
    "\n",
    " \\*\\*\\*Orders must equal or exceed the amount shown after all discounts and coupons have been applied to qualify for the promotion. \n",
    "\n",
    " \\*\\*\\*\\*DHL Express shipping methods do not include Duties or Taxes. Duties and Taxes are subject to being collected at the time of delivery by your carrier. \n",
    "\n",
    "##  🚚 Standard Shipping\n",
    "\n",
    "\n",
    "\n",
    "|  |  |  |\n",
    "| --- | --- | --- |\n",
    "|  Orders Under $125  |  $9.99  |  12-15 Days\\*\\*  |\n",
    "|  Orders Over $125  |  FREE\\*\\*\\*  |  12-15 Days\\*\\*  |\n",
    "\n",
    "##  ✈️ Express\n",
    "\n",
    "\n",
    "\n",
    "|  |  |  |\n",
    "| --- | --- | --- |\n",
    "|  All orders  |  $20  |  7-9 Days\\*\\*\\*\\*  |\n",
    "\n",
    " \\*\\*Starts when your order has been shipped, and does not include standard processing time of up to 4 business days. Business days do not include Saturdays, Sundays, or US Holidays. For information on anticipated delivery (inclusive of processing and transit times), please refer to our Shipping Policies . \n",
    "\n",
    " \\*\\*\\*Orders must equal or exceed the amount shown after all discounts and coupons have been applied to qualify for the promotion. \n",
    "\n",
    " \\*\\*\\*\\*DHL Express shipping methods do not include Duties or Taxes. Duties and Taxes are subject to being collected at the time of delivery by your carrier. \n",
    "\n",
    "##  🚚 Standard Shipping\n",
    "\n",
    "\n",
    "\n",
    "|  |  |  |\n",
    "| --- | --- | --- |\n",
    "|  Orders Under $125  |  $15.00  |  12-15 Days\\*\\*  |\n",
    "|  Orders Over $125  |  FREE\\*\\*\\*  |  12-15 Days\\*\\*  |\n",
    "\n",
    "##  ✈️ Express\n",
    "\n",
    "\n",
    "\n",
    "|  |  |  |\n",
    "| --- | --- | --- |\n",
    "|  All orders  |  $25  |  7-9 Days\\*\\*\\*\\*  |\n",
    "\n",
    " \\*\\*Starts when your order has been shipped, and does not include standard processing time of up to 4 business days. Business days do not include Saturdays, Sundays, or US Holidays. For information on anticipated delivery (inclusive of processing and transit times), please refer to our Shipping Policies . \n",
    "\n",
    " \\*\\*\\*Orders must equal or exceed the amount shown after all discounts and coupons have been applied to qualify for the promotion. \n",
    "\n",
    " \\*\\*\\*\\*DHL Express shipping methods do not include Duties or Taxes. Duties and Taxes are subject to being collected at the time of delivery by your carrier. \n",
    "\n",
    " Domestic: We offer Standard Shipping, Express Shipping, and Rush Shipping. \n",
    "\n",
    " International: We offer shipping to Canada, UK, and most other countries. \n",
    "\n",
    " All orders are subject to processing time that is separate and apart from the time it takes for a shipment to reach its destination once it has been picked up from our fulfillment center by the applicable carrier. Depending on a number of factors, standard domestic and international orders may take up to 4 business days (excluding Saturdays, Sundays, and Holidays) to process. \n",
    "\n",
    " After your payment is authorized and verified, Standard orders can still take up to 4 business days, Express orders can still take up to 3 business days, and Rush orders can still take up to 1 business day to process. This is just an estimate and doesn't include weekends or holidays. \n",
    "\n",
    " In-Transit time starts when your order has been shipped, and does not include standard processing time applicable to the shipping method selected at the time of checkout. Business days do not include Saturdays, Sundays, or US Holidays. For information on anticipated delivery (inclusive of processing and transit times), please refer to our Shipping Policy or the Shipping chart above. \n",
    "\n",
    " Fashion Nova is not responsible for applicable customs fees, import duties, taxes or any other charges. \n",
    "\n",
    "* choosing a selection results in a full page refresh\n",
    "* press the space key then arrow keys to make a selection\n",
    "\n",
    " This site uses cookies to provide an optimized shopping experience. By using this site, you agree to the use of cookies within our privacy policy . \n",
    "\n",
    " Dismiss  product    6333125636  Sporty Spice Bra - Black  2.98  //  //  USD  OutOfStock  Lingerie & Sleepwear  All  Badge  EXTRA PROMO COLLECTION * Available in Black, Heather Grey, and Pink\n",
    "* Sporty Triangle Bralette\n",
    "* Removable Straps at Front\n",
    "* Elastic Band\n",
    "* Lingerie\n",
    "* Adjustable Straps\n",
    "* 92% Micromodal, 8% Elastane\n",
    "* All Lingerie FINAL SALE\n",
    "\n",
    " 5.99  Fashion Nova  All Promo  blacklingerie  Blowout  Bras  Bras/Bralettes/Panties  color:Black  ColorFam-Black  detail:Underwire  final sale  includedinpromo  Intimates  Sale  style:Bras & Bralettes  WOMENS  2019-06-26  //  //  //  //  //  21830297604  XS  2.98  5.99  //    OutOfStock  XS  21830297668  S  2.98  5.99  //    OutOfStock  S  21830297732  M  2.98  5.99  //    OutOfStock  M  21830297796  L  2.98  5.99  //    OutOfStock  L  Sign in or create account  Create Account  Customer Login  We sent a verification link to your email.  We sent a reset link to your email.  Use a different email  Email  Please enter a valid email address.  By selecting Create Account you agree to our Privacy Policy and Terms & Conditions  First Name  This is a required field.  Last Name  This is a required field.  Password  Your password must contain at least  8 characters  1 uppercase letter  1 lowercase letter  1 number  Phone Number  (optional)  This is a required field.  sign up for texts, get 10% off.  We’ll send your code to your phone number.  Get exclusive discounts.  Sign up for updates via email. Unsubscribe anytime.  By selecting Create Account you agree to our Privacy Policy and Terms & Conditions  By submitting your phone number, you agree to receive recurring automated promotional and personalized marketing text messages (e.g. cart reminders) from Fashion Nova at the cell number used when signing up. Consent is not a condition of any purchase. Reply HELP for help and STOP to cancel. Msg frequency varies. Msg & data rates may apply. View Terms & Privacy  We've sent you an email with a link to update your password.  Email  Password  This is a required field.  Forgot password \n",
    "\n",
    " Please confirm your identity by clicking the link in the email we sent to to get access to your account and past purchases. \n",
    "\n",
    " Email  Cancel  The link to reset your password has been sent to \n",
    "\n",
    " Welcome to the novafam.  What are you interested in? \n",
    "\"\"\""
   ],
   "metadata": {
    "execution": {
     "iopub.status.busy": "2023-06-10T15:06:25.760402Z",
     "iopub.execute_input": "2023-06-10T15:06:25.760883Z",
     "iopub.status.idle": "2023-06-10T15:06:25.791803Z",
     "shell.execute_reply.started": "2023-06-10T15:06:25.760807Z",
     "shell.execute_reply": "2023-06-10T15:06:25.790007Z"
    },
    "jupyter": {
     "source_hidden": true
    },
    "trusted": true
   },
   "execution_count": 2,
   "outputs": []
  },
  {
   "cell_type": "markdown",
   "source": [
    "# LongT5"
   ],
   "metadata": {}
  },
  {
   "cell_type": "code",
   "source": [
    "from time import time"
   ],
   "metadata": {
    "execution": {
     "iopub.status.busy": "2023-08-31T13:35:04.388687Z",
     "iopub.execute_input": "2023-08-31T13:35:04.389285Z",
     "iopub.status.idle": "2023-08-31T13:35:04.402494Z",
     "shell.execute_reply.started": "2023-08-31T13:35:04.389239Z",
     "shell.execute_reply": "2023-08-31T13:35:04.401087Z"
    },
    "trusted": true
   },
   "execution_count": 3,
   "outputs": []
  },
  {
   "cell_type": "code",
   "source": [
    "from transformers import AutoModelForSeq2SeqLM, AutoTokenizer\n",
    "\n",
    "model_long = AutoModelForSeq2SeqLM.from_pretrained(\"google/long-t5-local-base\", device_map=\"cuda\")\n",
    "tokenizer = AutoTokenizer.from_pretrained(\"google/long-t5-local-base\")\n",
    "\n",
    "one_piece_sequence = (\"The series focuses on Monkey D. Luffy, a young man made of rubber, who, inspired by his childhood idol,\" \n",
    "             \"the powerful pirate Red-Haired Shanks, sets off on a journey from the East Blue Sea to find the mythical treasure,\" \n",
    "             \"the One Piece, and proclaim himself the King of the Pirates. In an effort to organize his own crew, the Straw Hat Pirates,\" \n",
    "             \"Luffy rescues and befriends a pirate hunter and swordsman named Roronoa Zoro, and they head off in search of the \" \n",
    "             \"titular treasure. They are joined in their journey by Nami, a money-obsessed thief and navigator; Usopp, a sniper \"\n",
    "             \"and compulsive liar; and Sanji, a perverted but chivalrous cook. They acquire a ship, the Going Merry, and engage in confrontations\"  \n",
    "             \"with notorious pirates of the East Blue. As Luffy and his crew set out on their adventures, others join the crew later in the series, \"\n",
    "             \"including Tony Tony Chopper, an anthropomorphized reindeer doctor; Nico Robin, an archaeologist and former Baroque Works assassin; \"\n",
    "             \"Franky, a cyborg shipwright; Brook, a skeleton musician and swordsman; and Jimbei, a fish-man helmsman and former member of the Seven \"\n",
    "             \"Warlords of the Sea. Once the Going Merry is damaged beyond repair, Franky builds the Straw Hat Pirates a new ship, the Thousand Sunny,\" \n",
    "             \"Together, they encounter other pirates, bounty hunters, criminal organizations, revolutionaries, secret agents, and soldiers of the\" \n",
    "             \"corrupt World Government, and various other friends and foes, as they sail the seas in pursuit of their dreams.\")\n",
    "inputs = tokenizer.encode(\"summarize: \" + one_piece_sequence,\n",
    "                          return_tensors='pt',\n",
    "                          max_length=512,\n",
    "                          truncation=True)\n",
    "summarization_ids = model_long.generate(inputs, max_length=80, min_length=40, length_penalty=5., num_beams=2)\n",
    "summarization = tokenizer.decode(summarization_ids[0])\n",
    "print(summarization)\n"
   ],
   "metadata": {
    "execution": {
     "iopub.status.busy": "2023-08-31T13:44:45.711714Z",
     "iopub.execute_input": "2023-08-31T13:44:45.712445Z",
     "iopub.status.idle": "2023-08-31T13:44:52.789283Z",
     "shell.execute_reply.started": "2023-08-31T13:44:45.712406Z",
     "shell.execute_reply": "2023-08-31T13:44:52.788143Z"
    },
    "trusted": true
   },
   "execution_count": 7,
   "outputs": [
    {
     "name": "stdout",
     "text": "<pad>),),),),),),),),),),),),),),),),),),),),),),),),),),),),),,,,,,,,,,,,,,,,,,,,,,,,,,,,,,,,,,,,,,,,,,,,,,,,,,,\n",
     "output_type": "stream"
    }
   ]
  },
  {
   "cell_type": "code",
   "source": [
    "import AutoModelForSeq2SeqLM, AutoTokenizer\n",
    "\n",
    "model_long = AutoModelForSeq2SeqLM.from_pretrained(\"google/long-t5-local-large\", device_map=\"cuda\")\n",
    "tokenizer = AutoTokenizer.from_pretrained(\"google/long-t5-local-large\")\n",
    "\n",
    "one_piece_sequence = (\"The series focuses on Monkey D. Luffy, a young man made of rubber, who, inspired by his childhood idol,\" \n",
    "             \"the powerful pirate Red-Haired Shanks, sets off on a journey from the East Blue Sea to find the mythical treasure,\" \n",
    "             \"the One Piece, and proclaim himself the King of the Pirates. In an effort to organize his own crew, the Straw Hat Pirates,\" \n",
    "             \"Luffy rescues and befriends a pirate hunter and swordsman named Roronoa Zoro, and they head off in search of the \" \n",
    "             \"titular treasure. They are joined in their journey by Nami, a money-obsessed thief and navigator; Usopp, a sniper \"\n",
    "             \"and compulsive liar; and Sanji, a perverted but chivalrous cook. They acquire a ship, the Going Merry, and engage in confrontations\"  \n",
    "             \"with notorious pirates of the East Blue. As Luffy and his crew set out on their adventures, others join the crew later in the series, \"\n",
    "             \"including Tony Tony Chopper, an anthropomorphized reindeer doctor; Nico Robin, an archaeologist and former Baroque Works assassin; \"\n",
    "             \"Franky, a cyborg shipwright; Brook, a skeleton musician and swordsman; and Jimbei, a fish-man helmsman and former member of the Seven \"\n",
    "             \"Warlords of the Sea. Once the Going Merry is damaged beyond repair, Franky builds the Straw Hat Pirates a new ship, the Thousand Sunny,\" \n",
    "             \"Together, they encounter other pirates, bounty hunters, criminal organizations, revolutionaries, secret agents, and soldiers of the\" \n",
    "             \"corrupt World Government, and various other friends and foes, as they sail the seas in pursuit of their dreams.\")\n",
    "inputs = tokenizer.encode(\"summarize: \" + one_piece_sequence,\n",
    "                          return_tensors='pt',\n",
    "                          max_length=512,\n",
    "                          truncation=True)\n",
    "summarization_ids = model_long.generate(inputs, max_length=80, min_length=40, length_penalty=5., num_beams=2)\n",
    "summarization = tokenizer.decode(summarization_ids[0])\n",
    "print(summarization)\n",
    "(inputs, max_length=80, min_length=40, length_penalty=5., num_beams=2)\n",
    "summarization = tokenizer.decode(summarization_ids[0])\n",
    "print(summarization)\n"
   ],
   "metadata": {
    "execution": {
     "iopub.status.busy": "2023-08-31T13:45:18.474537Z",
     "iopub.execute_input": "2023-08-31T13:45:18.475078Z",
     "iopub.status.idle": "2023-08-31T13:46:40.156301Z",
     "shell.execute_reply.started": "2023-08-31T13:45:18.475031Z",
     "shell.execute_reply": "2023-08-31T13:46:40.155072Z"
    },
    "trusted": true
   },
   "execution_count": 9,
   "outputs": [
    {
     "output_type": "display_data",
     "data": {
      "text/plain": "Downloading pytorch_model.bin:   0%|          | 0.00/3.00G [00:00<?, ?B/s]",
      "application/vnd.jupyter.widget-view+json": {
       "version_major": 2,
       "version_minor": 0,
       "model_id": "41f3c12ef11c48fdb614fe76cd14a4c8"
      }
     },
     "metadata": {}
    },
    {
     "output_type": "display_data",
     "data": {
      "text/plain": "Downloading (…)neration_config.json:   0%|          | 0.00/147 [00:00<?, ?B/s]",
      "application/vnd.jupyter.widget-view+json": {
       "version_major": 2,
       "version_minor": 0,
       "model_id": "747c5b1b821d4816ac6ea111bb8cca25"
      }
     },
     "metadata": {}
    },
    {
     "output_type": "display_data",
     "data": {
      "text/plain": "Downloading spiece.model:   0%|          | 0.00/792k [00:00<?, ?B/s]",
      "application/vnd.jupyter.widget-view+json": {
       "version_major": 2,
       "version_minor": 0,
       "model_id": "9626c585da3d4f6d8f8b4f43e0bd083b"
      }
     },
     "metadata": {}
    },
    {
     "output_type": "display_data",
     "data": {
      "text/plain": "Downloading (…)/main/tokenizer.json:   0%|          | 0.00/1.39M [00:00<?, ?B/s]",
      "application/vnd.jupyter.widget-view+json": {
       "version_major": 2,
       "version_minor": 0,
       "model_id": "9cf3cc4880044a3394dbfc89854dd3ef"
      }
     },
     "metadata": {}
    },
    {
     "name": "stdout",
     "text": "<pad>.05..05..05..05. accordingly accordingly accordingly accordingly accordingly meantime meantime meantime meantime meantime meantime meantime meantime meantime meantime meantime meantime meantime meantime meantime meantime meantime meantime meantime meantime meantime meantime meantime meantime meantime meantime meantime meantime meantime meantime meantime meantime meantime meantime meantime meantime meantime meantime meantime meantime meantime meantime meantime meantime meantime meantime meantime meantime meantime meantime meantime meantime meantime meantime meantime meantime meantime meantime meantime meantime meantime meantime meantime meantime meantime meantime meantime meantime meantime meantime\n",
     "output_type": "stream"
    }
   ]
  },
  {
   "cell_type": "code",
   "source": [
    "from transformers import AutoModelForSeq2SeqLM, AutoTokenizer\n",
    "\n",
    "model_long = AutoModelForSeq2SeqLM.from_pretrained(\"google/long-t5-tglobal-base\", device_map=\"cuda\")\n",
    "tokenizer = AutoTokenizer.from_pretrained(\"google/long-t5-tglobal-base\")\n",
    "\n",
    "one_piece_sequence = (\"The series focuses on Monkey D. Luffy, a young man made of rubber, who, inspired by his childhood idol,\" \n",
    "             \"the powerful pirate Red-Haired Shanks, sets off on a journey from the East Blue Sea to find the mythical treasure,\" \n",
    "             \"the One Piece, and proclaim himself the King of the Pirates. In an effort to organize his own crew, the Straw Hat Pirates,\" \n",
    "             \"Luffy rescues and befriends a pirate hunter and swordsman named Roronoa Zoro, and they head off in search of the \" \n",
    "             \"titular treasure. They are joined in their journey by Nami, a money-obsessed thief and navigator; Usopp, a sniper \"\n",
    "             \"and compulsive liar; and Sanji, a perverted but chivalrous cook. They acquire a ship, the Going Merry, and engage in confrontations\"  \n",
    "             \"with notorious pirates of the East Blue. As Luffy and his crew set out on their adventures, others join the crew later in the series, \"\n",
    "             \"including Tony Tony Chopper, an anthropomorphized reindeer doctor; Nico Robin, an archaeologist and former Baroque Works assassin; \"\n",
    "             \"Franky, a cyborg shipwright; Brook, a skeleton musician and swordsman; and Jimbei, a fish-man helmsman and former member of the Seven \"\n",
    "             \"Warlords of the Sea. Once the Going Merry is damaged beyond repair, Franky builds the Straw Hat Pirates a new ship, the Thousand Sunny,\" \n",
    "             \"Together, they encounter other pirates, bounty hunters, criminal organizations, revolutionaries, secret agents, and soldiers of the\" \n",
    "             \"corrupt World Government, and various other friends and foes, as they sail the seas in pursuit of their dreams.\")\n",
    "inputs = tokenizer.encode(\"summarize: \" + one_piece_sequence,\n",
    "                          return_tensors='pt',\n",
    "                          max_length=512,\n",
    "                          truncation=True)\n",
    "summarization_ids = model_long.generate(inputs, max_length=510, min_length=40, length_penalty=5., num_beams=2)\n",
    "summarization = tokenizer.decode(summarization_ids[0])\n",
    "print(summarization)\n"
   ],
   "metadata": {
    "execution": {
     "iopub.status.busy": "2023-08-31T13:48:40.426836Z",
     "iopub.execute_input": "2023-08-31T13:48:40.427633Z",
     "iopub.status.idle": "2023-08-31T13:48:58.958916Z",
     "shell.execute_reply.started": "2023-08-31T13:48:40.427589Z",
     "shell.execute_reply": "2023-08-31T13:48:58.957713Z"
    },
    "trusted": true
   },
   "execution_count": 11,
   "outputs": [
    {
     "name": "stdout",
     "text": "<pad> Once the Going Merry is damaged beyond repair, Franky builds the Straw Hat Pirates a new ship, the Thousand Sunny,Together, they encounter other pirates, bounty hunters, criminal organizations, revolutionaries, secret agents, and soldiers of thecorrupt World Government, and various other friends and foes, as they sail the seas in pursuit of their dreams.\n",
     "output_type": "stream"
    }
   ]
  },
  {
   "cell_type": "code",
   "source": [
    "from transformers import AutoModelForSeq2SeqLM, AutoTokenizer\n",
    "\n",
    "model_long = AutoModelForSeq2SeqLM.from_pretrained(\"google/long-t5-tglobal-large\", device_map=\"cuda\")\n",
    "tokenizer = AutoTokenizer.from_pretrained(\"google/long-t5-tglobal-large\")\n",
    "\n",
    "one_piece_sequence = (\"The series focuses on Monkey D. Luffy, a young man made of rubber, who, inspired by his childhood idol,\" \n",
    "             \"the powerful pirate Red-Haired Shanks, sets off on a journey from the East Blue Sea to find the mythical treasure,\" \n",
    "             \"the One Piece, and proclaim himself the King of the Pirates. In an effort to organize his own crew, the Straw Hat Pirates,\" \n",
    "             \"Luffy rescues and befriends a pirate hunter and swordsman named Roronoa Zoro, and they head off in search of the \" \n",
    "             \"titular treasure. They are joined in their journey by Nami, a money-obsessed thief and navigator; Usopp, a sniper \"\n",
    "             \"and compulsive liar; and Sanji, a perverted but chivalrous cook. They acquire a ship, the Going Merry, and engage in confrontations\"  \n",
    "             \"with notorious pirates of the East Blue. As Luffy and his crew set out on their adventures, others join the crew later in the series, \"\n",
    "             \"including Tony Tony Chopper, an anthropomorphized reindeer doctor; Nico Robin, an archaeologist and former Baroque Works assassin; \"\n",
    "             \"Franky, a cyborg shipwright; Brook, a skeleton musician and swordsman; and Jimbei, a fish-man helmsman and former member of the Seven \"\n",
    "             \"Warlords of the Sea. Once the Going Merry is damaged beyond repair, Franky builds the Straw Hat Pirates a new ship, the Thousand Sunny,\" \n",
    "             \"Together, they encounter other pirates, bounty hunters, criminal organizations, revolutionaries, secret agents, and soldiers of the\" \n",
    "             \"corrupt World Government, and various other friends and foes, as they sail the seas in pursuit of their dreams.\")\n",
    "inputs = tokenizer.encode(\"summarize: \" + one_piece_sequence,\n",
    "                          return_tensors='pt',\n",
    "                          max_length=512,\n",
    "                          truncation=True)\n",
    "summarization_ids = model_long.generate(inputs, max_length=512, min_length=40, num_beams=2)\n",
    "summarization = tokenizer.decode(summarization_ids[0])\n",
    "print(summarization)\n"
   ],
   "metadata": {
    "execution": {
     "iopub.status.busy": "2023-08-31T13:48:58.961413Z",
     "iopub.execute_input": "2023-08-31T13:48:58.961839Z",
     "iopub.status.idle": "2023-08-31T13:50:48.170689Z",
     "shell.execute_reply.started": "2023-08-31T13:48:58.961796Z",
     "shell.execute_reply": "2023-08-31T13:50:48.169413Z"
    },
    "trusted": true
   },
   "execution_count": 12,
   "outputs": [
    {
     "output_type": "display_data",
     "data": {
      "text/plain": "Downloading (…)lve/main/config.json:   0%|          | 0.00/854 [00:00<?, ?B/s]",
      "application/vnd.jupyter.widget-view+json": {
       "version_major": 2,
       "version_minor": 0,
       "model_id": "512d25f692604461be4f7d426008ec92"
      }
     },
     "metadata": {}
    },
    {
     "output_type": "display_data",
     "data": {
      "text/plain": "Downloading pytorch_model.bin:   0%|          | 0.00/3.00G [00:00<?, ?B/s]",
      "application/vnd.jupyter.widget-view+json": {
       "version_major": 2,
       "version_minor": 0,
       "model_id": "b59c48f6d23c42d39f38f8e821c72562"
      }
     },
     "metadata": {}
    },
    {
     "output_type": "display_data",
     "data": {
      "text/plain": "Downloading (…)neration_config.json:   0%|          | 0.00/147 [00:00<?, ?B/s]",
      "application/vnd.jupyter.widget-view+json": {
       "version_major": 2,
       "version_minor": 0,
       "model_id": "3783eb0306de473ab0e81c6d082f8e74"
      }
     },
     "metadata": {}
    },
    {
     "output_type": "display_data",
     "data": {
      "text/plain": "Downloading spiece.model:   0%|          | 0.00/792k [00:00<?, ?B/s]",
      "application/vnd.jupyter.widget-view+json": {
       "version_major": 2,
       "version_minor": 0,
       "model_id": "9c7e7aa46fb6401dbf5fdcea1ee22789"
      }
     },
     "metadata": {}
    },
    {
     "output_type": "display_data",
     "data": {
      "text/plain": "Downloading (…)/main/tokenizer.json:   0%|          | 0.00/1.39M [00:00<?, ?B/s]",
      "application/vnd.jupyter.widget-view+json": {
       "version_major": 2,
       "version_minor": 0,
       "model_id": "74b3a37cb04d4725b6f979c2d9aa0398"
      }
     },
     "metadata": {}
    },
    {
     "name": "stdout",
     "text": "<pad> doit doit doit doit doit doit doit doit doit doit doit doit doit doit doit doit doit doit doit doit doit doit doit doit doit doit doit doit doit doit doit doit doit doit doit doit doit doit doit doit doit doit doit doit doit doit doit doit doit doit doit doit doit doit doit doit doit doit doit doit doit doit doit doit doit doit doit doit doit doit doit doit doit doit doit doit doit doit doit\n",
     "output_type": "stream"
    }
   ]
  },
  {
   "cell_type": "markdown",
   "source": [
    "# pszemraj/long-t5-tglobal-base-16384-book-summary is the best"
   ],
   "metadata": {}
  },
  {
   "cell_type": "code",
   "source": [
    "long_text = (\"The series focuses on Monkey D. Luffy, a young man made of rubber, who, inspired by his childhood idol,\" \n",
    "             \"the powerful pirate Red-Haired Shanks, sets off on a journey from the East Blue Sea to find the mythical treasure,\" \n",
    "             \"the One Piece, and proclaim himself the King of the Pirates. In an effort to organize his own crew, the Straw Hat Pirates,\" \n",
    "             \"Luffy rescues and befriends a pirate hunter and swordsman named Roronoa Zoro, and they head off in search of the \" \n",
    "             \"titular treasure. They are joined in their journey by Nami, a money-obsessed thief and navigator; Usopp, a sniper \"\n",
    "             \"and compulsive liar; and Sanji, a perverted but chivalrous cook. They acquire a ship, the Going Merry, and engage in confrontations\"  \n",
    "             \"with notorious pirates of the East Blue. As Luffy and his crew set out on their adventures, others join the crew later in the series, \"\n",
    "             \"including Tony Tony Chopper, an anthropomorphized reindeer doctor; Nico Robin, an archaeologist and former Baroque Works assassin; \"\n",
    "             \"Franky, a cyborg shipwright; Brook, a skeleton musician and swordsman; and Jimbei, a fish-man helmsman and former member of the Seven \"\n",
    "             \"Warlords of the Sea. Once the Going Merry is damaged beyond repair, Franky builds the Straw Hat Pirates a new ship, the Thousand Sunny,\" \n",
    "             \"Together, they encounter other pirates, bounty hunters, criminal organizations, revolutionaries, secret agents, and soldiers of the\" \n",
    "             \"corrupt World Government, and various other friends and foes, as they sail the seas in pursuit of their dreams.\")\n"
   ],
   "metadata": {
    "execution": {
     "iopub.status.busy": "2023-08-31T13:58:36.684500Z",
     "iopub.execute_input": "2023-08-31T13:58:36.685574Z",
     "iopub.status.idle": "2023-08-31T13:58:36.692473Z",
     "shell.execute_reply.started": "2023-08-31T13:58:36.685530Z",
     "shell.execute_reply": "2023-08-31T13:58:36.691361Z"
    },
    "trusted": true
   },
   "execution_count": 18,
   "outputs": []
  },
  {
   "cell_type": "code",
   "source": [
    "from transformers import pipeline\n",
    "import torch\n",
    "\n",
    "summarizer = pipeline(\n",
    "    \"summarization\",\n",
    "    \"pszemraj/long-t5-tglobal-base-16384-book-summary\",\n",
    "    device=0 if torch.cuda.is_available() else -1,\n",
    ")\n",
    "\n",
    "result = summarizer(long_text)\n",
    "print(result[0][\"summary_text\"])"
   ],
   "metadata": {
    "execution": {
     "iopub.status.busy": "2023-08-31T13:59:02.987074Z",
     "iopub.execute_input": "2023-08-31T13:59:02.987705Z",
     "iopub.status.idle": "2023-08-31T13:59:11.112499Z",
     "shell.execute_reply.started": "2023-08-31T13:59:02.987642Z",
     "shell.execute_reply": "2023-08-31T13:59:11.111345Z"
    },
    "trusted": true
   },
   "execution_count": 20,
   "outputs": [
    {
     "output_type": "display_data",
     "data": {
      "text/plain": "Downloading (…)okenizer_config.json:   0%|          | 0.00/2.36k [00:00<?, ?B/s]",
      "application/vnd.jupyter.widget-view+json": {
       "version_major": 2,
       "version_minor": 0,
       "model_id": "ee35285a3589442f880ac77ef4e7bf49"
      }
     },
     "metadata": {}
    },
    {
     "output_type": "display_data",
     "data": {
      "text/plain": "Downloading spiece.model:   0%|          | 0.00/792k [00:00<?, ?B/s]",
      "application/vnd.jupyter.widget-view+json": {
       "version_major": 2,
       "version_minor": 0,
       "model_id": "c22e0897a89347ea850364719f31f8d8"
      }
     },
     "metadata": {}
    },
    {
     "output_type": "display_data",
     "data": {
      "text/plain": "Downloading (…)/main/tokenizer.json:   0%|          | 0.00/2.42M [00:00<?, ?B/s]",
      "application/vnd.jupyter.widget-view+json": {
       "version_major": 2,
       "version_minor": 0,
       "model_id": "f83eeab50a6c47db8bbcb79b60da6f20"
      }
     },
     "metadata": {}
    },
    {
     "output_type": "display_data",
     "data": {
      "text/plain": "Downloading (…)cial_tokens_map.json:   0%|          | 0.00/2.20k [00:00<?, ?B/s]",
      "application/vnd.jupyter.widget-view+json": {
       "version_major": 2,
       "version_minor": 0,
       "model_id": "42554666500b47d5bfa7f17f30feaa63"
      }
     },
     "metadata": {}
    },
    {
     "name": "stderr",
     "text": "Your max_length is set to 512, but your input_length is only 401. Since this is a summarization task, where outputs shorter than the input are typically wanted, you might consider decreasing max_length manually, e.g. summarizer('...', max_length=200)\n/opt/conda/lib/python3.7/site-packages/transformers/modeling_utils.py:839: FutureWarning: The `device` argument is deprecated and will be removed in v5 of Transformers.\n  \"The `device` argument is deprecated and will be removed in v5 of Transformers.\", FutureWarning\n",
     "output_type": "stream"
    },
    {
     "name": "stdout",
     "text": "Luffy is a young rubber man who dreams of becoming the king of the pirates. He sets off on an epic journey to find the One Piece and proclaim himself \"the King of the Pimps.\" His crew includes Nami, Sanji, Uopp, and a cook named Sanji. They buy a ship called the Going Merry and set out in search of The One Piece. As they sail, others join their crew later in this story. Tony Tony Chop, an archeologist, Nico Robin,an archaeology and former Baronque works assassiner, Franky, Brook, skeleton musicians and swordsmen, and Jimbei are also included. Once the going Merry is damaged by storming, Frankly builds the strap-hat pirates a boat called the Thousand Sunny.\n",
     "output_type": "stream"
    }
   ]
  },
  {
   "cell_type": "markdown",
   "source": [
    "# T5"
   ],
   "metadata": {}
  },
  {
   "cell_type": "code",
   "source": [
    "from transformers import AutoModelForSeq2SeqLM, AutoTokenizer\n",
    "from time import time\n",
    "\n",
    "model = AutoModelForSeq2SeqLM.from_pretrained(\"google/flan-t5-base\", device_map=\"cuda\")\n",
    "tokenizer = AutoTokenizer.from_pretrained(\"google/flan-t5-base\")"
   ],
   "metadata": {
    "execution": {
     "iopub.status.busy": "2023-08-31T13:39:49.753207Z",
     "iopub.execute_input": "2023-08-31T13:39:49.753545Z",
     "iopub.status.idle": "2023-08-31T13:40:17.090391Z",
     "shell.execute_reply.started": "2023-08-31T13:39:49.753511Z",
     "shell.execute_reply": "2023-08-31T13:40:17.089233Z"
    },
    "trusted": true
   },
   "execution_count": 2,
   "outputs": [
    {
     "output_type": "display_data",
     "data": {
      "text/plain": "Downloading (…)lve/main/config.json:   0%|          | 0.00/1.40k [00:00<?, ?B/s]",
      "application/vnd.jupyter.widget-view+json": {
       "version_major": 2,
       "version_minor": 0,
       "model_id": "1e1950b86cc849dbaf69062f47387abe"
      }
     },
     "metadata": {}
    },
    {
     "output_type": "display_data",
     "data": {
      "text/plain": "Downloading model.safetensors:   0%|          | 0.00/990M [00:00<?, ?B/s]",
      "application/vnd.jupyter.widget-view+json": {
       "version_major": 2,
       "version_minor": 0,
       "model_id": "e418dc9a487241a988409a38cac07b57"
      }
     },
     "metadata": {}
    },
    {
     "output_type": "display_data",
     "data": {
      "text/plain": "Downloading (…)neration_config.json:   0%|          | 0.00/147 [00:00<?, ?B/s]",
      "application/vnd.jupyter.widget-view+json": {
       "version_major": 2,
       "version_minor": 0,
       "model_id": "8833c6c5b5fd4456bcdaf4491e7dca1c"
      }
     },
     "metadata": {}
    },
    {
     "output_type": "display_data",
     "data": {
      "text/plain": "Downloading (…)okenizer_config.json:   0%|          | 0.00/2.54k [00:00<?, ?B/s]",
      "application/vnd.jupyter.widget-view+json": {
       "version_major": 2,
       "version_minor": 0,
       "model_id": "e967a9db035d46faab0e224f2d4b2c51"
      }
     },
     "metadata": {}
    },
    {
     "output_type": "display_data",
     "data": {
      "text/plain": "Downloading spiece.model:   0%|          | 0.00/792k [00:00<?, ?B/s]",
      "application/vnd.jupyter.widget-view+json": {
       "version_major": 2,
       "version_minor": 0,
       "model_id": "493bd238b36048fd8856ad24606b20f5"
      }
     },
     "metadata": {}
    },
    {
     "output_type": "display_data",
     "data": {
      "text/plain": "Downloading (…)/main/tokenizer.json:   0%|          | 0.00/2.42M [00:00<?, ?B/s]",
      "application/vnd.jupyter.widget-view+json": {
       "version_major": 2,
       "version_minor": 0,
       "model_id": "3b0c254eb7734d0380cef3ecc2cc161f"
      }
     },
     "metadata": {}
    },
    {
     "output_type": "display_data",
     "data": {
      "text/plain": "Downloading (…)cial_tokens_map.json:   0%|          | 0.00/2.20k [00:00<?, ?B/s]",
      "application/vnd.jupyter.widget-view+json": {
       "version_major": 2,
       "version_minor": 0,
       "model_id": "b2417bcb1e52417ea13261c0b6a4274f"
      }
     },
     "metadata": {}
    }
   ]
  },
  {
   "cell_type": "code",
   "source": [
    "one_piece_sequence = (\"The series focuses on Monkey D. Luffy, a young man made of rubber, who, inspired by his childhood idol,\" \n",
    "             \"the powerful pirate Red-Haired Shanks, sets off on a journey from the East Blue Sea to find the mythical treasure,\" \n",
    "             \"the One Piece, and proclaim himself the King of the Pirates. In an effort to organize his own crew, the Straw Hat Pirates,\" \n",
    "             \"Luffy rescues and befriends a pirate hunter and swordsman named Roronoa Zoro, and they head off in search of the \" \n",
    "             \"titular treasure. They are joined in their journey by Nami, a money-obsessed thief and navigator; Usopp, a sniper \"\n",
    "             \"and compulsive liar; and Sanji, a perverted but chivalrous cook. They acquire a ship, the Going Merry, and engage in confrontations\"  \n",
    "             \"with notorious pirates of the East Blue. As Luffy and his crew set out on their adventures, others join the crew later in the series, \"\n",
    "             \"including Tony Tony Chopper, an anthropomorphized reindeer doctor; Nico Robin, an archaeologist and former Baroque Works assassin; \"\n",
    "             \"Franky, a cyborg shipwright; Brook, a skeleton musician and swordsman; and Jimbei, a fish-man helmsman and former member of the Seven \"\n",
    "             \"Warlords of the Sea. Once the Going Merry is damaged beyond repair, Franky builds the Straw Hat Pirates a new ship, the Thousand Sunny,\" \n",
    "             \"Together, they encounter other pirates, bounty hunters, criminal organizations, revolutionaries, secret agents, and soldiers of the\" \n",
    "             \"corrupt World Government, and various other friends and foes, as they sail the seas in pursuit of their dreams.\")\n",
    "inputs = tokenizer.encode(\"summarize: \" + one_piece_sequence,\n",
    "                          return_tensors='pt',\n",
    "                          max_length=512,\n",
    "                          truncation=True)\n",
    "summarization_ids = model.generate(inputs, max_length=80, min_length=40, length_penalty=5., num_beams=2)\n",
    "summarization = tokenizer.decode(summarization_ids[0])\n",
    "print(summarization)\n"
   ],
   "metadata": {
    "execution": {
     "iopub.status.busy": "2023-08-31T13:40:17.092824Z",
     "iopub.execute_input": "2023-08-31T13:40:17.093242Z",
     "iopub.status.idle": "2023-08-31T13:40:31.834743Z",
     "shell.execute_reply.started": "2023-08-31T13:40:17.093197Z",
     "shell.execute_reply": "2023-08-31T13:40:31.833322Z"
    },
    "trusted": true
   },
   "execution_count": 3,
   "outputs": [
    {
     "name": "stdout",
     "text": "huggingface/tokenizers: The current process just got forked, after parallelism has already been used. Disabling parallelism to avoid deadlocks...\nTo disable this warning, you can either:\n\t- Avoid using `tokenizers` before the fork if possible\n\t- Explicitly set the environment variable TOKENIZERS_PARALLELISM=(true | false)\n",
     "output_type": "stream"
    },
    {
     "name": "stderr",
     "text": "/opt/conda/lib/python3.7/site-packages/transformers/generation/utils.py:1459: UserWarning: You are calling .generate() with the `input_ids` being on a device type different than your model's device. `input_ids` is on cpu, whereas the model is on cuda. You may experience unexpected behaviors or slower generation. Please make sure that you have put `input_ids` to the correct device by calling for example input_ids = input_ids.to('cuda') before running `.generate()`.\n  UserWarning,\n",
     "output_type": "stream"
    },
    {
     "name": "stdout",
     "text": "<pad> The Straw Hat Pirates are a group of pirates inspired by their childhood idol, the powerful pirate Red-Haired Shanks, who sets off on a journey from the East Blue Sea to find the mythical treasure, the One Piece, and proclaim themselves the King of the Pirates.</s>\n",
     "output_type": "stream"
    }
   ]
  },
  {
   "cell_type": "code",
   "source": [
    "inputs = tokenizer(content, return_tensors=\"pt\").to(\"cuda\")"
   ],
   "metadata": {
    "execution": {
     "iopub.status.busy": "2023-06-10T15:04:11.208709Z",
     "iopub.execute_input": "2023-06-10T15:04:11.209109Z",
     "iopub.status.idle": "2023-06-10T15:04:11.235355Z",
     "shell.execute_reply.started": "2023-06-10T15:04:11.209072Z",
     "shell.execute_reply": "2023-06-10T15:04:11.234334Z"
    },
    "trusted": true
   },
   "execution_count": 6,
   "outputs": []
  },
  {
   "cell_type": "code",
   "source": [
    "inputs.input_ids.squeeze().shape[0]"
   ],
   "metadata": {
    "execution": {
     "iopub.status.busy": "2023-06-10T15:04:12.086333Z",
     "iopub.execute_input": "2023-06-10T15:04:12.086811Z",
     "iopub.status.idle": "2023-06-10T15:04:12.102532Z",
     "shell.execute_reply.started": "2023-06-10T15:04:12.086763Z",
     "shell.execute_reply": "2023-06-10T15:04:12.101462Z"
    },
    "trusted": true
   },
   "execution_count": 7,
   "outputs": [
    {
     "execution_count": 7,
     "output_type": "execute_result",
     "data": {
      "text/plain": "4783"
     },
     "metadata": {}
    }
   ]
  },
  {
   "cell_type": "code",
   "source": [
    "start = time()\n",
    "outputs = model.generate(max_new_tokens=500, **inputs)\n",
    "end = time()\n",
    "out = tokenizer.batch_decode(outputs, skip_special_tokens=True)"
   ],
   "metadata": {
    "execution": {
     "iopub.status.busy": "2023-06-10T15:04:54.812242Z",
     "iopub.execute_input": "2023-06-10T15:04:54.813095Z",
     "iopub.status.idle": "2023-06-10T15:04:56.800201Z",
     "shell.execute_reply.started": "2023-06-10T15:04:54.813050Z",
     "shell.execute_reply": "2023-06-10T15:04:56.799072Z"
    },
    "trusted": true
   },
   "execution_count": 14,
   "outputs": []
  },
  {
   "cell_type": "code",
   "source": [
    "end - start"
   ],
   "metadata": {
    "execution": {
     "iopub.status.busy": "2023-06-10T15:04:56.803712Z",
     "iopub.execute_input": "2023-06-10T15:04:56.804528Z",
     "iopub.status.idle": "2023-06-10T15:04:56.812042Z",
     "shell.execute_reply.started": "2023-06-10T15:04:56.804482Z",
     "shell.execute_reply": "2023-06-10T15:04:56.810782Z"
    },
    "trusted": true
   },
   "execution_count": 15,
   "outputs": [
    {
     "execution_count": 15,
     "output_type": "execute_result",
     "data": {
      "text/plain": "1.9820897579193115"
     },
     "metadata": {}
    }
   ]
  },
  {
   "cell_type": "code",
   "source": [
    "out"
   ],
   "metadata": {
    "execution": {
     "iopub.status.busy": "2023-06-10T15:04:56.813836Z",
     "iopub.execute_input": "2023-06-10T15:04:56.814229Z",
     "iopub.status.idle": "2023-06-10T15:04:56.824050Z",
     "shell.execute_reply.started": "2023-06-10T15:04:56.814189Z",
     "shell.execute_reply": "2023-06-10T15:04:56.822754Z"
    },
    "trusted": true
   },
   "execution_count": 16,
   "outputs": [
    {
     "execution_count": 16,
     "output_type": "execute_result",
     "data": {
      "text/plain": "['Fashion Nova']"
     },
     "metadata": {}
    }
   ]
  },
  {
   "cell_type": "code",
   "source": [
    "inputs = tokenizer(content, return_tensors=\"pt\")\n",
    "outputs = model.generate(**inputs)\n",
    "tokenizer.batch_decode(outputs, skip_special_tokens=True)"
   ],
   "metadata": {
    "execution": {
     "iopub.status.busy": "2023-06-10T14:33:57.132378Z",
     "iopub.execute_input": "2023-06-10T14:33:57.133362Z",
     "iopub.status.idle": "2023-06-10T14:33:59.191905Z",
     "shell.execute_reply.started": "2023-06-10T14:33:57.133311Z",
     "shell.execute_reply": "2023-06-10T14:33:59.189859Z"
    },
    "trusted": true
   },
   "execution_count": 25,
   "outputs": [
    {
     "name": "stderr",
     "text": "Token indices sequence length is longer than the specified maximum sequence length for this model (4783 > 512). Running this sequence through the model will result in indexing errors\n/opt/conda/lib/python3.7/site-packages/transformers/generation/utils.py:1357: UserWarning: Using `max_length`'s default (20) to control the generation length. This behaviour is deprecated and will be removed from the config in v5 of Transformers -- we recommend using `max_new_tokens` to control the maximum length of the generation.\n  UserWarning,\n/opt/conda/lib/python3.7/site-packages/transformers/generation/utils.py:1459: UserWarning: You are calling .generate() with the `input_ids` being on a device type different than your model's device. `input_ids` is on cpu, whereas the model is on cuda. You may experience unexpected behaviors or slower generation. Please make sure that you have put `input_ids` to the correct device by calling for example input_ids = input_ids.to('cuda') before running `.generate()`.\n  UserWarning,\n",
     "output_type": "stream"
    },
    {
     "execution_count": 25,
     "output_type": "execute_result",
     "data": {
      "text/plain": "['novafam']"
     },
     "metadata": {}
    }
   ]
  },
  {
   "cell_type": "markdown",
   "source": [
    "# Translation"
   ],
   "metadata": {}
  },
  {
   "cell_type": "markdown",
   "source": [
    "## polish to english"
   ],
   "metadata": {}
  },
  {
   "cell_type": "code",
   "source": [
    "content = \"\"\"\n",
    "description: Kup: Seizmont - Zegarek Mads Dante I ed. za jedyne 999 zł. Kupuj w Trendhim. 365-dniowe zwroty. Z dumą oferujemy doskonałe zakupy.\n",
    "og site_name: Trendhim\n",
    "og type: product\n",
    "og title: Zegarek Mads Dante I ed. | W sprzedaży! | Seizmont\n",
    "og description: Kup: Seizmont - Zegarek Mads Dante I ed. za jedyne 999 zł. Kupuj w Trendhim. 365-dniowe zwroty. Z dumą oferujemy doskonałe zakupy.\n",
    "\n",
    "\n",
    "\n",
    "- product full store view page:\n",
    "\n",
    "- main currency page wrapper:\n",
    "\n",
    "- header:\n",
    "\n",
    "- wrap main header:\n",
    "\n",
    "- main header:\n",
    "\n",
    "- wrap main header:\n",
    "\n",
    "- wrap main header:\n",
    "\n",
    "- icon header text:\n",
    " Lista życzeń \n",
    "- wrap include cart header:\n",
    "\n",
    "- icon header text:\n",
    " Koszyk \n",
    "- main content wrapper:\n",
    "\n",
    "- main content:\n",
    "\n",
    "- main:\n",
    "\n",
    "- wrap breadcrumb_list:\n",
    "\n",
    "- list_item element wrap list item:\n",
    "\n",
    "- name:\n",
    " Zegarki \n",
    "- crumb item list last wrap element list_item:\n",
    "\n",
    "- split line:\n",
    " / \n",
    "- name:\n",
    " Zegarki na rękę \n",
    "- wrap gallery:\n",
    "\n",
    "- gallery:\n",
    "\n",
    "- wrap gallery:\n",
    "\n",
    "- list gallery:\n",
    "\n",
    "- list content gallery:\n",
    "\n",
    "- content slider list thumb gallery:\n",
    "\n",
    "- item content slider list video thumb gallery:\n",
    "\n",
    "- wrap outer icon:\n",
    " Film \n",
    "- bottom gallery:\n",
    "\n",
    "- full good hidden gallery:\n",
    "\n",
    "- full gallery:\n",
    "\n",
    "- reset zoom:\n",
    " Pomniejsz \n",
    "- bottom gallery:\n",
    "\n",
    "- wrap:\n",
    "\n",
    "- wrap brand:\n",
    "\n",
    "- wrap price title:\n",
    "\n",
    "- main product title:\n",
    "#  Zegarek Mads Dante I ed.\n",
    "\n",
    "\n",
    "- product price title wrap:\n",
    "\n",
    "- wrap price:\n",
    "\n",
    "- price product piece:\n",
    " 999 zł \n",
    "- section cross wrap list sale:\n",
    "\n",
    "- list cross wrap more sale:\n",
    "\n",
    "- offer personal print cross wrap list sale:\n",
    "\n",
    "- left side:\n",
    "\n",
    "- product title:\n",
    " Nadrukuj spersonalizowany obraz \n",
    "- right side:\n",
    " + \n",
    "- price product:\n",
    " 79 zł \n",
    "- offer personal print cross wrap list sale:\n",
    "\n",
    "- left side:\n",
    "\n",
    "- product title:\n",
    " Osobisty grawer \n",
    "- right side:\n",
    " + \n",
    "- price product:\n",
    " 55 zł \n",
    "- cross wrap list item sale:\n",
    "\n",
    "- left side:\n",
    " Opakowanie gotowe na prezent \n",
    "- right side:\n",
    " + \n",
    "- price product:\n",
    " 16 zł \n",
    "- cross wrap list item sale:\n",
    "\n",
    "- left side:\n",
    " Ściereczka do czyszczenia i polerowania biżuterii \n",
    "- right side:\n",
    " + \n",
    "- price product:\n",
    " 16 zł \n",
    "- cross wrap list item sale:\n",
    "\n",
    "- left side:\n",
    " Narzędzie do usuwania ogniw bransoletek i zegarków \n",
    "- right side:\n",
    " + \n",
    "- price product:\n",
    " 19 zł \n",
    "- cross wrap list item sale:\n",
    "\n",
    "- left side:\n",
    " Czarne podróżne etui na zegarek \n",
    "- right side:\n",
    " + \n",
    "- price product:\n",
    " 45 zł \n",
    "- cross wrap list item sale:\n",
    "\n",
    "- left side:\n",
    " Czarne etui podróżne na zegarek Cliff \n",
    "- right side:\n",
    " + \n",
    "- price product:\n",
    " 79 zł \n",
    "- cross wrap list item sale:\n",
    "\n",
    "- left side:\n",
    " Okrągłe pudełko z czarnej skóry na 3 zegarki \n",
    "- right side:\n",
    " + \n",
    "- price product:\n",
    " 169 zł \n",
    "- cross wrap list item sale:\n",
    "\n",
    "- left side:\n",
    " Stojak na 4 zegarki \n",
    "- right side:\n",
    " + \n",
    "- price product:\n",
    " 699 zł \n",
    "- cross wrap list item sale:\n",
    "\n",
    "- left side:\n",
    " Stojak na 2 zegarki \n",
    "- right side:\n",
    " + \n",
    "- price product:\n",
    " 449 zł \n",
    "- cross wrap list item sale:\n",
    "\n",
    "- left side:\n",
    " Czarne drewniane pudełko na zegarki z przezroczystą pokrywą - 8 zegarków \n",
    "- right side:\n",
    " + \n",
    "- price product:\n",
    " 349 zł \n",
    "- wrap good hidden stock:\n",
    "\n",
    "- title stock:\n",
    " Produkt obecnie niedostępny \n",
    "\n",
    " Chcesz być powiadomiony, gdy produkt będzie ponownie dostępny? \n",
    "\n",
    " Podaj nam swój adres e-mail i/lub numer telefonu, a powiadominy cię, gdy będzie z powrotem dostępny! \n",
    "\n",
    "\n",
    "- form basic stock:\n",
    "\n",
    "- wrap field basic:\n",
    " Twój email \n",
    "- basic field error invalid:\n",
    " Poprawny adres mailowy \n",
    "- wrap field basic:\n",
    " Numer telefonu \n",
    "- basic field error invalid:\n",
    " Numer twojego telefonu jest niepoprawny \n",
    "- error stock default empty form:\n",
    " Wybierz jedną lub obie opcje \n",
    "- wrap button:\n",
    "\n",
    "- button stock action:\n",
    " Wyślij mi e-mail/sms \n",
    "- hidden wrap size good missing:\n",
    "\n",
    "- title:\n",
    " Przykro nam to słyszeć \n",
    "\n",
    " Powiedz nam, jakiego rozmiaru potrzebowałeś, abyśmy na przyszłość mogli być bardziej przygotowani. \n",
    "\n",
    "\n",
    "- form option basic missing:\n",
    "\n",
    "- wrap field basic:\n",
    " Brakujący rozmiar \n",
    "- basic field error:\n",
    " Ups! Zostawiłeś puste pole \n",
    "- wrap button:\n",
    "\n",
    "- form button action:\n",
    " Powiedz nam \n",
    "- mobile linked:\n",
    "\n",
    "- wrap list section linked:\n",
    "\n",
    "- list title linked section:\n",
    " Kolory \n",
    "- option section linked wrap list:\n",
    "\n",
    "- wrap list section linked:\n",
    "\n",
    "- list title linked section:\n",
    " Odmiany \n",
    "- option section linked wrap list:\n",
    "\n",
    "- wrap:\n",
    "\n",
    "- site:\n",
    "\n",
    "- item:\n",
    " Bezpłatna wysyłka dla tego produktu \n",
    "- item:\n",
    " W magazynie \n",
    "- item:\n",
    " 365-dniowa polityka zwrotów - bez zadawania pytań! \n",
    "- product:\n",
    "\n",
    "- point bullet:\n",
    " Odporne na zarysowania szkło szafirowe \n",
    "- point bullet:\n",
    " Automatyczny ruch mechaniczny – bez baterii \n",
    "- point bullet:\n",
    " Tarcza z widocznym mechanizmem pozwala zobaczyć, jak działa zegarek \n",
    "- point bullet:\n",
    " W zestawie pudełko do przechowywania \n",
    "- button:\n",
    "\n",
    "- product item button:\n",
    "\n",
    "- left side:\n",
    " Opis / rozmiar \n",
    "- item button review:\n",
    "\n",
    "- left side:\n",
    " Recenzje klientów (973) \n",
    "- wrap linked:\n",
    "\n",
    "- wrap list section linked:\n",
    "\n",
    "- list title linked section:\n",
    " Kolory \n",
    "- option section linked wrap list:\n",
    "\n",
    "- wrap list section linked:\n",
    "\n",
    "- list title linked section:\n",
    " Odmiany \n",
    "- option section linked wrap list:\n",
    "\n",
    "- wrap:\n",
    "\n",
    "- wrap overlay:\n",
    "\n",
    "- wrap button review:\n",
    " Recenzje klientów (973) \n",
    "- wrap page:\n",
    "\n",
    "- wrap product item:\n",
    "\n",
    "- product mobile section header:\n",
    " Opis \n",
    "- body section:\n",
    " Życie nigdy się nie kończy – przygotuj się zatem na ciąg dalszy. Zasilany twoją energią zegarek z widocznym mechanizmem Mads Dante dopasuje się do ciebie, tempo do tempa. Zrób dziś to, czego inni nie zrobią. Dzięki temu jutro będziesz mógł zrobić to, czego inni nie mogą. Dzięki szkieletowej tarczy i wystawowemu dekielkowi będziesz mieć miejsce w pierwszym rzędzie w samym sercu zegarka. Dzięki wytrzymałemu kryształowi szafiru nie musisz się martwić zadrapaniami. Ten męski zegarek wykorzystuje energię poprzez naturalny ruch twojego nadgarstka lub można go ręcznie nakręcić. Oznacza to, że już nigdy nie kupisz (i będziesz miał trudności z włożeniem) baterii do zegarka… pozostawiając sobie więcej czasu na wykorzystanie tej chwili. Wykonany z odpornej na rdzę stali nierdzewnej w złocistym odcieniu z pasującą czarno-złocistą bransoletą ze stali nierdzewnej. Mechanizm jest w kolorze szarym i chroniony mocnym szafirowym kryształem. Zaprojektowany w Danii i wysyłany w charakterystycznym pudełku upominkowym. \n",
    "- product:\n",
    " ID: 21921 \n",
    "- wrap product item:\n",
    "\n",
    "- section header:\n",
    " Materiał \n",
    "- body section:\n",
    " Stal nierdzewna Szkło szafirowe \n",
    "- wrap product item:\n",
    "\n",
    "- section header:\n",
    " Wymiary \n",
    "- body section:\n",
    " Szerokość koperty: 44 mm Głębokość koperty: 12 mm Szerokość paska: 2,2 cm Długość paska: 18 cm Ruch: automatyczny ruch mechaniczny ST1646 Wodoszczelność: 3 ATM Waga: 157 g Maks. obwód nadgarstka: 19,5 cm Min. obwód nadgarstka: 13,2 cm \n",
    "- mobile other:\n",
    "\n",
    "- slider other loading:\n",
    "\n",
    "- slider title:\n",
    " Produkty z tej samej kategorii \n",
    "- slider other loading:\n",
    "\n",
    "- slider title:\n",
    " Polecane dla ciebie \n",
    "- product specific right page pane side:\n",
    "\n",
    "- specific header page pane side:\n",
    "\n",
    "- close pane:\n",
    " × \n",
    "- specific header mobile page pane side:\n",
    "\n",
    "- specific header close page pane side:\n",
    " Cofnij \n",
    "- body specific content page pane side:\n",
    "\n",
    "- product section pane side:\n",
    "\n",
    "- title section:\n",
    " Opis \n",
    "- product section content pane side:\n",
    " Życie nigdy się nie kończy – przygotuj się zatem na ciąg dalszy. Zasilany twoją energią zegarek z widocznym mechanizmem Mads Dante dopasuje się do ciebie, tempo do tempa. Zrób dziś to, czego inni nie zrobią. Dzięki temu jutro będziesz mógł zrobić to, czego inni nie mogą. Dzięki szkieletowej tarczy i wystawowemu dekielkowi będziesz mieć miejsce w pierwszym rzędzie w samym sercu zegarka. Dzięki wytrzymałemu kryształowi szafiru nie musisz się martwić zadrapaniami. Ten męski zegarek wykorzystuje energię poprzez naturalny ruch twojego nadgarstka lub można go ręcznie nakręcić. Oznacza to, że już nigdy nie kupisz (i będziesz miał trudności z włożeniem) baterii do zegarka… pozostawiając sobie więcej czasu na wykorzystanie tej chwili. Wykonany z odpornej na rdzę stali nierdzewnej w złocistym odcieniu z pasującą czarno-złocistą bransoletą ze stali nierdzewnej. Mechanizm jest w kolorze szarym i chroniony mocnym szafirowym kryształem. Zaprojektowany w Danii i wysyłany w charakterystycznym pudełku upominkowym. \n",
    "- product:\n",
    " ID: 21921 \n",
    "- product section pane side:\n",
    "\n",
    "- title section:\n",
    " Materiał \n",
    "- product section content pane side:\n",
    " Stal nierdzewna Szkło szafirowe \n",
    "- product section pane side:\n",
    "\n",
    "- title section:\n",
    " Wymiary \n",
    "- product section content pane side:\n",
    " Szerokość koperty: 44 mm Głębokość koperty: 12 mm Szerokość paska: 2,2 cm Długość paska: 18 cm Ruch: automatyczny ruch mechaniczny ST1646 Wodoszczelność: 3 ATM Waga: 157 g Maks. obwód nadgarstka: 19,5 cm Min. obwód nadgarstka: 13,2 cm \n",
    "- product specific right page pane side:\n",
    "\n",
    "- specific header page pane side:\n",
    "\n",
    "- close pane:\n",
    " × \n",
    "- specific header mobile page pane side:\n",
    "\n",
    "- specific header close page pane side:\n",
    " Cofnij \n",
    "- body specific content page pane side:\n",
    "\n",
    "- product section pane side:\n",
    "\n",
    "- title section:\n",
    " Opis \n",
    "- product section content pane side:\n",
    " Życie nigdy się nie kończy – przygotuj się zatem na ciąg dalszy. Zasilany twoją energią zegarek z widocznym mechanizmem Mads Dante dopasuje się do ciebie, tempo do tempa. Zrób dziś to, czego inni nie zrobią. Dzięki temu jutro będziesz mógł zrobić to, czego inni nie mogą. Dzięki szkieletowej tarczy i wystawowemu dekielkowi będziesz mieć miejsce w pierwszym rzędzie w samym sercu zegarka. Dzięki wytrzymałemu kryształowi szafiru nie musisz się martwić zadrapaniami. Ten męski zegarek wykorzystuje energię poprzez naturalny ruch twojego nadgarstka lub można go ręcznie nakręcić. Oznacza to, że już nigdy nie kupisz (i będziesz miał trudności z włożeniem) baterii do zegarka… pozostawiając sobie więcej czasu na wykorzystanie tej chwili. Wykonany z odpornej na rdzę stali nierdzewnej w złocistym odcieniu z pasującą czarno-złocistą bransoletą ze stali nierdzewnej. Mechanizm jest w kolorze szarym i chroniony mocnym szafirowym kryształem. Zaprojektowany w Danii i wysyłany w charakterystycznym pudełku upominkowym. \n",
    "- product:\n",
    " ID: 21921 \n",
    "- product section pane side:\n",
    "\n",
    "- title section:\n",
    " Materiał \n",
    "- product section content pane side:\n",
    " Stal nierdzewna Szkło szafirowe \n",
    "- product section pane side:\n",
    "\n",
    "- title section:\n",
    " Wymiary \n",
    "- product section content pane side:\n",
    " Szerokość koperty: 44 mm Głębokość koperty: 12 mm Szerokość paska: 2,2 cm Długość paska: 18 cm Ruch: automatyczny ruch mechaniczny ST1646 Wodoszczelność: 3 ATM Waga: 157 g Maks. obwód nadgarstka: 19,5 cm Min. obwód nadgarstka: 13,2 cm \n",
    "- specific review right page pane side:\n",
    "\n",
    "- specific header page pane side:\n",
    "\n",
    "- close pane:\n",
    " × \n",
    "- specific header mobile page pane side:\n",
    "\n",
    "- specific header close page pane side:\n",
    " Cofnij \n",
    "- body specific content page pane side:\n",
    "\n",
    "- content review pane:\n",
    "\n",
    "- wrap title:\n",
    "\n",
    "- title section:\n",
    " Recenzje klientów \n",
    "- wrap rating:\n",
    "\n",
    "- wrap star rating:\n",
    "\n",
    "- wrap star rating abundance:\n",
    " (973) \n",
    "- content hidden review list good pane:\n",
    "\n",
    "- content button review list starting dark pane:\n",
    " Zobacz opinie przetłumaczone przez Google (926)  od międzynarodowych klientów \n",
    "- more good content neutral button review list hidden show pane:\n",
    " Pokaż więcej \n",
    "- hidden good:\n",
    "\n",
    "- template item review:\n",
    "\n",
    "- part:\n",
    "\n",
    "- review:\n",
    "\n",
    "- name author:\n",
    " Od \n",
    "- part main:\n",
    "\n",
    "- good hidden review text:\n",
    " Przetłumaczone przez Google \n",
    "- pane specific link right guide page side:\n",
    "\n",
    "- specific header page pane side:\n",
    "\n",
    "- close pane:\n",
    " × \n",
    "- specific header mobile page pane side:\n",
    "\n",
    "- specific header close page pane side:\n",
    " Cofnij \n",
    "- hidden good:\n",
    "\n",
    "- user overlay select:\n",
    "\n",
    "- title overlay:\n",
    " Który rozmiar cię interesuje? \n",
    "\n",
    "\n",
    "- wrap user select:\n",
    " Ups! Nie zapomnij o tym. \n",
    "- user hidden stock select wrap good overlay:\n",
    "\n",
    "- title stock:\n",
    " Rozmiar jest niedostępny \n",
    "\n",
    " Chcesz zostać powiadomiony gdy ten rozmiar będzie ponownie dostępny? \n",
    "\n",
    " Podaj nam swój adres e-mail i/lub numer telefonu, a powiadominy cię, gdy będzie z powrotem dostępny! \n",
    "\n",
    "\n",
    "- form basic stock:\n",
    "\n",
    "- wrap field basic:\n",
    " Twój email \n",
    "- basic field error invalid:\n",
    " Poprawny adres mailowy \n",
    "- wrap field basic:\n",
    " Numer telefonu \n",
    "- basic field error invalid:\n",
    " Numer twojego telefonu jest niepoprawny \n",
    "- error stock default empty form:\n",
    " Wybierz jedną lub obie opcje \n",
    "- wrap button:\n",
    "\n",
    "- button stock action:\n",
    " Wyślij mi e-mail/sms \n",
    "- option user wrap size good missing overlay select hidden:\n",
    "\n",
    "- title:\n",
    " Przykro nam to słyszeć \n",
    "\n",
    " Powiedz nam, jakiego rozmiaru potrzebowałeś, abyśmy na przyszłość mogli być bardziej przygotowani. \n",
    "\n",
    "\n",
    "- form option basic missing:\n",
    "\n",
    "- wrap field basic:\n",
    " Brakujący rozmiar \n",
    "- basic field error:\n",
    " Ups! Zostawiłeś puste pole \n",
    "- wrap button:\n",
    "\n",
    "- form button action:\n",
    " Powiedz nam \n",
    "- hidden good:\n",
    "\n",
    "- selection personal print image overlay:\n",
    "\n",
    "- block gray:\n",
    "\n",
    "- title image:\n",
    "####  Co zrobiły inne osoby\n",
    "\n",
    "\n",
    "- title image:\n",
    "####  Zaprojektuj swój zegarek\n",
    "\n",
    "\n",
    "- module gallery block:\n",
    "\n",
    "- simple gallery:\n",
    "\n",
    "- slider simple gallery area:\n",
    "\n",
    "- simple slider gallery window area:\n",
    "\n",
    "- part simple sliding slider window gallery area:\n",
    "\n",
    "- slider gallery area part simple sliding item window:\n",
    "\n",
    "- wrap image loading:\n",
    " q \n",
    "- caption image:\n",
    " \"Moja żona i córka są ze mną codziennie na moim nadgarstku.\" \n",
    "- slider gallery area part simple sliding item window:\n",
    "\n",
    "- wrap image loading:\n",
    " q \n",
    "- caption image:\n",
    " \"Najlepszy dzień mojego życia. Nadal nie mogę uwierzyć we własne szczęście.\" \n",
    "- slider gallery area part simple sliding item window:\n",
    "\n",
    "- wrap image loading:\n",
    " q \n",
    "- caption image:\n",
    " \"Tylko nas dwoje i natura. Kocham ten moment. Teraz jest na zawsze.\" \n",
    "- slider gallery area part simple sliding item window:\n",
    "\n",
    "- wrap image loading:\n",
    " q \n",
    "- caption image:\n",
    " \"Najmilsza osoba, jaką kiedykolwiek znałem. Podoba mi się pomysł, że nadal trzyma mnie za rękę.\" \n",
    "- slider gallery area part simple sliding item window:\n",
    "\n",
    "- wrap image loading:\n",
    " q \n",
    "- caption image:\n",
    " \"Nauczył mnie wszystkiego, co wiem. Bycie przy nim inspiruje mnie do bycia lepszym człowiekiem.\" \n",
    "- slider gallery area part simple sliding item window:\n",
    "\n",
    "- wrap image loading:\n",
    " q \n",
    "- caption image:\n",
    " \"Uroczy kubek mojej najlepszej przyjaciółki. Nie mogę się powstrzymać od uśmiechu za każdym razem, gdy na niego patrzę.\" \n",
    "- slider gallery area part simple sliding item window:\n",
    "\n",
    "- wrap image loading:\n",
    " q \n",
    "- caption image:\n",
    " \"Przypomina mi, jak bardzo ona mnie kocha. Najlepsze urodziny w historii!\" \n",
    "- simple pagination gallery:\n",
    "\n",
    "- pagination:\n",
    " 1/0 \n",
    "- control area:\n",
    "\n",
    "- container range:\n",
    " Obróć \n",
    "- container range:\n",
    " Powiększ \n",
    "- option basic overlay selection personal print list image form:\n",
    "\n",
    "- description title image:\n",
    "####  Spersonalizuj to\n",
    "\n",
    "\n",
    "- image block:\n",
    "\n",
    "- description:\n",
    " Uwiecznij wspomnienie dzięki zdjęciu nadrukowanemu na dekiel zegarka. \n",
    "- primary button picture:\n",
    " Prześlij zdjęcie \n",
    "- image block:\n",
    "\n",
    "- button wrapper order:\n",
    "\n",
    "- wrap good button hidden:\n",
    "\n",
    "- primary submit button:\n",
    " Dodaj do koszyka \n",
    "- primary submit button update:\n",
    " Aktualizuj \n",
    "- description:\n",
    " Gotowe do realizacji \n",
    "- button wrapper order:\n",
    "\n",
    "- wrap button:\n",
    "\n",
    "- button outline picture:\n",
    " Prześlij nowy obraz \n",
    "- description:\n",
    " Znajdę lepsze \n",
    "- title:\n",
    "####  O nadruku\n",
    "\n",
    "\n",
    "- container image print:\n",
    "* Twoje zdjęcie jest nadrukowywane po wewnętrznej stronie szkła, co zapewnia długowieczność\n",
    "* Nadruk wysycha niemal natychmiast, tworząc ultra wyrazisty obraz.\n",
    "* Proces doda 1 dzień do szacowanej daty dostawy (w tym ekspresowej)\n",
    "* Nadrukowany kolor może się nieznacznie różnić od tego, jak wygląda na ekranie\n",
    "* Nadrukowane produkty nie podlegają zwrotowi/wymianie\n",
    "* Nadruk dodaje 79 zł do sumy\n",
    "\n",
    "- hidden good:\n",
    "\n",
    "- print selection personal overlay:\n",
    "\n",
    "- title:\n",
    " Opcje grawerowania laserowego \n",
    "- text:\n",
    " Dodaj coś osobistego, aby uczynić ten przedmiot wyjątkowym \n",
    "- option basic overlay selection personal print list form:\n",
    "\n",
    "- option overlay selection personal print selected list item nothing:\n",
    "\n",
    "- wrap:\n",
    "\n",
    "- title item:\n",
    " Brak graweru \n",
    "- option selection personal print list item overlay:\n",
    "\n",
    "- wrap:\n",
    "\n",
    "- title item:\n",
    " Zapięcie \n",
    "- price item:\n",
    " 55 zł \n",
    "- wrap place good overlay selection personal print selected list text hidden:\n",
    " Wybrana: \n",
    "- wrap good area overlay selection personal print text input hidden:\n",
    "\n",
    "- title section:\n",
    " Dodaj tutaj swój tekst \n",
    "- field basic wrap overlay selection personal print text form:\n",
    "\n",
    "- wrap field basic:\n",
    " Tekst (Maks.  X  znaków) \n",
    "- basic field error:\n",
    " To pole jest wymagane \n",
    "- basic field error:\n",
    " Wprowadzony tekst jest zbyt długi dla dostępnego miejsca \n",
    "- selection personal print selected special engraving overlay:\n",
    "* Brak opóźnienia w dostawie dla produktów z grawerem\n",
    "* Używamy tej samej czcionki, jak na zdjęciu, a tekst może zostać dostosowany do dostępnego miejsca\n",
    "* Produkty z grawerem nie podlegają zwrotowi/wymianie\n",
    "\n",
    "- selection personal button print overlay:\n",
    "\n",
    "- wrap good overlay selection button personal print hidden:\n",
    "\n",
    "- primary submit button:\n",
    " Dodaj do koszyka \n",
    "- wrap good overlay selection button personal print update hidden:\n",
    "\n",
    "- cancel neutral button:\n",
    " Anuluj \n",
    "- primary submit button update:\n",
    " Aktualizuj \n",
    "- global pane site side:\n",
    "\n",
    "- header global pane close side:\n",
    " Cofnij\n",
    "\"\"\""
   ],
   "metadata": {
    "execution": {
     "iopub.status.busy": "2023-09-04T10:54:34.141688Z",
     "iopub.execute_input": "2023-09-04T10:54:34.142115Z",
     "iopub.status.idle": "2023-09-04T10:54:34.173905Z",
     "shell.execute_reply.started": "2023-09-04T10:54:34.142071Z",
     "shell.execute_reply": "2023-09-04T10:54:34.172504Z"
    },
    "trusted": true
   },
   "execution_count": 3,
   "outputs": []
  },
  {
   "cell_type": "code",
   "source": [
    "text_lines = [elem.strip() for elem in content.splitlines() if elem != '' and not (elem.startswith('-') and elem.endswith(':'))]"
   ],
   "metadata": {
    "execution": {
     "iopub.status.busy": "2023-09-04T10:54:34.175630Z",
     "iopub.execute_input": "2023-09-04T10:54:34.176049Z",
     "iopub.status.idle": "2023-09-04T10:54:34.184637Z",
     "shell.execute_reply.started": "2023-09-04T10:54:34.176008Z",
     "shell.execute_reply": "2023-09-04T10:54:34.183539Z"
    },
    "trusted": true
   },
   "execution_count": 4,
   "outputs": []
  },
  {
   "cell_type": "markdown",
   "source": [
    "### 1"
   ],
   "metadata": {}
  },
  {
   "cell_type": "code",
   "source": [
    "from transformers import pipeline\n",
    "\n",
    "translator = pipeline(\"translation\", model=\"sdadas/mt5-base-translator-pl-en\")"
   ],
   "metadata": {
    "execution": {
     "iopub.status.busy": "2023-09-01T16:04:53.035568Z",
     "iopub.status.idle": "2023-09-01T16:04:53.036067Z",
     "shell.execute_reply.started": "2023-09-01T16:04:53.035832Z",
     "shell.execute_reply": "2023-09-01T16:04:53.035858Z"
    },
    "trusted": true
   },
   "execution_count": null,
   "outputs": []
  },
  {
   "cell_type": "code",
   "source": [
    "res = translator(text_lines, max_length=512)"
   ],
   "metadata": {
    "execution": {
     "iopub.status.busy": "2023-09-01T15:09:54.370783Z",
     "iopub.execute_input": "2023-09-01T15:09:54.371299Z",
     "iopub.status.idle": "2023-09-01T15:13:00.238360Z",
     "shell.execute_reply.started": "2023-09-01T15:09:54.371237Z",
     "shell.execute_reply": "2023-09-01T15:13:00.236084Z"
    },
    "trusted": true
   },
   "execution_count": 6,
   "outputs": []
  },
  {
   "cell_type": "code",
   "source": [
    "with open(\"translation_sdadas_mt5-base-translator-pl-en\", 'w') as file:\n",
    "    for elem in res:\n",
    "        file.write(f'{elem[\"translation_text\"]}\\n')"
   ],
   "metadata": {
    "execution": {
     "iopub.status.busy": "2023-09-01T15:13:00.241556Z",
     "iopub.execute_input": "2023-09-01T15:13:00.242923Z",
     "iopub.status.idle": "2023-09-01T15:13:00.252220Z",
     "shell.execute_reply.started": "2023-09-01T15:13:00.242862Z",
     "shell.execute_reply": "2023-09-01T15:13:00.250304Z"
    },
    "trusted": true
   },
   "execution_count": 7,
   "outputs": []
  },
  {
   "cell_type": "markdown",
   "source": [
    "### 2"
   ],
   "metadata": {}
  },
  {
   "cell_type": "code",
   "source": [
    "from transformers import pipeline\n",
    "\n",
    "translator = pipeline(\"translation\", model=\"Helsinki-NLP/opus-mt-pl-en\")"
   ],
   "metadata": {
    "execution": {
     "iopub.status.busy": "2023-09-04T11:33:38.333303Z",
     "iopub.execute_input": "2023-09-04T11:33:38.335924Z",
     "iopub.status.idle": "2023-09-04T11:33:45.847171Z",
     "shell.execute_reply.started": "2023-09-04T11:33:38.335835Z",
     "shell.execute_reply": "2023-09-04T11:33:45.845883Z"
    },
    "trusted": true
   },
   "execution_count": 35,
   "outputs": []
  },
  {
   "cell_type": "code",
   "source": [
    "from time import time"
   ],
   "metadata": {
    "execution": {
     "iopub.status.busy": "2023-09-04T10:55:36.431907Z",
     "iopub.execute_input": "2023-09-04T10:55:36.432512Z",
     "iopub.status.idle": "2023-09-04T10:55:36.439574Z",
     "shell.execute_reply.started": "2023-09-04T10:55:36.432453Z",
     "shell.execute_reply": "2023-09-04T10:55:36.437842Z"
    },
    "trusted": true
   },
   "execution_count": 12,
   "outputs": []
  },
  {
   "cell_type": "code",
   "source": [
    "start = time()\n",
    "res = translator(text_lines, max_length=512)\n",
    "end = time() - start"
   ],
   "metadata": {
    "execution": {
     "iopub.status.busy": "2023-09-01T16:07:52.482968Z",
     "iopub.execute_input": "2023-09-01T16:07:52.483332Z",
     "iopub.status.idle": "2023-09-01T16:11:41.129249Z",
     "shell.execute_reply.started": "2023-09-01T16:07:52.483297Z",
     "shell.execute_reply": "2023-09-01T16:11:41.127968Z"
    },
    "trusted": true
   },
   "execution_count": 6,
   "outputs": []
  },
  {
   "cell_type": "code",
   "source": [
    "end"
   ],
   "metadata": {
    "execution": {
     "iopub.status.busy": "2023-09-01T16:11:41.131173Z",
     "iopub.execute_input": "2023-09-01T16:11:41.131809Z",
     "iopub.status.idle": "2023-09-01T16:11:41.140545Z",
     "shell.execute_reply.started": "2023-09-01T16:11:41.131753Z",
     "shell.execute_reply": "2023-09-01T16:11:41.139526Z"
    },
    "trusted": true
   },
   "execution_count": 7,
   "outputs": [
    {
     "execution_count": 7,
     "output_type": "execute_result",
     "data": {
      "text/plain": "228.63201785087585"
     },
     "metadata": {}
    }
   ]
  },
  {
   "cell_type": "code",
   "source": [
    "translation = ''\n",
    "\n",
    "start = time()\n",
    "for line in text_lines:\n",
    "    txt = translator(line, max_length=512)\n",
    "    translation += txt[0]['translation_text'] + '\\n'\n",
    "end = time() - start"
   ],
   "metadata": {
    "execution": {
     "iopub.status.busy": "2023-09-01T16:25:09.147126Z",
     "iopub.execute_input": "2023-09-01T16:25:09.147653Z",
     "iopub.status.idle": "2023-09-01T16:29:01.672318Z",
     "shell.execute_reply.started": "2023-09-01T16:25:09.147587Z",
     "shell.execute_reply": "2023-09-01T16:29:01.671001Z"
    },
    "trusted": true
   },
   "execution_count": 12,
   "outputs": []
  },
  {
   "cell_type": "code",
   "source": [
    "end"
   ],
   "metadata": {
    "execution": {
     "iopub.status.busy": "2023-09-01T16:31:58.328983Z",
     "iopub.execute_input": "2023-09-01T16:31:58.329464Z",
     "iopub.status.idle": "2023-09-01T16:31:58.338422Z",
     "shell.execute_reply.started": "2023-09-01T16:31:58.329426Z",
     "shell.execute_reply": "2023-09-01T16:31:58.337378Z"
    },
    "trusted": true
   },
   "execution_count": 13,
   "outputs": [
    {
     "execution_count": 13,
     "output_type": "execute_result",
     "data": {
      "text/plain": "232.5185742378235"
     },
     "metadata": {}
    }
   ]
  },
  {
   "cell_type": "code",
   "source": [
    "with open(\"translation_Helsinki-NLP-opus-mt-pl-en\", 'w') as file:\n",
    "    for elem in res:\n",
    "        file.write(f'{elem[\"translation_text\"]}\\n')"
   ],
   "metadata": {
    "execution": {
     "iopub.status.busy": "2023-09-03T17:33:28.289584Z",
     "iopub.execute_input": "2023-09-03T17:33:28.290789Z",
     "iopub.status.idle": "2023-09-03T17:33:28.386340Z",
     "shell.execute_reply.started": "2023-09-03T17:33:28.290741Z",
     "shell.execute_reply": "2023-09-03T17:33:28.384766Z"
    },
    "collapsed": true,
    "jupyter": {
     "outputs_hidden": true
    },
    "trusted": true
   },
   "execution_count": 12,
   "outputs": [
    {
     "traceback": [
      "\u001B[0;31m---------------------------------------------------------------------------\u001B[0m",
      "\u001B[0;31mNameError\u001B[0m                                 Traceback (most recent call last)",
      "\u001B[0;32m/tmp/ipykernel_27/1065198300.py\u001B[0m in \u001B[0;36m<module>\u001B[0;34m\u001B[0m\n\u001B[1;32m      1\u001B[0m \u001B[0;32mwith\u001B[0m \u001B[0mopen\u001B[0m\u001B[0;34m(\u001B[0m\u001B[0;34m\"translation_Helsinki-NLP-opus-mt-pl-en\"\u001B[0m\u001B[0;34m,\u001B[0m \u001B[0;34m'w'\u001B[0m\u001B[0;34m)\u001B[0m \u001B[0;32mas\u001B[0m \u001B[0mfile\u001B[0m\u001B[0;34m:\u001B[0m\u001B[0;34m\u001B[0m\u001B[0;34m\u001B[0m\u001B[0m\n\u001B[0;32m----> 2\u001B[0;31m     \u001B[0;32mfor\u001B[0m \u001B[0melem\u001B[0m \u001B[0;32min\u001B[0m \u001B[0mres\u001B[0m\u001B[0;34m:\u001B[0m\u001B[0;34m\u001B[0m\u001B[0;34m\u001B[0m\u001B[0m\n\u001B[0m\u001B[1;32m      3\u001B[0m         \u001B[0mfile\u001B[0m\u001B[0;34m.\u001B[0m\u001B[0mwrite\u001B[0m\u001B[0;34m(\u001B[0m\u001B[0;34mf'{elem[\"translation_text\"]}\\n'\u001B[0m\u001B[0;34m)\u001B[0m\u001B[0;34m\u001B[0m\u001B[0;34m\u001B[0m\u001B[0m\n",
      "\u001B[0;31mNameError\u001B[0m: name 'res' is not defined"
     ],
     "ename": "NameError",
     "evalue": "name 'res' is not defined",
     "output_type": "error"
    }
   ]
  },
  {
   "cell_type": "markdown",
   "source": [
    "#### Test speed when joined lines."
   ],
   "metadata": {}
  },
  {
   "cell_type": "code",
   "source": [
    "def split_array(arr, size):\n",
    "    arrs = []\n",
    "    while len(arr) > size:\n",
    "        pice = arr[:size]\n",
    "        arrs.append(pice)\n",
    "        arr = arr[size:]\n",
    "    arrs.append(arr)\n",
    "    return arrs"
   ],
   "metadata": {
    "execution": {
     "iopub.status.busy": "2023-09-04T11:33:45.849458Z",
     "iopub.execute_input": "2023-09-04T11:33:45.849870Z",
     "iopub.status.idle": "2023-09-04T11:33:45.858087Z",
     "shell.execute_reply.started": "2023-09-04T11:33:45.849829Z",
     "shell.execute_reply": "2023-09-04T11:33:45.856999Z"
    },
    "trusted": true
   },
   "execution_count": 36,
   "outputs": []
  },
  {
   "cell_type": "code",
   "source": [
    "new_lines = []\n",
    "\n",
    "for part in split_array(text_lines, 10):\n",
    "    new_lines.append(' [TS] '.join(part))"
   ],
   "metadata": {
    "execution": {
     "iopub.status.busy": "2023-09-04T11:33:45.859668Z",
     "iopub.execute_input": "2023-09-04T11:33:45.860572Z",
     "iopub.status.idle": "2023-09-04T11:33:45.887114Z",
     "shell.execute_reply.started": "2023-09-04T11:33:45.860527Z",
     "shell.execute_reply": "2023-09-04T11:33:45.885981Z"
    },
    "trusted": true
   },
   "execution_count": 37,
   "outputs": []
  },
  {
   "cell_type": "code",
   "source": [
    "start = time()\n",
    "res = translator(new_lines, max_length=512)\n",
    "end = time() - start"
   ],
   "metadata": {
    "execution": {
     "iopub.status.busy": "2023-09-04T11:33:46.929708Z",
     "iopub.execute_input": "2023-09-04T11:33:46.930887Z",
     "iopub.status.idle": "2023-09-04T11:35:08.288214Z",
     "shell.execute_reply.started": "2023-09-04T11:33:46.930834Z",
     "shell.execute_reply": "2023-09-04T11:35:08.287010Z"
    },
    "trusted": true
   },
   "execution_count": 38,
   "outputs": []
  },
  {
   "cell_type": "code",
   "source": [
    "end"
   ],
   "metadata": {
    "execution": {
     "iopub.status.busy": "2023-09-04T11:35:08.290083Z",
     "iopub.execute_input": "2023-09-04T11:35:08.291119Z",
     "iopub.status.idle": "2023-09-04T11:35:08.298306Z",
     "shell.execute_reply.started": "2023-09-04T11:35:08.291075Z",
     "shell.execute_reply": "2023-09-04T11:35:08.297056Z"
    },
    "trusted": true
   },
   "execution_count": 39,
   "outputs": [
    {
     "execution_count": 39,
     "output_type": "execute_result",
     "data": {
      "text/plain": "81.35220956802368"
     },
     "metadata": {}
    }
   ]
  },
  {
   "cell_type": "code",
   "source": [
    "for elem in res:\n",
    "    for txt in elem['translation_text'].split('[TS]'):\n",
    "        print(txt.strip())"
   ],
   "metadata": {
    "execution": {
     "iopub.status.busy": "2023-09-04T11:50:10.637817Z",
     "iopub.execute_input": "2023-09-04T11:50:10.638330Z",
     "iopub.status.idle": "2023-09-04T11:50:10.646766Z",
     "shell.execute_reply.started": "2023-09-04T11:50:10.638281Z",
     "shell.execute_reply": "2023-09-04T11:50:10.645827Z"
    },
    "collapsed": true,
    "jupyter": {
     "outputs_hidden": true
    },
    "trusted": true
   },
   "execution_count": 41,
   "outputs": [
    {
     "name": "stdout",
     "text": "Description: Buy: Seizmont - Mads Dante I ed watch for only 999 zł. Buy in Trendhim. 365-day returns. We are proud to offer excellent shopping.\nog site_name: Trendhim\nog type: product\nog title: Mads Dante I ed.\nVideo\nZoom in\n# Mads Dante I Ed.\n999 zł\nPrint personalized image\n+\n79 zł\nPersonal engraver\n+\n55 zł\nGift-ready packaging\n+\n16 zł\nJewelry cleaning and polishing cloth\n+\n16 zł\nBracelet and watch remover\n+\n19 zł\nBlack traveler's watch cases\n+\n45 zł\nBlack watch case Cliff\n+\n79 zł\nRound black leather box for 3 watches\n+\n169 zł\nStand for 4 watches\n+\n699 zł\nStand for 2 watches\n+\n449 zł\nBlack wooden watch box with transparent lid - 8 watches\n+\n349 zł\nProduct currently unavailable\nDo you want to be notified when the product is available again?\nEnter your e-mail address and/or telephone number and will be notified when it is available again!\nYour e-mail\nThe correct e-mail address\nPhone number\nYour phone number is incorrect\nSelect one or both options\nSend me an email/sms\nSorry to hear\nTell us what size you needed to be more prepared for the future.\nThe missing size\nUps! You left an empty box\n\nColors\nVarieties\nFree shipping for this product\nIn stock\n365-day return policy - no questions asked!\nSapphire Resistant Glass\nAutomatic mechanical movement\nWithout battery\nThe shield with a visible mechanism allows you to see how the watch works\nIncluded in the storage box\nDescription / Size\nCustomer Reviews (973)\nColors\nCustomer Reviews\nCustomer Reviews (973)\nDescription\nLife never ends So get ready to continue. Powered by your energy watch with the visible Mads Dante mechanism will adapt to you, pace to pace. Do today what others will not do. Tomorrow you will be able to do what others can't do. Thanks to the skeletal shield and the display deckelling you will never buy in the first row in the heart of the watch. Thanks to the durable sapphire crystal you don't have to worry about scratches. This male watch uses energy through the natural movement of your wrist or you can manually screw it. This means that you will never buy (and you will have difficulty inserting) the battery into the watch... leaving more time to use this moment. This man's watch uses energy through the natural movement of your wrist or you can tap it.\nDimensions\nenvelope width: 44 mm envelope depth: 12 mm Belt width: 2.2 cm Belt length: 18 cm Move: automatic mechanical movement ST1646 Waterproofing: 3 ATM Weight: 157 g Max wrist circumference: 19.5 cm Min. wrist circumference: 13,2 cm\nProducts from the same category\nRecommended for you\n×\nUndo\nDescription\nLife never ends\nStainless steel Sapphire glass\nDimensions\nCover width: 44 mm envelope depth: 12 mm Belt width: 2.2 cm Belt length: 18 cm Belt length: 18 cm Movement: automatic mechanical motion ST1646 Waterproofing: 3 ATM Weight: 157 g Max. wrist circumference: 19.5 cm Min. wrist circumference: 13.2 cm\n×\nBack\nDescription\nLife never ends\nDimensions\nenvelope width: 44 mm envelope depth: 12 mm Belt width: 2.2 cm Belt length: 18 cm Move: automatic mechanical movement ST1646 Waterproofing: 3 ATM Weight: 157 g Max. wrist circumference: 19.5 cm Min. wrist circumference: 13.2 cm\n×\nUndo\nCustomer reviews\n(973)\nView reviews translated by Google [926] from international customers\nShow more\nFrom\nTranslated by Google\n×\nUndo\nWhich size are you interested in?\nUps! Don't forget about it.\nSize is unavailable\nDo you want to be notified when this size is available again?\nGive us your email address and/or phone number and you will be notified when it is available again!\nYour email\nCorrect email address\nPhone number\nYour phone number is incorrect\nSelect one or both options\nSend me an email/sms\nSorry to hear\nTell us what size you needed to be more prepared for the future.\nThe missing size\nUps! You left an empty box\nTell us\n### What other people\n#### Design your watch\nq\n\"My wife and daughter are with me every day on my wrist.\"\nq\n\"The best day of my life. I still can't believe my own happiness.\"\nq\n\"Only the two of us and nature. I love this moment. Now it's forever.\"\nq\n\"The nicest person I've ever known. I like the idea that he's still holding my hand.\"\nq\n\"Teached me everything I know. Being there inspires me to be a better person.\"\nq\n\"The lovely cup of my best friend. I can't help but smile every time I look at it.\"\nq\n\"Remembers me how much she loves me. Best birthday ever!\"\n1/0\nRotate\nZoom\n#### Personalize this\nRelive memory with a picture printed on the deck of your watch.\nUpload photo\nAdd to cart\nUpdate\nReady to implement\nUpload new image\nI'll find better\n### About the print\n* Your picture is printed on the inside of the glass, which ensures longevity\n* Print dries almost immediately, creating an ultra expressive image.\n* The process will add 1 day to the estimated delivery date (including express)\n* Printed color may differ slightly from what it looks like on the screen.\n* Printed products are non-refundable/replaceable\n* Print adds 79 zł to the sum\nLaser engraving options\nAdd something personal to make this item unique\nNo engraving\nFasten\n55 zł\nSelected:\nAdd your text here\nText (Max. X characters)\nThis field is required\nThe entered text is too long for the available space\n* No delay in delivery for engraving products\n* We use the same font as in the picture, and the text can be adapted to the available space\n* The engraving products are non-refundable/replaceable\nAdd to cart\nCancel\nUpdate\nUndo\n",
     "output_type": "stream"
    }
   ]
  },
  {
   "cell_type": "code",
   "source": [
    "from transformers import AutoTokenizer, MarianMTModel\n",
    "\n",
    "src = \"pl\"  # source language\n",
    "trg = \"en\"  # target language\n",
    "\n",
    "model_name = f\"Helsinki-NLP/opus-mt-{src}-{trg}\"\n",
    "model = MarianMTModel.from_pretrained(model_name)\n",
    "tokenizer = AutoTokenizer.from_pretrained(model_name)"
   ],
   "metadata": {
    "execution": {
     "iopub.status.busy": "2023-09-04T11:58:58.533836Z",
     "iopub.execute_input": "2023-09-04T11:58:58.534392Z",
     "iopub.status.idle": "2023-09-04T11:59:02.927350Z",
     "shell.execute_reply.started": "2023-09-04T11:58:58.534338Z",
     "shell.execute_reply": "2023-09-04T11:59:02.926027Z"
    },
    "trusted": true
   },
   "execution_count": 48,
   "outputs": []
  },
  {
   "cell_type": "markdown",
   "source": [
    "# This setup is the best\n",
    "\n",
    "num_beams = 2 is the fastest."
   ],
   "metadata": {}
  },
  {
   "cell_type": "code",
   "source": [
    "batch = tokenizer(new_lines, return_tensors=\"pt\", padding=True)\n",
    "\n",
    "start = time()\n",
    "generated_ids = model.generate(**batch, num_beams=2)\n",
    "end = time() - start"
   ],
   "metadata": {
    "execution": {
     "iopub.status.busy": "2023-09-04T12:09:52.293456Z",
     "iopub.execute_input": "2023-09-04T12:09:52.294800Z",
     "iopub.status.idle": "2023-09-04T12:10:27.022919Z",
     "shell.execute_reply.started": "2023-09-04T12:09:52.294729Z",
     "shell.execute_reply": "2023-09-04T12:10:27.021466Z"
    },
    "trusted": true
   },
   "execution_count": 72,
   "outputs": []
  },
  {
   "cell_type": "code",
   "source": [
    "end"
   ],
   "metadata": {
    "execution": {
     "iopub.status.busy": "2023-09-04T12:10:27.025654Z",
     "iopub.execute_input": "2023-09-04T12:10:27.026626Z",
     "iopub.status.idle": "2023-09-04T12:10:27.034851Z",
     "shell.execute_reply.started": "2023-09-04T12:10:27.026566Z",
     "shell.execute_reply": "2023-09-04T12:10:27.033280Z"
    },
    "trusted": true
   },
   "execution_count": 73,
   "outputs": [
    {
     "execution_count": 73,
     "output_type": "execute_result",
     "data": {
      "text/plain": "34.64812874794006"
     },
     "metadata": {}
    }
   ]
  },
  {
   "cell_type": "code",
   "source": [
    "for elem in tokenizer.batch_decode(generated_ids, skip_special_tokens=True):\n",
    "    for txt in elem.split('[TS]'):\n",
    "        print(txt.strip())"
   ],
   "metadata": {
    "execution": {
     "iopub.status.busy": "2023-09-04T12:10:27.036809Z",
     "iopub.execute_input": "2023-09-04T12:10:27.037246Z",
     "iopub.status.idle": "2023-09-04T12:10:27.128488Z",
     "shell.execute_reply.started": "2023-09-04T12:10:27.037205Z",
     "shell.execute_reply": "2023-09-04T12:10:27.126943Z"
    },
    "collapsed": true,
    "jupyter": {
     "outputs_hidden": true
    },
    "trusted": true
   },
   "execution_count": 74,
   "outputs": [
    {
     "name": "stdout",
     "text": "Description: Buy: Seizmont - Mads Dante I ed watch for only 999 zł. Buy in Trendhim. 365-day returns. We are proud to offer you excellent shopping.\nog site_name: Trendhim\nog type: product\nog title: Mads Dante I ed.\nVideo\nZoom in\n# Mads Dante I Ed.\n999 zł\nPrint personalized image\n+\n79 zł\nPersonal engraver\n+\n55 zł\nGift-ready packaging\n+\n16 zł\nJewelry cleaning and polishing cloth\n+\n16 zł\nBracelet and watch remover\n+\n19 zł\nBlack traveler's watch cases\n+\n45 zł\nBlack Cliff\nwatch case +\n79 zł\nRound black leather box for 3 watches\n+\n169 zł\nStand for 4 watches\n+\n699 zł\nStand for 2 watches\n+\n449 zł\nBlack wooden watch box with transparent lid - 8 watches\n+\n349 zł\nProduct currently unavailable\nDo you want to be notified when the product is available again?\nEnter your e-mail address and/or telephone number and will be notified when it is available again!\nYour e-mail\nThe correct e-mail address\nPhone number\nYour phone number is incorrect\nSelect one or both options\nSend me an e-mail/sms\nSorry to hear\nTell us what size you needed so that we could be more prepared for the future.\nThe missing size\nUps! You left an empty box\n\nColors\nVarieties\nFree shipping for this product\nIn stock\n365-day return policy - no questions asked!\nSapphire resistant\nAutomatic mechanical movement\nDescription / Size\nCustomer Reviews (973)\nColors\nClients Reviews (973)\nDescription\nLife never ends\nDimensions\nenvelope width: 44 mm envelope depth: 12 mm Belt width: 2.2 cm Belt length: 18 cm Move: automatic mechanical movement ST1646 Waterproofing: 3 ATM Weight: 157 g Max wrist circumference: 19.5 cm Min. wrist circumference: 13,2 cm\nProducts from the same category\nRecommended for you\n×\nBack\nDescription\nLife never ends\nStainless steel Sapphire glass\nDimensions\nCover width: 44 mm Cover depth: 12 mm Belt width: 2,2 cm Belt length: 18 cm Move: automatic mechanical motion ST1646 Waterproofing: 3 ATM Weight: 157 g Max. wrist circumference: 19.5 cm Min. wrist circumference: 13.2 cm\n×\nBack\nDescription\nLife never ends\nDimensions\nenvelope width: 44 mm envelope depth: 12 mm Belt width: 2.2 cm Belt length: 18 cm Move: automatic mechanical movement ST1646 Waterproofing: 3 ATM Weight: 157 g Max. wrist circumference: 19.5 cm Min. wrist circumference: 13.2 cm\n×\nUndo\nCustomer reviews\n(973)\nView reviews translated by Google [926] from international customers\nShow more\nFrom\nTranslated by Google\n×\nUndo\nWhich size are you interested in?\nUps! Don't forget about it.\nSize is unavailable\nDo you want to be notified when this size is available again?\nGive us your email address and/or phone number and you will be notified when it is available again!\nYour email\nCorrect email address\nPhone number\nYour phone number is incorrect\nSelect one or both options\nSend me an email/sms\nSorry to hear\nTell us what size you needed to be more prepared for the future.\nThe missing size\nUps! You left empty\nTell us\n### What other people\n### Design your watch\nq\n\"My wife and daughter are with me every day on my wrist.\"\nq\n\"The best day of my life. I still can't believe my own happiness.\"\nq\n\"Only us two and nature. I love this moment. Now it's forever.\"\nq\n\"The nicest person I've ever known. I like the idea that he's still holding my hand.\"\nq\n\"Teached me everything I know. Being there inspires me to be a better person.\"\nq\n\"The lovely cup of my best friend. I can't help but smile every time I look at it.\"\nq\n\"Remembers me how much she loves me. Best birthday ever!\"\n1/0\nRotate\nZoom\n#### Personalize this\nRelive memory with a picture printed on the deck of your watch.\nUpload photo\nAdd to cart\nUpdate\nReady to implement\nUpload new image\nI'll find better\n### About the print\n* Your picture is printed on the inside of the glass, which ensures longevity\n* Print dries almost immediately, creating an ultra expressive image.\n* The process will add 1 day to the estimated delivery date (including express)\n* Printed color may slightly differ from what it looks like on the screen.\n* Printed products are non-refundable/replaceable\n* Print adds 79 zł to the sum\nLaser engraving options\nAdd something personal to make this item unique\nNo engraving\nFasten\n55 zł\nSelected:\nAdd your text here\nText (Max. X characters)\nThis field is required\nThe entered text is too long for the available space\n* No delay in delivery for engraving products\n* We use the same font as in the picture and the text can be adapted to the available space\n* The engraving products are non-refundable/replaceable\nAdd to cart\nCancel\nUpdate\nUndo\n",
     "output_type": "stream"
    }
   ]
  },
  {
   "cell_type": "markdown",
   "source": [
    "### 3"
   ],
   "metadata": {}
  },
  {
   "cell_type": "code",
   "source": [
    "import sparknlp\n",
    "from sparknlp.annotator import *\n",
    "from sparknlp.base import *\n",
    "from pyspark.ml import Pipeline"
   ],
   "metadata": {
    "execution": {
     "iopub.status.busy": "2023-09-01T15:18:11.375300Z",
     "iopub.execute_input": "2023-09-01T15:18:11.375775Z",
     "iopub.status.idle": "2023-09-01T15:18:11.734987Z",
     "shell.execute_reply.started": "2023-09-01T15:18:11.375719Z",
     "shell.execute_reply": "2023-09-01T15:18:11.733146Z"
    },
    "trusted": true
   },
   "execution_count": 11,
   "outputs": []
  },
  {
   "cell_type": "code",
   "source": [
    "spark = sparknlp.start()"
   ],
   "metadata": {
    "execution": {
     "iopub.status.busy": "2023-09-01T15:18:11.737259Z",
     "iopub.execute_input": "2023-09-01T15:18:11.738271Z",
     "iopub.status.idle": "2023-09-01T15:19:13.247995Z",
     "shell.execute_reply.started": "2023-09-01T15:18:11.738212Z",
     "shell.execute_reply": "2023-09-01T15:19:13.246336Z"
    },
    "collapsed": true,
    "jupyter": {
     "outputs_hidden": true
    },
    "trusted": true
   },
   "execution_count": 12,
   "outputs": [
    {
     "name": "stdout",
     "text": ":: loading settings :: url = jar:file:/opt/conda/lib/python3.7/site-packages/pyspark/jars/ivy-2.5.1.jar!/org/apache/ivy/core/settings/ivysettings.xml\n",
     "output_type": "stream"
    },
    {
     "name": "stderr",
     "text": "Ivy Default Cache set to: /root/.ivy2/cache\nThe jars for the packages stored in: /root/.ivy2/jars\ncom.johnsnowlabs.nlp#spark-nlp_2.12 added as a dependency\n:: resolving dependencies :: org.apache.spark#spark-submit-parent-d567ed29-e462-4d45-8489-6d6125da340d;1.0\n\tconfs: [default]\n\tfound com.johnsnowlabs.nlp#spark-nlp_2.12;5.1.0 in central\n\tfound com.typesafe#config;1.4.2 in central\n\tfound org.rocksdb#rocksdbjni;6.29.5 in central\n\tfound com.amazonaws#aws-java-sdk-bundle;1.11.828 in central\n\tfound com.github.universal-automata#liblevenshtein;3.0.0 in central\n\tfound com.google.protobuf#protobuf-java-util;3.0.0-beta-3 in central\n\tfound com.google.protobuf#protobuf-java;3.0.0-beta-3 in central\n\tfound com.google.code.gson#gson;2.3 in central\n\tfound it.unimi.dsi#fastutil;7.0.12 in central\n\tfound org.projectlombok#lombok;1.16.8 in central\n\tfound com.google.cloud#google-cloud-storage;2.20.1 in central\n\tfound com.google.guava#guava;31.1-jre in central\n\tfound com.google.guava#failureaccess;1.0.1 in central\n\tfound com.google.guava#listenablefuture;9999.0-empty-to-avoid-conflict-with-guava in central\n\tfound com.google.errorprone#error_prone_annotations;2.18.0 in central\n\tfound com.google.j2objc#j2objc-annotations;1.3 in central\n\tfound com.google.http-client#google-http-client;1.43.0 in central\n\tfound io.opencensus#opencensus-contrib-http-util;0.31.1 in central\n\tfound com.google.http-client#google-http-client-jackson2;1.43.0 in central\n\tfound com.google.http-client#google-http-client-gson;1.43.0 in central\n\tfound com.google.api-client#google-api-client;2.2.0 in central\n\tfound commons-codec#commons-codec;1.15 in central\n\tfound com.google.oauth-client#google-oauth-client;1.34.1 in central\n\tfound com.google.http-client#google-http-client-apache-v2;1.43.0 in central\n\tfound com.google.apis#google-api-services-storage;v1-rev20220705-2.0.0 in central\n\tfound com.google.code.gson#gson;2.10.1 in central\n\tfound com.google.cloud#google-cloud-core;2.12.0 in central\n\tfound io.grpc#grpc-context;1.53.0 in central\n\tfound com.google.auto.value#auto-value-annotations;1.10.1 in central\n\tfound com.google.auto.value#auto-value;1.10.1 in central\n\tfound javax.annotation#javax.annotation-api;1.3.2 in central\n\tfound commons-logging#commons-logging;1.2 in central\n\tfound com.google.cloud#google-cloud-core-http;2.12.0 in central\n\tfound com.google.http-client#google-http-client-appengine;1.43.0 in central\n\tfound com.google.api#gax-httpjson;0.108.2 in central\n\tfound com.google.cloud#google-cloud-core-grpc;2.12.0 in central\n\tfound io.grpc#grpc-alts;1.53.0 in central\n\tfound io.grpc#grpc-grpclb;1.53.0 in central\n\tfound org.conscrypt#conscrypt-openjdk-uber;2.5.2 in central\n\tfound io.grpc#grpc-auth;1.53.0 in central\n\tfound io.grpc#grpc-protobuf;1.53.0 in central\n\tfound io.grpc#grpc-protobuf-lite;1.53.0 in central\n\tfound io.grpc#grpc-core;1.53.0 in central\n\tfound com.google.api#gax;2.23.2 in central\n\tfound com.google.api#gax-grpc;2.23.2 in central\n\tfound com.google.auth#google-auth-library-credentials;1.16.0 in central\n\tfound com.google.auth#google-auth-library-oauth2-http;1.16.0 in central\n\tfound com.google.api#api-common;2.6.2 in central\n\tfound io.opencensus#opencensus-api;0.31.1 in central\n\tfound com.google.api.grpc#proto-google-iam-v1;1.9.2 in central\n\tfound com.google.protobuf#protobuf-java;3.21.12 in central\n\tfound com.google.protobuf#protobuf-java-util;3.21.12 in central\n\tfound com.google.api.grpc#proto-google-common-protos;2.14.2 in central\n\tfound org.threeten#threetenbp;1.6.5 in central\n\tfound com.google.api.grpc#proto-google-cloud-storage-v2;2.20.1-alpha in central\n\tfound com.google.api.grpc#grpc-google-cloud-storage-v2;2.20.1-alpha in central\n\tfound com.google.api.grpc#gapic-google-cloud-storage-v2;2.20.1-alpha in central\n\tfound com.fasterxml.jackson.core#jackson-core;2.14.2 in central\n\tfound com.google.code.findbugs#jsr305;3.0.2 in central\n\tfound io.grpc#grpc-api;1.53.0 in central\n\tfound io.grpc#grpc-stub;1.53.0 in central\n\tfound org.checkerframework#checker-qual;3.31.0 in central\n\tfound io.perfmark#perfmark-api;0.26.0 in central\n\tfound com.google.android#annotations;4.1.1.4 in central\n\tfound org.codehaus.mojo#animal-sniffer-annotations;1.22 in central\n\tfound io.opencensus#opencensus-proto;0.2.0 in central\n\tfound io.grpc#grpc-services;1.53.0 in central\n\tfound com.google.re2j#re2j;1.6 in central\n\tfound io.grpc#grpc-netty-shaded;1.53.0 in central\n\tfound io.grpc#grpc-googleapis;1.53.0 in central\n\tfound io.grpc#grpc-xds;1.53.0 in central\n\tfound com.navigamez#greex;1.0 in central\n\tfound dk.brics.automaton#automaton;1.11-8 in central\n\tfound com.johnsnowlabs.nlp#tensorflow-cpu_2.12;0.4.4 in central\n\tfound com.microsoft.onnxruntime#onnxruntime;1.15.0 in central\ndownloading https://repo1.maven.org/maven2/com/johnsnowlabs/nlp/spark-nlp_2.12/5.1.0/spark-nlp_2.12-5.1.0.jar ...\n\t[SUCCESSFUL ] com.johnsnowlabs.nlp#spark-nlp_2.12;5.1.0!spark-nlp_2.12.jar (641ms)\ndownloading https://repo1.maven.org/maven2/com/typesafe/config/1.4.2/config-1.4.2.jar ...\n\t[SUCCESSFUL ] com.typesafe#config;1.4.2!config.jar(bundle) (19ms)\ndownloading https://repo1.maven.org/maven2/org/rocksdb/rocksdbjni/6.29.5/rocksdbjni-6.29.5.jar ...\n\t[SUCCESSFUL ] org.rocksdb#rocksdbjni;6.29.5!rocksdbjni.jar (493ms)\ndownloading https://repo1.maven.org/maven2/com/amazonaws/aws-java-sdk-bundle/1.11.828/aws-java-sdk-bundle-1.11.828.jar ...\n\t[SUCCESSFUL ] com.amazonaws#aws-java-sdk-bundle;1.11.828!aws-java-sdk-bundle.jar (1028ms)\ndownloading https://repo1.maven.org/maven2/com/github/universal-automata/liblevenshtein/3.0.0/liblevenshtein-3.0.0.jar ...\n\t[SUCCESSFUL ] com.github.universal-automata#liblevenshtein;3.0.0!liblevenshtein.jar (15ms)\ndownloading https://repo1.maven.org/maven2/com/google/cloud/google-cloud-storage/2.20.1/google-cloud-storage-2.20.1.jar ...\n\t[SUCCESSFUL ] com.google.cloud#google-cloud-storage;2.20.1!google-cloud-storage.jar (18ms)\ndownloading https://repo1.maven.org/maven2/com/navigamez/greex/1.0/greex-1.0.jar ...\n\t[SUCCESSFUL ] com.navigamez#greex;1.0!greex.jar (14ms)\ndownloading https://repo1.maven.org/maven2/com/johnsnowlabs/nlp/tensorflow-cpu_2.12/0.4.4/tensorflow-cpu_2.12-0.4.4.jar ...\n\t[SUCCESSFUL ] com.johnsnowlabs.nlp#tensorflow-cpu_2.12;0.4.4!tensorflow-cpu_2.12.jar (1846ms)\ndownloading https://repo1.maven.org/maven2/com/microsoft/onnxruntime/onnxruntime/1.15.0/onnxruntime-1.15.0.jar ...\n\t[SUCCESSFUL ] com.microsoft.onnxruntime#onnxruntime;1.15.0!onnxruntime.jar (347ms)\ndownloading https://repo1.maven.org/maven2/it/unimi/dsi/fastutil/7.0.12/fastutil-7.0.12.jar ...\n\t[SUCCESSFUL ] it.unimi.dsi#fastutil;7.0.12!fastutil.jar (97ms)\ndownloading https://repo1.maven.org/maven2/org/projectlombok/lombok/1.16.8/lombok-1.16.8.jar ...\n\t[SUCCESSFUL ] org.projectlombok#lombok;1.16.8!lombok.jar (23ms)\ndownloading https://repo1.maven.org/maven2/com/google/guava/guava/31.1-jre/guava-31.1-jre.jar ...\n\t[SUCCESSFUL ] com.google.guava#guava;31.1-jre!guava.jar(bundle) (33ms)\ndownloading https://repo1.maven.org/maven2/com/google/guava/failureaccess/1.0.1/failureaccess-1.0.1.jar ...\n\t[SUCCESSFUL ] com.google.guava#failureaccess;1.0.1!failureaccess.jar(bundle) (13ms)\ndownloading https://repo1.maven.org/maven2/com/google/guava/listenablefuture/9999.0-empty-to-avoid-conflict-with-guava/listenablefuture-9999.0-empty-to-avoid-conflict-with-guava.jar ...\n\t[SUCCESSFUL ] com.google.guava#listenablefuture;9999.0-empty-to-avoid-conflict-with-guava!listenablefuture.jar (13ms)\ndownloading https://repo1.maven.org/maven2/com/google/errorprone/error_prone_annotations/2.18.0/error_prone_annotations-2.18.0.jar ...\n\t[SUCCESSFUL ] com.google.errorprone#error_prone_annotations;2.18.0!error_prone_annotations.jar (13ms)\ndownloading https://repo1.maven.org/maven2/com/google/j2objc/j2objc-annotations/1.3/j2objc-annotations-1.3.jar ...\n\t[SUCCESSFUL ] com.google.j2objc#j2objc-annotations;1.3!j2objc-annotations.jar (15ms)\ndownloading https://repo1.maven.org/maven2/com/google/http-client/google-http-client/1.43.0/google-http-client-1.43.0.jar ...\n\t[SUCCESSFUL ] com.google.http-client#google-http-client;1.43.0!google-http-client.jar (18ms)\ndownloading https://repo1.maven.org/maven2/io/opencensus/opencensus-contrib-http-util/0.31.1/opencensus-contrib-http-util-0.31.1.jar ...\n\t[SUCCESSFUL ] io.opencensus#opencensus-contrib-http-util;0.31.1!opencensus-contrib-http-util.jar (20ms)\ndownloading https://repo1.maven.org/maven2/com/google/http-client/google-http-client-jackson2/1.43.0/google-http-client-jackson2-1.43.0.jar ...\n\t[SUCCESSFUL ] com.google.http-client#google-http-client-jackson2;1.43.0!google-http-client-jackson2.jar (14ms)\ndownloading https://repo1.maven.org/maven2/com/google/http-client/google-http-client-gson/1.43.0/google-http-client-gson-1.43.0.jar ...\n\t[SUCCESSFUL ] com.google.http-client#google-http-client-gson;1.43.0!google-http-client-gson.jar (14ms)\ndownloading https://repo1.maven.org/maven2/com/google/api-client/google-api-client/2.2.0/google-api-client-2.2.0.jar ...\n\t[SUCCESSFUL ] com.google.api-client#google-api-client;2.2.0!google-api-client.jar (15ms)\ndownloading https://repo1.maven.org/maven2/commons-codec/commons-codec/1.15/commons-codec-1.15.jar ...\n\t[SUCCESSFUL ] commons-codec#commons-codec;1.15!commons-codec.jar (18ms)\ndownloading https://repo1.maven.org/maven2/com/google/oauth-client/google-oauth-client/1.34.1/google-oauth-client-1.34.1.jar ...\n\t[SUCCESSFUL ] com.google.oauth-client#google-oauth-client;1.34.1!google-oauth-client.jar (15ms)\ndownloading https://repo1.maven.org/maven2/com/google/http-client/google-http-client-apache-v2/1.43.0/google-http-client-apache-v2-1.43.0.jar ...\n\t[SUCCESSFUL ] com.google.http-client#google-http-client-apache-v2;1.43.0!google-http-client-apache-v2.jar (14ms)\ndownloading https://repo1.maven.org/maven2/com/google/apis/google-api-services-storage/v1-rev20220705-2.0.0/google-api-services-storage-v1-rev20220705-2.0.0.jar ...\n\t[SUCCESSFUL ] com.google.apis#google-api-services-storage;v1-rev20220705-2.0.0!google-api-services-storage.jar (16ms)\ndownloading https://repo1.maven.org/maven2/com/google/code/gson/gson/2.10.1/gson-2.10.1.jar ...\n\t[SUCCESSFUL ] com.google.code.gson#gson;2.10.1!gson.jar (17ms)\ndownloading https://repo1.maven.org/maven2/com/google/cloud/google-cloud-core/2.12.0/google-cloud-core-2.12.0.jar ...\n\t[SUCCESSFUL ] com.google.cloud#google-cloud-core;2.12.0!google-cloud-core.jar (17ms)\ndownloading https://repo1.maven.org/maven2/io/grpc/grpc-context/1.53.0/grpc-context-1.53.0.jar ...\n\t[SUCCESSFUL ] io.grpc#grpc-context;1.53.0!grpc-context.jar (17ms)\ndownloading https://repo1.maven.org/maven2/com/google/auto/value/auto-value-annotations/1.10.1/auto-value-annotations-1.10.1.jar ...\n\t[SUCCESSFUL ] com.google.auto.value#auto-value-annotations;1.10.1!auto-value-annotations.jar (16ms)\ndownloading https://repo1.maven.org/maven2/com/google/auto/value/auto-value/1.10.1/auto-value-1.10.1.jar ...\n\t[SUCCESSFUL ] com.google.auto.value#auto-value;1.10.1!auto-value.jar (73ms)\ndownloading https://repo1.maven.org/maven2/javax/annotation/javax.annotation-api/1.3.2/javax.annotation-api-1.3.2.jar ...\n\t[SUCCESSFUL ] javax.annotation#javax.annotation-api;1.3.2!javax.annotation-api.jar (14ms)\ndownloading https://repo1.maven.org/maven2/commons-logging/commons-logging/1.2/commons-logging-1.2.jar ...\n\t[SUCCESSFUL ] commons-logging#commons-logging;1.2!commons-logging.jar (15ms)\ndownloading https://repo1.maven.org/maven2/com/google/cloud/google-cloud-core-http/2.12.0/google-cloud-core-http-2.12.0.jar ...\n\t[SUCCESSFUL ] com.google.cloud#google-cloud-core-http;2.12.0!google-cloud-core-http.jar (16ms)\ndownloading https://repo1.maven.org/maven2/com/google/http-client/google-http-client-appengine/1.43.0/google-http-client-appengine-1.43.0.jar ...\n\t[SUCCESSFUL ] com.google.http-client#google-http-client-appengine;1.43.0!google-http-client-appengine.jar (18ms)\ndownloading https://repo1.maven.org/maven2/com/google/api/gax-httpjson/0.108.2/gax-httpjson-0.108.2.jar ...\n\t[SUCCESSFUL ] com.google.api#gax-httpjson;0.108.2!gax-httpjson.jar (16ms)\ndownloading https://repo1.maven.org/maven2/com/google/cloud/google-cloud-core-grpc/2.12.0/google-cloud-core-grpc-2.12.0.jar ...\n\t[SUCCESSFUL ] com.google.cloud#google-cloud-core-grpc;2.12.0!google-cloud-core-grpc.jar (14ms)\ndownloading https://repo1.maven.org/maven2/io/grpc/grpc-alts/1.53.0/grpc-alts-1.53.0.jar ...\n\t[SUCCESSFUL ] io.grpc#grpc-alts;1.53.0!grpc-alts.jar (19ms)\ndownloading https://repo1.maven.org/maven2/io/grpc/grpc-grpclb/1.53.0/grpc-grpclb-1.53.0.jar ...\n\t[SUCCESSFUL ] io.grpc#grpc-grpclb;1.53.0!grpc-grpclb.jar (16ms)\ndownloading https://repo1.maven.org/maven2/org/conscrypt/conscrypt-openjdk-uber/2.5.2/conscrypt-openjdk-uber-2.5.2.jar ...\n\t[SUCCESSFUL ] org.conscrypt#conscrypt-openjdk-uber;2.5.2!conscrypt-openjdk-uber.jar (59ms)\ndownloading https://repo1.maven.org/maven2/io/grpc/grpc-auth/1.53.0/grpc-auth-1.53.0.jar ...\n\t[SUCCESSFUL ] io.grpc#grpc-auth;1.53.0!grpc-auth.jar (15ms)\ndownloading https://repo1.maven.org/maven2/io/grpc/grpc-protobuf/1.53.0/grpc-protobuf-1.53.0.jar ...\n\t[SUCCESSFUL ] io.grpc#grpc-protobuf;1.53.0!grpc-protobuf.jar (13ms)\ndownloading https://repo1.maven.org/maven2/io/grpc/grpc-protobuf-lite/1.53.0/grpc-protobuf-lite-1.53.0.jar ...\n\t[SUCCESSFUL ] io.grpc#grpc-protobuf-lite;1.53.0!grpc-protobuf-lite.jar (13ms)\ndownloading https://repo1.maven.org/maven2/io/grpc/grpc-core/1.53.0/grpc-core-1.53.0.jar ...\n\t[SUCCESSFUL ] io.grpc#grpc-core;1.53.0!grpc-core.jar (21ms)\ndownloading https://repo1.maven.org/maven2/com/google/api/gax/2.23.2/gax-2.23.2.jar ...\n\t[SUCCESSFUL ] com.google.api#gax;2.23.2!gax.jar (17ms)\ndownloading https://repo1.maven.org/maven2/com/google/api/gax-grpc/2.23.2/gax-grpc-2.23.2.jar ...\n\t[SUCCESSFUL ] com.google.api#gax-grpc;2.23.2!gax-grpc.jar (15ms)\ndownloading https://repo1.maven.org/maven2/com/google/auth/google-auth-library-credentials/1.16.0/google-auth-library-credentials-1.16.0.jar ...\n\t[SUCCESSFUL ] com.google.auth#google-auth-library-credentials;1.16.0!google-auth-library-credentials.jar (14ms)\ndownloading https://repo1.maven.org/maven2/com/google/auth/google-auth-library-oauth2-http/1.16.0/google-auth-library-oauth2-http-1.16.0.jar ...\n\t[SUCCESSFUL ] com.google.auth#google-auth-library-oauth2-http;1.16.0!google-auth-library-oauth2-http.jar (17ms)\ndownloading https://repo1.maven.org/maven2/com/google/api/api-common/2.6.2/api-common-2.6.2.jar ...\n\t[SUCCESSFUL ] com.google.api#api-common;2.6.2!api-common.jar (14ms)\ndownloading https://repo1.maven.org/maven2/io/opencensus/opencensus-api/0.31.1/opencensus-api-0.31.1.jar ...\n\t[SUCCESSFUL ] io.opencensus#opencensus-api;0.31.1!opencensus-api.jar (18ms)\ndownloading https://repo1.maven.org/maven2/com/google/api/grpc/proto-google-iam-v1/1.9.2/proto-google-iam-v1-1.9.2.jar ...\n\t[SUCCESSFUL ] com.google.api.grpc#proto-google-iam-v1;1.9.2!proto-google-iam-v1.jar (16ms)\ndownloading https://repo1.maven.org/maven2/com/google/protobuf/protobuf-java/3.21.12/protobuf-java-3.21.12.jar ...\n\t[SUCCESSFUL ] com.google.protobuf#protobuf-java;3.21.12!protobuf-java.jar(bundle) (37ms)\ndownloading https://repo1.maven.org/maven2/com/google/protobuf/protobuf-java-util/3.21.12/protobuf-java-util-3.21.12.jar ...\n\t[SUCCESSFUL ] com.google.protobuf#protobuf-java-util;3.21.12!protobuf-java-util.jar(bundle) (14ms)\ndownloading https://repo1.maven.org/maven2/com/google/api/grpc/proto-google-common-protos/2.14.2/proto-google-common-protos-2.14.2.jar ...\n\t[SUCCESSFUL ] com.google.api.grpc#proto-google-common-protos;2.14.2!proto-google-common-protos.jar (28ms)\ndownloading https://repo1.maven.org/maven2/org/threeten/threetenbp/1.6.5/threetenbp-1.6.5.jar ...\n\t[SUCCESSFUL ] org.threeten#threetenbp;1.6.5!threetenbp.jar (17ms)\ndownloading https://repo1.maven.org/maven2/com/google/api/grpc/proto-google-cloud-storage-v2/2.20.1-alpha/proto-google-cloud-storage-v2-2.20.1-alpha.jar ...\n\t[SUCCESSFUL ] com.google.api.grpc#proto-google-cloud-storage-v2;2.20.1-alpha!proto-google-cloud-storage-v2.jar (22ms)\ndownloading https://repo1.maven.org/maven2/com/google/api/grpc/grpc-google-cloud-storage-v2/2.20.1-alpha/grpc-google-cloud-storage-v2-2.20.1-alpha.jar ...\n\t[SUCCESSFUL ] com.google.api.grpc#grpc-google-cloud-storage-v2;2.20.1-alpha!grpc-google-cloud-storage-v2.jar (14ms)\ndownloading https://repo1.maven.org/maven2/com/google/api/grpc/gapic-google-cloud-storage-v2/2.20.1-alpha/gapic-google-cloud-storage-v2-2.20.1-alpha.jar ...\n\t[SUCCESSFUL ] com.google.api.grpc#gapic-google-cloud-storage-v2;2.20.1-alpha!gapic-google-cloud-storage-v2.jar (15ms)\ndownloading https://repo1.maven.org/maven2/com/fasterxml/jackson/core/jackson-core/2.14.2/jackson-core-2.14.2.jar ...\n\t[SUCCESSFUL ] com.fasterxml.jackson.core#jackson-core;2.14.2!jackson-core.jar(bundle) (17ms)\ndownloading https://repo1.maven.org/maven2/com/google/code/findbugs/jsr305/3.0.2/jsr305-3.0.2.jar ...\n\t[SUCCESSFUL ] com.google.code.findbugs#jsr305;3.0.2!jsr305.jar (14ms)\ndownloading https://repo1.maven.org/maven2/io/grpc/grpc-api/1.53.0/grpc-api-1.53.0.jar ...\n\t[SUCCESSFUL ] io.grpc#grpc-api;1.53.0!grpc-api.jar (15ms)\ndownloading https://repo1.maven.org/maven2/io/grpc/grpc-stub/1.53.0/grpc-stub-1.53.0.jar ...\n\t[SUCCESSFUL ] io.grpc#grpc-stub;1.53.0!grpc-stub.jar (13ms)\ndownloading https://repo1.maven.org/maven2/org/checkerframework/checker-qual/3.31.0/checker-qual-3.31.0.jar ...\n\t[SUCCESSFUL ] org.checkerframework#checker-qual;3.31.0!checker-qual.jar (14ms)\ndownloading https://repo1.maven.org/maven2/io/perfmark/perfmark-api/0.26.0/perfmark-api-0.26.0.jar ...\n\t[SUCCESSFUL ] io.perfmark#perfmark-api;0.26.0!perfmark-api.jar (14ms)\ndownloading https://repo1.maven.org/maven2/com/google/android/annotations/4.1.1.4/annotations-4.1.1.4.jar ...\n\t[SUCCESSFUL ] com.google.android#annotations;4.1.1.4!annotations.jar (13ms)\ndownloading https://repo1.maven.org/maven2/org/codehaus/mojo/animal-sniffer-annotations/1.22/animal-sniffer-annotations-1.22.jar ...\n\t[SUCCESSFUL ] org.codehaus.mojo#animal-sniffer-annotations;1.22!animal-sniffer-annotations.jar (15ms)\ndownloading https://repo1.maven.org/maven2/io/opencensus/opencensus-proto/0.2.0/opencensus-proto-0.2.0.jar ...\n\t[SUCCESSFUL ] io.opencensus#opencensus-proto;0.2.0!opencensus-proto.jar (21ms)\ndownloading https://repo1.maven.org/maven2/io/grpc/grpc-services/1.53.0/grpc-services-1.53.0.jar ...\n\t[SUCCESSFUL ] io.grpc#grpc-services;1.53.0!grpc-services.jar (27ms)\ndownloading https://repo1.maven.org/maven2/com/google/re2j/re2j/1.6/re2j-1.6.jar ...\n\t[SUCCESSFUL ] com.google.re2j#re2j;1.6!re2j.jar (16ms)\ndownloading https://repo1.maven.org/maven2/io/grpc/grpc-netty-shaded/1.53.0/grpc-netty-shaded-1.53.0.jar ...\n\t[SUCCESSFUL ] io.grpc#grpc-netty-shaded;1.53.0!grpc-netty-shaded.jar (74ms)\ndownloading https://repo1.maven.org/maven2/io/grpc/grpc-googleapis/1.53.0/grpc-googleapis-1.53.0.jar ...\n\t[SUCCESSFUL ] io.grpc#grpc-googleapis;1.53.0!grpc-googleapis.jar (14ms)\ndownloading https://repo1.maven.org/maven2/io/grpc/grpc-xds/1.53.0/grpc-xds-1.53.0.jar ...\n\t[SUCCESSFUL ] io.grpc#grpc-xds;1.53.0!grpc-xds.jar (71ms)\ndownloading https://repo1.maven.org/maven2/dk/brics/automaton/automaton/1.11-8/automaton-1.11-8.jar ...\n\t[SUCCESSFUL ] dk.brics.automaton#automaton;1.11-8!automaton.jar (16ms)\n:: resolution report :: resolve 36204ms :: artifacts dl 5834ms\n\t:: modules in use:\n\tcom.amazonaws#aws-java-sdk-bundle;1.11.828 from central in [default]\n\tcom.fasterxml.jackson.core#jackson-core;2.14.2 from central in [default]\n\tcom.github.universal-automata#liblevenshtein;3.0.0 from central in [default]\n\tcom.google.android#annotations;4.1.1.4 from central in [default]\n\tcom.google.api#api-common;2.6.2 from central in [default]\n\tcom.google.api#gax;2.23.2 from central in [default]\n\tcom.google.api#gax-grpc;2.23.2 from central in [default]\n\tcom.google.api#gax-httpjson;0.108.2 from central in [default]\n\tcom.google.api-client#google-api-client;2.2.0 from central in [default]\n\tcom.google.api.grpc#gapic-google-cloud-storage-v2;2.20.1-alpha from central in [default]\n\tcom.google.api.grpc#grpc-google-cloud-storage-v2;2.20.1-alpha from central in [default]\n\tcom.google.api.grpc#proto-google-cloud-storage-v2;2.20.1-alpha from central in [default]\n\tcom.google.api.grpc#proto-google-common-protos;2.14.2 from central in [default]\n\tcom.google.api.grpc#proto-google-iam-v1;1.9.2 from central in [default]\n\tcom.google.apis#google-api-services-storage;v1-rev20220705-2.0.0 from central in [default]\n\tcom.google.auth#google-auth-library-credentials;1.16.0 from central in [default]\n\tcom.google.auth#google-auth-library-oauth2-http;1.16.0 from central in [default]\n\tcom.google.auto.value#auto-value;1.10.1 from central in [default]\n\tcom.google.auto.value#auto-value-annotations;1.10.1 from central in [default]\n\tcom.google.cloud#google-cloud-core;2.12.0 from central in [default]\n\tcom.google.cloud#google-cloud-core-grpc;2.12.0 from central in [default]\n\tcom.google.cloud#google-cloud-core-http;2.12.0 from central in [default]\n\tcom.google.cloud#google-cloud-storage;2.20.1 from central in [default]\n\tcom.google.code.findbugs#jsr305;3.0.2 from central in [default]\n\tcom.google.code.gson#gson;2.10.1 from central in [default]\n\tcom.google.errorprone#error_prone_annotations;2.18.0 from central in [default]\n\tcom.google.guava#failureaccess;1.0.1 from central in [default]\n\tcom.google.guava#guava;31.1-jre from central in [default]\n\tcom.google.guava#listenablefuture;9999.0-empty-to-avoid-conflict-with-guava from central in [default]\n\tcom.google.http-client#google-http-client;1.43.0 from central in [default]\n\tcom.google.http-client#google-http-client-apache-v2;1.43.0 from central in [default]\n\tcom.google.http-client#google-http-client-appengine;1.43.0 from central in [default]\n\tcom.google.http-client#google-http-client-gson;1.43.0 from central in [default]\n\tcom.google.http-client#google-http-client-jackson2;1.43.0 from central in [default]\n\tcom.google.j2objc#j2objc-annotations;1.3 from central in [default]\n\tcom.google.oauth-client#google-oauth-client;1.34.1 from central in [default]\n\tcom.google.protobuf#protobuf-java;3.21.12 from central in [default]\n\tcom.google.protobuf#protobuf-java-util;3.21.12 from central in [default]\n\tcom.google.re2j#re2j;1.6 from central in [default]\n\tcom.johnsnowlabs.nlp#spark-nlp_2.12;5.1.0 from central in [default]\n\tcom.johnsnowlabs.nlp#tensorflow-cpu_2.12;0.4.4 from central in [default]\n\tcom.microsoft.onnxruntime#onnxruntime;1.15.0 from central in [default]\n\tcom.navigamez#greex;1.0 from central in [default]\n\tcom.typesafe#config;1.4.2 from central in [default]\n\tcommons-codec#commons-codec;1.15 from central in [default]\n\tcommons-logging#commons-logging;1.2 from central in [default]\n\tdk.brics.automaton#automaton;1.11-8 from central in [default]\n\tio.grpc#grpc-alts;1.53.0 from central in [default]\n\tio.grpc#grpc-api;1.53.0 from central in [default]\n\tio.grpc#grpc-auth;1.53.0 from central in [default]\n\tio.grpc#grpc-context;1.53.0 from central in [default]\n\tio.grpc#grpc-core;1.53.0 from central in [default]\n\tio.grpc#grpc-googleapis;1.53.0 from central in [default]\n\tio.grpc#grpc-grpclb;1.53.0 from central in [default]\n\tio.grpc#grpc-netty-shaded;1.53.0 from central in [default]\n\tio.grpc#grpc-protobuf;1.53.0 from central in [default]\n\tio.grpc#grpc-protobuf-lite;1.53.0 from central in [default]\n\tio.grpc#grpc-services;1.53.0 from central in [default]\n\tio.grpc#grpc-stub;1.53.0 from central in [default]\n\tio.grpc#grpc-xds;1.53.0 from central in [default]\n\tio.opencensus#opencensus-api;0.31.1 from central in [default]\n\tio.opencensus#opencensus-contrib-http-util;0.31.1 from central in [default]\n\tio.opencensus#opencensus-proto;0.2.0 from central in [default]\n\tio.perfmark#perfmark-api;0.26.0 from central in [default]\n\tit.unimi.dsi#fastutil;7.0.12 from central in [default]\n\tjavax.annotation#javax.annotation-api;1.3.2 from central in [default]\n\torg.checkerframework#checker-qual;3.31.0 from central in [default]\n\torg.codehaus.mojo#animal-sniffer-annotations;1.22 from central in [default]\n\torg.conscrypt#conscrypt-openjdk-uber;2.5.2 from central in [default]\n\torg.projectlombok#lombok;1.16.8 from central in [default]\n\torg.rocksdb#rocksdbjni;6.29.5 from central in [default]\n\torg.threeten#threetenbp;1.6.5 from central in [default]\n\t:: evicted modules:\n\tcom.google.protobuf#protobuf-java-util;3.0.0-beta-3 by [com.google.protobuf#protobuf-java-util;3.21.12] in [default]\n\tcom.google.protobuf#protobuf-java;3.0.0-beta-3 by [com.google.protobuf#protobuf-java;3.21.12] in [default]\n\tcom.google.code.gson#gson;2.3 by [com.google.code.gson#gson;2.10.1] in [default]\n\t---------------------------------------------------------------------\n\t|                  |            modules            ||   artifacts   |\n\t|       conf       | number| search|dwnlded|evicted|| number|dwnlded|\n\t---------------------------------------------------------------------\n\t|      default     |   75  |   75  |   75  |   3   ||   72  |   72  |\n\t---------------------------------------------------------------------\n:: retrieving :: org.apache.spark#spark-submit-parent-d567ed29-e462-4d45-8489-6d6125da340d\n\tconfs: [default]\n\t72 artifacts copied, 0 already retrieved (688126kB/1785ms)\n23/09/01 15:19:00 WARN NativeCodeLoader: Unable to load native-hadoop library for your platform... using builtin-java classes where applicable\nSetting default log level to \"WARN\".\nTo adjust logging level use sc.setLogLevel(newLevel). For SparkR, use setLogLevel(newLevel).\n/opt/conda/lib/python3.7/site-packages/pyspark/context.py:317: FutureWarning: Python 3.7 support is deprecated in Spark 3.4.\n  warnings.warn(\"Python 3.7 support is deprecated in Spark 3.4.\", FutureWarning)\n",
     "output_type": "stream"
    }
   ]
  },
  {
   "cell_type": "code",
   "source": [
    "documentAssembler = DocumentAssembler().setInputCol(\"text\").setOutputCol(\"document\")\n",
    "\n",
    "sentencerDL = SentenceDetectorDLModel.pretrained(\"sentence_detector_dl\", \"xx\").setInputCols([\"document\"]).setOutputCol(\"sentences\")\n",
    "\n",
    "marian = MarianTransformer.pretrained(\"opus_mt_pl_en\", \"xx\").setInputCols([\"document\"]).setOutputCol(\"translation\")"
   ],
   "metadata": {
    "execution": {
     "iopub.status.busy": "2023-09-01T15:19:13.250187Z",
     "iopub.execute_input": "2023-09-01T15:19:13.252054Z",
     "iopub.status.idle": "2023-09-01T15:20:53.894130Z",
     "shell.execute_reply.started": "2023-09-01T15:19:13.251972Z",
     "shell.execute_reply": "2023-09-01T15:20:53.892369Z"
    },
    "collapsed": true,
    "jupyter": {
     "outputs_hidden": true
    },
    "trusted": true
   },
   "execution_count": 13,
   "outputs": [
    {
     "name": "stdout",
     "text": "sentence_detector_dl download started this may take some time.\nApproximate size to download 514.9 KB\n[ | ]sentence_detector_dl download started this may take some time.\nApproximate size to download 514.9 KB\n[ / ]Download done! Loading the resource.\n[ — ]",
     "output_type": "stream"
    },
    {
     "name": "stderr",
     "text": "                                                                                \r",
     "output_type": "stream"
    },
    {
     "name": "stdout",
     "text": "[OK!]",
     "output_type": "stream"
    },
    {
     "name": "stderr",
     "text": "WARNING: An illegal reflective access operation has occurred\nWARNING: Illegal reflective access by org.apache.spark.util.SizeEstimator$ (file:/opt/conda/lib/python3.7/site-packages/pyspark/jars/spark-core_2.12-3.4.1.jar) to field java.lang.ref.Reference.referent\nWARNING: Please consider reporting this to the maintainers of org.apache.spark.util.SizeEstimator$\nWARNING: Use --illegal-access=warn to enable warnings of further illegal reflective access operations\nWARNING: All illegal access operations will be denied in a future release\n",
     "output_type": "stream"
    },
    {
     "name": "stdout",
     "text": "\nopus_mt_pl_en download started this may take some time.\nApproximate size to download 392.5 MB\n[ | ]opus_mt_pl_en download started this may take some time.\nApproximate size to download 392.5 MB\n[ | ]Download done! Loading the resource.\n[ / ]",
     "output_type": "stream"
    },
    {
     "name": "stderr",
     "text": "                                                                                \r",
     "output_type": "stream"
    },
    {
     "name": "stdout",
     "text": "[OK!]\n",
     "output_type": "stream"
    }
   ]
  },
  {
   "cell_type": "code",
   "source": [
    "pipeline = Pipeline().setStages([documentAssembler, sentencerDL, marian])"
   ],
   "metadata": {
    "execution": {
     "iopub.status.busy": "2023-09-01T15:20:53.896504Z",
     "iopub.execute_input": "2023-09-01T15:20:53.897066Z",
     "iopub.status.idle": "2023-09-01T15:20:53.906097Z",
     "shell.execute_reply.started": "2023-09-01T15:20:53.897008Z",
     "shell.execute_reply": "2023-09-01T15:20:53.904903Z"
    },
    "trusted": true
   },
   "execution_count": 14,
   "outputs": []
  },
  {
   "cell_type": "code",
   "source": [
    "to_translate = [[elem] for elem in text_lines]"
   ],
   "metadata": {
    "execution": {
     "iopub.status.busy": "2023-09-01T15:20:53.908050Z",
     "iopub.execute_input": "2023-09-01T15:20:53.908818Z",
     "iopub.status.idle": "2023-09-01T15:20:53.935047Z",
     "shell.execute_reply.started": "2023-09-01T15:20:53.908774Z",
     "shell.execute_reply": "2023-09-01T15:20:53.933780Z"
    },
    "trusted": true
   },
   "execution_count": 15,
   "outputs": []
  },
  {
   "cell_type": "code",
   "source": [
    "data = spark.createDataFrame(to_translate).toDF(\"text\")"
   ],
   "metadata": {
    "execution": {
     "iopub.status.busy": "2023-09-01T15:20:53.937125Z",
     "iopub.execute_input": "2023-09-01T15:20:53.937596Z",
     "iopub.status.idle": "2023-09-01T15:20:57.494340Z",
     "shell.execute_reply.started": "2023-09-01T15:20:53.937552Z",
     "shell.execute_reply": "2023-09-01T15:20:57.492925Z"
    },
    "trusted": true
   },
   "execution_count": 16,
   "outputs": []
  },
  {
   "cell_type": "code",
   "source": [
    "result = pipeline.fit(data).transform(data)"
   ],
   "metadata": {
    "execution": {
     "iopub.status.busy": "2023-09-01T15:20:57.499259Z",
     "iopub.execute_input": "2023-09-01T15:20:57.504169Z",
     "iopub.status.idle": "2023-09-01T15:21:09.000408Z",
     "shell.execute_reply.started": "2023-09-01T15:20:57.504096Z",
     "shell.execute_reply": "2023-09-01T15:21:08.998796Z"
    },
    "trusted": true
   },
   "execution_count": 17,
   "outputs": []
  },
  {
   "cell_type": "code",
   "source": [
    "res = result.selectExpr(\"(translation.result) as result\")"
   ],
   "metadata": {
    "execution": {
     "iopub.status.busy": "2023-09-01T15:25:18.321316Z",
     "iopub.execute_input": "2023-09-01T15:25:18.322229Z",
     "iopub.status.idle": "2023-09-01T15:25:18.356967Z",
     "shell.execute_reply.started": "2023-09-01T15:25:18.322172Z",
     "shell.execute_reply": "2023-09-01T15:25:18.355421Z"
    },
    "trusted": true
   },
   "execution_count": 19,
   "outputs": []
  },
  {
   "cell_type": "code",
   "source": [
    "df = res.toPandas()"
   ],
   "metadata": {
    "execution": {
     "iopub.status.busy": "2023-09-01T15:25:18.358536Z",
     "iopub.execute_input": "2023-09-01T15:25:18.359364Z",
     "iopub.status.idle": "2023-09-01T15:28:46.539843Z",
     "shell.execute_reply.started": "2023-09-01T15:25:18.359293Z",
     "shell.execute_reply": "2023-09-01T15:28:46.537984Z"
    },
    "trusted": true
   },
   "execution_count": 20,
   "outputs": [
    {
     "name": "stderr",
     "text": "                                                                                \r",
     "output_type": "stream"
    }
   ]
  },
  {
   "cell_type": "code",
   "source": [
    "with open(\"translation_pyspark\", 'w') as file:\n",
    "    for _, row in df.iterrows():\n",
    "        file.write(f'{row[\"result\"][0]}\\n')"
   ],
   "metadata": {
    "execution": {
     "iopub.status.busy": "2023-09-01T15:28:46.541849Z",
     "iopub.execute_input": "2023-09-01T15:28:46.542495Z",
     "iopub.status.idle": "2023-09-01T15:28:46.565018Z",
     "shell.execute_reply.started": "2023-09-01T15:28:46.542429Z",
     "shell.execute_reply": "2023-09-01T15:28:46.563568Z"
    },
    "trusted": true
   },
   "execution_count": 21,
   "outputs": []
  },
  {
   "cell_type": "markdown",
   "source": [
    "## english to polish"
   ],
   "metadata": {}
  },
  {
   "cell_type": "markdown",
   "source": [
    "### 1"
   ],
   "metadata": {}
  },
  {
   "cell_type": "code",
   "source": [
    "from transformers import pipeline\n",
    "\n",
    "translator = pipeline(\"translation\", model=\"sdadas/mt5-base-translator-en-pl\")"
   ],
   "metadata": {
    "execution": {
     "iopub.status.busy": "2023-05-18T12:46:23.045872Z",
     "iopub.execute_input": "2023-05-18T12:46:23.046297Z",
     "iopub.status.idle": "2023-05-18T12:47:17.375711Z",
     "shell.execute_reply.started": "2023-05-18T12:46:23.046260Z",
     "shell.execute_reply": "2023-05-18T12:47:17.374414Z"
    },
    "collapsed": true,
    "jupyter": {
     "outputs_hidden": true
    },
    "trusted": true
   },
   "execution_count": 21,
   "outputs": [
    {
     "output_type": "display_data",
     "data": {
      "text/plain": "Downloading pytorch_model.bin:   0%|          | 0.00/2.33G [00:00<?, ?B/s]",
      "application/vnd.jupyter.widget-view+json": {
       "version_major": 2,
       "version_minor": 0,
       "model_id": "4966032a2b8047ac9f573b31fcbb952a"
      }
     },
     "metadata": {}
    },
    {
     "output_type": "display_data",
     "data": {
      "text/plain": "Downloading (…)okenizer_config.json:   0%|          | 0.00/532 [00:00<?, ?B/s]",
      "application/vnd.jupyter.widget-view+json": {
       "version_major": 2,
       "version_minor": 0,
       "model_id": "d52c85895f204a70849c4d9c141f1b64"
      }
     },
     "metadata": {}
    },
    {
     "output_type": "display_data",
     "data": {
      "text/plain": "Downloading spiece.model:   0%|          | 0.00/4.31M [00:00<?, ?B/s]",
      "application/vnd.jupyter.widget-view+json": {
       "version_major": 2,
       "version_minor": 0,
       "model_id": "dcfae9721f3f4504ae54e2b2d50ee4ab"
      }
     },
     "metadata": {}
    },
    {
     "output_type": "display_data",
     "data": {
      "text/plain": "Downloading tokenizer.json:   0%|          | 0.00/16.3M [00:00<?, ?B/s]",
      "application/vnd.jupyter.widget-view+json": {
       "version_major": 2,
       "version_minor": 0,
       "model_id": "44e57801890849368f051c962f15b883"
      }
     },
     "metadata": {}
    },
    {
     "output_type": "display_data",
     "data": {
      "text/plain": "Downloading (…)cial_tokens_map.json:   0%|          | 0.00/74.0 [00:00<?, ?B/s]",
      "application/vnd.jupyter.widget-view+json": {
       "version_major": 2,
       "version_minor": 0,
       "model_id": "ebd63ce96efa46dea3f67f3ab6ae4512"
      }
     },
     "metadata": {}
    }
   ]
  },
  {
   "cell_type": "code",
   "source": [
    "translator(en_to_translate_line_by_line, max_length=1024)"
   ],
   "metadata": {
    "execution": {
     "iopub.status.busy": "2023-05-18T12:47:17.377489Z",
     "iopub.execute_input": "2023-05-18T12:47:17.377876Z",
     "iopub.status.idle": "2023-05-18T12:47:28.946673Z",
     "shell.execute_reply.started": "2023-05-18T12:47:17.377837Z",
     "shell.execute_reply": "2023-05-18T12:47:28.942412Z"
    },
    "trusted": true
   },
   "execution_count": 22,
   "outputs": [
    {
     "execution_count": 22,
     "output_type": "execute_result",
     "data": {
      "text/plain": "[{'translation_text': 'Rae Dunn Electric Kettle, Ivory'},\n {'translation_text': '59.00'},\n {'translation_text': 'Zwiększ swoją rutynę dzięki temu klasycznemu, minimalistycznemu urządzeniu od projektanta Rae'},\n {'translation_text': 'Rae Dunn Brew Electric Kettle będziesz jęczeć jak twój gorący'},\n {'translation_text': 'Woda!'},\n {'translation_text': 'Cechy:'},\n {'translation_text': '* podstawa kręta . ochrona przed suchym wrzenia . wygodny wskaźnik poziomu wody . Czajnik doprowadzi wodę do gotowania w ciągu trzech do sześciu minut za pomocą prostego przycisku'},\n {'translation_text': 'Produkt'},\n {'translation_text': '6680229314659'},\n {'translation_text': 'Rae Dunn Electric Kettle, Ivory 59.00'}]"
     },
     "metadata": {}
    }
   ]
  },
  {
   "cell_type": "markdown",
   "source": [
    "### 2"
   ],
   "metadata": {}
  },
  {
   "cell_type": "code",
   "source": [
    "from transformers import pipeline\n",
    "\n",
    "translator = pipeline(\"translation\", model=\"sdadas/flan-t5-base-translator-en-pl\")"
   ],
   "metadata": {
    "execution": {
     "iopub.status.busy": "2023-05-18T10:11:08.283113Z",
     "iopub.execute_input": "2023-05-18T10:11:08.284241Z",
     "iopub.status.idle": "2023-05-18T10:11:18.082499Z",
     "shell.execute_reply.started": "2023-05-18T10:11:08.284198Z",
     "shell.execute_reply": "2023-05-18T10:11:18.080806Z"
    },
    "collapsed": true,
    "jupyter": {
     "outputs_hidden": true
    },
    "trusted": true
   },
   "execution_count": 13,
   "outputs": [
    {
     "output_type": "display_data",
     "data": {
      "text/plain": "Downloading (…)lve/main/config.json:   0%|          | 0.00/1.55k [00:00<?, ?B/s]",
      "application/vnd.jupyter.widget-view+json": {
       "version_major": 2,
       "version_minor": 0,
       "model_id": "740467e891654bb494513570b09a438a"
      }
     },
     "metadata": {}
    },
    {
     "output_type": "display_data",
     "data": {
      "text/plain": "Downloading pytorch_model.bin:   0%|          | 0.00/990M [00:00<?, ?B/s]",
      "application/vnd.jupyter.widget-view+json": {
       "version_major": 2,
       "version_minor": 0,
       "model_id": "8bdd5d20719541b48b519cb6c542560d"
      }
     },
     "metadata": {}
    },
    {
     "output_type": "display_data",
     "data": {
      "text/plain": "Downloading (…)neration_config.json:   0%|          | 0.00/142 [00:00<?, ?B/s]",
      "application/vnd.jupyter.widget-view+json": {
       "version_major": 2,
       "version_minor": 0,
       "model_id": "50200d1c8f9446da9a14da976fd04376"
      }
     },
     "metadata": {}
    },
    {
     "output_type": "display_data",
     "data": {
      "text/plain": "Downloading (…)okenizer_config.json:   0%|          | 0.00/2.52k [00:00<?, ?B/s]",
      "application/vnd.jupyter.widget-view+json": {
       "version_major": 2,
       "version_minor": 0,
       "model_id": "3194ee56b7934cafaf71034835fc7a93"
      }
     },
     "metadata": {}
    },
    {
     "output_type": "display_data",
     "data": {
      "text/plain": "Downloading (…)/main/tokenizer.json:   0%|          | 0.00/2.43M [00:00<?, ?B/s]",
      "application/vnd.jupyter.widget-view+json": {
       "version_major": 2,
       "version_minor": 0,
       "model_id": "aa00e3bd166e4a60a705c3ef00d54ae9"
      }
     },
     "metadata": {}
    },
    {
     "output_type": "display_data",
     "data": {
      "text/plain": "Downloading (…)cial_tokens_map.json:   0%|          | 0.00/2.20k [00:00<?, ?B/s]",
      "application/vnd.jupyter.widget-view+json": {
       "version_major": 2,
       "version_minor": 0,
       "model_id": "2e69dea88784475b9dc9b198ca77a51f"
      }
     },
     "metadata": {}
    },
    {
     "name": "stderr",
     "text": "/opt/conda/lib/python3.7/site-packages/transformers/pipelines/__init__.py:957: UserWarning: \"translation\" task was used, instead of \"translation_XX_to_YY\", defaulting to \"translation_en_to_de\"\n  UserWarning,\n",
     "output_type": "stream"
    }
   ]
  },
  {
   "cell_type": "code",
   "source": [
    "translator(en_to_translate_line_by_line, max_length=1024)"
   ],
   "metadata": {
    "execution": {
     "iopub.status.busy": "2023-05-18T10:11:18.085360Z",
     "iopub.execute_input": "2023-05-18T10:11:18.085803Z",
     "iopub.status.idle": "2023-05-18T10:11:55.019396Z",
     "shell.execute_reply.started": "2023-05-18T10:11:18.085761Z",
     "shell.execute_reply": "2023-05-18T10:11:55.018259Z"
    },
    "trusted": true
   },
   "execution_count": 14,
   "outputs": [
    {
     "name": "stderr",
     "text": "/opt/conda/lib/python3.7/site-packages/transformers/generation/utils.py:1202: UserWarning: You have modified the pretrained model configuration to control generation. This is a deprecated strategy to control generation and will be removed soon, in a future version. Please use a generation configuration file (see https://huggingface.co/docs/transformers/main_classes/text_generation)\n  \"You have modified the pretrained model configuration to control generation. This is a\"\n",
     "output_type": "stream"
    },
    {
     "execution_count": 14,
     "output_type": "execute_result",
     "data": {
      "text/plain": "[{'translation_text': 'tłumaczenie angielskiego na niemiecki: # Rae Dunn Electric Kettle, Ivory'},\n {'translation_text': 'tłumaczenie z angielskiego na niemiecki: $59.00'},\n {'translation_text': 'Przetłumacz angielski na niemiecki: Ulepsz swoją rutynę dzięki temu klasycznemu, minimalistycznemu urządzeniu od projektanta Rae'},\n {'translation_text': 'Przetłumacz angielski na niemiecki: Dunn! Rae Dunn Brew Electric Kettle sprawi, że będziesz gwizdał tak samo jak twój gorący'},\n {'translation_text': 'Przetłumacz na język angielski: woda!'},\n {'translation_text': 'tłumaczenie angielskiego na niemiecki: Funkcje:'},\n {'translation_text': 'tłumaczenie z angielskiego na niemiecki: * podstawa obrotowa . ochrona przed suchą wodą . wygodny wskaźnik poziomu wody . Czajnik doprowadzi wodę do wrzenia w ciągu trzech do sześciu minut za pomocą prostego naciśnięcia przycisku'},\n {'translation_text': 'Tłumaczenie z angielskiego na niemiecki: produkt'},\n {'translation_text': 'tłumaczenie angielskiego na niemiecki: 6680229314659'},\n {'translation_text': 'tłumaczenie angielskiego na niemiecki: Rae Dunn Electric Kettle, Ivory 59.00'}]"
     },
     "metadata": {}
    }
   ]
  },
  {
   "cell_type": "markdown",
   "source": [
    "### 3"
   ],
   "metadata": {}
  },
  {
   "cell_type": "code",
   "source": [
    "from transformers import pipeline\n",
    "\n",
    "translator = pipeline(\"translation\", model=\"gsarti/opus-mt-tc-en-pl\")"
   ],
   "metadata": {
    "execution": {
     "iopub.status.busy": "2023-05-19T15:08:02.266284Z",
     "iopub.execute_input": "2023-05-19T15:08:02.267082Z",
     "iopub.status.idle": "2023-05-19T15:08:06.867802Z",
     "shell.execute_reply.started": "2023-05-19T15:08:02.267036Z",
     "shell.execute_reply": "2023-05-19T15:08:06.866271Z"
    },
    "trusted": true
   },
   "execution_count": 50,
   "outputs": []
  },
  {
   "cell_type": "code",
   "source": [
    "translator(en_to_translate_line_by_line, max_length=512)"
   ],
   "metadata": {
    "execution": {
     "iopub.status.busy": "2023-05-19T15:12:23.521313Z",
     "iopub.execute_input": "2023-05-19T15:12:23.521785Z",
     "iopub.status.idle": "2023-05-19T15:15:22.321838Z",
     "shell.execute_reply.started": "2023-05-19T15:12:23.521753Z",
     "shell.execute_reply": "2023-05-19T15:15:22.319858Z"
    },
    "trusted": true
   },
   "execution_count": 52,
   "outputs": []
  }
 ]
}
